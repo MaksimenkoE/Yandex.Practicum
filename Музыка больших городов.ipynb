{
 "cells": [
  {
   "cell_type": "markdown",
   "metadata": {},
   "source": [
    "<div style=\"border:solid green 3px; padding: 20px\">\n",
    "\n",
    "<b>Привет, Евгения! :)</b>\n",
    "\n",
    "Меня зовут Сороколетов Илья и я буду проверять твой проект. \n",
    "\n",
    "Предлагаю общаться на «**ты**», но если тебе будет комфортнее общаться на «**вы**», то сообщи об этом в комментариях)\n",
    "\n",
    "\n",
    "Для твоего удобства, я буду выделять свои комментарии следующим образом:\n",
    "\n",
    "<div class=\"alert alert-danger\">\n",
    "<b>❌ Комментарий ревьюера:</b> Самые важные замечания. Они указывают на ключевые моменты, которые влияют на конечный результат проекта. </div>\n",
    "\n",
    "<div class=\"alert alert-warning\">\n",
    "<b>⚠️ Комментарий ревьюера:</b> Советы или замечания, которые помогут сделать твою работу лучше, но необязательны к выполнению.\n",
    "\n",
    "</div>\n",
    "\n",
    "<div class=\"alert alert-success\">\n",
    "<b>✔️ Комментарий ревьюера:</b> Так я выделяю все остальные комментарии.</div>\n",
    "\n",
    "Давай работать над проектом в диалоге: если ты что-то меняешь в проекте по моим рекомендациям — пиши об этом. Выбери для своих комментариев какой-то заметный цвет, так мне будет легче отследить изменения, например вот так:\n",
    "<div class=\"alert alert-info\">\n",
    "<b>Комментарий студента:</b>\n",
    "<br> Исправила, теперь везде код работает корректно (не выдает ошибки), НО есть один момент, который меня смущает, я вставила свой комментарий на нем (строчка кода 15)\n",
    "</div>\n",
    "\n",
    "Пожалуйста, не перемещай, не изменяй и не удаляй мои комментарии. Если ты оставляешь свои комментарии, то делай это под моими, чтобы сообщения были расположены в хронологическом порядке. Всё это поможет выполнить повторную проверку твоего проекта оперативнее. \n",
    "\n",
    "Обязательно задавай вопросы если они возникнут, а я перехожу к проверке)\n",
    "\n",
    "P.S. На всякий случай, я оставлю пустой шаблон для твоих комментариев в ячейке ниже. Кликни на него два раза, скопируй код и вставляй его в пустую ячейку там, где ты хочешь оставить комментарий. Не забудь только перед этим сменить тип ячейки на Markdown. Как это сделать можно посмотреть на этом видео\n",
    "\n",
    "    https://youtu.be/s0q2GpcYxo4?t=685\n",
    "\n",
    "Также, перед отправкой работы я рекомендую нажимать Kernel -> Restart & Run All. Это перезапустит ядро и по очереди выполнит все ячейки. Так ты сможешь проверить, что всё работает корректно. Кнопка Kernel находится в панели сверху\n",
    "\n"
   ]
  },
  {
   "cell_type": "markdown",
   "metadata": {},
   "source": [
    "<div class=\"alert alert-info\">\n",
    "<b>Комментарий студента:</b>\n",
    "<br>Место для твоего комментария\n",
    "</div>"
   ]
  },
  {
   "cell_type": "markdown",
   "metadata": {
    "id": "E0vqbgi9ay0H"
   },
   "source": [
    "# Яндекс.Музыка"
   ]
  },
  {
   "cell_type": "markdown",
   "metadata": {
    "id": "VUC88oWjTJw2"
   },
   "source": [
    "Сравнение Москвы и Петербурга окружено мифами. Например:\n",
    " * Москва — мегаполис, подчинённый жёсткому ритму рабочей недели;\n",
    " * Петербург — культурная столица, со своими вкусами.\n",
    "\n",
    "На данных Яндекс.Музыки вы сравните поведение пользователей двух столиц.\n",
    "\n",
    "**Цель исследования** — проверьте три гипотезы:\n",
    "1. Активность пользователей зависит от дня недели. Причём в Москве и Петербурге это проявляется по-разному.\n",
    "2. В понедельник утром в Москве преобладают одни жанры, а в Петербурге — другие. Так же и вечером пятницы преобладают разные жанры — в зависимости от города. \n",
    "3. Москва и Петербург предпочитают разные жанры музыки. В Москве чаще слушают поп-музыку, в Петербурге — русский рэп.\n",
    "\n",
    "**Ход исследования**\n",
    "\n",
    "Данные о поведении пользователей вы получите из файла `yandex_music_project.csv`. О качестве данных ничего не известно. Поэтому перед проверкой гипотез понадобится обзор данных. \n",
    "\n",
    "Вы проверите данные на ошибки и оцените их влияние на исследование. Затем, на этапе предобработки вы поищете возможность исправить самые критичные ошибки данных.\n",
    " \n",
    "Таким образом, исследование пройдёт в три этапа:\n",
    " 1. Обзор данных.\n",
    " 2. Предобработка данных.\n",
    " 3. Проверка гипотез.\n",
    "\n"
   ]
  },
  {
   "cell_type": "markdown",
   "metadata": {
    "id": "Ml1hmfXC_Zcs"
   },
   "source": [
    "## Обзор данных\n",
    "\n",
    "Составьте первое представление о данных Яндекс.Музыки.\n",
    "\n",
    "\n"
   ]
  },
  {
   "cell_type": "markdown",
   "metadata": {
    "id": "57eAOGIz_Zcs"
   },
   "source": [
    "Основной инструмент аналитика — `pandas`. Импортируйте эту библиотеку."
   ]
  },
  {
   "cell_type": "code",
   "execution_count": 1,
   "metadata": {
    "id": "AXN7PHPN_Zcs"
   },
   "outputs": [],
   "source": [
    "import pandas as pd # импорт библиотеки pandas"
   ]
  },
  {
   "cell_type": "markdown",
   "metadata": {},
   "source": [
    "<div class=\"alert alert-success\">\n",
    "<b>✔️ Комментарий ревьюера:</b> \n",
    "<br>Очень здорово, что ты используешь сокращение pd для Pandas, это общепринятое сокращение для этой библиотеки для удобной дальнейшей работы.\n",
    "</div>\n"
   ]
  },
  {
   "cell_type": "markdown",
   "metadata": {
    "id": "SG23P8tt_Zcs"
   },
   "source": [
    "Прочитайте файл `yandex_music_project.csv` из папки `/datasets` и сохраните его в переменной `df`:"
   ]
  },
  {
   "cell_type": "code",
   "execution_count": 2,
   "metadata": {
    "id": "fFVu7vqh_Zct"
   },
   "outputs": [],
   "source": [
    "df = pd.read_csv('/datasets/yandex_music_project.csv') # чтение файла с данными и сохранение в df"
   ]
  },
  {
   "cell_type": "markdown",
   "metadata": {
    "id": "qej-Qmuo_Zct"
   },
   "source": [
    "Просмотрите список и найдите неявные дубликаты названия `hiphop`. Это могут быть названия с ошибками или альтернативные названия того же жанра.\n",
    "\n",
    "Вы увидите следующие неявные дубликаты:\n",
    "* *hip*,\n",
    "* *hop*,\n",
    "* *hip-hop*.\n",
    "\n",
    "Чтобы очистить от них таблицу, напишите функцию `replace_wrong_genres()` с двумя параметрами: \n",
    "* `wrong_genres` — список дубликатов,\n",
    "* `correct_genre` — строка с правильным значением.\n",
    "\n",
    "Функция должна исправить колонку `genre` в таблице `df`: заменить каждое значение из списка `wrong_genres` на значение из `correct_genre`."
   ]
  },
  {
   "cell_type": "markdown",
   "metadata": {
    "id": "rDoOMd3uTqnZ"
   },
   "source": [
    "Выведите на экран первые десять строк таблицы:"
   ]
  },
  {
   "cell_type": "code",
   "execution_count": 3,
   "metadata": {
    "id": "oWTVX3gW_Zct",
    "scrolled": true
   },
   "outputs": [
    {
     "data": {
      "text/html": [
       "<div>\n",
       "<style scoped>\n",
       "    .dataframe tbody tr th:only-of-type {\n",
       "        vertical-align: middle;\n",
       "    }\n",
       "\n",
       "    .dataframe tbody tr th {\n",
       "        vertical-align: top;\n",
       "    }\n",
       "\n",
       "    .dataframe thead th {\n",
       "        text-align: right;\n",
       "    }\n",
       "</style>\n",
       "<table border=\"1\" class=\"dataframe\">\n",
       "  <thead>\n",
       "    <tr style=\"text-align: right;\">\n",
       "      <th></th>\n",
       "      <th>userID</th>\n",
       "      <th>Track</th>\n",
       "      <th>artist</th>\n",
       "      <th>genre</th>\n",
       "      <th>City</th>\n",
       "      <th>time</th>\n",
       "      <th>Day</th>\n",
       "    </tr>\n",
       "  </thead>\n",
       "  <tbody>\n",
       "    <tr>\n",
       "      <td>0</td>\n",
       "      <td>FFB692EC</td>\n",
       "      <td>Kamigata To Boots</td>\n",
       "      <td>The Mass Missile</td>\n",
       "      <td>rock</td>\n",
       "      <td>Saint-Petersburg</td>\n",
       "      <td>20:28:33</td>\n",
       "      <td>Wednesday</td>\n",
       "    </tr>\n",
       "    <tr>\n",
       "      <td>1</td>\n",
       "      <td>55204538</td>\n",
       "      <td>Delayed Because of Accident</td>\n",
       "      <td>Andreas Rönnberg</td>\n",
       "      <td>rock</td>\n",
       "      <td>Moscow</td>\n",
       "      <td>14:07:09</td>\n",
       "      <td>Friday</td>\n",
       "    </tr>\n",
       "    <tr>\n",
       "      <td>2</td>\n",
       "      <td>20EC38</td>\n",
       "      <td>Funiculì funiculà</td>\n",
       "      <td>Mario Lanza</td>\n",
       "      <td>pop</td>\n",
       "      <td>Saint-Petersburg</td>\n",
       "      <td>20:58:07</td>\n",
       "      <td>Wednesday</td>\n",
       "    </tr>\n",
       "    <tr>\n",
       "      <td>3</td>\n",
       "      <td>A3DD03C9</td>\n",
       "      <td>Dragons in the Sunset</td>\n",
       "      <td>Fire + Ice</td>\n",
       "      <td>folk</td>\n",
       "      <td>Saint-Petersburg</td>\n",
       "      <td>08:37:09</td>\n",
       "      <td>Monday</td>\n",
       "    </tr>\n",
       "    <tr>\n",
       "      <td>4</td>\n",
       "      <td>E2DC1FAE</td>\n",
       "      <td>Soul People</td>\n",
       "      <td>Space Echo</td>\n",
       "      <td>dance</td>\n",
       "      <td>Moscow</td>\n",
       "      <td>08:34:34</td>\n",
       "      <td>Monday</td>\n",
       "    </tr>\n",
       "    <tr>\n",
       "      <td>5</td>\n",
       "      <td>842029A1</td>\n",
       "      <td>Преданная</td>\n",
       "      <td>IMPERVTOR</td>\n",
       "      <td>rusrap</td>\n",
       "      <td>Saint-Petersburg</td>\n",
       "      <td>13:09:41</td>\n",
       "      <td>Friday</td>\n",
       "    </tr>\n",
       "    <tr>\n",
       "      <td>6</td>\n",
       "      <td>4CB90AA5</td>\n",
       "      <td>True</td>\n",
       "      <td>Roman Messer</td>\n",
       "      <td>dance</td>\n",
       "      <td>Moscow</td>\n",
       "      <td>13:00:07</td>\n",
       "      <td>Wednesday</td>\n",
       "    </tr>\n",
       "    <tr>\n",
       "      <td>7</td>\n",
       "      <td>F03E1C1F</td>\n",
       "      <td>Feeling This Way</td>\n",
       "      <td>Polina Griffith</td>\n",
       "      <td>dance</td>\n",
       "      <td>Moscow</td>\n",
       "      <td>20:47:49</td>\n",
       "      <td>Wednesday</td>\n",
       "    </tr>\n",
       "    <tr>\n",
       "      <td>8</td>\n",
       "      <td>8FA1D3BE</td>\n",
       "      <td>И вновь продолжается бой</td>\n",
       "      <td>NaN</td>\n",
       "      <td>ruspop</td>\n",
       "      <td>Moscow</td>\n",
       "      <td>09:17:40</td>\n",
       "      <td>Friday</td>\n",
       "    </tr>\n",
       "    <tr>\n",
       "      <td>9</td>\n",
       "      <td>E772D5C0</td>\n",
       "      <td>Pessimist</td>\n",
       "      <td>NaN</td>\n",
       "      <td>dance</td>\n",
       "      <td>Saint-Petersburg</td>\n",
       "      <td>21:20:49</td>\n",
       "      <td>Wednesday</td>\n",
       "    </tr>\n",
       "  </tbody>\n",
       "</table>\n",
       "</div>"
      ],
      "text/plain": [
       "     userID                        Track            artist   genre  \\\n",
       "0  FFB692EC            Kamigata To Boots  The Mass Missile    rock   \n",
       "1  55204538  Delayed Because of Accident  Andreas Rönnberg    rock   \n",
       "2    20EC38            Funiculì funiculà       Mario Lanza     pop   \n",
       "3  A3DD03C9        Dragons in the Sunset        Fire + Ice    folk   \n",
       "4  E2DC1FAE                  Soul People        Space Echo   dance   \n",
       "5  842029A1                    Преданная         IMPERVTOR  rusrap   \n",
       "6  4CB90AA5                         True      Roman Messer   dance   \n",
       "7  F03E1C1F             Feeling This Way   Polina Griffith   dance   \n",
       "8  8FA1D3BE     И вновь продолжается бой               NaN  ruspop   \n",
       "9  E772D5C0                    Pessimist               NaN   dance   \n",
       "\n",
       "             City        time        Day  \n",
       "0  Saint-Petersburg  20:28:33  Wednesday  \n",
       "1            Moscow  14:07:09     Friday  \n",
       "2  Saint-Petersburg  20:58:07  Wednesday  \n",
       "3  Saint-Petersburg  08:37:09     Monday  \n",
       "4            Moscow  08:34:34     Monday  \n",
       "5  Saint-Petersburg  13:09:41     Friday  \n",
       "6            Moscow  13:00:07  Wednesday  \n",
       "7            Moscow  20:47:49  Wednesday  \n",
       "8            Moscow  09:17:40     Friday  \n",
       "9  Saint-Petersburg  21:20:49  Wednesday  "
      ]
     },
     "execution_count": 3,
     "metadata": {},
     "output_type": "execute_result"
    }
   ],
   "source": [
    "df.head(10)# получение первых 10 строк таблицы df"
   ]
  },
  {
   "cell_type": "markdown",
   "metadata": {},
   "source": [
    "\n",
    "<div class=\"alert alert-warning\">\n",
    "<b>⚠️ Комментарий ревьюера:</b> \n",
    "<br>Обрати внимание, что здесь использование функции display() ни на что не влияет, а это значит, что её можно не применять\n",
    "</div>\n"
   ]
  },
  {
   "cell_type": "markdown",
   "metadata": {
    "id": "EO73Kwic_Zct"
   },
   "source": [
    "Одной командой получить общую информацию о таблице:"
   ]
  },
  {
   "cell_type": "code",
   "execution_count": 4,
   "metadata": {
    "id": "DSf2kIb-_Zct"
   },
   "outputs": [
    {
     "name": "stdout",
     "output_type": "stream",
     "text": [
      "<class 'pandas.core.frame.DataFrame'>\n",
      "RangeIndex: 65079 entries, 0 to 65078\n",
      "Data columns (total 7 columns):\n",
      "  userID    65079 non-null object\n",
      "Track       63848 non-null object\n",
      "artist      57876 non-null object\n",
      "genre       63881 non-null object\n",
      "  City      65079 non-null object\n",
      "time        65079 non-null object\n",
      "Day         65079 non-null object\n",
      "dtypes: object(7)\n",
      "memory usage: 3.5+ MB\n"
     ]
    },
    {
     "data": {
      "text/plain": [
       "None"
      ]
     },
     "metadata": {},
     "output_type": "display_data"
    }
   ],
   "source": [
    "display(df.info()) # получение общей информации о данных в таблице df"
   ]
  },
  {
   "cell_type": "markdown",
   "metadata": {
    "id": "TaQ2Iwbr_Zct"
   },
   "source": [
    "Итак, в таблице семь столбцов. Тип данных во всех столбцах — `object`.\n",
    "\n",
    "Согласно документации к данным:\n",
    "* `userID` — идентификатор пользователя;\n",
    "* `Track` — название трека;  \n",
    "* `artist` — имя исполнителя;\n",
    "* `genre` — название жанра;\n",
    "* `City` — город пользователя;\n",
    "* `time` — время начала прослушивания;\n",
    "* `Day` — день недели.\n",
    "\n",
    "В названиях колонок видны три нарушения стиля:\n",
    "1. Строчные буквы сочетаются с прописными.\n",
    "2. Встречаются пробелы.\n",
    "3. Найдите ещё одну проблему в названии колонок и опишите её в этом пункте. Корректным было бы использовать \"змеиный регистр\" в названии \"user_id\"\n",
    "\n",
    "\n",
    "\n",
    "Количество значений в столбцах различается. Значит, в данных есть пропущенные значения.\n"
   ]
  },
  {
   "cell_type": "markdown",
   "metadata": {},
   "source": [
    "<div class=\"alert alert-success\">\n",
    "<b>✔️ Комментарий ревьюера:</b> \n",
    "<br>И это правильный ответ! Отличная работа!\n",
    "</div>"
   ]
  },
  {
   "cell_type": "markdown",
   "metadata": {
    "id": "MCB6-dXG_Zct"
   },
   "source": [
    "**Выводы**\n",
    "\n",
    "В каждой строке таблицы — данные о прослушанном треке. Часть колонок описывает саму композицию: название, исполнителя и жанр. Остальные данные рассказывают о пользователе: из какого он города, когда он слушал музыку. \n",
    "\n",
    "Предварительно можно утверждать, что, данных достаточно для проверки гипотез. Но встречаются пропуски в данных, а в названиях колонок — расхождения с хорошим стилем.\n",
    "\n",
    "Чтобы двигаться дальше, нужно устранить проблемы в данных."
   ]
  },
  {
   "cell_type": "markdown",
   "metadata": {
    "id": "SjYF6Ub9_Zct"
   },
   "source": [
    "## Предобработка данных\n",
    "Исправьте стиль в заголовках столбцов, исключите пропуски. Затем проверьте данные на дубликаты."
   ]
  },
  {
   "cell_type": "markdown",
   "metadata": {
    "id": "dIaKXr29_Zct"
   },
   "source": [
    "### Стиль заголовков\n",
    "Выведите на экран названия столбцов:"
   ]
  },
  {
   "cell_type": "code",
   "execution_count": 5,
   "metadata": {
    "id": "oKOTdF_Q_Zct"
   },
   "outputs": [
    {
     "data": {
      "text/plain": [
       "Index(['  userID', 'Track', 'artist', 'genre', '  City  ', 'time', 'Day'], dtype='object')"
      ]
     },
     "execution_count": 5,
     "metadata": {},
     "output_type": "execute_result"
    }
   ],
   "source": [
    "df.columns # перечень названий столбцов таблицы df"
   ]
  },
  {
   "cell_type": "markdown",
   "metadata": {},
   "source": [
    "<div class=\"alert alert-success\">\n",
    "<b>✔️ Комментарий ревьюера:</b> \n",
    "<br>Отлично, что здесь не использована функцию print() для вывода: ведь это последняя строчка ячейки.\n",
    "</div>"
   ]
  },
  {
   "cell_type": "markdown",
   "metadata": {
    "id": "zj5534cv_Zct"
   },
   "source": [
    "Приведите названия в соответствие с хорошим стилем:\n",
    "* несколько слов в названии запишите в «змеином_регистре»,\n",
    "* все символы сделайте строчными,\n",
    "* устраните пробелы.\n",
    "\n",
    "Для этого переименуйте колонки так:\n",
    "* `'  userID'` → `'user_id'`;\n",
    "* `'Track'` → `'track'`;\n",
    "* `'  City  '` → `'city'`;\n",
    "* `'Day'` → `'day'`."
   ]
  },
  {
   "cell_type": "code",
   "execution_count": 6,
   "metadata": {
    "id": "ISlFqs5y_Zct"
   },
   "outputs": [],
   "source": [
    "df= df.rename(columns={'  userID':'user_id','Track': 'track','  City  ' : 'city', 'Day': 'day' })# переименование столбцов"
   ]
  },
  {
   "cell_type": "markdown",
   "metadata": {
    "id": "1dqbh00J_Zct"
   },
   "source": [
    "Проверьте результат. Для этого ещё раз выведите на экран названия столбцов:"
   ]
  },
  {
   "cell_type": "code",
   "execution_count": 7,
   "metadata": {
    "id": "d4NOAmTW_Zct"
   },
   "outputs": [
    {
     "data": {
      "text/plain": [
       "Index(['user_id', 'track', 'artist', 'genre', 'city', 'time', 'day'], dtype='object')"
      ]
     },
     "execution_count": 7,
     "metadata": {},
     "output_type": "execute_result"
    }
   ],
   "source": [
    "df.columns # проверка результатов - перечень названий столбцов"
   ]
  },
  {
   "cell_type": "markdown",
   "metadata": {
    "id": "5ISfbcfY_Zct"
   },
   "source": [
    "### Пропуски значений\n",
    "Сначала посчитайте, сколько в таблице пропущенных значений. Для этого достаточно двух методов `pandas`:"
   ]
  },
  {
   "cell_type": "code",
   "execution_count": 8,
   "metadata": {
    "id": "RskX29qr_Zct",
    "scrolled": true
   },
   "outputs": [
    {
     "data": {
      "text/plain": [
       "user_id       0\n",
       "track      1231\n",
       "artist     7203\n",
       "genre      1198\n",
       "city          0\n",
       "time          0\n",
       "day           0\n",
       "dtype: int64"
      ]
     },
     "execution_count": 8,
     "metadata": {},
     "output_type": "execute_result"
    }
   ],
   "source": [
    "df.isnull().sum() # подсчёт пропусков"
   ]
  },
  {
   "cell_type": "markdown",
   "metadata": {
    "id": "qubhgnlO_Zct"
   },
   "source": [
    "Не все пропущенные значения влияют на исследование. Так в `track` и `artist` пропуски не важны для вашей работы. Достаточно заменить их явными обозначениями.\n",
    "\n",
    "Но пропуски в `genre` могут помешать сравнению музыкальных вкусов в Москве и Санкт-Петербурге. На практике было бы правильно установить причину пропусков и восстановить данные. Такой возможности нет в учебном проекте. Придётся:\n",
    "* заполнить и эти пропуски явными обозначениями,\n",
    "* оценить, насколько они повредят расчётам. "
   ]
  },
  {
   "cell_type": "markdown",
   "metadata": {
    "id": "fSv2laPA_Zct"
   },
   "source": [
    "Замените пропущенные значения в столбцах `track`, `artist` и `genre` на строку `'unknown'`. Для этого создайте список `columns_to_replace`, переберите его элементы циклом `for` и для каждого столбца выполните замену пропущенных значений:"
   ]
  },
  {
   "cell_type": "code",
   "execution_count": 9,
   "metadata": {
    "id": "KplB5qWs_Zct"
   },
   "outputs": [],
   "source": [
    "columns_to_replace=['track', 'artist', 'genre']\n",
    "for column in columns_to_replace:\n",
    "    df[column] = df[column].fillna('unknown')"
   ]
  },
  {
   "cell_type": "markdown",
   "metadata": {
    "id": "Ilsm-MZo_Zct"
   },
   "source": [
    "Убедитесь, что в таблице не осталось пропусков. Для этого ещё раз посчитайте пропущенные значения."
   ]
  },
  {
   "cell_type": "code",
   "execution_count": 10,
   "metadata": {
    "id": "Tq4nYRX4_Zct"
   },
   "outputs": [
    {
     "data": {
      "text/plain": [
       "user_id    0\n",
       "track      0\n",
       "artist     0\n",
       "genre      0\n",
       "city       0\n",
       "time       0\n",
       "day        0\n",
       "dtype: int64"
      ]
     },
     "execution_count": 10,
     "metadata": {},
     "output_type": "execute_result"
    }
   ],
   "source": [
    "df.isna().sum() # подсчёт пропусков"
   ]
  },
  {
   "cell_type": "markdown",
   "metadata": {},
   "source": [
    "<div class=\"alert alert-success\">\n",
    "<b>✔️ Комментарий ревьюера:</b> \n",
    "<br>Пропуски заменены верно!\n",
    "</div>"
   ]
  },
  {
   "cell_type": "markdown",
   "metadata": {
    "id": "BWKRtBJ3_Zct"
   },
   "source": [
    "### Дубликаты\n",
    "Посчитайте явные дубликаты в таблице одной командой:"
   ]
  },
  {
   "cell_type": "code",
   "execution_count": 11,
   "metadata": {
    "id": "36eES_S0_Zct"
   },
   "outputs": [
    {
     "data": {
      "text/plain": [
       "3826"
      ]
     },
     "execution_count": 11,
     "metadata": {},
     "output_type": "execute_result"
    }
   ],
   "source": [
    "df.duplicated().sum() # подсчёт явных дубликатов"
   ]
  },
  {
   "cell_type": "markdown",
   "metadata": {
    "id": "Ot25h6XR_Zct"
   },
   "source": [
    "Вызовите специальный метод `pandas`, чтобы удалить явные дубликаты:"
   ]
  },
  {
   "cell_type": "code",
   "execution_count": 12,
   "metadata": {
    "id": "exFHq6tt_Zct"
   },
   "outputs": [],
   "source": [
    "df=df.drop_duplicates().reset_index(drop=True)  # удаление явных дубликатов (с удалением старых индексов и формированием новых)"
   ]
  },
  {
   "cell_type": "markdown",
   "metadata": {
    "id": "Im2YwBEG_Zct"
   },
   "source": [
    "Ещё раз посчитайте явные дубликаты в таблице — убедитесь, что полностью от них избавились:"
   ]
  },
  {
   "cell_type": "code",
   "execution_count": 13,
   "metadata": {
    "id": "-8PuNWQ0_Zct"
   },
   "outputs": [
    {
     "data": {
      "text/plain": [
       "0"
      ]
     },
     "execution_count": 13,
     "metadata": {},
     "output_type": "execute_result"
    }
   ],
   "source": [
    "df.duplicated().sum() # проверка на отсутствие дубликатов"
   ]
  },
  {
   "cell_type": "markdown",
   "metadata": {
    "id": "QlFBsxAr_Zct"
   },
   "source": [
    "Теперь избавьтесь от неявных дубликатов в колонке `genre`. Например, название одного и того же жанра может быть записано немного по-разному. Такие ошибки тоже повлияют на результат исследования."
   ]
  },
  {
   "cell_type": "markdown",
   "metadata": {
    "id": "eSjWwsOh_Zct"
   },
   "source": [
    "Выведите на экран список уникальных названий жанров, отсортированный в алфавитном порядке. Для этого:\n",
    "* извлеките нужный столбец датафрейма, \n",
    "* примените к нему метод сортировки,\n",
    "* для отсортированного столбца вызовите метод, который вернёт уникальные значения из столбца."
   ]
  },
  {
   "cell_type": "markdown",
   "metadata": {},
   "source": [
    "<div class=\"alert alert-danger\">\n",
    "<b>❌ Комментарий ревьюера:</b> \n",
    "<br>Код падает с ошибкой. Поправь, пожалуйста\n",
    "</div>"
   ]
  },
  {
   "cell_type": "code",
   "execution_count": 14,
   "metadata": {
    "id": "JIUcqzZN_Zct"
   },
   "outputs": [],
   "source": [
    "genres_list_df=df['genre'].unique()\n",
    "sorted_df = df.sort_values(by='genre')\n",
    "genres_list=sorted_df\n",
    "# Просмотр уникальных названий жанров"
   ]
  },
  {
   "cell_type": "code",
   "execution_count": 15,
   "metadata": {
    "id": "ErNDkmns_Zct"
   },
   "outputs": [],
   "source": [
    "\n",
    "# Функция для замены неявных дубликатов\n",
    "def replace_wrong_values(wrong_value, correct_value): # на вход функции подаются список неправильных значений и строка с правильным значением\n",
    "    for wrong_value in wrong_value: # перебираем неправильные имена\n",
    "        df ['genre'] = df ['genre'].replace(wrong_value, correct_value) # и для каждого неправильного имени вызываем метод replace()\n"
   ]
  },
  {
   "cell_type": "markdown",
   "metadata": {},
   "source": [
    "<div class=\"alert alert-info\">\n",
    "<b>Комментарий студента:</b>\n",
    "<br> Не понимаю, почему код выдает следующую ошибку: AttributeError: 'DataFrame' object has no attribute 'unique'\n",
    "</div>"
   ]
  },
  {
   "cell_type": "markdown",
   "metadata": {},
   "source": [
    "<div class=\"alert alert-success\">\n",
    "<b>✔️ Комментарий ревьюера v2:</b>\n",
    "<br>Сейчас всё работает без проблем, но возможно, ты пытался применить метод unique сразу ко всему датафрейму\n",
    "</div>"
   ]
  },
  {
   "cell_type": "markdown",
   "metadata": {
    "id": "aDoBJxbA_Zct"
   },
   "source": [
    "Вызовите `replace_wrong_genres()` и передайте ей такие аргументы, чтобы она устранила неявные дубликаты: вместо `hip`, `hop` и `hip-hop` в таблице должно быть значение `hiphop`:"
   ]
  },
  {
   "cell_type": "code",
   "execution_count": 17,
   "metadata": {
    "id": "YN5i2hpmSo09"
   },
   "outputs": [],
   "source": [
    "duplicates = ['hip', 'hop', 'hip-hop'] # список неправильных имён\n",
    "name = 'hiphop' # правильное имя\n",
    "replace_wrong_values(duplicates, name) # вызов функции, replace() внутри будет вызван 3 раза"
   ]
  },
  {
   "cell_type": "code",
   "execution_count": 18,
   "metadata": {
    "id": "wvixALnFG15m"
   },
   "outputs": [
    {
     "data": {
      "text/plain": [
       "array(['rock', 'pop', 'folk', 'dance', 'rusrap', 'ruspop', 'world',\n",
       "       'electronic', 'unknown', 'alternative', 'children', 'rnb',\n",
       "       'hiphop', 'jazz', 'postrock', 'latin', 'classical', 'metal',\n",
       "       'reggae', 'tatar', 'blues', 'instrumental', 'rusrock', 'dnb',\n",
       "       'türk', 'post', 'country', 'psychedelic', 'conjazz', 'indie',\n",
       "       'posthardcore', 'local', 'avantgarde', 'punk', 'videogame',\n",
       "       'techno', 'house', 'christmas', 'melodic', 'caucasian',\n",
       "       'reggaeton', 'soundtrack', 'singer', 'ska', 'shanson', 'ambient',\n",
       "       'film', 'western', 'rap', 'beats', \"hard'n'heavy\", 'progmetal',\n",
       "       'minimal', 'contemporary', 'new', 'soul', 'holiday', 'german',\n",
       "       'tropical', 'fairytail', 'spiritual', 'urban', 'gospel', 'nujazz',\n",
       "       'folkmetal', 'trance', 'miscellaneous', 'anime', 'hardcore',\n",
       "       'progressive', 'chanson', 'numetal', 'vocal', 'estrada', 'russian',\n",
       "       'classicmetal', 'dubstep', 'club', 'deep', 'southern', 'black',\n",
       "       'folkrock', 'fitness', 'french', 'disco', 'religious', 'drum',\n",
       "       'extrememetal', 'türkçe', 'experimental', 'easy', 'metalcore',\n",
       "       'modern', 'argentinetango', 'old', 'breaks', 'eurofolk',\n",
       "       'stonerrock', 'industrial', 'funk', 'jpop', 'middle', 'variété',\n",
       "       'other', 'adult', 'christian', 'gothic', 'international', 'muslim',\n",
       "       'relax', 'schlager', 'caribbean', 'ukrrock', 'nu', 'breakbeat',\n",
       "       'comedy', 'chill', 'newage', 'specialty', 'uzbek', 'k-pop',\n",
       "       'balkan', 'chinese', 'meditative', 'dub', 'power', 'death',\n",
       "       'grime', 'arabesk', 'romance', 'flamenco', 'leftfield', 'european',\n",
       "       'tech', 'newwave', 'dancehall', 'mpb', 'piano', 'top', 'bigroom',\n",
       "       'opera', 'celtic', 'tradjazz', 'acoustic', 'epicmetal',\n",
       "       'historisch', 'downbeat', 'downtempo', 'africa', 'audiobook',\n",
       "       'jewish', 'sängerportrait', 'deutschrock', 'eastern', 'action',\n",
       "       'future', 'electropop', 'folklore', 'bollywood', 'marschmusik',\n",
       "       'rnr', 'karaoke', 'indian', 'rancheras', 'электроника',\n",
       "       'afrikaans', 'tango', 'rhythm', 'sound', 'deutschspr', 'trip',\n",
       "       'lovers', 'choral', 'dancepop', 'podcasts', 'retro', 'smooth',\n",
       "       'mexican', 'brazilian', 'ïîï', 'mood', 'surf', 'author', 'gangsta',\n",
       "       'triphop', 'inspirational', 'idm', 'ethnic', 'bluegrass',\n",
       "       'broadway', 'animated', 'americana', 'karadeniz', 'rockabilly',\n",
       "       'colombian', 'self', 'synthrock', 'sertanejo', 'japanese',\n",
       "       'canzone', 'swing', 'lounge', 'sport', 'korean', 'ragga',\n",
       "       'traditional', 'gitarre', 'frankreich', 'alternativepunk', 'emo',\n",
       "       'laiko', 'cantopop', 'glitch', 'documentary', 'rockalternative',\n",
       "       'thrash', 'hymn', 'oceania', 'rockother', 'popeurodance', 'dark',\n",
       "       'vi', 'grunge', 'hardstyle', 'samba', 'garage', 'soft', 'art',\n",
       "       'folktronica', 'entehno', 'mediterranean', 'chamber', 'cuban',\n",
       "       'taraftar', 'rockindie', 'gypsy', 'hardtechno', 'shoegazing',\n",
       "       'skarock', 'bossa', 'salsa', 'latino', 'worldbeat', 'malaysian',\n",
       "       'baile', 'ghazal', 'loungeelectronic', 'arabic', 'popelectronic',\n",
       "       'acid', 'kayokyoku', 'neoklassik', 'tribal', 'tanzorchester',\n",
       "       'native', 'independent', 'cantautori', 'handsup', 'poprussian',\n",
       "       'punjabi', 'synthpop', 'rave', 'französisch', 'quebecois',\n",
       "       'speech', 'soulful', 'teen', 'jam', 'ram', 'horror', 'scenic',\n",
       "       'orchestral', 'neue', 'roots', 'slow', 'jungle', 'indipop', 'axé',\n",
       "       'fado', 'showtunes', 'arena', 'irish', 'mandopop', 'forró',\n",
       "       'popdance', 'dirty', 'regional'], dtype=object)"
      ]
     },
     "execution_count": 18,
     "metadata": {},
     "output_type": "execute_result"
    }
   ],
   "source": [
    "df['genre'].unique() # Проверка на неявные дубликаты"
   ]
  },
  {
   "cell_type": "markdown",
   "metadata": {
    "id": "zQKF16_RG15m"
   },
   "source": [
    "Проверьте, что заменили неправильные названия:\n",
    "\n",
    "*   hip\n",
    "*   hop\n",
    "*   hip-hop\n",
    "\n",
    "Выведите отсортированный список уникальных значений столбца `genre`:"
   ]
  },
  {
   "cell_type": "markdown",
   "metadata": {
    "id": "jz6a9-7HQUDd"
   },
   "source": [
    "**Выводы**\n",
    "\n",
    "Предобработка обнаружила три проблемы в данных:\n",
    "\n",
    "- нарушения в стиле заголовков,\n",
    "- пропущенные значения,\n",
    "- дубликаты — явные и неявные.\n",
    "\n",
    "Вы исправили заголовки, чтобы упростить работу с таблицей. Без дубликатов исследование станет более точным.\n",
    "\n",
    "Пропущенные значения вы заменили на `'unknown'`. Ещё предстоит увидеть, не повредят ли исследованию пропуски в колонке `genre`.\n",
    "\n",
    "Теперь можно перейти к проверке гипотез. "
   ]
  },
  {
   "cell_type": "markdown",
   "metadata": {
    "id": "WttZHXH0SqKk"
   },
   "source": [
    "## Проверка гипотез"
   ]
  },
  {
   "cell_type": "markdown",
   "metadata": {
    "id": "Im936VVi_Zcu"
   },
   "source": [
    "### Сравнение поведения пользователей двух столиц"
   ]
  },
  {
   "cell_type": "markdown",
   "metadata": {
    "id": "nwt_MuaL_Zcu"
   },
   "source": [
    "Первая гипотеза утверждает, что пользователи по-разному слушают музыку в Москве и Санкт-Петербурге. Проверьте это предположение по данным о трёх днях недели — понедельнике, среде и пятнице. Для этого:\n",
    "\n",
    "* Разделите пользователей Москвы и Санкт-Петербурга\n",
    "* Сравните, сколько треков послушала каждая группа пользователей в понедельник, среду и пятницу.\n"
   ]
  },
  {
   "cell_type": "markdown",
   "metadata": {
    "id": "8Dw_YMmT_Zcu"
   },
   "source": [
    "Для тренировки сначала выполните каждый из расчётов по отдельности. \n",
    "\n",
    "Оцените активность пользователей в каждом городе. Сгруппируйте данные по городу и посчитайте прослушивания в каждой группе.\n",
    "\n"
   ]
  },
  {
   "cell_type": "code",
   "execution_count": 19,
   "metadata": {
    "id": "0_Qs96oh_Zcu"
   },
   "outputs": [
    {
     "data": {
      "text/plain": [
       "city\n",
       "Moscow              42741\n",
       "Saint-Petersburg    18512\n",
       "Name: time, dtype: int64"
      ]
     },
     "execution_count": 19,
     "metadata": {},
     "output_type": "execute_result"
    }
   ],
   "source": [
    "df.groupby('city')['time'].count() # Подсчёт прослушиваний в каждом городе"
   ]
  },
  {
   "cell_type": "markdown",
   "metadata": {},
   "source": [
    "<div class=\"alert alert-danger\">\n",
    "<b>❌ Комментарий ревьюера:</b> \n",
    "<br>Ты сгруппировала данные по городу, теперь остаётся выбрать любой столбец для каждой таблицы, чтобы вывод был аккуратным)\n",
    "</div>"
   ]
  },
  {
   "cell_type": "markdown",
   "metadata": {
    "id": "dzli3w8o_Zcu"
   },
   "source": [
    "В Москве прослушиваний больше, чем в Петербурге. Из этого не следует, что московские пользователи чаще слушают музыку. Просто самих пользователей в Москве больше.\n",
    "\n",
    "Теперь сгруппируйте данные по дню недели и подсчитайте прослушивания в понедельник, среду и пятницу. Учтите, что в данных есть информация только о прослушиваниях только за эти дни.\n"
   ]
  },
  {
   "cell_type": "code",
   "execution_count": 20,
   "metadata": {
    "id": "uZMKjiJz_Zcu"
   },
   "outputs": [
    {
     "data": {
      "text/html": [
       "<div>\n",
       "<style scoped>\n",
       "    .dataframe tbody tr th:only-of-type {\n",
       "        vertical-align: middle;\n",
       "    }\n",
       "\n",
       "    .dataframe tbody tr th {\n",
       "        vertical-align: top;\n",
       "    }\n",
       "\n",
       "    .dataframe thead th {\n",
       "        text-align: right;\n",
       "    }\n",
       "</style>\n",
       "<table border=\"1\" class=\"dataframe\">\n",
       "  <thead>\n",
       "    <tr style=\"text-align: right;\">\n",
       "      <th></th>\n",
       "      <th>user_id</th>\n",
       "      <th>track</th>\n",
       "      <th>artist</th>\n",
       "      <th>genre</th>\n",
       "      <th>city</th>\n",
       "      <th>time</th>\n",
       "    </tr>\n",
       "    <tr>\n",
       "      <th>day</th>\n",
       "      <th></th>\n",
       "      <th></th>\n",
       "      <th></th>\n",
       "      <th></th>\n",
       "      <th></th>\n",
       "      <th></th>\n",
       "    </tr>\n",
       "  </thead>\n",
       "  <tbody>\n",
       "    <tr>\n",
       "      <td>Friday</td>\n",
       "      <td>21840</td>\n",
       "      <td>21840</td>\n",
       "      <td>21840</td>\n",
       "      <td>21840</td>\n",
       "      <td>21840</td>\n",
       "      <td>21840</td>\n",
       "    </tr>\n",
       "    <tr>\n",
       "      <td>Monday</td>\n",
       "      <td>21354</td>\n",
       "      <td>21354</td>\n",
       "      <td>21354</td>\n",
       "      <td>21354</td>\n",
       "      <td>21354</td>\n",
       "      <td>21354</td>\n",
       "    </tr>\n",
       "    <tr>\n",
       "      <td>Wednesday</td>\n",
       "      <td>18059</td>\n",
       "      <td>18059</td>\n",
       "      <td>18059</td>\n",
       "      <td>18059</td>\n",
       "      <td>18059</td>\n",
       "      <td>18059</td>\n",
       "    </tr>\n",
       "  </tbody>\n",
       "</table>\n",
       "</div>"
      ],
      "text/plain": [
       "           user_id  track  artist  genre   city   time\n",
       "day                                                   \n",
       "Friday       21840  21840   21840  21840  21840  21840\n",
       "Monday       21354  21354   21354  21354  21354  21354\n",
       "Wednesday    18059  18059   18059  18059  18059  18059"
      ]
     },
     "execution_count": 20,
     "metadata": {},
     "output_type": "execute_result"
    }
   ],
   "source": [
    "df.groupby('day').count()  # Подсчёт прослушиваний в каждый из трёх дней"
   ]
  },
  {
   "cell_type": "markdown",
   "metadata": {},
   "source": [
    "<div class=\"alert alert-danger\">\n",
    "<b>❌ Комментарий ревьюера:</b> \n",
    "<br>Код падает с ошибкой. Поправь, пожалуйста\n",
    "</div>"
   ]
  },
  {
   "cell_type": "markdown",
   "metadata": {},
   "source": [
    "<div class=\"alert alert-success\">\n",
    "<b>✔️ Комментарий ревьюера v2:</b>\n",
    "<br>Отлично! Теперь всё верно)\n",
    "</div>"
   ]
  },
  {
   "cell_type": "markdown",
   "metadata": {
    "id": "cC2tNrlL_Zcu"
   },
   "source": [
    "В среднем пользователи из двух городов менее активны по средам. Но картина может измениться, если рассмотреть каждый город в отдельности."
   ]
  },
  {
   "cell_type": "markdown",
   "metadata": {
    "id": "POzs8bGa_Zcu"
   },
   "source": [
    "Вы видели, как работает группировка по городу и по дням недели. Теперь напишите функцию, которая объединит два эти расчёта.\n",
    "\n",
    "Создайте функцию `number_tracks()`, которая посчитает прослушивания для заданного дня и города. Ей понадобятся два параметра:\n",
    "* день недели,\n",
    "* название города.\n",
    "\n",
    "В функции сохраните в переменную строки исходной таблицы, у которых значение:\n",
    "  * в колонке `day` равно параметру `day`,\n",
    "  * в колонке `city` равно параметру `city`.\n",
    "\n",
    "Для этого примените последовательную фильтрацию с логической индексацией.\n",
    "\n",
    "Затем посчитайте значения в столбце `user_id` получившейся таблицы. Результат сохраните в новую переменную. Верните эту переменную из функции."
   ]
  },
  {
   "cell_type": "code",
   "execution_count": 21,
   "metadata": {
    "id": "Nz3GdQB1_Zcu"
   },
   "outputs": [],
   "source": [
    "def number_tracks(day, city): # <создание функции number_tracks()>   # Объявляется функция с двумя параметрами: day, city.\n",
    "    track_list=df[(df['day']==day) & (df['city']==city)] # В переменной track_list сохраняются те строки таблицы df, для которых \n",
    "       # значение в столбце 'day' равно параметру day и одновременно значение\n",
    "    # в столбце 'city' равно параметру city (используйте последовательную фильтрацию с помощью логической индексации).\n",
    "    track_list_count = track_list['user_id'].count() \n",
    " # В переменной track_list_count сохраняется число значений столбца 'user_id', рассчитанное методом count() для таблицы track_list.\n",
    "    return track_list_count # Функция возвращает число - значение track_list_count.\n",
    "\n",
    "# Функция для подсчёта прослушиваний для конкретного города и дня.\n",
    "# С помощью последовательной фильтрации с логической индексацией она \n",
    "# сначала получит из исходной таблицы строки с нужным днём,\n",
    "# затем из результата отфильтрует строки с нужным городом,\n",
    "# методом count() посчитает количество значений в колонке user_id. \n",
    "# Это количество функция вернёт в качестве результата"
   ]
  },
  {
   "cell_type": "markdown",
   "metadata": {
    "id": "ytf7xFrFJQ2r"
   },
   "source": [
    "Вызовите `number_tracks()` шесть раз, меняя значение параметров — так, чтобы получить данные для каждого города в каждый из трёх дней."
   ]
  },
  {
   "cell_type": "code",
   "execution_count": 22,
   "metadata": {
    "id": "rJcRATNQ_Zcu"
   },
   "outputs": [
    {
     "data": {
      "text/plain": [
       "15740"
      ]
     },
     "execution_count": 22,
     "metadata": {},
     "output_type": "execute_result"
    }
   ],
   "source": [
    "number_tracks('Monday', 'Moscow') # количество прослушиваний в Москве по понедельникам"
   ]
  },
  {
   "cell_type": "code",
   "execution_count": 23,
   "metadata": {
    "id": "hq_ncZ5T_Zcu"
   },
   "outputs": [
    {
     "data": {
      "text/plain": [
       "5614"
      ]
     },
     "execution_count": 23,
     "metadata": {},
     "output_type": "execute_result"
    }
   ],
   "source": [
    "number_tracks('Monday', 'Saint-Petersburg') # количество прослушиваний в Санкт-Петербурге по понедельникам"
   ]
  },
  {
   "cell_type": "code",
   "execution_count": 24,
   "metadata": {
    "id": "_NTy2VPU_Zcu"
   },
   "outputs": [
    {
     "data": {
      "text/plain": [
       "11056"
      ]
     },
     "execution_count": 24,
     "metadata": {},
     "output_type": "execute_result"
    }
   ],
   "source": [
    "number_tracks('Wednesday', 'Moscow') # количество прослушиваний в Москве по средам"
   ]
  },
  {
   "cell_type": "code",
   "execution_count": 25,
   "metadata": {
    "id": "j2y3TAwo_Zcu"
   },
   "outputs": [
    {
     "data": {
      "text/plain": [
       "7003"
      ]
     },
     "execution_count": 25,
     "metadata": {},
     "output_type": "execute_result"
    }
   ],
   "source": [
    "number_tracks('Wednesday', 'Saint-Petersburg') # количество прослушиваний в Санкт-Петербурге по средам"
   ]
  },
  {
   "cell_type": "code",
   "execution_count": 26,
   "metadata": {
    "id": "vYDw5u_K_Zcu"
   },
   "outputs": [
    {
     "data": {
      "text/plain": [
       "15945"
      ]
     },
     "execution_count": 26,
     "metadata": {},
     "output_type": "execute_result"
    }
   ],
   "source": [
    "number_tracks('Friday', 'Moscow') # количество прослушиваний в Москве по пятницам"
   ]
  },
  {
   "cell_type": "code",
   "execution_count": 27,
   "metadata": {
    "id": "8_yzFtW3_Zcu"
   },
   "outputs": [
    {
     "data": {
      "text/plain": [
       "5895"
      ]
     },
     "execution_count": 27,
     "metadata": {},
     "output_type": "execute_result"
    }
   ],
   "source": [
    "number_tracks('Friday', 'Saint-Petersburg') # количество прослушиваний в Санкт-Петербурге по пятницам"
   ]
  },
  {
   "cell_type": "markdown",
   "metadata": {
    "id": "7QXffbO-_Zcu"
   },
   "source": [
    "Создайте c помощью конструктора `pd.DataFrame` таблицу, где\n",
    "* названия колонок — `['city', 'monday', 'wednesday', 'friday']`;\n",
    "* данные — результаты, которые вы получили с помощью `number_tracks`."
   ]
  },
  {
   "cell_type": "code",
   "execution_count": 28,
   "metadata": {
    "id": "APAcLpOr_Zcu"
   },
   "outputs": [
    {
     "data": {
      "text/html": [
       "<div>\n",
       "<style scoped>\n",
       "    .dataframe tbody tr th:only-of-type {\n",
       "        vertical-align: middle;\n",
       "    }\n",
       "\n",
       "    .dataframe tbody tr th {\n",
       "        vertical-align: top;\n",
       "    }\n",
       "\n",
       "    .dataframe thead th {\n",
       "        text-align: right;\n",
       "    }\n",
       "</style>\n",
       "<table border=\"1\" class=\"dataframe\">\n",
       "  <thead>\n",
       "    <tr style=\"text-align: right;\">\n",
       "      <th></th>\n",
       "      <th>user_id</th>\n",
       "      <th>track</th>\n",
       "      <th>artist</th>\n",
       "      <th>genre</th>\n",
       "      <th>city</th>\n",
       "      <th>time</th>\n",
       "      <th>day</th>\n",
       "    </tr>\n",
       "  </thead>\n",
       "  <tbody>\n",
       "    <tr>\n",
       "      <td>0</td>\n",
       "      <td>FFB692EC</td>\n",
       "      <td>Kamigata To Boots</td>\n",
       "      <td>The Mass Missile</td>\n",
       "      <td>rock</td>\n",
       "      <td>Saint-Petersburg</td>\n",
       "      <td>20:28:33</td>\n",
       "      <td>Wednesday</td>\n",
       "    </tr>\n",
       "    <tr>\n",
       "      <td>1</td>\n",
       "      <td>55204538</td>\n",
       "      <td>Delayed Because of Accident</td>\n",
       "      <td>Andreas Rönnberg</td>\n",
       "      <td>rock</td>\n",
       "      <td>Moscow</td>\n",
       "      <td>14:07:09</td>\n",
       "      <td>Friday</td>\n",
       "    </tr>\n",
       "    <tr>\n",
       "      <td>2</td>\n",
       "      <td>20EC38</td>\n",
       "      <td>Funiculì funiculà</td>\n",
       "      <td>Mario Lanza</td>\n",
       "      <td>pop</td>\n",
       "      <td>Saint-Petersburg</td>\n",
       "      <td>20:58:07</td>\n",
       "      <td>Wednesday</td>\n",
       "    </tr>\n",
       "    <tr>\n",
       "      <td>3</td>\n",
       "      <td>A3DD03C9</td>\n",
       "      <td>Dragons in the Sunset</td>\n",
       "      <td>Fire + Ice</td>\n",
       "      <td>folk</td>\n",
       "      <td>Saint-Petersburg</td>\n",
       "      <td>08:37:09</td>\n",
       "      <td>Monday</td>\n",
       "    </tr>\n",
       "    <tr>\n",
       "      <td>4</td>\n",
       "      <td>E2DC1FAE</td>\n",
       "      <td>Soul People</td>\n",
       "      <td>Space Echo</td>\n",
       "      <td>dance</td>\n",
       "      <td>Moscow</td>\n",
       "      <td>08:34:34</td>\n",
       "      <td>Monday</td>\n",
       "    </tr>\n",
       "  </tbody>\n",
       "</table>\n",
       "</div>"
      ],
      "text/plain": [
       "    user_id                        track            artist  genre  \\\n",
       "0  FFB692EC            Kamigata To Boots  The Mass Missile   rock   \n",
       "1  55204538  Delayed Because of Accident  Andreas Rönnberg   rock   \n",
       "2    20EC38            Funiculì funiculà       Mario Lanza    pop   \n",
       "3  A3DD03C9        Dragons in the Sunset        Fire + Ice   folk   \n",
       "4  E2DC1FAE                  Soul People        Space Echo  dance   \n",
       "\n",
       "               city      time        day  \n",
       "0  Saint-Petersburg  20:28:33  Wednesday  \n",
       "1            Moscow  14:07:09     Friday  \n",
       "2  Saint-Petersburg  20:58:07  Wednesday  \n",
       "3  Saint-Petersburg  08:37:09     Monday  \n",
       "4            Moscow  08:34:34     Monday  "
      ]
     },
     "metadata": {},
     "output_type": "display_data"
    }
   ],
   "source": [
    "columns = ['city', 'monday', 'wednesday', 'friday'] \n",
    "data = [['Moscow', 15740, 11056, 15945], ['Saint-Petersburg', 5614, 7003, 5895]]\n",
    "table = pd.DataFrame(data = data, columns = columns) \n",
    "display(df.head())   # Таблица с результатами"
   ]
  },
  {
   "cell_type": "markdown",
   "metadata": {
    "id": "-EgPIHYu_Zcu"
   },
   "source": [
    "**Выводы**\n",
    "\n",
    "Данные показывают разницу поведения пользователей:\n",
    "\n",
    "- В Москве пик прослушиваний приходится на понедельник и пятницу, а в среду заметен спад.\n",
    "- В Петербурге, наоборот, больше слушают музыку по средам. Активность в понедельник и пятницу здесь почти в равной мере уступает среде.\n",
    "\n",
    "Значит, данные говорят в пользу первой гипотезы."
   ]
  },
  {
   "cell_type": "markdown",
   "metadata": {
    "id": "atZAxtq4_Zcu"
   },
   "source": [
    "### Музыка в начале и в конце недели"
   ]
  },
  {
   "cell_type": "markdown",
   "metadata": {
    "id": "eXrQqXFH_Zcu"
   },
   "source": [
    "Согласно второй гипотезе, утром в понедельник в Москве преобладают одни жанры, а в Петербурге — другие. Так же и вечером пятницы преобладают разные жанры — в зависимости от города."
   ]
  },
  {
   "cell_type": "markdown",
   "metadata": {
    "id": "S8UcW6Hw_Zcu"
   },
   "source": [
    "Сохраните таблицы с данными в две переменные:\n",
    "* по Москве — в `moscow_general`;\n",
    "* по Санкт-Петербургу — в `spb_general`."
   ]
  },
  {
   "cell_type": "code",
   "execution_count": 29,
   "metadata": {
    "id": "qeaFfM_P_Zcu"
   },
   "outputs": [
    {
     "data": {
      "text/html": [
       "<div>\n",
       "<style scoped>\n",
       "    .dataframe tbody tr th:only-of-type {\n",
       "        vertical-align: middle;\n",
       "    }\n",
       "\n",
       "    .dataframe tbody tr th {\n",
       "        vertical-align: top;\n",
       "    }\n",
       "\n",
       "    .dataframe thead th {\n",
       "        text-align: right;\n",
       "    }\n",
       "</style>\n",
       "<table border=\"1\" class=\"dataframe\">\n",
       "  <thead>\n",
       "    <tr style=\"text-align: right;\">\n",
       "      <th></th>\n",
       "      <th>user_id</th>\n",
       "      <th>track</th>\n",
       "      <th>artist</th>\n",
       "      <th>genre</th>\n",
       "      <th>city</th>\n",
       "      <th>time</th>\n",
       "      <th>day</th>\n",
       "    </tr>\n",
       "  </thead>\n",
       "  <tbody>\n",
       "    <tr>\n",
       "      <td>1</td>\n",
       "      <td>55204538</td>\n",
       "      <td>Delayed Because of Accident</td>\n",
       "      <td>Andreas Rönnberg</td>\n",
       "      <td>rock</td>\n",
       "      <td>Moscow</td>\n",
       "      <td>14:07:09</td>\n",
       "      <td>Friday</td>\n",
       "    </tr>\n",
       "    <tr>\n",
       "      <td>4</td>\n",
       "      <td>E2DC1FAE</td>\n",
       "      <td>Soul People</td>\n",
       "      <td>Space Echo</td>\n",
       "      <td>dance</td>\n",
       "      <td>Moscow</td>\n",
       "      <td>08:34:34</td>\n",
       "      <td>Monday</td>\n",
       "    </tr>\n",
       "    <tr>\n",
       "      <td>6</td>\n",
       "      <td>4CB90AA5</td>\n",
       "      <td>True</td>\n",
       "      <td>Roman Messer</td>\n",
       "      <td>dance</td>\n",
       "      <td>Moscow</td>\n",
       "      <td>13:00:07</td>\n",
       "      <td>Wednesday</td>\n",
       "    </tr>\n",
       "    <tr>\n",
       "      <td>7</td>\n",
       "      <td>F03E1C1F</td>\n",
       "      <td>Feeling This Way</td>\n",
       "      <td>Polina Griffith</td>\n",
       "      <td>dance</td>\n",
       "      <td>Moscow</td>\n",
       "      <td>20:47:49</td>\n",
       "      <td>Wednesday</td>\n",
       "    </tr>\n",
       "    <tr>\n",
       "      <td>8</td>\n",
       "      <td>8FA1D3BE</td>\n",
       "      <td>И вновь продолжается бой</td>\n",
       "      <td>unknown</td>\n",
       "      <td>ruspop</td>\n",
       "      <td>Moscow</td>\n",
       "      <td>09:17:40</td>\n",
       "      <td>Friday</td>\n",
       "    </tr>\n",
       "  </tbody>\n",
       "</table>\n",
       "</div>"
      ],
      "text/plain": [
       "    user_id                        track            artist   genre    city  \\\n",
       "1  55204538  Delayed Because of Accident  Andreas Rönnberg    rock  Moscow   \n",
       "4  E2DC1FAE                  Soul People        Space Echo   dance  Moscow   \n",
       "6  4CB90AA5                         True      Roman Messer   dance  Moscow   \n",
       "7  F03E1C1F             Feeling This Way   Polina Griffith   dance  Moscow   \n",
       "8  8FA1D3BE     И вновь продолжается бой           unknown  ruspop  Moscow   \n",
       "\n",
       "       time        day  \n",
       "1  14:07:09     Friday  \n",
       "4  08:34:34     Monday  \n",
       "6  13:00:07  Wednesday  \n",
       "7  20:47:49  Wednesday  \n",
       "8  09:17:40     Friday  "
      ]
     },
     "metadata": {},
     "output_type": "display_data"
    }
   ],
   "source": [
    "moscow_general = df[df['city'] == 'Moscow']\n",
    "display(moscow_general.head())\n",
    "# получение таблицы moscow_general из тех строк таблицы df, \n",
    "# для которых значение в столбце 'city' равно 'Moscow'\n"
   ]
  },
  {
   "cell_type": "code",
   "execution_count": 30,
   "metadata": {
    "id": "ORaVRKto_Zcu"
   },
   "outputs": [
    {
     "data": {
      "text/html": [
       "<div>\n",
       "<style scoped>\n",
       "    .dataframe tbody tr th:only-of-type {\n",
       "        vertical-align: middle;\n",
       "    }\n",
       "\n",
       "    .dataframe tbody tr th {\n",
       "        vertical-align: top;\n",
       "    }\n",
       "\n",
       "    .dataframe thead th {\n",
       "        text-align: right;\n",
       "    }\n",
       "</style>\n",
       "<table border=\"1\" class=\"dataframe\">\n",
       "  <thead>\n",
       "    <tr style=\"text-align: right;\">\n",
       "      <th></th>\n",
       "      <th>user_id</th>\n",
       "      <th>track</th>\n",
       "      <th>artist</th>\n",
       "      <th>genre</th>\n",
       "      <th>city</th>\n",
       "      <th>time</th>\n",
       "      <th>day</th>\n",
       "    </tr>\n",
       "  </thead>\n",
       "  <tbody>\n",
       "    <tr>\n",
       "      <td>0</td>\n",
       "      <td>FFB692EC</td>\n",
       "      <td>Kamigata To Boots</td>\n",
       "      <td>The Mass Missile</td>\n",
       "      <td>rock</td>\n",
       "      <td>Saint-Petersburg</td>\n",
       "      <td>20:28:33</td>\n",
       "      <td>Wednesday</td>\n",
       "    </tr>\n",
       "    <tr>\n",
       "      <td>2</td>\n",
       "      <td>20EC38</td>\n",
       "      <td>Funiculì funiculà</td>\n",
       "      <td>Mario Lanza</td>\n",
       "      <td>pop</td>\n",
       "      <td>Saint-Petersburg</td>\n",
       "      <td>20:58:07</td>\n",
       "      <td>Wednesday</td>\n",
       "    </tr>\n",
       "    <tr>\n",
       "      <td>3</td>\n",
       "      <td>A3DD03C9</td>\n",
       "      <td>Dragons in the Sunset</td>\n",
       "      <td>Fire + Ice</td>\n",
       "      <td>folk</td>\n",
       "      <td>Saint-Petersburg</td>\n",
       "      <td>08:37:09</td>\n",
       "      <td>Monday</td>\n",
       "    </tr>\n",
       "    <tr>\n",
       "      <td>5</td>\n",
       "      <td>842029A1</td>\n",
       "      <td>Преданная</td>\n",
       "      <td>IMPERVTOR</td>\n",
       "      <td>rusrap</td>\n",
       "      <td>Saint-Petersburg</td>\n",
       "      <td>13:09:41</td>\n",
       "      <td>Friday</td>\n",
       "    </tr>\n",
       "    <tr>\n",
       "      <td>9</td>\n",
       "      <td>E772D5C0</td>\n",
       "      <td>Pessimist</td>\n",
       "      <td>unknown</td>\n",
       "      <td>dance</td>\n",
       "      <td>Saint-Petersburg</td>\n",
       "      <td>21:20:49</td>\n",
       "      <td>Wednesday</td>\n",
       "    </tr>\n",
       "  </tbody>\n",
       "</table>\n",
       "</div>"
      ],
      "text/plain": [
       "    user_id                  track            artist   genre  \\\n",
       "0  FFB692EC      Kamigata To Boots  The Mass Missile    rock   \n",
       "2    20EC38      Funiculì funiculà       Mario Lanza     pop   \n",
       "3  A3DD03C9  Dragons in the Sunset        Fire + Ice    folk   \n",
       "5  842029A1              Преданная         IMPERVTOR  rusrap   \n",
       "9  E772D5C0              Pessimist           unknown   dance   \n",
       "\n",
       "               city      time        day  \n",
       "0  Saint-Petersburg  20:28:33  Wednesday  \n",
       "2  Saint-Petersburg  20:58:07  Wednesday  \n",
       "3  Saint-Petersburg  08:37:09     Monday  \n",
       "5  Saint-Petersburg  13:09:41     Friday  \n",
       "9  Saint-Petersburg  21:20:49  Wednesday  "
      ]
     },
     "metadata": {},
     "output_type": "display_data"
    }
   ],
   "source": [
    "spb_general = df[df['city'] == 'Saint-Petersburg']\n",
    "display(spb_general.head()) # получение таблицы spb_general из тех строк таблицы df,\n",
    "# для которых значение в столбце 'city' равно 'Saint-Petersburg'\n"
   ]
  },
  {
   "cell_type": "markdown",
   "metadata": {
    "id": "MEJV-CX2_Zcu"
   },
   "source": [
    "Создайте функцию `genre_weekday()` с четырьмя параметрами:\n",
    "* таблица (датафрейм) с данными,\n",
    "* день недели,\n",
    "* начальная временная метка в формате 'hh:mm', \n",
    "* последняя временная метка в формате 'hh:mm'.\n",
    "\n",
    "Функция должна вернуть информацию о топ-10 жанров тех треков, которые прослушивали в указанный день, в промежутке между двумя отметками времени."
   ]
  },
  {
   "cell_type": "code",
   "execution_count": 31,
   "metadata": {
    "id": "laJT9BYl_Zcu"
   },
   "outputs": [],
   "source": [
    "def genre_weekday(table, day, time1, time2):# Объявление функции genre_weekday() с параметрами table, day, time1, time2,\n",
    "# которая возвращает информацию о самых популярных жанрах в указанный день в\n",
    "# заданное время:\n",
    "    genre_df = table[table['day'] == day]\n",
    "    genre_df = genre_df[genre_df['time'] > time1]\n",
    "    genre_df = genre_df[genre_df['time'] < time2]\n",
    "    genre_df_count = genre_df.groupby('genre')['genre'].count()\n",
    "    genre_df_sorted = genre_df_count.sort_values(ascending=False)\n",
    "    return genre_df_sorted.head(10)\n",
    "# 1) в переменную genre_df сохраняются те строки переданного датафрейма table, для\n",
    "#    которых одновременно:\n",
    "#    - значение в столбце day равно значению аргумента day\n",
    "#    - значение в столбце time больше значения аргумента time1\n",
    "#    - значение в столбце time меньше значения аргумента time2\n",
    "#    Используйте последовательную фильтрацию с помощью логической индексации.\n",
    "\n",
    "# 2) сгруппировать датафрейм genre_df по столбцу genre, взять один из его\n",
    "#    столбцов и посчитать методом count() количество записей для каждого из\n",
    "#    присутствующих жанров, получившийся Series записать в переменную\n",
    "#    genre_df_count\n",
    "# 3) отсортировать genre_df_count по убыванию встречаемости и сохранить\n",
    "#    в переменную genre_df_sorted\n",
    "# 4) вернуть Series из 10 первых значений genre_df_sorted, это будут топ-10\n",
    "#    популярных жанров (в указанный день, в заданное время)"
   ]
  },
  {
   "cell_type": "markdown",
   "metadata": {},
   "source": [
    "<div class=\"alert alert-success\">\n",
    "<b>✔️ Комментарий ревьюера: </b> \n",
    "<br>Замечательно! Здесь тоже все верно.\n",
    "</div>\n",
    "\n",
    "<div class=\"alert alert-warning\">\n",
    "<b>⚠️ Комментарий ревьюера:</b> \n",
    "<br>Как можно это сделать другим способом:\n",
    "<br>1. В одну строку: \n",
    "    \n",
    "    genre_df = table[(table['day'] == day) & (table['time'] > time1) & (table['time'] < time2)]\n",
    "<br>2. Через метод query(): \n",
    "\n",
    "    genre_df = table.query('@day==day and @time1 < time < @time2')\n",
    "<br>Метод query вы будете изучать в следующем спринте, а пока про него можно почитать в документации pandas:\n",
    "\n",
    "\thttps://pandas.pydata.org/docs/reference/api/pandas.DataFrame.query.html\n",
    "</div>"
   ]
  },
  {
   "cell_type": "markdown",
   "metadata": {
    "id": "la2s2_PF_Zcu"
   },
   "source": [
    "Cравните результаты функции `genre_weekday()` для Москвы и Санкт-Петербурга в понедельник утром (с 7:00 до 11:00) и в пятницу вечером (с 17:00 до 23:00):"
   ]
  },
  {
   "cell_type": "code",
   "execution_count": 32,
   "metadata": {
    "id": "yz7itPUQ_Zcu"
   },
   "outputs": [
    {
     "data": {
      "text/plain": [
       "genre\n",
       "pop            781\n",
       "dance          549\n",
       "electronic     480\n",
       "rock           474\n",
       "hiphop         286\n",
       "ruspop         186\n",
       "world          181\n",
       "rusrap         175\n",
       "alternative    164\n",
       "unknown        161\n",
       "Name: genre, dtype: int64"
      ]
     },
     "execution_count": 32,
     "metadata": {},
     "output_type": "execute_result"
    }
   ],
   "source": [
    "genre_weekday(moscow_general, 'Monday', '07:00', '11:00')# вызов функции для утра понедельника в Москве (вместо df — таблица moscow_general)\n",
    "# объекты, хранящие время, являются строками и сравниваются как строки\n",
    "# пример вызова: genre_weekday(moscow_general, 'Monday', '07:00', '11:00')"
   ]
  },
  {
   "cell_type": "code",
   "execution_count": 33,
   "metadata": {
    "id": "kwUcHPdy_Zcu"
   },
   "outputs": [
    {
     "data": {
      "text/plain": [
       "genre\n",
       "pop            218\n",
       "dance          182\n",
       "rock           162\n",
       "electronic     147\n",
       "hiphop          80\n",
       "ruspop          64\n",
       "alternative     58\n",
       "rusrap          55\n",
       "jazz            44\n",
       "classical       40\n",
       "Name: genre, dtype: int64"
      ]
     },
     "execution_count": 33,
     "metadata": {},
     "output_type": "execute_result"
    }
   ],
   "source": [
    "genre_weekday(spb_general, 'Monday', '07:00', '11:00')\n",
    "# вызов функции для утра понедельника в Петербурге (вместо df — таблица spb_general)"
   ]
  },
  {
   "cell_type": "code",
   "execution_count": 34,
   "metadata": {
    "id": "EzXVRE1o_Zcu"
   },
   "outputs": [
    {
     "data": {
      "text/plain": [
       "genre\n",
       "pop            713\n",
       "rock           517\n",
       "dance          495\n",
       "electronic     482\n",
       "hiphop         273\n",
       "world          208\n",
       "ruspop         170\n",
       "alternative    163\n",
       "classical      163\n",
       "rusrap         142\n",
       "Name: genre, dtype: int64"
      ]
     },
     "execution_count": 34,
     "metadata": {},
     "output_type": "execute_result"
    }
   ],
   "source": [
    "genre_weekday(moscow_general, 'Friday', '17:00', '23:00')# вызов функции для вечера пятницы в Москве"
   ]
  },
  {
   "cell_type": "code",
   "execution_count": 35,
   "metadata": {
    "id": "JZaEKu5v_Zcu"
   },
   "outputs": [
    {
     "data": {
      "text/plain": [
       "genre\n",
       "pop            256\n",
       "rock           216\n",
       "electronic     216\n",
       "dance          210\n",
       "hiphop          97\n",
       "alternative     63\n",
       "jazz            61\n",
       "classical       60\n",
       "rusrap          59\n",
       "world           54\n",
       "Name: genre, dtype: int64"
      ]
     },
     "execution_count": 35,
     "metadata": {},
     "output_type": "execute_result"
    }
   ],
   "source": [
    "genre_weekday(spb_general, 'Friday', '17:00', '23:00') # вызов функции для вечера пятницы в Петербурге"
   ]
  },
  {
   "cell_type": "markdown",
   "metadata": {
    "id": "wrCe4MNX_Zcu"
   },
   "source": [
    "**Выводы**\n",
    "\n",
    "Если сравнить топ-10 жанров в понедельник утром, можно сделать такие выводы:\n",
    "\n",
    "1. В Москве и Петербурге слушают похожую музыку. Единственное отличие — в московский рейтинг вошёл жанр “world”, а в петербургский — джаз и классика.\n",
    "\n",
    "2. В Москве пропущенных значений оказалось так много, что значение `'unknown'` заняло десятое место среди самых популярных жанров. Значит, пропущенные значения занимают существенную долю в данных и угрожают достоверности исследования.\n",
    "\n",
    "Вечер пятницы не меняет эту картину. Некоторые жанры поднимаются немного выше, другие спускаются, но в целом топ-10 остаётся тем же самым.\n",
    "\n",
    "Таким образом, вторая гипотеза подтвердилась лишь частично:\n",
    "* Пользователи слушают похожую музыку в начале недели и в конце.\n",
    "* Разница между Москвой и Петербургом не слишком выражена. В Москве чаще слушают русскую популярную музыку, в Петербурге — джаз.\n",
    "\n",
    "Однако пропуски в данных ставят под сомнение этот результат. В Москве их так много, что рейтинг топ-10 мог бы выглядеть иначе, если бы не утерянные  данные о жанрах."
   ]
  },
  {
   "cell_type": "markdown",
   "metadata": {
    "id": "JolODAqr_Zcu"
   },
   "source": [
    "### Жанровые предпочтения в Москве и Петербурге\n",
    "\n",
    "Гипотеза: Петербург — столица рэпа, музыку этого жанра там слушают чаще, чем в Москве.  А Москва — город контрастов, в котором, тем не менее, преобладает поп-музыка."
   ]
  },
  {
   "cell_type": "markdown",
   "metadata": {
    "id": "DlegSvaT_Zcu"
   },
   "source": [
    "Сгруппируйте таблицу `moscow_general` по жанру и посчитайте прослушивания треков каждого жанра методом `count()`. Затем отсортируйте результат в порядке убывания и сохраните его в таблице `moscow_genres`."
   ]
  },
  {
   "cell_type": "code",
   "execution_count": 36,
   "metadata": {
    "id": "r19lIPke_Zcu"
   },
   "outputs": [],
   "source": [
    "moscow_genres=moscow_general.groupby('genre')['genre'].count().sort_values(ascending = False)\n",
    "# одной строкой: группировка таблицы moscow_general по столбцу 'genre', \n",
    "# подсчёт числа значений 'genre' в этой группировке методом count(), \n",
    "# сортировка получившегося Series в порядке убывания и сохранение в moscow_genres"
   ]
  },
  {
   "cell_type": "markdown",
   "metadata": {
    "id": "6kMuomxTiIr8"
   },
   "source": [
    "Выведите на экран первые десять строк `moscow_genres`:"
   ]
  },
  {
   "cell_type": "code",
   "execution_count": 37,
   "metadata": {
    "id": "WhCSooF8_Zcv"
   },
   "outputs": [
    {
     "data": {
      "text/plain": [
       "genre\n",
       "pop            5892\n",
       "dance          4435\n",
       "rock           3965\n",
       "electronic     3786\n",
       "hiphop         2096\n",
       "classical      1616\n",
       "world          1432\n",
       "alternative    1379\n",
       "ruspop         1372\n",
       "rusrap         1161\n",
       "Name: genre, dtype: int64"
      ]
     },
     "metadata": {},
     "output_type": "display_data"
    }
   ],
   "source": [
    "display(moscow_genres.head(10)) # просмотр первых 10 строк moscow_genres"
   ]
  },
  {
   "cell_type": "markdown",
   "metadata": {
    "id": "cnPG2vnN_Zcv"
   },
   "source": [
    "Теперь повторите то же и для Петербурга.\n",
    "\n",
    "Сгруппируйте таблицу `spb_general` по жанру. Посчитайте прослушивания треков каждого жанра. Результат отсортируйте в порядке убывания и сохраните в таблице `spb_genres`:\n"
   ]
  },
  {
   "cell_type": "code",
   "execution_count": 38,
   "metadata": {
    "id": "gluLIpE7_Zcv"
   },
   "outputs": [],
   "source": [
    "spb_genres=spb_general.groupby('genre')['genre'].count().sort_values(ascending=False)\n",
    "# одной строкой: группировка таблицы spb_general по столбцу 'genre', \n",
    "# подсчёт числа значений 'genre' в этой группировке методом count(), \n",
    "# сортировка получившегося Series в порядке убывания и сохранение в spb_genres"
   ]
  },
  {
   "cell_type": "markdown",
   "metadata": {},
   "source": [
    "<div class=\"alert alert-danger\">\n",
    "<b>❌ Комментарий ревьюера:</b> \n",
    "<br>Код падает с ошибкой. Поправь, пожалуйста\n",
    "</div>"
   ]
  },
  {
   "cell_type": "markdown",
   "metadata": {},
   "source": [
    "<div class=\"alert alert-success\">\n",
    "<b>✔️ Комментарий ревьюера v2:</b>\n",
    "<br>👍\n",
    "</div>"
   ]
  },
  {
   "cell_type": "markdown",
   "metadata": {
    "id": "5Doha_ODgyQ8"
   },
   "source": [
    "Выведите на экран первые десять строк `spb_genres`:"
   ]
  },
  {
   "cell_type": "code",
   "execution_count": 39,
   "metadata": {
    "id": "uaGJHjVU_Zcv"
   },
   "outputs": [
    {
     "data": {
      "text/plain": [
       "genre\n",
       "pop            2431\n",
       "dance          1932\n",
       "rock           1879\n",
       "electronic     1736\n",
       "hiphop          960\n",
       "alternative     649\n",
       "classical       646\n",
       "rusrap          564\n",
       "ruspop          538\n",
       "world           515\n",
       "Name: genre, dtype: int64"
      ]
     },
     "metadata": {},
     "output_type": "display_data"
    }
   ],
   "source": [
    "display(spb_genres.head(10))# просмотр первых 10 строк spb_genres"
   ]
  },
  {
   "cell_type": "markdown",
   "metadata": {
    "id": "RY51YJYu_Zcv"
   },
   "source": [
    "**Выводы**"
   ]
  },
  {
   "cell_type": "markdown",
   "metadata": {
    "id": "nVhnJEm__Zcv"
   },
   "source": [
    "Гипотеза частично подтвердилась:\n",
    "* Поп-музыка — самый популярный жанр в Москве, как и предполагала гипотеза. Более того, в топ-10 жанров встречается близкий жанр — русская популярная музыка.\n",
    "* Вопреки ожиданиям, рэп одинаково популярен в Москве и Петербурге. \n"
   ]
  },
  {
   "cell_type": "markdown",
   "metadata": {
    "id": "ykKQ0N65_Zcv"
   },
   "source": [
    "## Итоги исследования"
   ]
  },
  {
   "cell_type": "markdown",
   "metadata": {
    "id": "tjUwbHb3_Zcv"
   },
   "source": [
    "Вы проверили три гипотезы и установили:\n",
    "\n",
    "1. День недели по-разному влияет на активность пользователей в Москве и Петербурге. \n",
    "\n",
    "Первая гипотеза полностью подтвердилась.\n",
    "\n",
    "2. Музыкальные предпочтения не сильно меняются в течение недели — будь то Москва или Петербург. Небольшие различия заметны в начале недели, по понедельникам:\n",
    "* в Москве слушают музыку жанра “world”,\n",
    "* в Петербурге — джаз и классику.\n",
    "\n",
    "Таким образом, вторая гипотеза подтвердилась лишь отчасти. Этот результат мог оказаться иным, если бы не пропуски в данных.\n",
    "\n",
    "3. Во вкусах пользователей Москвы и Петербурга больше общего чем различий. Вопреки ожиданиям, предпочтения жанров в Петербурге напоминают московские.\n",
    "\n",
    "Третья гипотеза не подтвердилась. Если различия в предпочтениях и существуют, на основной массе пользователей они незаметны.\n",
    "\n",
    "**На практике исследования содержат проверки статистических гипотез.**\n",
    "Из данных одного сервиса не всегда можно сделать вывод о всех жителях города.\n",
    "Проверки статистических гипотез покажут, насколько они достоверны, исходя из имеющихся данных. \n",
    "С методами проверок гипотез вы ещё познакомитесь в следующих темах."
   ]
  },
  {
   "cell_type": "markdown",
   "metadata": {},
   "source": [
    "<div class=\"alert alert-danger\">\n",
    "<b>❌ Итоговый комментарий ревьюера:</b> \n",
    "<br>Ты хорошо потрудилась, большая часть работы сделана, но остаётся внести следующие правки:\n",
    "<br>- Корректно вывести число прослушиваний в каждом городе и по каждому дню\n",
    "<br>- Поправить код, падающий с ошибкой\n",
    "</div>"
   ]
  },
  {
   "cell_type": "markdown",
   "metadata": {},
   "source": [
    "<div class=\"alert alert-success\">\n",
    "<b>✔️ Итоговый комментарий ревьюера v2:</b>\n",
    "<br>У тебя отличная работа! Все правки выполнены ✅ Здорово, что ты проработала жёлтые комментарии. Практика никогда не бывает лишней)\n",
    "<br>Ты продемонстрировала владение базовыми методами pandas, которые очень пригодятся тебе в будущих проектах. Желаю удачи в дальнейшем обучении! 😉\n",
    "</div>"
   ]
  }
 ],
 "metadata": {
  "ExecuteTimeLog": [
   {
    "duration": 569,
    "start_time": "2022-01-24T13:36:32.557Z"
   },
   {
    "duration": 361,
    "start_time": "2022-01-24T13:36:46.817Z"
   },
   {
    "duration": 438,
    "start_time": "2022-01-24T13:37:04.888Z"
   },
   {
    "duration": 1080,
    "start_time": "2022-01-24T13:46:03.009Z"
   },
   {
    "duration": 360,
    "start_time": "2022-01-24T14:10:59.172Z"
   },
   {
    "duration": 506,
    "start_time": "2022-01-24T14:21:14.117Z"
   },
   {
    "duration": 1095,
    "start_time": "2022-01-24T14:21:41.101Z"
   },
   {
    "duration": 4,
    "start_time": "2022-01-24T15:25:41.004Z"
   },
   {
    "duration": 718,
    "start_time": "2022-01-24T15:25:44.474Z"
   },
   {
    "duration": -445,
    "start_time": "2022-01-24T15:25:45.639Z"
   },
   {
    "duration": 654,
    "start_time": "2022-01-24T15:25:45.558Z"
   },
   {
    "duration": 674,
    "start_time": "2022-01-24T15:25:46.591Z"
   },
   {
    "duration": 666,
    "start_time": "2022-01-24T15:25:47.837Z"
   },
   {
    "duration": 713,
    "start_time": "2022-01-24T15:25:49.900Z"
   },
   {
    "duration": 343,
    "start_time": "2022-01-24T15:25:54.302Z"
   },
   {
    "duration": 333,
    "start_time": "2022-01-24T15:25:59.346Z"
   },
   {
    "duration": 336,
    "start_time": "2022-01-24T15:26:09.154Z"
   },
   {
    "duration": 5,
    "start_time": "2022-01-24T15:26:12.587Z"
   },
   {
    "duration": 347,
    "start_time": "2022-01-24T15:26:13.970Z"
   },
   {
    "duration": 339,
    "start_time": "2022-01-24T15:26:14.962Z"
   },
   {
    "duration": 328,
    "start_time": "2022-01-24T15:26:15.803Z"
   },
   {
    "duration": 329,
    "start_time": "2022-01-24T15:26:17.058Z"
   },
   {
    "duration": 612,
    "start_time": "2022-01-31T19:11:38.167Z"
   },
   {
    "duration": 152,
    "start_time": "2022-01-31T19:11:38.781Z"
   },
   {
    "duration": 18,
    "start_time": "2022-01-31T19:11:38.936Z"
   },
   {
    "duration": 36,
    "start_time": "2022-01-31T19:11:38.956Z"
   },
   {
    "duration": 4,
    "start_time": "2022-01-31T19:11:39.008Z"
   },
   {
    "duration": 24,
    "start_time": "2022-01-31T19:11:39.014Z"
   },
   {
    "duration": 12,
    "start_time": "2022-01-31T19:11:39.040Z"
   },
   {
    "duration": 52,
    "start_time": "2022-01-31T19:11:39.055Z"
   },
   {
    "duration": 21,
    "start_time": "2022-01-31T19:11:39.110Z"
   },
   {
    "duration": 28,
    "start_time": "2022-01-31T19:11:39.133Z"
   },
   {
    "duration": 97,
    "start_time": "2022-01-31T19:11:39.163Z"
   },
   {
    "duration": 87,
    "start_time": "2022-01-31T19:11:39.262Z"
   },
   {
    "duration": 71,
    "start_time": "2022-01-31T19:11:39.351Z"
   },
   {
    "duration": 7271,
    "start_time": "2022-01-31T19:11:39.425Z"
   },
   {
    "duration": -2552,
    "start_time": "2022-01-31T19:11:49.251Z"
   },
   {
    "duration": -2552,
    "start_time": "2022-01-31T19:11:49.252Z"
   },
   {
    "duration": -2553,
    "start_time": "2022-01-31T19:11:49.254Z"
   },
   {
    "duration": -2552,
    "start_time": "2022-01-31T19:11:49.255Z"
   },
   {
    "duration": -2552,
    "start_time": "2022-01-31T19:11:49.256Z"
   },
   {
    "duration": -2553,
    "start_time": "2022-01-31T19:11:49.258Z"
   },
   {
    "duration": -2552,
    "start_time": "2022-01-31T19:11:49.259Z"
   },
   {
    "duration": -2552,
    "start_time": "2022-01-31T19:11:49.260Z"
   },
   {
    "duration": -2553,
    "start_time": "2022-01-31T19:11:49.262Z"
   },
   {
    "duration": -2553,
    "start_time": "2022-01-31T19:11:49.263Z"
   },
   {
    "duration": -2553,
    "start_time": "2022-01-31T19:11:49.265Z"
   },
   {
    "duration": -2553,
    "start_time": "2022-01-31T19:11:49.266Z"
   },
   {
    "duration": -2553,
    "start_time": "2022-01-31T19:11:49.267Z"
   },
   {
    "duration": -2553,
    "start_time": "2022-01-31T19:11:49.269Z"
   },
   {
    "duration": -2553,
    "start_time": "2022-01-31T19:11:49.270Z"
   },
   {
    "duration": -2552,
    "start_time": "2022-01-31T19:11:49.271Z"
   },
   {
    "duration": -2552,
    "start_time": "2022-01-31T19:11:49.272Z"
   },
   {
    "duration": -2553,
    "start_time": "2022-01-31T19:11:49.274Z"
   },
   {
    "duration": -2553,
    "start_time": "2022-01-31T19:11:49.275Z"
   },
   {
    "duration": -2553,
    "start_time": "2022-01-31T19:11:49.276Z"
   },
   {
    "duration": -2554,
    "start_time": "2022-01-31T19:11:49.278Z"
   },
   {
    "duration": -2554,
    "start_time": "2022-01-31T19:11:49.279Z"
   },
   {
    "duration": -2555,
    "start_time": "2022-01-31T19:11:49.281Z"
   },
   {
    "duration": -2554,
    "start_time": "2022-01-31T19:11:49.282Z"
   },
   {
    "duration": 24,
    "start_time": "2022-01-31T19:14:28.083Z"
   },
   {
    "duration": 3,
    "start_time": "2022-01-31T19:18:27.335Z"
   },
   {
    "duration": 7099,
    "start_time": "2022-01-31T19:18:28.283Z"
   },
   {
    "duration": -2576,
    "start_time": "2022-01-31T19:18:37.960Z"
   },
   {
    "duration": 35,
    "start_time": "2022-01-31T19:18:46.221Z"
   },
   {
    "duration": 279,
    "start_time": "2022-01-31T19:18:48.251Z"
   },
   {
    "duration": 4,
    "start_time": "2022-01-31T19:19:45.829Z"
   },
   {
    "duration": 6400,
    "start_time": "2022-01-31T19:19:46.588Z"
   },
   {
    "duration": -2581,
    "start_time": "2022-01-31T19:19:55.572Z"
   },
   {
    "duration": -2582,
    "start_time": "2022-01-31T19:19:55.574Z"
   },
   {
    "duration": -2583,
    "start_time": "2022-01-31T19:19:55.576Z"
   },
   {
    "duration": -2583,
    "start_time": "2022-01-31T19:19:55.577Z"
   },
   {
    "duration": -2584,
    "start_time": "2022-01-31T19:19:55.579Z"
   },
   {
    "duration": -2584,
    "start_time": "2022-01-31T19:19:55.580Z"
   },
   {
    "duration": 21,
    "start_time": "2022-01-31T19:20:02.873Z"
   },
   {
    "duration": 17,
    "start_time": "2022-01-31T19:20:03.352Z"
   },
   {
    "duration": 5,
    "start_time": "2022-01-31T19:20:04.125Z"
   },
   {
    "duration": 23,
    "start_time": "2022-01-31T19:20:04.974Z"
   },
   {
    "duration": 16,
    "start_time": "2022-01-31T19:20:05.534Z"
   },
   {
    "duration": 19,
    "start_time": "2022-01-31T19:20:05.741Z"
   },
   {
    "duration": 16,
    "start_time": "2022-01-31T19:20:05.921Z"
   },
   {
    "duration": 9,
    "start_time": "2022-01-31T19:20:39.154Z"
   },
   {
    "duration": 5,
    "start_time": "2022-01-31T19:20:39.793Z"
   },
   {
    "duration": 432,
    "start_time": "2022-01-31T19:20:40.704Z"
   },
   {
    "duration": 235,
    "start_time": "2022-01-31T19:20:41.372Z"
   },
   {
    "duration": 371,
    "start_time": "2022-02-01T13:49:56.531Z"
   },
   {
    "duration": 774,
    "start_time": "2022-02-01T13:52:17.056Z"
   },
   {
    "duration": 182,
    "start_time": "2022-02-01T13:52:17.833Z"
   },
   {
    "duration": 30,
    "start_time": "2022-02-01T13:52:18.018Z"
   },
   {
    "duration": 33,
    "start_time": "2022-02-01T13:52:18.069Z"
   },
   {
    "duration": 17,
    "start_time": "2022-02-01T13:52:18.105Z"
   },
   {
    "duration": 48,
    "start_time": "2022-02-01T13:52:18.125Z"
   },
   {
    "duration": 31,
    "start_time": "2022-02-01T13:52:18.176Z"
   },
   {
    "duration": 64,
    "start_time": "2022-02-01T13:52:18.213Z"
   },
   {
    "duration": 53,
    "start_time": "2022-02-01T13:52:18.280Z"
   },
   {
    "duration": 46,
    "start_time": "2022-02-01T13:52:18.336Z"
   },
   {
    "duration": 94,
    "start_time": "2022-02-01T13:52:18.386Z"
   },
   {
    "duration": 118,
    "start_time": "2022-02-01T13:52:18.483Z"
   },
   {
    "duration": 93,
    "start_time": "2022-02-01T13:52:18.603Z"
   },
   {
    "duration": 11425,
    "start_time": "2022-02-01T13:52:18.698Z"
   },
   {
    "duration": -539,
    "start_time": "2022-02-01T13:52:30.666Z"
   },
   {
    "duration": -541,
    "start_time": "2022-02-01T13:52:30.670Z"
   },
   {
    "duration": -544,
    "start_time": "2022-02-01T13:52:30.675Z"
   },
   {
    "duration": -546,
    "start_time": "2022-02-01T13:52:30.679Z"
   },
   {
    "duration": -547,
    "start_time": "2022-02-01T13:52:30.682Z"
   },
   {
    "duration": -549,
    "start_time": "2022-02-01T13:52:30.686Z"
   },
   {
    "duration": -557,
    "start_time": "2022-02-01T13:52:30.696Z"
   },
   {
    "duration": -559,
    "start_time": "2022-02-01T13:52:30.699Z"
   },
   {
    "duration": -561,
    "start_time": "2022-02-01T13:52:30.703Z"
   },
   {
    "duration": -562,
    "start_time": "2022-02-01T13:52:30.707Z"
   },
   {
    "duration": -563,
    "start_time": "2022-02-01T13:52:30.710Z"
   },
   {
    "duration": -565,
    "start_time": "2022-02-01T13:52:30.714Z"
   },
   {
    "duration": -566,
    "start_time": "2022-02-01T13:52:30.717Z"
   },
   {
    "duration": -568,
    "start_time": "2022-02-01T13:52:30.720Z"
   },
   {
    "duration": -569,
    "start_time": "2022-02-01T13:52:30.723Z"
   },
   {
    "duration": -571,
    "start_time": "2022-02-01T13:52:30.727Z"
   },
   {
    "duration": -577,
    "start_time": "2022-02-01T13:52:30.735Z"
   },
   {
    "duration": -578,
    "start_time": "2022-02-01T13:52:30.738Z"
   },
   {
    "duration": -579,
    "start_time": "2022-02-01T13:52:30.741Z"
   },
   {
    "duration": -576,
    "start_time": "2022-02-01T13:52:30.744Z"
   },
   {
    "duration": -577,
    "start_time": "2022-02-01T13:52:30.747Z"
   },
   {
    "duration": -579,
    "start_time": "2022-02-01T13:52:30.751Z"
   },
   {
    "duration": -580,
    "start_time": "2022-02-01T13:52:30.754Z"
   },
   {
    "duration": -582,
    "start_time": "2022-02-01T13:52:30.757Z"
   },
   {
    "duration": 446,
    "start_time": "2022-02-01T13:53:23.873Z"
   },
   {
    "duration": 766,
    "start_time": "2022-02-01T13:53:39.217Z"
   },
   {
    "duration": 187,
    "start_time": "2022-02-01T13:53:39.986Z"
   },
   {
    "duration": 36,
    "start_time": "2022-02-01T13:53:40.178Z"
   },
   {
    "duration": 69,
    "start_time": "2022-02-01T13:53:40.217Z"
   },
   {
    "duration": 6,
    "start_time": "2022-02-01T13:53:40.289Z"
   },
   {
    "duration": 30,
    "start_time": "2022-02-01T13:53:40.298Z"
   },
   {
    "duration": 44,
    "start_time": "2022-02-01T13:53:40.331Z"
   },
   {
    "duration": 33,
    "start_time": "2022-02-01T13:53:40.378Z"
   },
   {
    "duration": 57,
    "start_time": "2022-02-01T13:53:40.417Z"
   },
   {
    "duration": 31,
    "start_time": "2022-02-01T13:53:40.477Z"
   },
   {
    "duration": 107,
    "start_time": "2022-02-01T13:53:40.511Z"
   },
   {
    "duration": 122,
    "start_time": "2022-02-01T13:53:40.621Z"
   },
   {
    "duration": 98,
    "start_time": "2022-02-01T13:53:40.745Z"
   },
   {
    "duration": 445,
    "start_time": "2022-02-01T13:53:40.846Z"
   },
   {
    "duration": -533,
    "start_time": "2022-02-01T13:53:41.828Z"
   },
   {
    "duration": -538,
    "start_time": "2022-02-01T13:53:41.834Z"
   },
   {
    "duration": -539,
    "start_time": "2022-02-01T13:53:41.837Z"
   },
   {
    "duration": -542,
    "start_time": "2022-02-01T13:53:41.841Z"
   },
   {
    "duration": -544,
    "start_time": "2022-02-01T13:53:41.845Z"
   },
   {
    "duration": -553,
    "start_time": "2022-02-01T13:53:41.856Z"
   },
   {
    "duration": -555,
    "start_time": "2022-02-01T13:53:41.860Z"
   },
   {
    "duration": -559,
    "start_time": "2022-02-01T13:53:41.865Z"
   },
   {
    "duration": -561,
    "start_time": "2022-02-01T13:53:41.869Z"
   },
   {
    "duration": -564,
    "start_time": "2022-02-01T13:53:41.873Z"
   },
   {
    "duration": -567,
    "start_time": "2022-02-01T13:53:41.877Z"
   },
   {
    "duration": -569,
    "start_time": "2022-02-01T13:53:41.881Z"
   },
   {
    "duration": -572,
    "start_time": "2022-02-01T13:53:41.885Z"
   },
   {
    "duration": -574,
    "start_time": "2022-02-01T13:53:41.888Z"
   },
   {
    "duration": -577,
    "start_time": "2022-02-01T13:53:41.892Z"
   },
   {
    "duration": -581,
    "start_time": "2022-02-01T13:53:41.898Z"
   },
   {
    "duration": -584,
    "start_time": "2022-02-01T13:53:41.902Z"
   },
   {
    "duration": -596,
    "start_time": "2022-02-01T13:53:41.915Z"
   },
   {
    "duration": -599,
    "start_time": "2022-02-01T13:53:41.920Z"
   },
   {
    "duration": -602,
    "start_time": "2022-02-01T13:53:41.924Z"
   },
   {
    "duration": -605,
    "start_time": "2022-02-01T13:53:41.928Z"
   },
   {
    "duration": -606,
    "start_time": "2022-02-01T13:53:41.931Z"
   },
   {
    "duration": -609,
    "start_time": "2022-02-01T13:53:41.935Z"
   },
   {
    "duration": -611,
    "start_time": "2022-02-01T13:53:41.938Z"
   },
   {
    "duration": 765,
    "start_time": "2022-02-01T13:54:48.432Z"
   },
   {
    "duration": 186,
    "start_time": "2022-02-01T13:54:49.200Z"
   },
   {
    "duration": 28,
    "start_time": "2022-02-01T13:54:49.390Z"
   },
   {
    "duration": 61,
    "start_time": "2022-02-01T13:54:49.422Z"
   },
   {
    "duration": 15,
    "start_time": "2022-02-01T13:54:49.487Z"
   },
   {
    "duration": 34,
    "start_time": "2022-02-01T13:54:49.505Z"
   },
   {
    "duration": 27,
    "start_time": "2022-02-01T13:54:49.542Z"
   },
   {
    "duration": 60,
    "start_time": "2022-02-01T13:54:49.574Z"
   },
   {
    "duration": 32,
    "start_time": "2022-02-01T13:54:49.637Z"
   },
   {
    "duration": 42,
    "start_time": "2022-02-01T13:54:49.671Z"
   },
   {
    "duration": 103,
    "start_time": "2022-02-01T13:54:49.715Z"
   },
   {
    "duration": 113,
    "start_time": "2022-02-01T13:54:49.820Z"
   },
   {
    "duration": 94,
    "start_time": "2022-02-01T13:54:49.936Z"
   },
   {
    "duration": 462,
    "start_time": "2022-02-01T13:54:50.032Z"
   },
   {
    "duration": -559,
    "start_time": "2022-02-01T13:54:51.056Z"
   },
   {
    "duration": -574,
    "start_time": "2022-02-01T13:54:51.072Z"
   },
   {
    "duration": -585,
    "start_time": "2022-02-01T13:54:51.085Z"
   },
   {
    "duration": -598,
    "start_time": "2022-02-01T13:54:51.100Z"
   },
   {
    "duration": -611,
    "start_time": "2022-02-01T13:54:51.114Z"
   },
   {
    "duration": -624,
    "start_time": "2022-02-01T13:54:51.128Z"
   },
   {
    "duration": -637,
    "start_time": "2022-02-01T13:54:51.142Z"
   },
   {
    "duration": -649,
    "start_time": "2022-02-01T13:54:51.155Z"
   },
   {
    "duration": -650,
    "start_time": "2022-02-01T13:54:51.158Z"
   },
   {
    "duration": -657,
    "start_time": "2022-02-01T13:54:51.166Z"
   },
   {
    "duration": -661,
    "start_time": "2022-02-01T13:54:51.172Z"
   },
   {
    "duration": -663,
    "start_time": "2022-02-01T13:54:51.175Z"
   },
   {
    "duration": -665,
    "start_time": "2022-02-01T13:54:51.178Z"
   },
   {
    "duration": -667,
    "start_time": "2022-02-01T13:54:51.181Z"
   },
   {
    "duration": -669,
    "start_time": "2022-02-01T13:54:51.185Z"
   },
   {
    "duration": -671,
    "start_time": "2022-02-01T13:54:51.188Z"
   },
   {
    "duration": -673,
    "start_time": "2022-02-01T13:54:51.191Z"
   },
   {
    "duration": -675,
    "start_time": "2022-02-01T13:54:51.194Z"
   },
   {
    "duration": -676,
    "start_time": "2022-02-01T13:54:51.197Z"
   },
   {
    "duration": -678,
    "start_time": "2022-02-01T13:54:51.200Z"
   },
   {
    "duration": -681,
    "start_time": "2022-02-01T13:54:51.204Z"
   },
   {
    "duration": -682,
    "start_time": "2022-02-01T13:54:51.207Z"
   },
   {
    "duration": -684,
    "start_time": "2022-02-01T13:54:51.210Z"
   },
   {
    "duration": -687,
    "start_time": "2022-02-01T13:54:51.214Z"
   },
   {
    "duration": 785,
    "start_time": "2022-02-01T14:03:27.338Z"
   },
   {
    "duration": 195,
    "start_time": "2022-02-01T14:03:28.126Z"
   },
   {
    "duration": 65,
    "start_time": "2022-02-01T14:03:28.325Z"
   },
   {
    "duration": 84,
    "start_time": "2022-02-01T14:03:28.393Z"
   },
   {
    "duration": 6,
    "start_time": "2022-02-01T14:03:28.479Z"
   },
   {
    "duration": 31,
    "start_time": "2022-02-01T14:03:28.487Z"
   },
   {
    "duration": 51,
    "start_time": "2022-02-01T14:03:28.520Z"
   },
   {
    "duration": 31,
    "start_time": "2022-02-01T14:03:28.574Z"
   },
   {
    "duration": 75,
    "start_time": "2022-02-01T14:03:28.609Z"
   },
   {
    "duration": 83,
    "start_time": "2022-02-01T14:03:28.687Z"
   },
   {
    "duration": 133,
    "start_time": "2022-02-01T14:03:28.773Z"
   },
   {
    "duration": 210,
    "start_time": "2022-02-01T14:03:28.908Z"
   },
   {
    "duration": 79,
    "start_time": "2022-02-01T14:03:29.170Z"
   },
   {
    "duration": 457,
    "start_time": "2022-02-01T14:03:29.251Z"
   },
   {
    "duration": -534,
    "start_time": "2022-02-01T14:03:30.245Z"
   },
   {
    "duration": -536,
    "start_time": "2022-02-01T14:03:30.248Z"
   },
   {
    "duration": -538,
    "start_time": "2022-02-01T14:03:30.252Z"
   },
   {
    "duration": -540,
    "start_time": "2022-02-01T14:03:30.255Z"
   },
   {
    "duration": -549,
    "start_time": "2022-02-01T14:03:30.265Z"
   },
   {
    "duration": -551,
    "start_time": "2022-02-01T14:03:30.268Z"
   },
   {
    "duration": -553,
    "start_time": "2022-02-01T14:03:30.272Z"
   },
   {
    "duration": -555,
    "start_time": "2022-02-01T14:03:30.275Z"
   },
   {
    "duration": -557,
    "start_time": "2022-02-01T14:03:30.278Z"
   },
   {
    "duration": -559,
    "start_time": "2022-02-01T14:03:30.281Z"
   },
   {
    "duration": -565,
    "start_time": "2022-02-01T14:03:30.289Z"
   },
   {
    "duration": -568,
    "start_time": "2022-02-01T14:03:30.293Z"
   },
   {
    "duration": -570,
    "start_time": "2022-02-01T14:03:30.296Z"
   },
   {
    "duration": -571,
    "start_time": "2022-02-01T14:03:30.299Z"
   },
   {
    "duration": -573,
    "start_time": "2022-02-01T14:03:30.302Z"
   },
   {
    "duration": -581,
    "start_time": "2022-02-01T14:03:30.311Z"
   },
   {
    "duration": -584,
    "start_time": "2022-02-01T14:03:30.315Z"
   },
   {
    "duration": -586,
    "start_time": "2022-02-01T14:03:30.318Z"
   },
   {
    "duration": -587,
    "start_time": "2022-02-01T14:03:30.321Z"
   },
   {
    "duration": -589,
    "start_time": "2022-02-01T14:03:30.324Z"
   },
   {
    "duration": -594,
    "start_time": "2022-02-01T14:03:30.332Z"
   },
   {
    "duration": -597,
    "start_time": "2022-02-01T14:03:30.336Z"
   },
   {
    "duration": -598,
    "start_time": "2022-02-01T14:03:30.339Z"
   },
   {
    "duration": -601,
    "start_time": "2022-02-01T14:03:30.343Z"
   },
   {
    "duration": 345,
    "start_time": "2022-02-01T14:06:20.814Z"
   },
   {
    "duration": 718,
    "start_time": "2022-02-01T14:06:54.209Z"
   },
   {
    "duration": 191,
    "start_time": "2022-02-01T14:06:54.930Z"
   },
   {
    "duration": 25,
    "start_time": "2022-02-01T14:06:55.124Z"
   },
   {
    "duration": 50,
    "start_time": "2022-02-01T14:06:55.152Z"
   },
   {
    "duration": 6,
    "start_time": "2022-02-01T14:06:55.205Z"
   },
   {
    "duration": 32,
    "start_time": "2022-02-01T14:06:55.213Z"
   },
   {
    "duration": 27,
    "start_time": "2022-02-01T14:06:55.247Z"
   },
   {
    "duration": 37,
    "start_time": "2022-02-01T14:06:55.277Z"
   },
   {
    "duration": 24,
    "start_time": "2022-02-01T14:06:55.317Z"
   },
   {
    "duration": 50,
    "start_time": "2022-02-01T14:06:55.344Z"
   },
   {
    "duration": 108,
    "start_time": "2022-02-01T14:06:55.397Z"
   },
   {
    "duration": 109,
    "start_time": "2022-02-01T14:06:55.507Z"
   },
   {
    "duration": 86,
    "start_time": "2022-02-01T14:06:55.618Z"
   },
   {
    "duration": 446,
    "start_time": "2022-02-01T14:06:55.707Z"
   },
   {
    "duration": -564,
    "start_time": "2022-02-01T14:06:56.721Z"
   },
   {
    "duration": -566,
    "start_time": "2022-02-01T14:06:56.724Z"
   },
   {
    "duration": -568,
    "start_time": "2022-02-01T14:06:56.727Z"
   },
   {
    "duration": -570,
    "start_time": "2022-02-01T14:06:56.731Z"
   },
   {
    "duration": -572,
    "start_time": "2022-02-01T14:06:56.734Z"
   },
   {
    "duration": -575,
    "start_time": "2022-02-01T14:06:56.738Z"
   },
   {
    "duration": -576,
    "start_time": "2022-02-01T14:06:56.741Z"
   },
   {
    "duration": -578,
    "start_time": "2022-02-01T14:06:56.744Z"
   },
   {
    "duration": -580,
    "start_time": "2022-02-01T14:06:56.747Z"
   },
   {
    "duration": -581,
    "start_time": "2022-02-01T14:06:56.750Z"
   },
   {
    "duration": -583,
    "start_time": "2022-02-01T14:06:56.753Z"
   },
   {
    "duration": -585,
    "start_time": "2022-02-01T14:06:56.756Z"
   },
   {
    "duration": -587,
    "start_time": "2022-02-01T14:06:56.760Z"
   },
   {
    "duration": -589,
    "start_time": "2022-02-01T14:06:56.763Z"
   },
   {
    "duration": -591,
    "start_time": "2022-02-01T14:06:56.766Z"
   },
   {
    "duration": -593,
    "start_time": "2022-02-01T14:06:56.769Z"
   },
   {
    "duration": -595,
    "start_time": "2022-02-01T14:06:56.772Z"
   },
   {
    "duration": -597,
    "start_time": "2022-02-01T14:06:56.775Z"
   },
   {
    "duration": -598,
    "start_time": "2022-02-01T14:06:56.778Z"
   },
   {
    "duration": -608,
    "start_time": "2022-02-01T14:06:56.789Z"
   },
   {
    "duration": -611,
    "start_time": "2022-02-01T14:06:56.793Z"
   },
   {
    "duration": -613,
    "start_time": "2022-02-01T14:06:56.796Z"
   },
   {
    "duration": -615,
    "start_time": "2022-02-01T14:06:56.800Z"
   },
   {
    "duration": -617,
    "start_time": "2022-02-01T14:06:56.803Z"
   },
   {
    "duration": 738,
    "start_time": "2022-02-01T14:21:31.496Z"
   },
   {
    "duration": 180,
    "start_time": "2022-02-01T14:21:32.237Z"
   },
   {
    "duration": 25,
    "start_time": "2022-02-01T14:21:32.420Z"
   },
   {
    "duration": 47,
    "start_time": "2022-02-01T14:21:32.448Z"
   },
   {
    "duration": 9,
    "start_time": "2022-02-01T14:21:32.497Z"
   },
   {
    "duration": 43,
    "start_time": "2022-02-01T14:21:32.508Z"
   },
   {
    "duration": 17,
    "start_time": "2022-02-01T14:21:32.553Z"
   },
   {
    "duration": 40,
    "start_time": "2022-02-01T14:21:32.574Z"
   },
   {
    "duration": 35,
    "start_time": "2022-02-01T14:21:32.617Z"
   },
   {
    "duration": 40,
    "start_time": "2022-02-01T14:21:32.654Z"
   },
   {
    "duration": 173,
    "start_time": "2022-02-01T14:21:32.696Z"
   },
   {
    "duration": 198,
    "start_time": "2022-02-01T14:21:32.872Z"
   },
   {
    "duration": 130,
    "start_time": "2022-02-01T14:21:33.073Z"
   },
   {
    "duration": 593,
    "start_time": "2022-02-01T14:21:33.206Z"
   },
   {
    "duration": -548,
    "start_time": "2022-02-01T14:21:34.351Z"
   },
   {
    "duration": -552,
    "start_time": "2022-02-01T14:21:34.356Z"
   },
   {
    "duration": -555,
    "start_time": "2022-02-01T14:21:34.360Z"
   },
   {
    "duration": -558,
    "start_time": "2022-02-01T14:21:34.364Z"
   },
   {
    "duration": -559,
    "start_time": "2022-02-01T14:21:34.367Z"
   },
   {
    "duration": -565,
    "start_time": "2022-02-01T14:21:34.374Z"
   },
   {
    "duration": -569,
    "start_time": "2022-02-01T14:21:34.379Z"
   },
   {
    "duration": -570,
    "start_time": "2022-02-01T14:21:34.382Z"
   },
   {
    "duration": -572,
    "start_time": "2022-02-01T14:21:34.385Z"
   },
   {
    "duration": -573,
    "start_time": "2022-02-01T14:21:34.388Z"
   },
   {
    "duration": -575,
    "start_time": "2022-02-01T14:21:34.391Z"
   },
   {
    "duration": -577,
    "start_time": "2022-02-01T14:21:34.394Z"
   },
   {
    "duration": -579,
    "start_time": "2022-02-01T14:21:34.398Z"
   },
   {
    "duration": -581,
    "start_time": "2022-02-01T14:21:34.401Z"
   },
   {
    "duration": -587,
    "start_time": "2022-02-01T14:21:34.409Z"
   },
   {
    "duration": -591,
    "start_time": "2022-02-01T14:21:34.414Z"
   },
   {
    "duration": -592,
    "start_time": "2022-02-01T14:21:34.417Z"
   },
   {
    "duration": -594,
    "start_time": "2022-02-01T14:21:34.420Z"
   },
   {
    "duration": -597,
    "start_time": "2022-02-01T14:21:34.424Z"
   },
   {
    "duration": -598,
    "start_time": "2022-02-01T14:21:34.427Z"
   },
   {
    "duration": -599,
    "start_time": "2022-02-01T14:21:34.430Z"
   },
   {
    "duration": -607,
    "start_time": "2022-02-01T14:21:34.439Z"
   },
   {
    "duration": -608,
    "start_time": "2022-02-01T14:21:34.441Z"
   },
   {
    "duration": -611,
    "start_time": "2022-02-01T14:21:34.445Z"
   },
   {
    "duration": 599,
    "start_time": "2022-02-01T14:24:01.120Z"
   },
   {
    "duration": 258,
    "start_time": "2022-02-01T14:24:07.628Z"
   },
   {
    "duration": 71,
    "start_time": "2022-02-01T14:24:56.711Z"
   },
   {
    "duration": 74,
    "start_time": "2022-02-01T14:25:00.709Z"
   },
   {
    "duration": 352,
    "start_time": "2022-02-01T14:25:22.420Z"
   },
   {
    "duration": 74,
    "start_time": "2022-02-01T14:25:40.040Z"
   },
   {
    "duration": 4,
    "start_time": "2022-02-01T14:25:41.160Z"
   },
   {
    "duration": 857,
    "start_time": "2022-02-01T14:25:55.707Z"
   },
   {
    "duration": 186,
    "start_time": "2022-02-01T14:25:56.567Z"
   },
   {
    "duration": 30,
    "start_time": "2022-02-01T14:25:56.757Z"
   },
   {
    "duration": 37,
    "start_time": "2022-02-01T14:25:56.789Z"
   },
   {
    "duration": 6,
    "start_time": "2022-02-01T14:25:56.828Z"
   },
   {
    "duration": 27,
    "start_time": "2022-02-01T14:25:56.870Z"
   },
   {
    "duration": 6,
    "start_time": "2022-02-01T14:25:56.899Z"
   },
   {
    "duration": 88,
    "start_time": "2022-02-01T14:25:56.908Z"
   },
   {
    "duration": 77,
    "start_time": "2022-02-01T14:25:57.000Z"
   },
   {
    "duration": 31,
    "start_time": "2022-02-01T14:25:57.080Z"
   },
   {
    "duration": 196,
    "start_time": "2022-02-01T14:25:57.114Z"
   },
   {
    "duration": 356,
    "start_time": "2022-02-01T14:25:57.313Z"
   },
   {
    "duration": 154,
    "start_time": "2022-02-01T14:25:57.673Z"
   },
   {
    "duration": 100,
    "start_time": "2022-02-01T14:25:57.829Z"
   },
   {
    "duration": 5,
    "start_time": "2022-02-01T14:25:57.932Z"
   },
   {
    "duration": 7729,
    "start_time": "2022-02-01T14:25:57.940Z"
   },
   {
    "duration": -545,
    "start_time": "2022-02-01T14:26:06.217Z"
   },
   {
    "duration": -548,
    "start_time": "2022-02-01T14:26:06.221Z"
   },
   {
    "duration": -550,
    "start_time": "2022-02-01T14:26:06.225Z"
   },
   {
    "duration": -552,
    "start_time": "2022-02-01T14:26:06.229Z"
   },
   {
    "duration": -553,
    "start_time": "2022-02-01T14:26:06.232Z"
   },
   {
    "duration": -555,
    "start_time": "2022-02-01T14:26:06.235Z"
   },
   {
    "duration": -564,
    "start_time": "2022-02-01T14:26:06.245Z"
   },
   {
    "duration": -567,
    "start_time": "2022-02-01T14:26:06.250Z"
   },
   {
    "duration": -568,
    "start_time": "2022-02-01T14:26:06.253Z"
   },
   {
    "duration": -568,
    "start_time": "2022-02-01T14:26:06.255Z"
   },
   {
    "duration": -570,
    "start_time": "2022-02-01T14:26:06.258Z"
   },
   {
    "duration": -571,
    "start_time": "2022-02-01T14:26:06.261Z"
   },
   {
    "duration": -572,
    "start_time": "2022-02-01T14:26:06.264Z"
   },
   {
    "duration": -573,
    "start_time": "2022-02-01T14:26:06.267Z"
   },
   {
    "duration": -574,
    "start_time": "2022-02-01T14:26:06.270Z"
   },
   {
    "duration": -576,
    "start_time": "2022-02-01T14:26:06.273Z"
   },
   {
    "duration": -586,
    "start_time": "2022-02-01T14:26:06.285Z"
   },
   {
    "duration": -591,
    "start_time": "2022-02-01T14:26:06.292Z"
   },
   {
    "duration": -592,
    "start_time": "2022-02-01T14:26:06.295Z"
   },
   {
    "duration": -598,
    "start_time": "2022-02-01T14:26:06.302Z"
   },
   {
    "duration": -599,
    "start_time": "2022-02-01T14:26:06.305Z"
   },
   {
    "duration": -600,
    "start_time": "2022-02-01T14:26:06.308Z"
   },
   {
    "duration": 770,
    "start_time": "2022-02-01T14:27:41.864Z"
   },
   {
    "duration": 200,
    "start_time": "2022-02-01T14:27:42.637Z"
   },
   {
    "duration": 34,
    "start_time": "2022-02-01T14:27:42.840Z"
   },
   {
    "duration": 36,
    "start_time": "2022-02-01T14:27:42.877Z"
   },
   {
    "duration": 5,
    "start_time": "2022-02-01T14:27:42.915Z"
   },
   {
    "duration": 62,
    "start_time": "2022-02-01T14:27:42.922Z"
   },
   {
    "duration": 5,
    "start_time": "2022-02-01T14:27:42.987Z"
   },
   {
    "duration": 39,
    "start_time": "2022-02-01T14:27:42.996Z"
   },
   {
    "duration": 52,
    "start_time": "2022-02-01T14:27:43.038Z"
   },
   {
    "duration": 34,
    "start_time": "2022-02-01T14:27:43.093Z"
   },
   {
    "duration": 124,
    "start_time": "2022-02-01T14:27:43.130Z"
   },
   {
    "duration": 132,
    "start_time": "2022-02-01T14:27:43.257Z"
   },
   {
    "duration": 92,
    "start_time": "2022-02-01T14:27:43.391Z"
   },
   {
    "duration": 70,
    "start_time": "2022-02-01T14:27:43.485Z"
   },
   {
    "duration": 7731,
    "start_time": "2022-02-01T14:27:43.570Z"
   },
   {
    "duration": -551,
    "start_time": "2022-02-01T14:27:51.856Z"
   },
   {
    "duration": -554,
    "start_time": "2022-02-01T14:27:51.861Z"
   },
   {
    "duration": -556,
    "start_time": "2022-02-01T14:27:51.864Z"
   },
   {
    "duration": -558,
    "start_time": "2022-02-01T14:27:51.868Z"
   },
   {
    "duration": -572,
    "start_time": "2022-02-01T14:27:51.883Z"
   },
   {
    "duration": -573,
    "start_time": "2022-02-01T14:27:51.886Z"
   },
   {
    "duration": -580,
    "start_time": "2022-02-01T14:27:51.894Z"
   },
   {
    "duration": -589,
    "start_time": "2022-02-01T14:27:51.904Z"
   },
   {
    "duration": -596,
    "start_time": "2022-02-01T14:27:51.913Z"
   },
   {
    "duration": -604,
    "start_time": "2022-02-01T14:27:51.922Z"
   },
   {
    "duration": -611,
    "start_time": "2022-02-01T14:27:51.930Z"
   },
   {
    "duration": -615,
    "start_time": "2022-02-01T14:27:51.936Z"
   },
   {
    "duration": -621,
    "start_time": "2022-02-01T14:27:51.943Z"
   },
   {
    "duration": -631,
    "start_time": "2022-02-01T14:27:51.954Z"
   },
   {
    "duration": -633,
    "start_time": "2022-02-01T14:27:51.958Z"
   },
   {
    "duration": -642,
    "start_time": "2022-02-01T14:27:51.968Z"
   },
   {
    "duration": -649,
    "start_time": "2022-02-01T14:27:51.977Z"
   },
   {
    "duration": -651,
    "start_time": "2022-02-01T14:27:51.980Z"
   },
   {
    "duration": -652,
    "start_time": "2022-02-01T14:27:51.983Z"
   },
   {
    "duration": -653,
    "start_time": "2022-02-01T14:27:51.986Z"
   },
   {
    "duration": -655,
    "start_time": "2022-02-01T14:27:51.989Z"
   },
   {
    "duration": -657,
    "start_time": "2022-02-01T14:27:51.992Z"
   },
   {
    "duration": -659,
    "start_time": "2022-02-01T14:27:51.995Z"
   },
   {
    "duration": 755,
    "start_time": "2022-02-01T14:28:50.888Z"
   },
   {
    "duration": 195,
    "start_time": "2022-02-01T14:28:51.646Z"
   },
   {
    "duration": 36,
    "start_time": "2022-02-01T14:28:51.844Z"
   },
   {
    "duration": 48,
    "start_time": "2022-02-01T14:28:51.883Z"
   },
   {
    "duration": 5,
    "start_time": "2022-02-01T14:28:51.934Z"
   },
   {
    "duration": 54,
    "start_time": "2022-02-01T14:28:51.942Z"
   },
   {
    "duration": 10,
    "start_time": "2022-02-01T14:28:51.998Z"
   },
   {
    "duration": 39,
    "start_time": "2022-02-01T14:28:52.011Z"
   },
   {
    "duration": 39,
    "start_time": "2022-02-01T14:28:52.053Z"
   },
   {
    "duration": 30,
    "start_time": "2022-02-01T14:28:52.094Z"
   },
   {
    "duration": 113,
    "start_time": "2022-02-01T14:28:52.127Z"
   },
   {
    "duration": 118,
    "start_time": "2022-02-01T14:28:52.242Z"
   },
   {
    "duration": 85,
    "start_time": "2022-02-01T14:28:52.362Z"
   },
   {
    "duration": 84,
    "start_time": "2022-02-01T14:28:52.449Z"
   },
   {
    "duration": 5,
    "start_time": "2022-02-01T14:28:52.536Z"
   },
   {
    "duration": 7005,
    "start_time": "2022-02-01T14:28:52.544Z"
   },
   {
    "duration": -625,
    "start_time": "2022-02-01T14:29:00.179Z"
   },
   {
    "duration": -628,
    "start_time": "2022-02-01T14:29:00.185Z"
   },
   {
    "duration": -630,
    "start_time": "2022-02-01T14:29:00.189Z"
   },
   {
    "duration": -640,
    "start_time": "2022-02-01T14:29:00.201Z"
   },
   {
    "duration": -651,
    "start_time": "2022-02-01T14:29:00.214Z"
   },
   {
    "duration": -662,
    "start_time": "2022-02-01T14:29:00.228Z"
   },
   {
    "duration": -675,
    "start_time": "2022-02-01T14:29:00.243Z"
   },
   {
    "duration": -687,
    "start_time": "2022-02-01T14:29:00.257Z"
   },
   {
    "duration": -699,
    "start_time": "2022-02-01T14:29:00.272Z"
   },
   {
    "duration": -713,
    "start_time": "2022-02-01T14:29:00.288Z"
   },
   {
    "duration": -720,
    "start_time": "2022-02-01T14:29:00.297Z"
   },
   {
    "duration": -721,
    "start_time": "2022-02-01T14:29:00.300Z"
   },
   {
    "duration": -723,
    "start_time": "2022-02-01T14:29:00.305Z"
   },
   {
    "duration": -724,
    "start_time": "2022-02-01T14:29:00.308Z"
   },
   {
    "duration": -725,
    "start_time": "2022-02-01T14:29:00.311Z"
   },
   {
    "duration": -727,
    "start_time": "2022-02-01T14:29:00.315Z"
   },
   {
    "duration": -728,
    "start_time": "2022-02-01T14:29:00.318Z"
   },
   {
    "duration": -728,
    "start_time": "2022-02-01T14:29:00.321Z"
   },
   {
    "duration": -729,
    "start_time": "2022-02-01T14:29:00.324Z"
   },
   {
    "duration": -730,
    "start_time": "2022-02-01T14:29:00.327Z"
   },
   {
    "duration": -731,
    "start_time": "2022-02-01T14:29:00.330Z"
   },
   {
    "duration": -733,
    "start_time": "2022-02-01T14:29:00.334Z"
   },
   {
    "duration": 779,
    "start_time": "2022-02-01T14:32:10.057Z"
   },
   {
    "duration": 231,
    "start_time": "2022-02-01T14:32:10.838Z"
   },
   {
    "duration": 30,
    "start_time": "2022-02-01T14:32:11.073Z"
   },
   {
    "duration": 35,
    "start_time": "2022-02-01T14:32:11.107Z"
   },
   {
    "duration": 5,
    "start_time": "2022-02-01T14:32:11.170Z"
   },
   {
    "duration": 27,
    "start_time": "2022-02-01T14:32:11.178Z"
   },
   {
    "duration": 6,
    "start_time": "2022-02-01T14:32:11.208Z"
   },
   {
    "duration": 59,
    "start_time": "2022-02-01T14:32:11.219Z"
   },
   {
    "duration": 22,
    "start_time": "2022-02-01T14:32:11.281Z"
   },
   {
    "duration": 31,
    "start_time": "2022-02-01T14:32:11.306Z"
   },
   {
    "duration": 109,
    "start_time": "2022-02-01T14:32:11.340Z"
   },
   {
    "duration": 123,
    "start_time": "2022-02-01T14:32:11.451Z"
   },
   {
    "duration": 94,
    "start_time": "2022-02-01T14:32:11.577Z"
   },
   {
    "duration": 72,
    "start_time": "2022-02-01T14:32:11.675Z"
   },
   {
    "duration": 20,
    "start_time": "2022-02-01T14:32:11.749Z"
   },
   {
    "duration": 7474,
    "start_time": "2022-02-01T14:32:11.773Z"
   },
   {
    "duration": -547,
    "start_time": "2022-02-01T14:32:19.798Z"
   },
   {
    "duration": -548,
    "start_time": "2022-02-01T14:32:19.801Z"
   },
   {
    "duration": -551,
    "start_time": "2022-02-01T14:32:19.805Z"
   },
   {
    "duration": -553,
    "start_time": "2022-02-01T14:32:19.809Z"
   },
   {
    "duration": -555,
    "start_time": "2022-02-01T14:32:19.812Z"
   },
   {
    "duration": -557,
    "start_time": "2022-02-01T14:32:19.815Z"
   },
   {
    "duration": -559,
    "start_time": "2022-02-01T14:32:19.819Z"
   },
   {
    "duration": -561,
    "start_time": "2022-02-01T14:32:19.822Z"
   },
   {
    "duration": -562,
    "start_time": "2022-02-01T14:32:19.824Z"
   },
   {
    "duration": -569,
    "start_time": "2022-02-01T14:32:19.833Z"
   },
   {
    "duration": -571,
    "start_time": "2022-02-01T14:32:19.836Z"
   },
   {
    "duration": -574,
    "start_time": "2022-02-01T14:32:19.840Z"
   },
   {
    "duration": -576,
    "start_time": "2022-02-01T14:32:19.844Z"
   },
   {
    "duration": -577,
    "start_time": "2022-02-01T14:32:19.846Z"
   },
   {
    "duration": -580,
    "start_time": "2022-02-01T14:32:19.850Z"
   },
   {
    "duration": -580,
    "start_time": "2022-02-01T14:32:19.852Z"
   },
   {
    "duration": -582,
    "start_time": "2022-02-01T14:32:19.855Z"
   },
   {
    "duration": -584,
    "start_time": "2022-02-01T14:32:19.858Z"
   },
   {
    "duration": -586,
    "start_time": "2022-02-01T14:32:19.861Z"
   },
   {
    "duration": -587,
    "start_time": "2022-02-01T14:32:19.864Z"
   },
   {
    "duration": -589,
    "start_time": "2022-02-01T14:32:19.867Z"
   },
   {
    "duration": -591,
    "start_time": "2022-02-01T14:32:19.870Z"
   },
   {
    "duration": 944,
    "start_time": "2022-02-01T14:33:10.959Z"
   },
   {
    "duration": 194,
    "start_time": "2022-02-01T14:33:11.906Z"
   },
   {
    "duration": 27,
    "start_time": "2022-02-01T14:33:12.103Z"
   },
   {
    "duration": 51,
    "start_time": "2022-02-01T14:33:12.133Z"
   },
   {
    "duration": 6,
    "start_time": "2022-02-01T14:33:12.187Z"
   },
   {
    "duration": 36,
    "start_time": "2022-02-01T14:33:12.196Z"
   },
   {
    "duration": 35,
    "start_time": "2022-02-01T14:33:12.235Z"
   },
   {
    "duration": 29,
    "start_time": "2022-02-01T14:33:12.274Z"
   },
   {
    "duration": 24,
    "start_time": "2022-02-01T14:33:12.307Z"
   },
   {
    "duration": 61,
    "start_time": "2022-02-01T14:33:12.333Z"
   },
   {
    "duration": 109,
    "start_time": "2022-02-01T14:33:12.396Z"
   },
   {
    "duration": 120,
    "start_time": "2022-02-01T14:33:12.508Z"
   },
   {
    "duration": 86,
    "start_time": "2022-02-01T14:33:12.631Z"
   },
   {
    "duration": 79,
    "start_time": "2022-02-01T14:33:12.720Z"
   },
   {
    "duration": 4,
    "start_time": "2022-02-01T14:33:12.802Z"
   },
   {
    "duration": 7204,
    "start_time": "2022-02-01T14:33:12.808Z"
   },
   {
    "duration": -552,
    "start_time": "2022-02-01T14:33:20.567Z"
   },
   {
    "duration": -561,
    "start_time": "2022-02-01T14:33:20.578Z"
   },
   {
    "duration": -568,
    "start_time": "2022-02-01T14:33:20.586Z"
   },
   {
    "duration": -569,
    "start_time": "2022-02-01T14:33:20.589Z"
   },
   {
    "duration": -575,
    "start_time": "2022-02-01T14:33:20.596Z"
   },
   {
    "duration": -582,
    "start_time": "2022-02-01T14:33:20.604Z"
   },
   {
    "duration": -590,
    "start_time": "2022-02-01T14:33:20.613Z"
   },
   {
    "duration": -591,
    "start_time": "2022-02-01T14:33:20.616Z"
   },
   {
    "duration": -598,
    "start_time": "2022-02-01T14:33:20.624Z"
   },
   {
    "duration": -604,
    "start_time": "2022-02-01T14:33:20.631Z"
   },
   {
    "duration": -610,
    "start_time": "2022-02-01T14:33:20.639Z"
   },
   {
    "duration": -611,
    "start_time": "2022-02-01T14:33:20.642Z"
   },
   {
    "duration": -614,
    "start_time": "2022-02-01T14:33:20.646Z"
   },
   {
    "duration": -616,
    "start_time": "2022-02-01T14:33:20.649Z"
   },
   {
    "duration": -619,
    "start_time": "2022-02-01T14:33:20.653Z"
   },
   {
    "duration": -619,
    "start_time": "2022-02-01T14:33:20.655Z"
   },
   {
    "duration": -622,
    "start_time": "2022-02-01T14:33:20.659Z"
   },
   {
    "duration": -624,
    "start_time": "2022-02-01T14:33:20.662Z"
   },
   {
    "duration": -626,
    "start_time": "2022-02-01T14:33:20.666Z"
   },
   {
    "duration": -627,
    "start_time": "2022-02-01T14:33:20.669Z"
   },
   {
    "duration": -629,
    "start_time": "2022-02-01T14:33:20.672Z"
   },
   {
    "duration": -630,
    "start_time": "2022-02-01T14:33:20.675Z"
   },
   {
    "duration": 760,
    "start_time": "2022-02-01T14:34:47.358Z"
   },
   {
    "duration": 186,
    "start_time": "2022-02-01T14:34:48.120Z"
   },
   {
    "duration": 25,
    "start_time": "2022-02-01T14:34:48.309Z"
   },
   {
    "duration": 50,
    "start_time": "2022-02-01T14:34:48.337Z"
   },
   {
    "duration": 5,
    "start_time": "2022-02-01T14:34:48.390Z"
   },
   {
    "duration": 28,
    "start_time": "2022-02-01T14:34:48.398Z"
   },
   {
    "duration": 41,
    "start_time": "2022-02-01T14:34:48.428Z"
   },
   {
    "duration": 103,
    "start_time": "2022-02-01T14:34:48.475Z"
   },
   {
    "duration": 87,
    "start_time": "2022-02-01T14:34:48.582Z"
   },
   {
    "duration": 102,
    "start_time": "2022-02-01T14:34:48.673Z"
   },
   {
    "duration": 192,
    "start_time": "2022-02-01T14:34:48.778Z"
   },
   {
    "duration": 202,
    "start_time": "2022-02-01T14:34:48.973Z"
   },
   {
    "duration": 135,
    "start_time": "2022-02-01T14:34:49.177Z"
   },
   {
    "duration": 107,
    "start_time": "2022-02-01T14:34:49.314Z"
   },
   {
    "duration": 4,
    "start_time": "2022-02-01T14:34:49.424Z"
   },
   {
    "duration": 28,
    "start_time": "2022-02-01T14:34:49.430Z"
   },
   {
    "duration": 7606,
    "start_time": "2022-02-01T14:34:49.461Z"
   },
   {
    "duration": -661,
    "start_time": "2022-02-01T14:34:57.732Z"
   },
   {
    "duration": -663,
    "start_time": "2022-02-01T14:34:57.736Z"
   },
   {
    "duration": -664,
    "start_time": "2022-02-01T14:34:57.739Z"
   },
   {
    "duration": -665,
    "start_time": "2022-02-01T14:34:57.742Z"
   },
   {
    "duration": -668,
    "start_time": "2022-02-01T14:34:57.746Z"
   },
   {
    "duration": -668,
    "start_time": "2022-02-01T14:34:57.748Z"
   },
   {
    "duration": -675,
    "start_time": "2022-02-01T14:34:57.757Z"
   },
   {
    "duration": -678,
    "start_time": "2022-02-01T14:34:57.762Z"
   },
   {
    "duration": -680,
    "start_time": "2022-02-01T14:34:57.765Z"
   },
   {
    "duration": -682,
    "start_time": "2022-02-01T14:34:57.769Z"
   },
   {
    "duration": -683,
    "start_time": "2022-02-01T14:34:57.772Z"
   },
   {
    "duration": -685,
    "start_time": "2022-02-01T14:34:57.775Z"
   },
   {
    "duration": -686,
    "start_time": "2022-02-01T14:34:57.778Z"
   },
   {
    "duration": -688,
    "start_time": "2022-02-01T14:34:57.782Z"
   },
   {
    "duration": -690,
    "start_time": "2022-02-01T14:34:57.785Z"
   },
   {
    "duration": -691,
    "start_time": "2022-02-01T14:34:57.788Z"
   },
   {
    "duration": -693,
    "start_time": "2022-02-01T14:34:57.792Z"
   },
   {
    "duration": -694,
    "start_time": "2022-02-01T14:34:57.795Z"
   },
   {
    "duration": -696,
    "start_time": "2022-02-01T14:34:57.798Z"
   },
   {
    "duration": -697,
    "start_time": "2022-02-01T14:34:57.801Z"
   },
   {
    "duration": -699,
    "start_time": "2022-02-01T14:34:57.805Z"
   },
   {
    "duration": 769,
    "start_time": "2022-02-01T14:35:16.840Z"
   },
   {
    "duration": 193,
    "start_time": "2022-02-01T14:35:17.611Z"
   },
   {
    "duration": 26,
    "start_time": "2022-02-01T14:35:17.807Z"
   },
   {
    "duration": 55,
    "start_time": "2022-02-01T14:35:17.836Z"
   },
   {
    "duration": 12,
    "start_time": "2022-02-01T14:35:17.894Z"
   },
   {
    "duration": 45,
    "start_time": "2022-02-01T14:35:17.909Z"
   },
   {
    "duration": 24,
    "start_time": "2022-02-01T14:35:17.957Z"
   },
   {
    "duration": 44,
    "start_time": "2022-02-01T14:35:17.985Z"
   },
   {
    "duration": 34,
    "start_time": "2022-02-01T14:35:18.032Z"
   },
   {
    "duration": 34,
    "start_time": "2022-02-01T14:35:18.069Z"
   },
   {
    "duration": 96,
    "start_time": "2022-02-01T14:35:18.105Z"
   },
   {
    "duration": 120,
    "start_time": "2022-02-01T14:35:18.203Z"
   },
   {
    "duration": 90,
    "start_time": "2022-02-01T14:35:18.325Z"
   },
   {
    "duration": 86,
    "start_time": "2022-02-01T14:35:18.418Z"
   },
   {
    "duration": 4,
    "start_time": "2022-02-01T14:35:18.507Z"
   },
   {
    "duration": 31,
    "start_time": "2022-02-01T14:35:18.513Z"
   },
   {
    "duration": 24,
    "start_time": "2022-02-01T14:35:18.546Z"
   },
   {
    "duration": 34,
    "start_time": "2022-02-01T14:35:18.573Z"
   },
   {
    "duration": 374,
    "start_time": "2022-02-01T14:35:18.610Z"
   },
   {
    "duration": -823,
    "start_time": "2022-02-01T14:35:19.811Z"
   },
   {
    "duration": -824,
    "start_time": "2022-02-01T14:35:19.814Z"
   },
   {
    "duration": -825,
    "start_time": "2022-02-01T14:35:19.817Z"
   },
   {
    "duration": -825,
    "start_time": "2022-02-01T14:35:19.820Z"
   },
   {
    "duration": -827,
    "start_time": "2022-02-01T14:35:19.824Z"
   },
   {
    "duration": -829,
    "start_time": "2022-02-01T14:35:19.827Z"
   },
   {
    "duration": -836,
    "start_time": "2022-02-01T14:35:19.836Z"
   },
   {
    "duration": -837,
    "start_time": "2022-02-01T14:35:19.839Z"
   },
   {
    "duration": -838,
    "start_time": "2022-02-01T14:35:19.842Z"
   },
   {
    "duration": -839,
    "start_time": "2022-02-01T14:35:19.845Z"
   },
   {
    "duration": -840,
    "start_time": "2022-02-01T14:35:19.848Z"
   },
   {
    "duration": -842,
    "start_time": "2022-02-01T14:35:19.851Z"
   },
   {
    "duration": -843,
    "start_time": "2022-02-01T14:35:19.854Z"
   },
   {
    "duration": -845,
    "start_time": "2022-02-01T14:35:19.857Z"
   },
   {
    "duration": -792,
    "start_time": "2022-02-01T14:35:19.861Z"
   },
   {
    "duration": -793,
    "start_time": "2022-02-01T14:35:19.864Z"
   },
   {
    "duration": -795,
    "start_time": "2022-02-01T14:35:19.868Z"
   },
   {
    "duration": -796,
    "start_time": "2022-02-01T14:35:19.870Z"
   },
   {
    "duration": -798,
    "start_time": "2022-02-01T14:35:19.873Z"
   },
   {
    "duration": 743,
    "start_time": "2022-02-01T14:37:28.797Z"
   },
   {
    "duration": 189,
    "start_time": "2022-02-01T14:37:29.543Z"
   },
   {
    "duration": 41,
    "start_time": "2022-02-01T14:37:29.735Z"
   },
   {
    "duration": 35,
    "start_time": "2022-02-01T14:37:29.779Z"
   },
   {
    "duration": 5,
    "start_time": "2022-02-01T14:37:29.816Z"
   },
   {
    "duration": 61,
    "start_time": "2022-02-01T14:37:29.823Z"
   },
   {
    "duration": 5,
    "start_time": "2022-02-01T14:37:29.886Z"
   },
   {
    "duration": 30,
    "start_time": "2022-02-01T14:37:29.895Z"
   },
   {
    "duration": 60,
    "start_time": "2022-02-01T14:37:29.929Z"
   },
   {
    "duration": 38,
    "start_time": "2022-02-01T14:37:29.991Z"
   },
   {
    "duration": 120,
    "start_time": "2022-02-01T14:37:30.031Z"
   },
   {
    "duration": 116,
    "start_time": "2022-02-01T14:37:30.153Z"
   },
   {
    "duration": 78,
    "start_time": "2022-02-01T14:37:30.272Z"
   },
   {
    "duration": 81,
    "start_time": "2022-02-01T14:37:30.353Z"
   },
   {
    "duration": 5,
    "start_time": "2022-02-01T14:37:30.436Z"
   },
   {
    "duration": 35,
    "start_time": "2022-02-01T14:37:30.443Z"
   },
   {
    "duration": 10,
    "start_time": "2022-02-01T14:37:30.481Z"
   },
   {
    "duration": 20,
    "start_time": "2022-02-01T14:37:30.493Z"
   },
   {
    "duration": 71,
    "start_time": "2022-02-01T14:37:30.516Z"
   },
   {
    "duration": 6,
    "start_time": "2022-02-01T14:37:30.590Z"
   },
   {
    "duration": 7074,
    "start_time": "2022-02-01T14:37:30.599Z"
   },
   {
    "duration": -613,
    "start_time": "2022-02-01T14:37:38.289Z"
   },
   {
    "duration": -615,
    "start_time": "2022-02-01T14:37:38.293Z"
   },
   {
    "duration": -617,
    "start_time": "2022-02-01T14:37:38.296Z"
   },
   {
    "duration": -618,
    "start_time": "2022-02-01T14:37:38.299Z"
   },
   {
    "duration": -622,
    "start_time": "2022-02-01T14:37:38.304Z"
   },
   {
    "duration": -624,
    "start_time": "2022-02-01T14:37:38.308Z"
   },
   {
    "duration": -628,
    "start_time": "2022-02-01T14:37:38.313Z"
   },
   {
    "duration": -630,
    "start_time": "2022-02-01T14:37:38.316Z"
   },
   {
    "duration": -631,
    "start_time": "2022-02-01T14:37:38.319Z"
   },
   {
    "duration": -632,
    "start_time": "2022-02-01T14:37:38.322Z"
   },
   {
    "duration": -633,
    "start_time": "2022-02-01T14:37:38.325Z"
   },
   {
    "duration": -640,
    "start_time": "2022-02-01T14:37:38.333Z"
   },
   {
    "duration": -641,
    "start_time": "2022-02-01T14:37:38.336Z"
   },
   {
    "duration": -643,
    "start_time": "2022-02-01T14:37:38.339Z"
   },
   {
    "duration": -644,
    "start_time": "2022-02-01T14:37:38.342Z"
   },
   {
    "duration": -647,
    "start_time": "2022-02-01T14:37:38.346Z"
   },
   {
    "duration": -647,
    "start_time": "2022-02-01T14:37:38.348Z"
   },
   {
    "duration": 981,
    "start_time": "2022-02-01T14:38:30.641Z"
   },
   {
    "duration": 266,
    "start_time": "2022-02-01T14:38:31.625Z"
   },
   {
    "duration": 76,
    "start_time": "2022-02-01T14:38:31.894Z"
   },
   {
    "duration": 36,
    "start_time": "2022-02-01T14:38:31.973Z"
   },
   {
    "duration": 59,
    "start_time": "2022-02-01T14:38:32.012Z"
   },
   {
    "duration": 29,
    "start_time": "2022-02-01T14:38:32.073Z"
   },
   {
    "duration": 6,
    "start_time": "2022-02-01T14:38:32.105Z"
   },
   {
    "duration": 85,
    "start_time": "2022-02-01T14:38:32.114Z"
   },
   {
    "duration": 78,
    "start_time": "2022-02-01T14:38:32.202Z"
   },
   {
    "duration": 100,
    "start_time": "2022-02-01T14:38:32.283Z"
   },
   {
    "duration": 220,
    "start_time": "2022-02-01T14:38:32.386Z"
   },
   {
    "duration": 141,
    "start_time": "2022-02-01T14:38:32.609Z"
   },
   {
    "duration": 108,
    "start_time": "2022-02-01T14:38:32.753Z"
   },
   {
    "duration": 121,
    "start_time": "2022-02-01T14:38:32.870Z"
   },
   {
    "duration": 5,
    "start_time": "2022-02-01T14:38:32.994Z"
   },
   {
    "duration": 18,
    "start_time": "2022-02-01T14:38:33.002Z"
   },
   {
    "duration": 9,
    "start_time": "2022-02-01T14:38:33.022Z"
   },
   {
    "duration": 41,
    "start_time": "2022-02-01T14:38:33.033Z"
   },
   {
    "duration": 45,
    "start_time": "2022-02-01T14:38:33.077Z"
   },
   {
    "duration": 5,
    "start_time": "2022-02-01T14:38:33.124Z"
   },
   {
    "duration": 47,
    "start_time": "2022-02-01T14:38:33.131Z"
   },
   {
    "duration": 18,
    "start_time": "2022-02-01T14:38:33.180Z"
   },
   {
    "duration": 19,
    "start_time": "2022-02-01T14:38:33.202Z"
   },
   {
    "duration": 47,
    "start_time": "2022-02-01T14:38:33.223Z"
   },
   {
    "duration": 21,
    "start_time": "2022-02-01T14:38:33.273Z"
   },
   {
    "duration": 19,
    "start_time": "2022-02-01T14:38:33.297Z"
   },
   {
    "duration": 369,
    "start_time": "2022-02-01T14:38:33.318Z"
   },
   {
    "duration": -538,
    "start_time": "2022-02-01T14:38:34.228Z"
   },
   {
    "duration": -547,
    "start_time": "2022-02-01T14:38:34.238Z"
   },
   {
    "duration": -550,
    "start_time": "2022-02-01T14:38:34.242Z"
   },
   {
    "duration": -551,
    "start_time": "2022-02-01T14:38:34.245Z"
   },
   {
    "duration": -553,
    "start_time": "2022-02-01T14:38:34.248Z"
   },
   {
    "duration": -555,
    "start_time": "2022-02-01T14:38:34.251Z"
   },
   {
    "duration": -556,
    "start_time": "2022-02-01T14:38:34.254Z"
   },
   {
    "duration": -563,
    "start_time": "2022-02-01T14:38:34.262Z"
   },
   {
    "duration": -569,
    "start_time": "2022-02-01T14:38:34.269Z"
   },
   {
    "duration": -575,
    "start_time": "2022-02-01T14:38:34.277Z"
   },
   {
    "duration": -577,
    "start_time": "2022-02-01T14:38:34.280Z"
   },
   {
    "duration": 793,
    "start_time": "2022-02-01T14:41:39.442Z"
   },
   {
    "duration": 187,
    "start_time": "2022-02-01T14:41:40.238Z"
   },
   {
    "duration": 24,
    "start_time": "2022-02-01T14:41:40.428Z"
   },
   {
    "duration": 43,
    "start_time": "2022-02-01T14:41:40.455Z"
   },
   {
    "duration": 5,
    "start_time": "2022-02-01T14:41:40.500Z"
   },
   {
    "duration": 63,
    "start_time": "2022-02-01T14:41:40.507Z"
   },
   {
    "duration": 6,
    "start_time": "2022-02-01T14:41:40.572Z"
   },
   {
    "duration": 32,
    "start_time": "2022-02-01T14:41:40.582Z"
   },
   {
    "duration": 56,
    "start_time": "2022-02-01T14:41:40.617Z"
   },
   {
    "duration": 29,
    "start_time": "2022-02-01T14:41:40.675Z"
   },
   {
    "duration": 104,
    "start_time": "2022-02-01T14:41:40.706Z"
   },
   {
    "duration": 118,
    "start_time": "2022-02-01T14:41:40.812Z"
   },
   {
    "duration": 91,
    "start_time": "2022-02-01T14:41:40.933Z"
   },
   {
    "duration": 84,
    "start_time": "2022-02-01T14:41:41.026Z"
   },
   {
    "duration": 4,
    "start_time": "2022-02-01T14:41:41.113Z"
   },
   {
    "duration": 17,
    "start_time": "2022-02-01T14:41:41.119Z"
   },
   {
    "duration": 31,
    "start_time": "2022-02-01T14:41:41.139Z"
   },
   {
    "duration": 17,
    "start_time": "2022-02-01T14:41:41.173Z"
   },
   {
    "duration": 47,
    "start_time": "2022-02-01T14:41:41.192Z"
   },
   {
    "duration": 29,
    "start_time": "2022-02-01T14:41:41.241Z"
   },
   {
    "duration": 25,
    "start_time": "2022-02-01T14:41:41.273Z"
   },
   {
    "duration": 19,
    "start_time": "2022-02-01T14:41:41.301Z"
   },
   {
    "duration": 58,
    "start_time": "2022-02-01T14:41:41.326Z"
   },
   {
    "duration": 27,
    "start_time": "2022-02-01T14:41:41.387Z"
   },
   {
    "duration": 55,
    "start_time": "2022-02-01T14:41:41.417Z"
   },
   {
    "duration": 27,
    "start_time": "2022-02-01T14:41:41.475Z"
   },
   {
    "duration": 446,
    "start_time": "2022-02-01T14:41:41.505Z"
   },
   {
    "duration": -566,
    "start_time": "2022-02-01T14:41:42.520Z"
   },
   {
    "duration": -571,
    "start_time": "2022-02-01T14:41:42.527Z"
   },
   {
    "duration": -578,
    "start_time": "2022-02-01T14:41:42.535Z"
   },
   {
    "duration": -579,
    "start_time": "2022-02-01T14:41:42.538Z"
   },
   {
    "duration": -585,
    "start_time": "2022-02-01T14:41:42.546Z"
   },
   {
    "duration": -592,
    "start_time": "2022-02-01T14:41:42.554Z"
   },
   {
    "duration": -598,
    "start_time": "2022-02-01T14:41:42.562Z"
   },
   {
    "duration": -607,
    "start_time": "2022-02-01T14:41:42.572Z"
   },
   {
    "duration": -625,
    "start_time": "2022-02-01T14:41:42.592Z"
   },
   {
    "duration": -626,
    "start_time": "2022-02-01T14:41:42.595Z"
   },
   {
    "duration": -627,
    "start_time": "2022-02-01T14:41:42.598Z"
   },
   {
    "duration": 761,
    "start_time": "2022-02-01T14:43:50.508Z"
   },
   {
    "duration": 298,
    "start_time": "2022-02-01T14:43:51.272Z"
   },
   {
    "duration": 26,
    "start_time": "2022-02-01T14:43:51.573Z"
   },
   {
    "duration": 79,
    "start_time": "2022-02-01T14:43:51.603Z"
   },
   {
    "duration": 6,
    "start_time": "2022-02-01T14:43:51.685Z"
   },
   {
    "duration": 80,
    "start_time": "2022-02-01T14:43:51.696Z"
   },
   {
    "duration": 9,
    "start_time": "2022-02-01T14:43:51.779Z"
   },
   {
    "duration": 80,
    "start_time": "2022-02-01T14:43:51.791Z"
   },
   {
    "duration": 28,
    "start_time": "2022-02-01T14:43:51.875Z"
   },
   {
    "duration": 83,
    "start_time": "2022-02-01T14:43:51.906Z"
   },
   {
    "duration": 192,
    "start_time": "2022-02-01T14:43:51.991Z"
   },
   {
    "duration": 284,
    "start_time": "2022-02-01T14:43:52.185Z"
   },
   {
    "duration": 160,
    "start_time": "2022-02-01T14:43:52.472Z"
   },
   {
    "duration": 121,
    "start_time": "2022-02-01T14:43:52.634Z"
   },
   {
    "duration": 5,
    "start_time": "2022-02-01T14:43:52.757Z"
   },
   {
    "duration": 22,
    "start_time": "2022-02-01T14:43:52.765Z"
   },
   {
    "duration": 16,
    "start_time": "2022-02-01T14:43:52.790Z"
   },
   {
    "duration": 26,
    "start_time": "2022-02-01T14:43:52.808Z"
   },
   {
    "duration": 79,
    "start_time": "2022-02-01T14:43:52.836Z"
   },
   {
    "duration": 6,
    "start_time": "2022-02-01T14:43:52.918Z"
   },
   {
    "duration": 48,
    "start_time": "2022-02-01T14:43:52.926Z"
   },
   {
    "duration": 18,
    "start_time": "2022-02-01T14:43:52.976Z"
   },
   {
    "duration": 23,
    "start_time": "2022-02-01T14:43:52.997Z"
   },
   {
    "duration": 56,
    "start_time": "2022-02-01T14:43:53.022Z"
   },
   {
    "duration": 29,
    "start_time": "2022-02-01T14:43:53.081Z"
   },
   {
    "duration": 18,
    "start_time": "2022-02-01T14:43:53.113Z"
   },
   {
    "duration": 46,
    "start_time": "2022-02-01T14:43:53.137Z"
   },
   {
    "duration": 28,
    "start_time": "2022-02-01T14:43:53.186Z"
   },
   {
    "duration": 55,
    "start_time": "2022-02-01T14:43:53.216Z"
   },
   {
    "duration": 5,
    "start_time": "2022-02-01T14:43:53.274Z"
   },
   {
    "duration": 35,
    "start_time": "2022-02-01T14:43:53.282Z"
   },
   {
    "duration": 18,
    "start_time": "2022-02-01T14:43:53.319Z"
   },
   {
    "duration": 49,
    "start_time": "2022-02-01T14:43:53.340Z"
   },
   {
    "duration": 18,
    "start_time": "2022-02-01T14:43:53.391Z"
   },
   {
    "duration": 14,
    "start_time": "2022-02-01T14:43:53.412Z"
   },
   {
    "duration": 44,
    "start_time": "2022-02-01T14:43:53.429Z"
   },
   {
    "duration": 9,
    "start_time": "2022-02-01T14:43:53.476Z"
   },
   {
    "duration": 14,
    "start_time": "2022-02-01T14:43:53.488Z"
   },
   {
    "duration": 426,
    "start_time": "2022-02-02T05:43:56.958Z"
   },
   {
    "duration": 759,
    "start_time": "2022-02-02T05:44:02.241Z"
   },
   {
    "duration": 178,
    "start_time": "2022-02-02T05:44:03.003Z"
   },
   {
    "duration": 44,
    "start_time": "2022-02-02T05:44:03.185Z"
   },
   {
    "duration": 35,
    "start_time": "2022-02-02T05:44:03.232Z"
   },
   {
    "duration": 7,
    "start_time": "2022-02-02T05:44:03.270Z"
   },
   {
    "duration": 65,
    "start_time": "2022-02-02T05:44:03.280Z"
   },
   {
    "duration": 12,
    "start_time": "2022-02-02T05:44:03.348Z"
   },
   {
    "duration": 34,
    "start_time": "2022-02-02T05:44:03.364Z"
   },
   {
    "duration": 23,
    "start_time": "2022-02-02T05:44:03.422Z"
   },
   {
    "duration": 37,
    "start_time": "2022-02-02T05:44:03.447Z"
   },
   {
    "duration": 102,
    "start_time": "2022-02-02T05:44:03.486Z"
   },
   {
    "duration": 108,
    "start_time": "2022-02-02T05:44:03.591Z"
   },
   {
    "duration": 83,
    "start_time": "2022-02-02T05:44:03.701Z"
   },
   {
    "duration": 75,
    "start_time": "2022-02-02T05:44:03.787Z"
   },
   {
    "duration": 4,
    "start_time": "2022-02-02T05:44:03.864Z"
   },
   {
    "duration": 16,
    "start_time": "2022-02-02T05:44:03.870Z"
   },
   {
    "duration": 35,
    "start_time": "2022-02-02T05:44:03.888Z"
   },
   {
    "duration": 10,
    "start_time": "2022-02-02T05:44:03.925Z"
   },
   {
    "duration": 18,
    "start_time": "2022-02-02T05:44:03.938Z"
   },
   {
    "duration": 87,
    "start_time": "2022-02-02T05:44:03.959Z"
   },
   {
    "duration": 6,
    "start_time": "2022-02-02T05:44:04.049Z"
   },
   {
    "duration": 27,
    "start_time": "2022-02-02T05:44:04.058Z"
   },
   {
    "duration": 43,
    "start_time": "2022-02-02T05:44:04.090Z"
   },
   {
    "duration": 20,
    "start_time": "2022-02-02T05:44:04.136Z"
   },
   {
    "duration": 17,
    "start_time": "2022-02-02T05:44:04.159Z"
   },
   {
    "duration": 49,
    "start_time": "2022-02-02T05:44:04.179Z"
   },
   {
    "duration": 20,
    "start_time": "2022-02-02T05:44:04.230Z"
   },
   {
    "duration": 22,
    "start_time": "2022-02-02T05:44:04.253Z"
   },
   {
    "duration": 70,
    "start_time": "2022-02-02T05:44:04.278Z"
   },
   {
    "duration": 29,
    "start_time": "2022-02-02T05:44:04.351Z"
   },
   {
    "duration": 7,
    "start_time": "2022-02-02T05:44:04.383Z"
   },
   {
    "duration": 56,
    "start_time": "2022-02-02T05:44:04.392Z"
   },
   {
    "duration": 17,
    "start_time": "2022-02-02T05:44:04.451Z"
   },
   {
    "duration": 22,
    "start_time": "2022-02-02T05:44:04.470Z"
   },
   {
    "duration": 19,
    "start_time": "2022-02-02T05:44:04.524Z"
   },
   {
    "duration": 11,
    "start_time": "2022-02-02T05:44:04.545Z"
   },
   {
    "duration": 6,
    "start_time": "2022-02-02T05:44:04.558Z"
   },
   {
    "duration": 8,
    "start_time": "2022-02-02T05:44:04.566Z"
   },
   {
    "duration": 49,
    "start_time": "2022-02-02T05:44:04.576Z"
   },
   {
    "duration": 454,
    "start_time": "2022-02-02T05:44:11.142Z"
   }
  ],
  "colab": {
   "collapsed_sections": [
    "E0vqbgi9ay0H",
    "VUC88oWjTJw2"
   ],
   "name": "yandex_music_project_2021.2.ipynb",
   "provenance": []
  },
  "kernelspec": {
   "display_name": "Python 3 (ipykernel)",
   "language": "python",
   "name": "python3"
  },
  "language_info": {
   "codemirror_mode": {
    "name": "ipython",
    "version": 3
   },
   "file_extension": ".py",
   "mimetype": "text/x-python",
   "name": "python",
   "nbconvert_exporter": "python",
   "pygments_lexer": "ipython3",
   "version": "3.9.5"
  },
  "toc": {
   "base_numbering": 1,
   "nav_menu": {},
   "number_sections": true,
   "sideBar": true,
   "skip_h1_title": true,
   "title_cell": "Table of Contents",
   "title_sidebar": "Contents",
   "toc_cell": false,
   "toc_position": {
    "height": "calc(100% - 180px)",
    "left": "10px",
    "top": "150px",
    "width": "196.858px"
   },
   "toc_section_display": true,
   "toc_window_display": true
  }
 },
 "nbformat": 4,
 "nbformat_minor": 1
}
