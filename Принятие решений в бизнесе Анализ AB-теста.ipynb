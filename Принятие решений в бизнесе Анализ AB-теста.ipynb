{
 "cells": [
  {
   "cell_type": "markdown",
   "metadata": {},
   "source": [
    "<img src=https://img.gazeta.ru/files3/923/11732923/dicaprio-pic905-895x505-13209.jpg><br>\n",
    "<hr style=\"border: 10px solid green;\" />\n",
    "\n",
    "## <span style=\"color:green\">Финальный комментарий<span>\n",
    "Спасибо за проделанную работу🤝\n",
    "\n",
    "Евгения, спасибо за доработки, всё принято👌\n",
    "    \n",
    "Дополнения по двум пунктам:\n",
    "- [Переменные](#21-bullet)\n",
    "- [Процентные пункты](#22-bullet)\n",
    "    \n",
    "Не буду задерживать, проект принимаю, желаю дальнейших успехов🖐\n",
    "\n",
    "Поздравляю, проект принят👍"
   ]
  },
  {
   "cell_type": "markdown",
   "metadata": {},
   "source": [
    "<hr style=\"border: 2px solid green;\" />\n",
    "\n",
    "## Комментарий ревьювера\n",
    "\n",
    "Евгения, привет! \n",
    "\n",
    "🤚Меня зовут, Олег Юрьев, я буду проверять твой проект. Если не против, я буду обращаться к тебе на _ТЫ_ . Если это неприемлемо, обязательно напиши мне в комментариях - мы перейдем на _ВЫ_ .\n",
    "\n",
    "🤝Спасибо, что сдала проект. Тобой проделана большая работа, молодец! \n",
    "\n",
    "✏️В этой тетрадке ты найдешь мои комментарии.\n",
    "\n",
    "Комментарии будут выделены:\n",
    "\n",
    "<div style=\"border-radius: 15px; box-shadow: 4px 4px 4px; border: solid green 2px; padding: 20px\"> <b>Отличная работа ✅</b><br>\n",
    "    Безупречная работа</div>       \n",
    "<br>\n",
    "<div style=\"border-radius: 15px; box-shadow: 4px 4px 4px; border: solid orange 2px; padding: 20px\"> <b>Что можно улучшить ⚠️</b><br>\n",
    "    Ничего дорабатывать не надо, данные пункты работают нормально, но есть способы улучшить. Несколько таких комментариев допустимы, но более - придется некоторые доработать. Большое кол-во мелких замечаний и помарок сказываются на общем впечатлении от работы.</div>   \n",
    "<br>\n",
    "<div style=\"border-radius: 15px; box-shadow: 4px 4px 4px; border: solid red 2px; padding: 20px\"> <b>Что необходимо доработать ⛔️</b><br>\n",
    "    Такие пункты необходимо исправить в первую очередь, чтобы я смог принять проект.</div>\n",
    " \n",
    "Не удаляй комментарии, так будем следить за динамикой 📈\n",
    "   \n",
    "Давай будем в диалоге - основные цели в диалоге:\n",
    "- обмен опытом (да я тоже учусь у студентов👨‍🎓)\n",
    "- выполнить проект еще лучше\n",
    "- помочь тебе стать аналитиком\n",
    "\n",
    "Поэтому чтобы мне проще было проверять повторно, а тебе контролировать процесс ревью, оставляй свои комментарии и выделяй их. \n",
    "    \n",
    "<div class=\"alert alert-info\" style=\"border:solid blue 2px; padding: 20px\"> <b>Комментарий студента:</b> Например, вот так.</div>\n",
    "   \n",
    "Поехали! :)\n",
    "\n",
    "<hr style=\"border: 2px solid green;\" />"
   ]
  },
  {
   "cell_type": "markdown",
   "metadata": {},
   "source": [
    "# Проект по теме \"Принятие решений в бизнесе\""
   ]
  },
  {
   "cell_type": "markdown",
   "metadata": {},
   "source": [
    "## Описание проекта\n",
    "\n",
    "Я являюсь аналитиком в крупном интернет-магазине и мне необходимо проанализировать несколько гипотез. Наша задача- приоритизировать гипотезы и запустить А/В-тест. \n",
    "\n",
    "**Мною были получаны следующие данные:** \n",
    "1. 9 гипотез по увленичению выручки интернет-магазина\n",
    "- Hypothesis — краткое описание гипотезы;\n",
    "- Reach — охват пользователей по 10-балльной шкале;\n",
    "- Impact — влияние на пользователей по 10-балльной шкале;\n",
    "- Confidence — уверенность в гипотезе по 10-балльной шкале;\n",
    "- Efforts — затраты ресурсов на проверку гипотезы по 10-балльной шкале. Чем больше значение Efforts, тем дороже проверка гипотезы.\n",
    "2. файлы с заказами и группами\n",
    "- transactionId — идентификатор заказа;\n",
    "- visitorId — идентификатор пользователя, совершившего заказ;\n",
    "- date — дата, когда был совершён заказ;\n",
    "- revenue — выручка заказа;\n",
    "- group — группа A/B-теста, в которую попал заказ.\n",
    "\n",
    "3. файл с группами \n",
    "- date — дата;\n",
    "- group — группа A/B-теста;\n",
    "- visitors — количество пользователей в указанную дату в указанной группе A/B-теста\n",
    "\n",
    "\n",
    "На первом этапе мы подгрузим нужные библиотеки и посмотрим на предоставленные нам данные по гипотезам."
   ]
  },
  {
   "cell_type": "code",
   "execution_count": 1,
   "metadata": {},
   "outputs": [],
   "source": [
    "import pandas as pd\n",
    "import numpy as np\n",
    "import datetime as dt\n",
    "\n",
    "import matplotlib.pyplot as plt           # графики\n",
    "import matplotlib.ticker as ticker\n",
    "import seaborn as sns\n",
    "\n",
    "from scipy import stats as st              #  статистика\n",
    "from IPython.display import display_html   # отображение таблиц рядом"
   ]
  },
  {
   "cell_type": "code",
   "execution_count": 2,
   "metadata": {},
   "outputs": [
    {
     "data": {
      "text/html": [
       "<div>\n",
       "<style scoped>\n",
       "    .dataframe tbody tr th:only-of-type {\n",
       "        vertical-align: middle;\n",
       "    }\n",
       "\n",
       "    .dataframe tbody tr th {\n",
       "        vertical-align: top;\n",
       "    }\n",
       "\n",
       "    .dataframe thead th {\n",
       "        text-align: right;\n",
       "    }\n",
       "</style>\n",
       "<table border=\"1\" class=\"dataframe\">\n",
       "  <thead>\n",
       "    <tr style=\"text-align: right;\">\n",
       "      <th></th>\n",
       "      <th>Hypothesis</th>\n",
       "      <th>Reach</th>\n",
       "      <th>Impact</th>\n",
       "      <th>Confidence</th>\n",
       "      <th>Efforts</th>\n",
       "    </tr>\n",
       "  </thead>\n",
       "  <tbody>\n",
       "    <tr>\n",
       "      <th>0</th>\n",
       "      <td>Добавить два новых канала привлечения трафика, что позволит привлекать на 30% больше пользователей</td>\n",
       "      <td>3</td>\n",
       "      <td>10</td>\n",
       "      <td>8</td>\n",
       "      <td>6</td>\n",
       "    </tr>\n",
       "    <tr>\n",
       "      <th>1</th>\n",
       "      <td>Запустить собственную службу доставки, что сократит срок доставки заказов</td>\n",
       "      <td>2</td>\n",
       "      <td>5</td>\n",
       "      <td>4</td>\n",
       "      <td>10</td>\n",
       "    </tr>\n",
       "    <tr>\n",
       "      <th>2</th>\n",
       "      <td>Добавить блоки рекомендаций товаров на сайт интернет магазина, чтобы повысить конверсию и средний чек заказа</td>\n",
       "      <td>8</td>\n",
       "      <td>3</td>\n",
       "      <td>7</td>\n",
       "      <td>3</td>\n",
       "    </tr>\n",
       "    <tr>\n",
       "      <th>3</th>\n",
       "      <td>Изменить структура категорий, что увеличит конверсию, т.к. пользователи быстрее найдут нужный товар</td>\n",
       "      <td>8</td>\n",
       "      <td>3</td>\n",
       "      <td>3</td>\n",
       "      <td>8</td>\n",
       "    </tr>\n",
       "    <tr>\n",
       "      <th>4</th>\n",
       "      <td>Изменить цвет фона главной страницы, чтобы увеличить вовлеченность пользователей</td>\n",
       "      <td>3</td>\n",
       "      <td>1</td>\n",
       "      <td>1</td>\n",
       "      <td>1</td>\n",
       "    </tr>\n",
       "    <tr>\n",
       "      <th>5</th>\n",
       "      <td>Добавить страницу отзывов клиентов о магазине, что позволит увеличить количество заказов</td>\n",
       "      <td>3</td>\n",
       "      <td>2</td>\n",
       "      <td>2</td>\n",
       "      <td>3</td>\n",
       "    </tr>\n",
       "    <tr>\n",
       "      <th>6</th>\n",
       "      <td>Показать на главной странице баннеры с актуальными акциями и распродажами, чтобы увеличить конверсию</td>\n",
       "      <td>5</td>\n",
       "      <td>3</td>\n",
       "      <td>8</td>\n",
       "      <td>3</td>\n",
       "    </tr>\n",
       "    <tr>\n",
       "      <th>7</th>\n",
       "      <td>Добавить форму подписки на все основные страницы, чтобы собрать базу клиентов для email-рассылок</td>\n",
       "      <td>10</td>\n",
       "      <td>7</td>\n",
       "      <td>8</td>\n",
       "      <td>5</td>\n",
       "    </tr>\n",
       "    <tr>\n",
       "      <th>8</th>\n",
       "      <td>Запустить акцию, дающую скидку на товар в день рождения</td>\n",
       "      <td>1</td>\n",
       "      <td>9</td>\n",
       "      <td>9</td>\n",
       "      <td>5</td>\n",
       "    </tr>\n",
       "  </tbody>\n",
       "</table>\n",
       "</div>"
      ],
      "text/plain": [
       "                                                                                                     Hypothesis  \\\n",
       "0            Добавить два новых канала привлечения трафика, что позволит привлекать на 30% больше пользователей   \n",
       "1                                     Запустить собственную службу доставки, что сократит срок доставки заказов   \n",
       "2  Добавить блоки рекомендаций товаров на сайт интернет магазина, чтобы повысить конверсию и средний чек заказа   \n",
       "3           Изменить структура категорий, что увеличит конверсию, т.к. пользователи быстрее найдут нужный товар   \n",
       "4                              Изменить цвет фона главной страницы, чтобы увеличить вовлеченность пользователей   \n",
       "5                      Добавить страницу отзывов клиентов о магазине, что позволит увеличить количество заказов   \n",
       "6          Показать на главной странице баннеры с актуальными акциями и распродажами, чтобы увеличить конверсию   \n",
       "7              Добавить форму подписки на все основные страницы, чтобы собрать базу клиентов для email-рассылок   \n",
       "8                                                       Запустить акцию, дающую скидку на товар в день рождения   \n",
       "\n",
       "   Reach  Impact  Confidence  Efforts  \n",
       "0      3      10           8        6  \n",
       "1      2       5           4       10  \n",
       "2      8       3           7        3  \n",
       "3      8       3           3        8  \n",
       "4      3       1           1        1  \n",
       "5      3       2           2        3  \n",
       "6      5       3           8        3  \n",
       "7     10       7           8        5  \n",
       "8      1       9           9        5  "
      ]
     },
     "execution_count": 2,
     "metadata": {},
     "output_type": "execute_result"
    }
   ],
   "source": [
    "hypothesis = pd.read_csv('/datasets/hypothesis.csv')     # загружаем данные \n",
    "# расширяем колонки\n",
    "# Сброс ограничений на количество выводимых рядов\n",
    "pd.set_option('display.max_rows', None)\n",
    " \n",
    "# Сброс ограничений на число столбцов\n",
    "pd.set_option('display.max_columns', None)\n",
    " \n",
    "# Сброс ограничений на количество символов в записи\n",
    "pd.set_option('display.max_colwidth', None)\n",
    "hypothesis"
   ]
  },
  {
   "cell_type": "code",
   "execution_count": 3,
   "metadata": {},
   "outputs": [
    {
     "name": "stdout",
     "output_type": "stream",
     "text": [
      "<class 'pandas.core.frame.DataFrame'>\n",
      "RangeIndex: 9 entries, 0 to 8\n",
      "Data columns (total 5 columns):\n",
      " #   Column      Non-Null Count  Dtype \n",
      "---  ------      --------------  ----- \n",
      " 0   hypothesis  9 non-null      object\n",
      " 1   reach       9 non-null      int64 \n",
      " 2   impact      9 non-null      int64 \n",
      " 3   confidence  9 non-null      int64 \n",
      " 4   efforts     9 non-null      int64 \n",
      "dtypes: int64(4), object(1)\n",
      "memory usage: 488.0+ bytes\n"
     ]
    }
   ],
   "source": [
    "#  название столбцов с маленькой буквы + информация по таблице \n",
    "hypothesis.columns = hypothesis.columns.str.lower()  \n",
    "hypothesis.info()"
   ]
  },
  {
   "attachments": {
    "image-2.png": {
     "image/png": "[encoded data removed]"
    }
   },
   "cell_type": "markdown",
   "metadata": {},
   "source": [
    "По просмотренным данным можно сказать: \n",
    "1. предоставлены 9 гипотез\n",
    "2. пропущенных значений нет\n",
    "3. нулевых значений нет \n",
    "4. типы данных в порядке \n",
    "\n",
    "\n",
    "**Смотрим на приоретизацию данных гипотез. Для этого применим фреймворк ICE.**\n",
    "\n",
    "`ICE (от англ. impact, confidence, effort / ease «влияние, уверенность, усилия / простота») — один из самых популярных способов приоритизации задач`\n",
    "![image-2.png](attachment:image-2.png)"
   ]
  },
  {
   "cell_type": "code",
   "execution_count": 4,
   "metadata": {},
   "outputs": [
    {
     "data": {
      "text/html": [
       "<div>\n",
       "<style scoped>\n",
       "    .dataframe tbody tr th:only-of-type {\n",
       "        vertical-align: middle;\n",
       "    }\n",
       "\n",
       "    .dataframe tbody tr th {\n",
       "        vertical-align: top;\n",
       "    }\n",
       "\n",
       "    .dataframe thead th {\n",
       "        text-align: right;\n",
       "    }\n",
       "</style>\n",
       "<table border=\"1\" class=\"dataframe\">\n",
       "  <thead>\n",
       "    <tr style=\"text-align: right;\">\n",
       "      <th></th>\n",
       "      <th>hypothesis</th>\n",
       "      <th>ICE</th>\n",
       "    </tr>\n",
       "  </thead>\n",
       "  <tbody>\n",
       "    <tr>\n",
       "      <th>8</th>\n",
       "      <td>Запустить акцию, дающую скидку на товар в день рождения</td>\n",
       "      <td>16.20</td>\n",
       "    </tr>\n",
       "    <tr>\n",
       "      <th>0</th>\n",
       "      <td>Добавить два новых канала привлечения трафика, что позволит привлекать на 30% больше пользователей</td>\n",
       "      <td>13.33</td>\n",
       "    </tr>\n",
       "    <tr>\n",
       "      <th>7</th>\n",
       "      <td>Добавить форму подписки на все основные страницы, чтобы собрать базу клиентов для email-рассылок</td>\n",
       "      <td>11.20</td>\n",
       "    </tr>\n",
       "    <tr>\n",
       "      <th>6</th>\n",
       "      <td>Показать на главной странице баннеры с актуальными акциями и распродажами, чтобы увеличить конверсию</td>\n",
       "      <td>8.00</td>\n",
       "    </tr>\n",
       "    <tr>\n",
       "      <th>2</th>\n",
       "      <td>Добавить блоки рекомендаций товаров на сайт интернет магазина, чтобы повысить конверсию и средний чек заказа</td>\n",
       "      <td>7.00</td>\n",
       "    </tr>\n",
       "    <tr>\n",
       "      <th>1</th>\n",
       "      <td>Запустить собственную службу доставки, что сократит срок доставки заказов</td>\n",
       "      <td>2.00</td>\n",
       "    </tr>\n",
       "    <tr>\n",
       "      <th>5</th>\n",
       "      <td>Добавить страницу отзывов клиентов о магазине, что позволит увеличить количество заказов</td>\n",
       "      <td>1.33</td>\n",
       "    </tr>\n",
       "    <tr>\n",
       "      <th>3</th>\n",
       "      <td>Изменить структура категорий, что увеличит конверсию, т.к. пользователи быстрее найдут нужный товар</td>\n",
       "      <td>1.12</td>\n",
       "    </tr>\n",
       "    <tr>\n",
       "      <th>4</th>\n",
       "      <td>Изменить цвет фона главной страницы, чтобы увеличить вовлеченность пользователей</td>\n",
       "      <td>1.00</td>\n",
       "    </tr>\n",
       "  </tbody>\n",
       "</table>\n",
       "</div>"
      ],
      "text/plain": [
       "                                                                                                     hypothesis  \\\n",
       "8                                                       Запустить акцию, дающую скидку на товар в день рождения   \n",
       "0            Добавить два новых канала привлечения трафика, что позволит привлекать на 30% больше пользователей   \n",
       "7              Добавить форму подписки на все основные страницы, чтобы собрать базу клиентов для email-рассылок   \n",
       "6          Показать на главной странице баннеры с актуальными акциями и распродажами, чтобы увеличить конверсию   \n",
       "2  Добавить блоки рекомендаций товаров на сайт интернет магазина, чтобы повысить конверсию и средний чек заказа   \n",
       "1                                     Запустить собственную службу доставки, что сократит срок доставки заказов   \n",
       "5                      Добавить страницу отзывов клиентов о магазине, что позволит увеличить количество заказов   \n",
       "3           Изменить структура категорий, что увеличит конверсию, т.к. пользователи быстрее найдут нужный товар   \n",
       "4                              Изменить цвет фона главной страницы, чтобы увеличить вовлеченность пользователей   \n",
       "\n",
       "     ICE  \n",
       "8  16.20  \n",
       "0  13.33  \n",
       "7  11.20  \n",
       "6   8.00  \n",
       "2   7.00  \n",
       "1   2.00  \n",
       "5   1.33  \n",
       "3   1.12  \n",
       "4   1.00  "
      ]
     },
     "execution_count": 4,
     "metadata": {},
     "output_type": "execute_result"
    }
   ],
   "source": [
    "hypothesis['ICE'] = (((hypothesis['impact'] * hypothesis['confidence']) / hypothesis['efforts']).round(2))    \n",
    "# расчет ICE, округляем до 2 знаков \n",
    "hypothesis[['hypothesis', 'ICE']].sort_values(by='ICE', ascending=False)            # сортировка по убыванию"
   ]
  },
  {
   "attachments": {
    "image.png": {
     "image/png": "[encoded data removed]"
    }
   },
   "cell_type": "markdown",
   "metadata": {},
   "source": [
    "Теперь мы видим, что ТОП-5 гипотез являются гипотезы № 9, 1, 8, 7, 3. \n",
    "\n",
    "\n",
    "**Тпереь посмотрим на приоритезацию гипотез методом `RICE.`**\n",
    "![image.png](attachment:image.png)"
   ]
  },
  {
   "cell_type": "code",
   "execution_count": 5,
   "metadata": {},
   "outputs": [
    {
     "data": {
      "text/html": [
       "<div>\n",
       "<style scoped>\n",
       "    .dataframe tbody tr th:only-of-type {\n",
       "        vertical-align: middle;\n",
       "    }\n",
       "\n",
       "    .dataframe tbody tr th {\n",
       "        vertical-align: top;\n",
       "    }\n",
       "\n",
       "    .dataframe thead th {\n",
       "        text-align: right;\n",
       "    }\n",
       "</style>\n",
       "<table border=\"1\" class=\"dataframe\">\n",
       "  <thead>\n",
       "    <tr style=\"text-align: right;\">\n",
       "      <th></th>\n",
       "      <th>hypothesis</th>\n",
       "      <th>RICE</th>\n",
       "    </tr>\n",
       "  </thead>\n",
       "  <tbody>\n",
       "    <tr>\n",
       "      <th>7</th>\n",
       "      <td>Добавить форму подписки на все основные страницы, чтобы собрать базу клиентов для email-рассылок</td>\n",
       "      <td>112.0</td>\n",
       "    </tr>\n",
       "    <tr>\n",
       "      <th>2</th>\n",
       "      <td>Добавить блоки рекомендаций товаров на сайт интернет магазина, чтобы повысить конверсию и средний чек заказа</td>\n",
       "      <td>56.0</td>\n",
       "    </tr>\n",
       "    <tr>\n",
       "      <th>0</th>\n",
       "      <td>Добавить два новых канала привлечения трафика, что позволит привлекать на 30% больше пользователей</td>\n",
       "      <td>40.0</td>\n",
       "    </tr>\n",
       "    <tr>\n",
       "      <th>6</th>\n",
       "      <td>Показать на главной странице баннеры с актуальными акциями и распродажами, чтобы увеличить конверсию</td>\n",
       "      <td>40.0</td>\n",
       "    </tr>\n",
       "    <tr>\n",
       "      <th>8</th>\n",
       "      <td>Запустить акцию, дающую скидку на товар в день рождения</td>\n",
       "      <td>16.2</td>\n",
       "    </tr>\n",
       "    <tr>\n",
       "      <th>3</th>\n",
       "      <td>Изменить структура категорий, что увеличит конверсию, т.к. пользователи быстрее найдут нужный товар</td>\n",
       "      <td>9.0</td>\n",
       "    </tr>\n",
       "    <tr>\n",
       "      <th>1</th>\n",
       "      <td>Запустить собственную службу доставки, что сократит срок доставки заказов</td>\n",
       "      <td>4.0</td>\n",
       "    </tr>\n",
       "    <tr>\n",
       "      <th>5</th>\n",
       "      <td>Добавить страницу отзывов клиентов о магазине, что позволит увеличить количество заказов</td>\n",
       "      <td>4.0</td>\n",
       "    </tr>\n",
       "    <tr>\n",
       "      <th>4</th>\n",
       "      <td>Изменить цвет фона главной страницы, чтобы увеличить вовлеченность пользователей</td>\n",
       "      <td>3.0</td>\n",
       "    </tr>\n",
       "  </tbody>\n",
       "</table>\n",
       "</div>"
      ],
      "text/plain": [
       "                                                                                                     hypothesis  \\\n",
       "7              Добавить форму подписки на все основные страницы, чтобы собрать базу клиентов для email-рассылок   \n",
       "2  Добавить блоки рекомендаций товаров на сайт интернет магазина, чтобы повысить конверсию и средний чек заказа   \n",
       "0            Добавить два новых канала привлечения трафика, что позволит привлекать на 30% больше пользователей   \n",
       "6          Показать на главной странице баннеры с актуальными акциями и распродажами, чтобы увеличить конверсию   \n",
       "8                                                       Запустить акцию, дающую скидку на товар в день рождения   \n",
       "3           Изменить структура категорий, что увеличит конверсию, т.к. пользователи быстрее найдут нужный товар   \n",
       "1                                     Запустить собственную службу доставки, что сократит срок доставки заказов   \n",
       "5                      Добавить страницу отзывов клиентов о магазине, что позволит увеличить количество заказов   \n",
       "4                              Изменить цвет фона главной страницы, чтобы увеличить вовлеченность пользователей   \n",
       "\n",
       "    RICE  \n",
       "7  112.0  \n",
       "2   56.0  \n",
       "0   40.0  \n",
       "6   40.0  \n",
       "8   16.2  \n",
       "3    9.0  \n",
       "1    4.0  \n",
       "5    4.0  \n",
       "4    3.0  "
      ]
     },
     "execution_count": 5,
     "metadata": {},
     "output_type": "execute_result"
    }
   ],
   "source": [
    "hypothesis['RICE'] = ((hypothesis['reach'] * hypothesis['impact'] * hypothesis['confidence']) / hypothesis['efforts'] ) \n",
    "hypothesis[['hypothesis', 'RICE']].sort_values(by='RICE', ascending=False)             # сортировка по убыванию"
   ]
  },
  {
   "cell_type": "markdown",
   "metadata": {},
   "source": [
    "ТОП-5 RICE это гипотезы 8, 3, 1, 7, 9. "
   ]
  },
  {
   "cell_type": "markdown",
   "metadata": {},
   "source": [
    "**Сравнительный анализ:**\n",
    "\n",
    "Построим график, отображающий информацию о различии ICE and RICE и сначала установим индекс по номерам гипотез"
   ]
  },
  {
   "cell_type": "code",
   "execution_count": 6,
   "metadata": {},
   "outputs": [
    {
     "data": {
      "text/html": [
       "<div>\n",
       "<style scoped>\n",
       "    .dataframe tbody tr th:only-of-type {\n",
       "        vertical-align: middle;\n",
       "    }\n",
       "\n",
       "    .dataframe tbody tr th {\n",
       "        vertical-align: top;\n",
       "    }\n",
       "\n",
       "    .dataframe thead th {\n",
       "        text-align: right;\n",
       "    }\n",
       "</style>\n",
       "<table border=\"1\" class=\"dataframe\">\n",
       "  <thead>\n",
       "    <tr style=\"text-align: right;\">\n",
       "      <th></th>\n",
       "      <th>hypothesis</th>\n",
       "      <th>reach</th>\n",
       "      <th>impact</th>\n",
       "      <th>confidence</th>\n",
       "      <th>efforts</th>\n",
       "      <th>ICE</th>\n",
       "      <th>RICE</th>\n",
       "    </tr>\n",
       "  </thead>\n",
       "  <tbody>\n",
       "    <tr>\n",
       "      <th>1</th>\n",
       "      <td>Добавить два новых канала привлечения трафика, что позволит привлекать на 30% больше пользователей</td>\n",
       "      <td>3</td>\n",
       "      <td>10</td>\n",
       "      <td>8</td>\n",
       "      <td>6</td>\n",
       "      <td>13.33</td>\n",
       "      <td>40.0</td>\n",
       "    </tr>\n",
       "    <tr>\n",
       "      <th>2</th>\n",
       "      <td>Запустить собственную службу доставки, что сократит срок доставки заказов</td>\n",
       "      <td>2</td>\n",
       "      <td>5</td>\n",
       "      <td>4</td>\n",
       "      <td>10</td>\n",
       "      <td>2.00</td>\n",
       "      <td>4.0</td>\n",
       "    </tr>\n",
       "    <tr>\n",
       "      <th>3</th>\n",
       "      <td>Добавить блоки рекомендаций товаров на сайт интернет магазина, чтобы повысить конверсию и средний чек заказа</td>\n",
       "      <td>8</td>\n",
       "      <td>3</td>\n",
       "      <td>7</td>\n",
       "      <td>3</td>\n",
       "      <td>7.00</td>\n",
       "      <td>56.0</td>\n",
       "    </tr>\n",
       "    <tr>\n",
       "      <th>4</th>\n",
       "      <td>Изменить структура категорий, что увеличит конверсию, т.к. пользователи быстрее найдут нужный товар</td>\n",
       "      <td>8</td>\n",
       "      <td>3</td>\n",
       "      <td>3</td>\n",
       "      <td>8</td>\n",
       "      <td>1.12</td>\n",
       "      <td>9.0</td>\n",
       "    </tr>\n",
       "    <tr>\n",
       "      <th>5</th>\n",
       "      <td>Изменить цвет фона главной страницы, чтобы увеличить вовлеченность пользователей</td>\n",
       "      <td>3</td>\n",
       "      <td>1</td>\n",
       "      <td>1</td>\n",
       "      <td>1</td>\n",
       "      <td>1.00</td>\n",
       "      <td>3.0</td>\n",
       "    </tr>\n",
       "    <tr>\n",
       "      <th>6</th>\n",
       "      <td>Добавить страницу отзывов клиентов о магазине, что позволит увеличить количество заказов</td>\n",
       "      <td>3</td>\n",
       "      <td>2</td>\n",
       "      <td>2</td>\n",
       "      <td>3</td>\n",
       "      <td>1.33</td>\n",
       "      <td>4.0</td>\n",
       "    </tr>\n",
       "    <tr>\n",
       "      <th>7</th>\n",
       "      <td>Показать на главной странице баннеры с актуальными акциями и распродажами, чтобы увеличить конверсию</td>\n",
       "      <td>5</td>\n",
       "      <td>3</td>\n",
       "      <td>8</td>\n",
       "      <td>3</td>\n",
       "      <td>8.00</td>\n",
       "      <td>40.0</td>\n",
       "    </tr>\n",
       "    <tr>\n",
       "      <th>8</th>\n",
       "      <td>Добавить форму подписки на все основные страницы, чтобы собрать базу клиентов для email-рассылок</td>\n",
       "      <td>10</td>\n",
       "      <td>7</td>\n",
       "      <td>8</td>\n",
       "      <td>5</td>\n",
       "      <td>11.20</td>\n",
       "      <td>112.0</td>\n",
       "    </tr>\n",
       "    <tr>\n",
       "      <th>9</th>\n",
       "      <td>Запустить акцию, дающую скидку на товар в день рождения</td>\n",
       "      <td>1</td>\n",
       "      <td>9</td>\n",
       "      <td>9</td>\n",
       "      <td>5</td>\n",
       "      <td>16.20</td>\n",
       "      <td>16.2</td>\n",
       "    </tr>\n",
       "  </tbody>\n",
       "</table>\n",
       "</div>"
      ],
      "text/plain": [
       "                                                                                                     hypothesis  \\\n",
       "1            Добавить два новых канала привлечения трафика, что позволит привлекать на 30% больше пользователей   \n",
       "2                                     Запустить собственную службу доставки, что сократит срок доставки заказов   \n",
       "3  Добавить блоки рекомендаций товаров на сайт интернет магазина, чтобы повысить конверсию и средний чек заказа   \n",
       "4           Изменить структура категорий, что увеличит конверсию, т.к. пользователи быстрее найдут нужный товар   \n",
       "5                              Изменить цвет фона главной страницы, чтобы увеличить вовлеченность пользователей   \n",
       "6                      Добавить страницу отзывов клиентов о магазине, что позволит увеличить количество заказов   \n",
       "7          Показать на главной странице баннеры с актуальными акциями и распродажами, чтобы увеличить конверсию   \n",
       "8              Добавить форму подписки на все основные страницы, чтобы собрать базу клиентов для email-рассылок   \n",
       "9                                                       Запустить акцию, дающую скидку на товар в день рождения   \n",
       "\n",
       "   reach  impact  confidence  efforts    ICE   RICE  \n",
       "1      3      10           8        6  13.33   40.0  \n",
       "2      2       5           4       10   2.00    4.0  \n",
       "3      8       3           7        3   7.00   56.0  \n",
       "4      8       3           3        8   1.12    9.0  \n",
       "5      3       1           1        1   1.00    3.0  \n",
       "6      3       2           2        3   1.33    4.0  \n",
       "7      5       3           8        3   8.00   40.0  \n",
       "8     10       7           8        5  11.20  112.0  \n",
       "9      1       9           9        5  16.20   16.2  "
      ]
     },
     "execution_count": 6,
     "metadata": {},
     "output_type": "execute_result"
    }
   ],
   "source": [
    "hypothesis.index = np.arange(1, len(hypothesis)+1)        # установим индекс по номерам гипотез\n",
    "hypothesis"
   ]
  },
  {
   "cell_type": "code",
   "execution_count": 7,
   "metadata": {},
   "outputs": [
    {
     "data": {
      "image/png": "[encoded data removed]",
      "text/plain": [
       "<Figure size 432x288 with 1 Axes>"
      ]
     },
     "metadata": {
      "needs_background": "light"
     },
     "output_type": "display_data"
    }
   ],
   "source": [
    "hypothesis[['ICE', 'RICE']].plot(kind='bar')\n",
    "plt.title('Рейтинг гипотез по системам приоритезации')\n",
    "plt.ylabel('Номера гипотез')\n",
    "plt.ylim(0, 120)\n",
    "plt.grid()\n",
    "plt.show()"
   ]
  },
  {
   "cell_type": "markdown",
   "metadata": {},
   "source": [
    "**Выводы по полученным данным:**\n",
    "\n",
    "1. ТОП-5 в рейтинге гипотез по ICЕ: 9, 1, 8, 7, 3\n",
    "2. ТОП-5 в рейтинге гипотез по RICE: 8, 3, 1, 7, 9\n",
    "3. параметр охвата (Reach) изменил приоритетность: \n",
    "- Исходя из изменений в топ-5 гипотез, мы можем сказать, что гипотеза №9 спустилась на 5 место, так как показатель охвата пользователей (reach) слишком низок, всего 1 из 10. День рождения только раз в году)\n",
    "- Позиции гипотезы 3 явно улучшились из-за этого показатель reach - один из самых массовых охватов.\n",
    "- Гипотеза 8 по этой же причине поднялась на первое место - максимальный охват аудитории (reach = 10).\n",
    "\n",
    "*Теперь актуальными гипотезами для проверки можно считать следующие:*\n",
    "1. Гипотеза №8: \"Добавить форму подписки на все основные страницы, чтобы собрать базу клиентов для email-рассылок\t\"\n",
    "2. Гипотеза №3: \"Добавить блоки рекомендаций товаров на сайт интернет магазина, чтобы повысить конверсию и средний чек заказа\"\n",
    "3. Гипотеза №1: \"Добавить два новых канала привлечения трафика, что позволит привлекать на 30% больше пользователей\t\"\n",
    "4. Гипотеза №7: \"Показать на главной странице баннеры с актуальными акциями и распродажами, чтобы увеличить конверсию\"\n"
   ]
  },
  {
   "cell_type": "markdown",
   "metadata": {},
   "source": [
    "<div style=\"border-radius: 15px; box-shadow: 4px 4px 4px; border: solid green 2px; padding: 20px\"> <b>Отличная работа</b><br>\n",
    "Ты отлично справилась с приоритезацией гипотез, разобралась, что признак <code>REACH</code> может оказывать сильное влияние</div> <br>\n",
    "<div style=\"border-radius: 15px; box-shadow: 4px 4px 4px; border: solid orange 2px; padding: 20px\"> <b>Что можно улучшить</b><br>\n",
    "<ul>\n",
    "   <li>в качестве визуализации изменения приоритетов можно использовать <a href=\"https://datayoga.ru/tpost/zh3s62fori-sloupgraf\">slope graph</a> или диаграмму рассеяния, где по осям отложен баллы каждого фреймворка\n",
    "    <li> В отчёте есть формулы для расчёта приоритезации, почему бы их не оформить, для этого есть микропакет для вёрстки `LaTex` - <a href=\"https://www.youtube.com/watch?v=vSc25kdgecg\">Использование LaTex в Jupyter Notebook</a>\n",
    "<br><a href=\"https://www.overleaf.com/static/latex/learn/free-online-introduction-to-latex-part-1.pdf\">LaTex for beginners</a>. Вот так будут выглядеть формулы:👇\n",
    "</ul></div> <br>\n",
    "\n",
    "$$ICE = \\frac{Impact * Confidence}{Efforts}$$\n",
    "\n",
    "$$RICE = \\frac{Rearch * Impact * Confidence}{Efforts}$$\n",
    "<hr style=\"border: 2px solid orange;\" />"
   ]
  },
  {
   "cell_type": "code",
   "execution_count": null,
   "metadata": {},
   "outputs": [],
   "source": []
  },
  {
   "cell_type": "markdown",
   "metadata": {},
   "source": [
    "<div class=\"alert alert-info\" style=\"border:solid blue 2px; padding: 20px\"> <b>Комментарий студента:</b> Спасибо большое за подсказки. \n",
    "К сожалению, не смогла понять, как строится слоупграф (именно сам код).\n",
    "    \n",
    "Спасибо за то, что подсказали, как прописываются формулы, это усвоила). \n",
    "</div>"
   ]
  },
  {
   "cell_type": "markdown",
   "metadata": {},
   "source": [
    "## Анализ A/B-теста\n",
    "\n",
    "По проведенному A/B-тесту требуется сделать анализ:\n",
    "\n",
    "1. Кумулятивной выручки по группам.\n",
    "2. Кумулятивного среднего чека по группам.\n",
    "3. Относительного изменения кумулятивного среднего чека группы B к группе A.\n",
    "4. Кумулятивной конверсии по группам.\n",
    "5. Относительного изменения кумулятивной конверсии группы B к группе A.\n",
    "\n",
    "Определить:\n",
    "\n",
    "1. Границы аномалий по количествов заказов и стоимости заказов по пользователям.\n",
    "\n",
    "\n",
    "Посчитать и описать результаты расчета:\n",
    "\n",
    "1. Статистической значимости различий в конверсии между группами по «сырым» данным.\n",
    "2. Статистической значимости различий в среднем чеке заказа между группами по «сырым» данным.\n",
    "3. Статистической значимости различий в конверсии между группами по «очищенным» данным.\n",
    "4. Статистической значимости различий в среднем чеке заказа между группами по «очищенным» данным.\n",
    "\n",
    "Принять решение по результатам теста\n",
    "\n",
    "1. Варианты решений:\n",
    "2. Остановить тест, зафиксировать победу одной из групп.\n",
    "3. Остановить тест, зафиксировать отсутствие различий между группами.\n",
    "4. Продолжить тест.\n",
    "\n",
    "**Просмотрим данные по заказам:**"
   ]
  },
  {
   "cell_type": "code",
   "execution_count": 8,
   "metadata": {},
   "outputs": [
    {
     "data": {
      "text/html": [
       "<div>\n",
       "<style scoped>\n",
       "    .dataframe tbody tr th:only-of-type {\n",
       "        vertical-align: middle;\n",
       "    }\n",
       "\n",
       "    .dataframe tbody tr th {\n",
       "        vertical-align: top;\n",
       "    }\n",
       "\n",
       "    .dataframe thead th {\n",
       "        text-align: right;\n",
       "    }\n",
       "</style>\n",
       "<table border=\"1\" class=\"dataframe\">\n",
       "  <thead>\n",
       "    <tr style=\"text-align: right;\">\n",
       "      <th></th>\n",
       "      <th>transactionId</th>\n",
       "      <th>visitorId</th>\n",
       "      <th>date</th>\n",
       "      <th>revenue</th>\n",
       "      <th>group</th>\n",
       "    </tr>\n",
       "  </thead>\n",
       "  <tbody>\n",
       "    <tr>\n",
       "      <th>0</th>\n",
       "      <td>3667963787</td>\n",
       "      <td>3312258926</td>\n",
       "      <td>2019-08-15</td>\n",
       "      <td>1650</td>\n",
       "      <td>B</td>\n",
       "    </tr>\n",
       "    <tr>\n",
       "      <th>1</th>\n",
       "      <td>2804400009</td>\n",
       "      <td>3642806036</td>\n",
       "      <td>2019-08-15</td>\n",
       "      <td>730</td>\n",
       "      <td>B</td>\n",
       "    </tr>\n",
       "    <tr>\n",
       "      <th>2</th>\n",
       "      <td>2961555356</td>\n",
       "      <td>4069496402</td>\n",
       "      <td>2019-08-15</td>\n",
       "      <td>400</td>\n",
       "      <td>A</td>\n",
       "    </tr>\n",
       "    <tr>\n",
       "      <th>3</th>\n",
       "      <td>3797467345</td>\n",
       "      <td>1196621759</td>\n",
       "      <td>2019-08-15</td>\n",
       "      <td>9759</td>\n",
       "      <td>B</td>\n",
       "    </tr>\n",
       "    <tr>\n",
       "      <th>4</th>\n",
       "      <td>2282983706</td>\n",
       "      <td>2322279887</td>\n",
       "      <td>2019-08-15</td>\n",
       "      <td>2308</td>\n",
       "      <td>B</td>\n",
       "    </tr>\n",
       "  </tbody>\n",
       "</table>\n",
       "</div>"
      ],
      "text/plain": [
       "   transactionId   visitorId        date  revenue group\n",
       "0     3667963787  3312258926  2019-08-15     1650     B\n",
       "1     2804400009  3642806036  2019-08-15      730     B\n",
       "2     2961555356  4069496402  2019-08-15      400     A\n",
       "3     3797467345  1196621759  2019-08-15     9759     B\n",
       "4     2282983706  2322279887  2019-08-15     2308     B"
      ]
     },
     "execution_count": 8,
     "metadata": {},
     "output_type": "execute_result"
    }
   ],
   "source": [
    "orders = pd.read_csv('/datasets/orders.csv')\n",
    "orders.head()"
   ]
  },
  {
   "cell_type": "code",
   "execution_count": 9,
   "metadata": {},
   "outputs": [
    {
     "name": "stdout",
     "output_type": "stream",
     "text": [
      "<class 'pandas.core.frame.DataFrame'>\n",
      "RangeIndex: 1197 entries, 0 to 1196\n",
      "Data columns (total 5 columns):\n",
      " #   Column         Non-Null Count  Dtype \n",
      "---  ------         --------------  ----- \n",
      " 0   transactionId  1197 non-null   int64 \n",
      " 1   visitorId      1197 non-null   int64 \n",
      " 2   date           1197 non-null   object\n",
      " 3   revenue        1197 non-null   int64 \n",
      " 4   group          1197 non-null   object\n",
      "dtypes: int64(3), object(2)\n",
      "memory usage: 46.9+ KB\n"
     ]
    }
   ],
   "source": [
    "orders.info()"
   ]
  },
  {
   "cell_type": "code",
   "execution_count": 10,
   "metadata": {},
   "outputs": [
    {
     "name": "stdout",
     "output_type": "stream",
     "text": [
      "<class 'pandas.core.frame.DataFrame'>\n",
      "RangeIndex: 1197 entries, 0 to 1196\n",
      "Data columns (total 5 columns):\n",
      " #   Column         Non-Null Count  Dtype         \n",
      "---  ------         --------------  -----         \n",
      " 0   transactionId  1197 non-null   int64         \n",
      " 1   visitorId      1197 non-null   int64         \n",
      " 2   date           1197 non-null   datetime64[ns]\n",
      " 3   revenue        1197 non-null   int64         \n",
      " 4   group          1197 non-null   object        \n",
      "dtypes: datetime64[ns](1), int64(3), object(1)\n",
      "memory usage: 46.9+ KB\n"
     ]
    }
   ],
   "source": [
    "orders['date'] = orders['date'].map(lambda x: dt.datetime.strptime(x, '%Y-%m-%d'))\n",
    "orders.info()"
   ]
  },
  {
   "cell_type": "code",
   "execution_count": 11,
   "metadata": {},
   "outputs": [
    {
     "data": {
      "text/html": [
       "<div>\n",
       "<style scoped>\n",
       "    .dataframe tbody tr th:only-of-type {\n",
       "        vertical-align: middle;\n",
       "    }\n",
       "\n",
       "    .dataframe tbody tr th {\n",
       "        vertical-align: top;\n",
       "    }\n",
       "\n",
       "    .dataframe thead th {\n",
       "        text-align: right;\n",
       "    }\n",
       "</style>\n",
       "<table border=\"1\" class=\"dataframe\">\n",
       "  <thead>\n",
       "    <tr style=\"text-align: right;\">\n",
       "      <th></th>\n",
       "      <th>transactionId</th>\n",
       "      <th>visitorId</th>\n",
       "      <th>revenue</th>\n",
       "    </tr>\n",
       "  </thead>\n",
       "  <tbody>\n",
       "    <tr>\n",
       "      <th>count</th>\n",
       "      <td>1.197000e+03</td>\n",
       "      <td>1.197000e+03</td>\n",
       "      <td>1.197000e+03</td>\n",
       "    </tr>\n",
       "    <tr>\n",
       "      <th>mean</th>\n",
       "      <td>2.155621e+09</td>\n",
       "      <td>2.165960e+09</td>\n",
       "      <td>8.348006e+03</td>\n",
       "    </tr>\n",
       "    <tr>\n",
       "      <th>std</th>\n",
       "      <td>1.229085e+09</td>\n",
       "      <td>1.236014e+09</td>\n",
       "      <td>3.919113e+04</td>\n",
       "    </tr>\n",
       "    <tr>\n",
       "      <th>min</th>\n",
       "      <td>1.062393e+06</td>\n",
       "      <td>5.114589e+06</td>\n",
       "      <td>5.000000e+01</td>\n",
       "    </tr>\n",
       "    <tr>\n",
       "      <th>25%</th>\n",
       "      <td>1.166776e+09</td>\n",
       "      <td>1.111826e+09</td>\n",
       "      <td>1.220000e+03</td>\n",
       "    </tr>\n",
       "    <tr>\n",
       "      <th>50%</th>\n",
       "      <td>2.145194e+09</td>\n",
       "      <td>2.217985e+09</td>\n",
       "      <td>2.978000e+03</td>\n",
       "    </tr>\n",
       "    <tr>\n",
       "      <th>75%</th>\n",
       "      <td>3.237740e+09</td>\n",
       "      <td>3.177606e+09</td>\n",
       "      <td>8.290000e+03</td>\n",
       "    </tr>\n",
       "    <tr>\n",
       "      <th>max</th>\n",
       "      <td>4.293856e+09</td>\n",
       "      <td>4.283872e+09</td>\n",
       "      <td>1.294500e+06</td>\n",
       "    </tr>\n",
       "  </tbody>\n",
       "</table>\n",
       "</div>"
      ],
      "text/plain": [
       "       transactionId     visitorId       revenue\n",
       "count   1.197000e+03  1.197000e+03  1.197000e+03\n",
       "mean    2.155621e+09  2.165960e+09  8.348006e+03\n",
       "std     1.229085e+09  1.236014e+09  3.919113e+04\n",
       "min     1.062393e+06  5.114589e+06  5.000000e+01\n",
       "25%     1.166776e+09  1.111826e+09  1.220000e+03\n",
       "50%     2.145194e+09  2.217985e+09  2.978000e+03\n",
       "75%     3.237740e+09  3.177606e+09  8.290000e+03\n",
       "max     4.293856e+09  4.283872e+09  1.294500e+06"
      ]
     },
     "metadata": {},
     "output_type": "display_data"
    },
    {
     "name": "stdout",
     "output_type": "stream",
     "text": [
      "Кол-во обнаруженных дубликатов: 0\n"
     ]
    },
    {
     "data": {
      "text/html": [
       "<div>\n",
       "<style scoped>\n",
       "    .dataframe tbody tr th:only-of-type {\n",
       "        vertical-align: middle;\n",
       "    }\n",
       "\n",
       "    .dataframe tbody tr th {\n",
       "        vertical-align: top;\n",
       "    }\n",
       "\n",
       "    .dataframe thead th {\n",
       "        text-align: right;\n",
       "    }\n",
       "</style>\n",
       "<table border=\"1\" class=\"dataframe\">\n",
       "  <thead>\n",
       "    <tr style=\"text-align: right;\">\n",
       "      <th></th>\n",
       "      <th>transactionId</th>\n",
       "      <th>visitorId</th>\n",
       "      <th>revenue</th>\n",
       "    </tr>\n",
       "  </thead>\n",
       "  <tbody>\n",
       "    <tr>\n",
       "      <th>count</th>\n",
       "      <td>1.197000e+03</td>\n",
       "      <td>1.197000e+03</td>\n",
       "      <td>1.197000e+03</td>\n",
       "    </tr>\n",
       "    <tr>\n",
       "      <th>mean</th>\n",
       "      <td>2.155621e+09</td>\n",
       "      <td>2.165960e+09</td>\n",
       "      <td>8.348006e+03</td>\n",
       "    </tr>\n",
       "    <tr>\n",
       "      <th>std</th>\n",
       "      <td>1.229085e+09</td>\n",
       "      <td>1.236014e+09</td>\n",
       "      <td>3.919113e+04</td>\n",
       "    </tr>\n",
       "    <tr>\n",
       "      <th>min</th>\n",
       "      <td>1.062393e+06</td>\n",
       "      <td>5.114589e+06</td>\n",
       "      <td>5.000000e+01</td>\n",
       "    </tr>\n",
       "    <tr>\n",
       "      <th>25%</th>\n",
       "      <td>1.166776e+09</td>\n",
       "      <td>1.111826e+09</td>\n",
       "      <td>1.220000e+03</td>\n",
       "    </tr>\n",
       "    <tr>\n",
       "      <th>50%</th>\n",
       "      <td>2.145194e+09</td>\n",
       "      <td>2.217985e+09</td>\n",
       "      <td>2.978000e+03</td>\n",
       "    </tr>\n",
       "    <tr>\n",
       "      <th>75%</th>\n",
       "      <td>3.237740e+09</td>\n",
       "      <td>3.177606e+09</td>\n",
       "      <td>8.290000e+03</td>\n",
       "    </tr>\n",
       "    <tr>\n",
       "      <th>max</th>\n",
       "      <td>4.293856e+09</td>\n",
       "      <td>4.283872e+09</td>\n",
       "      <td>1.294500e+06</td>\n",
       "    </tr>\n",
       "  </tbody>\n",
       "</table>\n",
       "</div>"
      ],
      "text/plain": [
       "       transactionId     visitorId       revenue\n",
       "count   1.197000e+03  1.197000e+03  1.197000e+03\n",
       "mean    2.155621e+09  2.165960e+09  8.348006e+03\n",
       "std     1.229085e+09  1.236014e+09  3.919113e+04\n",
       "min     1.062393e+06  5.114589e+06  5.000000e+01\n",
       "25%     1.166776e+09  1.111826e+09  1.220000e+03\n",
       "50%     2.145194e+09  2.217985e+09  2.978000e+03\n",
       "75%     3.237740e+09  3.177606e+09  8.290000e+03\n",
       "max     4.293856e+09  4.283872e+09  1.294500e+06"
      ]
     },
     "execution_count": 11,
     "metadata": {},
     "output_type": "execute_result"
    }
   ],
   "source": [
    "display(orders.describe())\n",
    "print ('Кол-во обнаруженных дубликатов:', orders.duplicated().sum())\n",
    "orders.describe()"
   ]
  },
  {
   "cell_type": "markdown",
   "metadata": {},
   "source": [
    "Просмотрев данные по заказам можно увидеть, что: \n",
    "1. Дубликатов нет\n",
    "2. Всего 1197 заказов \n",
    "3. Типы данных в порядке \n",
    "4. Нулевые и пропущенные значения отсутствуют \\\n",
    "\n",
    "\n",
    "**Теперь посмотрим данные по пользователям**"
   ]
  },
  {
   "cell_type": "code",
   "execution_count": 12,
   "metadata": {},
   "outputs": [
    {
     "data": {
      "text/html": [
       "<div>\n",
       "<style scoped>\n",
       "    .dataframe tbody tr th:only-of-type {\n",
       "        vertical-align: middle;\n",
       "    }\n",
       "\n",
       "    .dataframe tbody tr th {\n",
       "        vertical-align: top;\n",
       "    }\n",
       "\n",
       "    .dataframe thead th {\n",
       "        text-align: right;\n",
       "    }\n",
       "</style>\n",
       "<table border=\"1\" class=\"dataframe\">\n",
       "  <thead>\n",
       "    <tr style=\"text-align: right;\">\n",
       "      <th></th>\n",
       "      <th>date</th>\n",
       "      <th>group</th>\n",
       "      <th>visitors</th>\n",
       "    </tr>\n",
       "  </thead>\n",
       "  <tbody>\n",
       "    <tr>\n",
       "      <th>0</th>\n",
       "      <td>2019-08-01</td>\n",
       "      <td>A</td>\n",
       "      <td>719</td>\n",
       "    </tr>\n",
       "    <tr>\n",
       "      <th>1</th>\n",
       "      <td>2019-08-02</td>\n",
       "      <td>A</td>\n",
       "      <td>619</td>\n",
       "    </tr>\n",
       "    <tr>\n",
       "      <th>2</th>\n",
       "      <td>2019-08-03</td>\n",
       "      <td>A</td>\n",
       "      <td>507</td>\n",
       "    </tr>\n",
       "    <tr>\n",
       "      <th>3</th>\n",
       "      <td>2019-08-04</td>\n",
       "      <td>A</td>\n",
       "      <td>717</td>\n",
       "    </tr>\n",
       "    <tr>\n",
       "      <th>4</th>\n",
       "      <td>2019-08-05</td>\n",
       "      <td>A</td>\n",
       "      <td>756</td>\n",
       "    </tr>\n",
       "    <tr>\n",
       "      <th>5</th>\n",
       "      <td>2019-08-06</td>\n",
       "      <td>A</td>\n",
       "      <td>667</td>\n",
       "    </tr>\n",
       "    <tr>\n",
       "      <th>6</th>\n",
       "      <td>2019-08-07</td>\n",
       "      <td>A</td>\n",
       "      <td>644</td>\n",
       "    </tr>\n",
       "    <tr>\n",
       "      <th>7</th>\n",
       "      <td>2019-08-08</td>\n",
       "      <td>A</td>\n",
       "      <td>610</td>\n",
       "    </tr>\n",
       "    <tr>\n",
       "      <th>8</th>\n",
       "      <td>2019-08-09</td>\n",
       "      <td>A</td>\n",
       "      <td>617</td>\n",
       "    </tr>\n",
       "    <tr>\n",
       "      <th>9</th>\n",
       "      <td>2019-08-10</td>\n",
       "      <td>A</td>\n",
       "      <td>406</td>\n",
       "    </tr>\n",
       "  </tbody>\n",
       "</table>\n",
       "</div>"
      ],
      "text/plain": [
       "         date group  visitors\n",
       "0  2019-08-01     A       719\n",
       "1  2019-08-02     A       619\n",
       "2  2019-08-03     A       507\n",
       "3  2019-08-04     A       717\n",
       "4  2019-08-05     A       756\n",
       "5  2019-08-06     A       667\n",
       "6  2019-08-07     A       644\n",
       "7  2019-08-08     A       610\n",
       "8  2019-08-09     A       617\n",
       "9  2019-08-10     A       406"
      ]
     },
     "metadata": {},
     "output_type": "display_data"
    },
    {
     "name": "stdout",
     "output_type": "stream",
     "text": [
      "<class 'pandas.core.frame.DataFrame'>\n",
      "RangeIndex: 62 entries, 0 to 61\n",
      "Data columns (total 3 columns):\n",
      " #   Column    Non-Null Count  Dtype \n",
      "---  ------    --------------  ----- \n",
      " 0   date      62 non-null     object\n",
      " 1   group     62 non-null     object\n",
      " 2   visitors  62 non-null     int64 \n",
      "dtypes: int64(1), object(2)\n",
      "memory usage: 1.6+ KB\n"
     ]
    }
   ],
   "source": [
    "visitors = pd.read_csv('/datasets/visitors.csv')\n",
    "display(visitors.head(10))\n",
    "visitors.info()"
   ]
  },
  {
   "cell_type": "code",
   "execution_count": 13,
   "metadata": {},
   "outputs": [
    {
     "name": "stdout",
     "output_type": "stream",
     "text": [
      "<class 'pandas.core.frame.DataFrame'>\n",
      "RangeIndex: 62 entries, 0 to 61\n",
      "Data columns (total 3 columns):\n",
      " #   Column    Non-Null Count  Dtype         \n",
      "---  ------    --------------  -----         \n",
      " 0   date      62 non-null     datetime64[ns]\n",
      " 1   group     62 non-null     object        \n",
      " 2   visitors  62 non-null     int64         \n",
      "dtypes: datetime64[ns](1), int64(1), object(1)\n",
      "memory usage: 1.6+ KB\n"
     ]
    }
   ],
   "source": [
    "visitors['date'] = visitors['date'].map(lambda x: dt.datetime.strptime(x, '%Y-%m-%d'))\n",
    "visitors.info()"
   ]
  },
  {
   "cell_type": "code",
   "execution_count": 14,
   "metadata": {},
   "outputs": [
    {
     "name": "stdout",
     "output_type": "stream",
     "text": [
      "         visitors\n",
      "count   62.000000\n",
      "mean   607.290323\n",
      "std    114.400560\n",
      "min    361.000000\n",
      "25%    534.000000\n",
      "50%    624.500000\n",
      "75%    710.500000\n",
      "max    770.000000\n",
      "Кол-во обнаруженных дубликатов: 0\n"
     ]
    }
   ],
   "source": [
    "print(visitors.describe())\n",
    "print ('Кол-во обнаруженных дубликатов:', visitors.duplicated().sum())\n"
   ]
  },
  {
   "cell_type": "markdown",
   "metadata": {},
   "source": [
    "Просмотрев записи о пользователях, я увидела, что: \n",
    "1. Присутсвуют 62 записи;\n",
    "2. Нет пропущенных и нулевых значений;\n",
    "3. Типы данных соответствуют своим форматам;\n",
    "4. Дубликатов нет.\n",
    "<br>\n",
    "\n",
    "<div style=\"border-radius: 15px; box-shadow: 4px 4px 4px; border: solid green 2px; padding: 20px\"> <b>Отличная работа - ✅</b><br>\n",
    "Обзор данных выполнен отлично, кажется, нам достались чистые данные!</div> <br>\n",
    "\n",
    "<div style=\"border-radius: 15px; box-shadow: 4px 4px 4px; border: solid orange 2px; padding: 20px\"> <b>Что можно улучшить - ⚠️</b><br>\n",
    "Дополнительно по данным АВ теста можно проверить:\n",
    "<ul>\n",
    "    <li> Доли по кол-ву посетителей по группам (должно быть примерно 50\\50)\n",
    "    <li> Пересечение пользователей - может быть есть те, кто попал в обе группы? Удалять таких пользователей не надо, достаточно проверить</ul></div> <br>\n",
    "\n",
    "\n",
    "<div class=\"alert alert-info\" style=\"border:solid blue 2px; padding: 20px\"> <b>Комментарий студента:</b>\n",
    "    Доли по количеству посетителей отмечала чуть позже. \"Кол-во посещений в группе А за месяц 18736.\n",
    "Кол-во посещений в группе Б за месяц 18916\"\n",
    "   \n",
    "    \n",
    "Пересечение пользователей проверено. Их нет, как было 1197 заказов во всех группах, так и осталось. Нашла только такое решение для проверки пересечения пользователей: \n",
    "</div>\n"
   ]
  },
  {
   "cell_type": "code",
   "execution_count": 15,
   "metadata": {
    "scrolled": false
   },
   "outputs": [
    {
     "data": {
      "text/plain": [
       "(1197, 5)"
      ]
     },
     "execution_count": 15,
     "metadata": {},
     "output_type": "execute_result"
    }
   ],
   "source": [
    "mask = orders.loc[orders[\"group\"]==\"A\", \"transactionId\"].isin(orders.loc[orders[\"group\"]==\"B\", \"transactionId\"])\n",
    "res = orders.drop(mask[mask].index)\n",
    "res.shape"
   ]
  },
  {
   "cell_type": "markdown",
   "metadata": {},
   "source": [
    "<div style=\"border-radius: 15px; box-shadow: 4px 4px 4px; border: solid green 2px; padding: 20px\"> <b>Комментарий 2</b><br><code>transactionId</code> - идентификатор покупки, поэтому они все разные и непересекаются, чтобы проверить пользователей, нужно в этот же код подставить айдишник пользователя <code>visitorId</code> - пример ниже и посчитать уникальных юзеров</div> "
   ]
  },
  {
   "cell_type": "code",
   "execution_count": 67,
   "metadata": {},
   "outputs": [
    {
     "data": {
      "text/plain": [
       "58"
      ]
     },
     "execution_count": 67,
     "metadata": {},
     "output_type": "execute_result"
    }
   ],
   "source": [
    "#CODE REVIEW\n",
    "mask = orders.loc[orders[\"group\"]==\"A\", \"visitorId\"].isin(orders.loc[orders[\"group\"]==\"B\", \"visitorId\"])\n",
    "orders.loc[mask[mask].index, \"visitorId\"].nunique()"
   ]
  },
  {
   "cell_type": "markdown",
   "metadata": {},
   "source": [
    "<hr style=\"border: 2px solid green;\" />"
   ]
  },
  {
   "cell_type": "markdown",
   "metadata": {},
   "source": [
    "Теперь подготовим данные для A/B теста. \n",
    "Сначала разберемся с **кол-вом пользователей по группам**"
   ]
  },
  {
   "cell_type": "code",
   "execution_count": 16,
   "metadata": {},
   "outputs": [
    {
     "data": {
      "text/html": [
       "<div>\n",
       "<style scoped>\n",
       "    .dataframe tbody tr th:only-of-type {\n",
       "        vertical-align: middle;\n",
       "    }\n",
       "\n",
       "    .dataframe tbody tr th {\n",
       "        vertical-align: top;\n",
       "    }\n",
       "\n",
       "    .dataframe thead th {\n",
       "        text-align: right;\n",
       "    }\n",
       "</style>\n",
       "<table border=\"1\" class=\"dataframe\">\n",
       "  <thead>\n",
       "    <tr style=\"text-align: right;\">\n",
       "      <th></th>\n",
       "      <th>date</th>\n",
       "      <th>visitorsPerDateA</th>\n",
       "    </tr>\n",
       "  </thead>\n",
       "  <tbody>\n",
       "    <tr>\n",
       "      <th>0</th>\n",
       "      <td>2019-08-01</td>\n",
       "      <td>719</td>\n",
       "    </tr>\n",
       "    <tr>\n",
       "      <th>1</th>\n",
       "      <td>2019-08-02</td>\n",
       "      <td>619</td>\n",
       "    </tr>\n",
       "    <tr>\n",
       "      <th>2</th>\n",
       "      <td>2019-08-03</td>\n",
       "      <td>507</td>\n",
       "    </tr>\n",
       "    <tr>\n",
       "      <th>3</th>\n",
       "      <td>2019-08-04</td>\n",
       "      <td>717</td>\n",
       "    </tr>\n",
       "    <tr>\n",
       "      <th>4</th>\n",
       "      <td>2019-08-05</td>\n",
       "      <td>756</td>\n",
       "    </tr>\n",
       "  </tbody>\n",
       "</table>\n",
       "</div>"
      ],
      "text/plain": [
       "        date  visitorsPerDateA\n",
       "0 2019-08-01               719\n",
       "1 2019-08-02               619\n",
       "2 2019-08-03               507\n",
       "3 2019-08-04               717\n",
       "4 2019-08-05               756"
      ]
     },
     "execution_count": 16,
     "metadata": {},
     "output_type": "execute_result"
    }
   ],
   "source": [
    "# количество пользователей в день в группе А\n",
    "visitorsADaily = visitors[visitors['group']=='A'][['date', 'visitors']]\n",
    "# отдельные столбцы \n",
    "visitorsADaily.columns = ['date', 'visitorsPerDateA']\n",
    "visitorsADaily.head()"
   ]
  },
  {
   "cell_type": "code",
   "execution_count": 17,
   "metadata": {},
   "outputs": [
    {
     "data": {
      "text/html": [
       "<div>\n",
       "<style scoped>\n",
       "    .dataframe tbody tr th:only-of-type {\n",
       "        vertical-align: middle;\n",
       "    }\n",
       "\n",
       "    .dataframe tbody tr th {\n",
       "        vertical-align: top;\n",
       "    }\n",
       "\n",
       "    .dataframe thead th {\n",
       "        text-align: right;\n",
       "    }\n",
       "</style>\n",
       "<table border=\"1\" class=\"dataframe\">\n",
       "  <thead>\n",
       "    <tr style=\"text-align: right;\">\n",
       "      <th></th>\n",
       "      <th>date</th>\n",
       "      <th>visitorsCummulativeA</th>\n",
       "    </tr>\n",
       "  </thead>\n",
       "  <tbody>\n",
       "    <tr>\n",
       "      <th>0</th>\n",
       "      <td>2019-08-01</td>\n",
       "      <td>719</td>\n",
       "    </tr>\n",
       "    <tr>\n",
       "      <th>1</th>\n",
       "      <td>2019-08-02</td>\n",
       "      <td>1338</td>\n",
       "    </tr>\n",
       "    <tr>\n",
       "      <th>2</th>\n",
       "      <td>2019-08-03</td>\n",
       "      <td>1845</td>\n",
       "    </tr>\n",
       "    <tr>\n",
       "      <th>3</th>\n",
       "      <td>2019-08-04</td>\n",
       "      <td>2562</td>\n",
       "    </tr>\n",
       "    <tr>\n",
       "      <th>4</th>\n",
       "      <td>2019-08-05</td>\n",
       "      <td>3318</td>\n",
       "    </tr>\n",
       "  </tbody>\n",
       "</table>\n",
       "</div>"
      ],
      "text/plain": [
       "        date  visitorsCummulativeA\n",
       "0 2019-08-01                   719\n",
       "1 2019-08-02                  1338\n",
       "2 2019-08-03                  1845\n",
       "3 2019-08-04                  2562\n",
       "4 2019-08-05                  3318"
      ]
     },
     "execution_count": 17,
     "metadata": {},
     "output_type": "execute_result"
    }
   ],
   "source": [
    "# накопительное количество пользователей в день\n",
    "visitorsACummulative = visitorsADaily.apply(\n",
    "    lambda x: visitorsADaily[visitorsADaily['date'] <= x['date']]\n",
    "             .agg({'date' : 'max', \n",
    "                   'visitorsPerDateA' : 'sum'}), axis=1\n",
    ")\n",
    "# соответствующие столбцы\n",
    "visitorsACummulative.columns = ['date', 'visitorsCummulativeA']\n",
    "visitorsACummulative.head()"
   ]
  },
  {
   "cell_type": "code",
   "execution_count": 18,
   "metadata": {},
   "outputs": [
    {
     "data": {
      "text/html": [
       "<div>\n",
       "<style scoped>\n",
       "    .dataframe tbody tr th:only-of-type {\n",
       "        vertical-align: middle;\n",
       "    }\n",
       "\n",
       "    .dataframe tbody tr th {\n",
       "        vertical-align: top;\n",
       "    }\n",
       "\n",
       "    .dataframe thead th {\n",
       "        text-align: right;\n",
       "    }\n",
       "</style>\n",
       "<table border=\"1\" class=\"dataframe\">\n",
       "  <thead>\n",
       "    <tr style=\"text-align: right;\">\n",
       "      <th></th>\n",
       "      <th>date</th>\n",
       "      <th>visitorsPerDateB</th>\n",
       "    </tr>\n",
       "  </thead>\n",
       "  <tbody>\n",
       "    <tr>\n",
       "      <th>31</th>\n",
       "      <td>2019-08-01</td>\n",
       "      <td>713</td>\n",
       "    </tr>\n",
       "    <tr>\n",
       "      <th>32</th>\n",
       "      <td>2019-08-02</td>\n",
       "      <td>581</td>\n",
       "    </tr>\n",
       "    <tr>\n",
       "      <th>33</th>\n",
       "      <td>2019-08-03</td>\n",
       "      <td>509</td>\n",
       "    </tr>\n",
       "    <tr>\n",
       "      <th>34</th>\n",
       "      <td>2019-08-04</td>\n",
       "      <td>770</td>\n",
       "    </tr>\n",
       "    <tr>\n",
       "      <th>35</th>\n",
       "      <td>2019-08-05</td>\n",
       "      <td>707</td>\n",
       "    </tr>\n",
       "  </tbody>\n",
       "</table>\n",
       "</div>"
      ],
      "text/plain": [
       "         date  visitorsPerDateB\n",
       "31 2019-08-01               713\n",
       "32 2019-08-02               581\n",
       "33 2019-08-03               509\n",
       "34 2019-08-04               770\n",
       "35 2019-08-05               707"
      ]
     },
     "execution_count": 18,
     "metadata": {},
     "output_type": "execute_result"
    }
   ],
   "source": [
    "# количество пользователей в день в группе B\n",
    "visitorsBDaily = visitors[visitors['group']=='B'][['date', 'visitors']]\n",
    "visitorsBDaily.columns = ['date', 'visitorsPerDateB']\n",
    "visitorsBDaily.head()"
   ]
  },
  {
   "cell_type": "code",
   "execution_count": 19,
   "metadata": {},
   "outputs": [
    {
     "data": {
      "text/html": [
       "<div>\n",
       "<style scoped>\n",
       "    .dataframe tbody tr th:only-of-type {\n",
       "        vertical-align: middle;\n",
       "    }\n",
       "\n",
       "    .dataframe tbody tr th {\n",
       "        vertical-align: top;\n",
       "    }\n",
       "\n",
       "    .dataframe thead th {\n",
       "        text-align: right;\n",
       "    }\n",
       "</style>\n",
       "<table border=\"1\" class=\"dataframe\">\n",
       "  <thead>\n",
       "    <tr style=\"text-align: right;\">\n",
       "      <th></th>\n",
       "      <th>date</th>\n",
       "      <th>visitorsCummulativeB</th>\n",
       "    </tr>\n",
       "  </thead>\n",
       "  <tbody>\n",
       "    <tr>\n",
       "      <th>31</th>\n",
       "      <td>2019-08-01</td>\n",
       "      <td>713</td>\n",
       "    </tr>\n",
       "    <tr>\n",
       "      <th>32</th>\n",
       "      <td>2019-08-02</td>\n",
       "      <td>1294</td>\n",
       "    </tr>\n",
       "    <tr>\n",
       "      <th>33</th>\n",
       "      <td>2019-08-03</td>\n",
       "      <td>1803</td>\n",
       "    </tr>\n",
       "    <tr>\n",
       "      <th>34</th>\n",
       "      <td>2019-08-04</td>\n",
       "      <td>2573</td>\n",
       "    </tr>\n",
       "    <tr>\n",
       "      <th>35</th>\n",
       "      <td>2019-08-05</td>\n",
       "      <td>3280</td>\n",
       "    </tr>\n",
       "  </tbody>\n",
       "</table>\n",
       "</div>"
      ],
      "text/plain": [
       "         date  visitorsCummulativeB\n",
       "31 2019-08-01                   713\n",
       "32 2019-08-02                  1294\n",
       "33 2019-08-03                  1803\n",
       "34 2019-08-04                  2573\n",
       "35 2019-08-05                  3280"
      ]
     },
     "execution_count": 19,
     "metadata": {},
     "output_type": "execute_result"
    }
   ],
   "source": [
    "# накопительное количество пользователей в день в группе B\n",
    "visitorsBCummulative = visitorsBDaily.apply(\n",
    "    lambda x: visitorsBDaily[visitorsBDaily['date'] <= x['date']]\n",
    "              .agg({'date' : 'max', \n",
    "                    'visitorsPerDateB' : 'sum'}), axis=1\n",
    ")\n",
    "# соответствующие столбцы\n",
    "visitorsBCummulative.columns = ['date', 'visitorsCummulativeB']\n",
    "visitorsBCummulative.head()"
   ]
  },
  {
   "cell_type": "code",
   "execution_count": 20,
   "metadata": {},
   "outputs": [
    {
     "name": "stdout",
     "output_type": "stream",
     "text": [
      "Кол-во посещений в группе А за месяц 18736\n",
      "Кол-во посещений в группе Б за месяц 18916\n"
     ]
    }
   ],
   "source": [
    "print('Кол-во посещений в группе А за месяц', visitorsADaily.visitorsPerDateA.sum())\n",
    "      \n",
    "print('Кол-во посещений в группе Б за месяц', visitorsBDaily.visitorsPerDateB.sum())"
   ]
  },
  {
   "cell_type": "markdown",
   "metadata": {},
   "source": [
    "Количество посещений в группах за месяц проведения теста практически совпадает.\n",
    "\n",
    "**Количество заказов в группах А и В**"
   ]
  },
  {
   "cell_type": "code",
   "execution_count": 21,
   "metadata": {},
   "outputs": [
    {
     "data": {
      "text/html": [
       "<div>\n",
       "<style scoped>\n",
       "    .dataframe tbody tr th:only-of-type {\n",
       "        vertical-align: middle;\n",
       "    }\n",
       "\n",
       "    .dataframe tbody tr th {\n",
       "        vertical-align: top;\n",
       "    }\n",
       "\n",
       "    .dataframe thead th {\n",
       "        text-align: right;\n",
       "    }\n",
       "</style>\n",
       "<table border=\"1\" class=\"dataframe\">\n",
       "  <thead>\n",
       "    <tr style=\"text-align: right;\">\n",
       "      <th></th>\n",
       "      <th>date</th>\n",
       "      <th>ordersPerDateA</th>\n",
       "      <th>revenuePerDateA</th>\n",
       "    </tr>\n",
       "  </thead>\n",
       "  <tbody>\n",
       "    <tr>\n",
       "      <th>0</th>\n",
       "      <td>2019-08-01</td>\n",
       "      <td>24</td>\n",
       "      <td>148579</td>\n",
       "    </tr>\n",
       "    <tr>\n",
       "      <th>1</th>\n",
       "      <td>2019-08-02</td>\n",
       "      <td>20</td>\n",
       "      <td>93822</td>\n",
       "    </tr>\n",
       "    <tr>\n",
       "      <th>2</th>\n",
       "      <td>2019-08-03</td>\n",
       "      <td>24</td>\n",
       "      <td>112473</td>\n",
       "    </tr>\n",
       "    <tr>\n",
       "      <th>3</th>\n",
       "      <td>2019-08-04</td>\n",
       "      <td>16</td>\n",
       "      <td>70825</td>\n",
       "    </tr>\n",
       "    <tr>\n",
       "      <th>4</th>\n",
       "      <td>2019-08-05</td>\n",
       "      <td>25</td>\n",
       "      <td>124218</td>\n",
       "    </tr>\n",
       "  </tbody>\n",
       "</table>\n",
       "</div>"
      ],
      "text/plain": [
       "        date  ordersPerDateA  revenuePerDateA\n",
       "0 2019-08-01              24           148579\n",
       "1 2019-08-02              20            93822\n",
       "2 2019-08-03              24           112473\n",
       "3 2019-08-04              16            70825\n",
       "4 2019-08-05              25           124218"
      ]
     },
     "execution_count": 21,
     "metadata": {},
     "output_type": "execute_result"
    }
   ],
   "source": [
    "# количество заказов и суммарная выручка в день по группе А\n",
    "ordersADaily = (\n",
    "    orders[orders['group']=='A'][['date', 'transactionId', 'visitorId', 'revenue']]\n",
    "                       .groupby('date', as_index=False)\n",
    "                       .agg({'transactionId' : pd.Series.nunique,'revenue' : 'sum'})\n",
    ")\n",
    "# соответствующие столбцы\n",
    "ordersADaily.columns = ['date', 'ordersPerDateA', 'revenuePerDateA']\n",
    "ordersADaily.head()"
   ]
  },
  {
   "cell_type": "code",
   "execution_count": 22,
   "metadata": {},
   "outputs": [
    {
     "data": {
      "text/html": [
       "<div>\n",
       "<style scoped>\n",
       "    .dataframe tbody tr th:only-of-type {\n",
       "        vertical-align: middle;\n",
       "    }\n",
       "\n",
       "    .dataframe tbody tr th {\n",
       "        vertical-align: top;\n",
       "    }\n",
       "\n",
       "    .dataframe thead th {\n",
       "        text-align: right;\n",
       "    }\n",
       "</style>\n",
       "<table border=\"1\" class=\"dataframe\">\n",
       "  <thead>\n",
       "    <tr style=\"text-align: right;\">\n",
       "      <th></th>\n",
       "      <th>date</th>\n",
       "      <th>ordersCummulativeA</th>\n",
       "      <th>revenueCummulativeA</th>\n",
       "    </tr>\n",
       "  </thead>\n",
       "  <tbody>\n",
       "    <tr>\n",
       "      <th>26</th>\n",
       "      <td>2019-08-27</td>\n",
       "      <td>495</td>\n",
       "      <td>3514698</td>\n",
       "    </tr>\n",
       "    <tr>\n",
       "      <th>27</th>\n",
       "      <td>2019-08-28</td>\n",
       "      <td>512</td>\n",
       "      <td>3615820</td>\n",
       "    </tr>\n",
       "    <tr>\n",
       "      <th>28</th>\n",
       "      <td>2019-08-29</td>\n",
       "      <td>534</td>\n",
       "      <td>3936510</td>\n",
       "    </tr>\n",
       "    <tr>\n",
       "      <th>29</th>\n",
       "      <td>2019-08-30</td>\n",
       "      <td>545</td>\n",
       "      <td>4022970</td>\n",
       "    </tr>\n",
       "    <tr>\n",
       "      <th>30</th>\n",
       "      <td>2019-08-31</td>\n",
       "      <td>557</td>\n",
       "      <td>4084803</td>\n",
       "    </tr>\n",
       "  </tbody>\n",
       "</table>\n",
       "</div>"
      ],
      "text/plain": [
       "         date  ordersCummulativeA  revenueCummulativeA\n",
       "26 2019-08-27                 495              3514698\n",
       "27 2019-08-28                 512              3615820\n",
       "28 2019-08-29                 534              3936510\n",
       "29 2019-08-30                 545              4022970\n",
       "30 2019-08-31                 557              4084803"
      ]
     },
     "execution_count": 22,
     "metadata": {},
     "output_type": "execute_result"
    }
   ],
   "source": [
    "# накопительное количество заказов и суммарной выручки в день по группе А\n",
    "ordersACummulative = ordersADaily.apply(\n",
    "    lambda x: ordersADaily[ordersADaily['date'] <= x['date']]\n",
    "            .agg({'date' : 'max', \n",
    "                  'ordersPerDateA' : 'sum', \n",
    "                  'revenuePerDateA' : 'sum'}), axis=1).sort_values(by=['date']\n",
    ")\n",
    "# соответствующие столбцы\n",
    "ordersACummulative.columns = ['date', 'ordersCummulativeA', 'revenueCummulativeA']\n",
    "ordersACummulative.tail()"
   ]
  },
  {
   "cell_type": "code",
   "execution_count": 23,
   "metadata": {},
   "outputs": [
    {
     "data": {
      "text/html": [
       "<div>\n",
       "<style scoped>\n",
       "    .dataframe tbody tr th:only-of-type {\n",
       "        vertical-align: middle;\n",
       "    }\n",
       "\n",
       "    .dataframe tbody tr th {\n",
       "        vertical-align: top;\n",
       "    }\n",
       "\n",
       "    .dataframe thead th {\n",
       "        text-align: right;\n",
       "    }\n",
       "</style>\n",
       "<table border=\"1\" class=\"dataframe\">\n",
       "  <thead>\n",
       "    <tr style=\"text-align: right;\">\n",
       "      <th></th>\n",
       "      <th>date</th>\n",
       "      <th>ordersPerDateB</th>\n",
       "      <th>revenuePerDateB</th>\n",
       "    </tr>\n",
       "  </thead>\n",
       "  <tbody>\n",
       "    <tr>\n",
       "      <th>0</th>\n",
       "      <td>2019-08-01</td>\n",
       "      <td>21</td>\n",
       "      <td>101217</td>\n",
       "    </tr>\n",
       "    <tr>\n",
       "      <th>1</th>\n",
       "      <td>2019-08-02</td>\n",
       "      <td>24</td>\n",
       "      <td>165531</td>\n",
       "    </tr>\n",
       "    <tr>\n",
       "      <th>2</th>\n",
       "      <td>2019-08-03</td>\n",
       "      <td>16</td>\n",
       "      <td>114248</td>\n",
       "    </tr>\n",
       "    <tr>\n",
       "      <th>3</th>\n",
       "      <td>2019-08-04</td>\n",
       "      <td>17</td>\n",
       "      <td>108571</td>\n",
       "    </tr>\n",
       "    <tr>\n",
       "      <th>4</th>\n",
       "      <td>2019-08-05</td>\n",
       "      <td>23</td>\n",
       "      <td>92428</td>\n",
       "    </tr>\n",
       "  </tbody>\n",
       "</table>\n",
       "</div>"
      ],
      "text/plain": [
       "        date  ordersPerDateB  revenuePerDateB\n",
       "0 2019-08-01              21           101217\n",
       "1 2019-08-02              24           165531\n",
       "2 2019-08-03              16           114248\n",
       "3 2019-08-04              17           108571\n",
       "4 2019-08-05              23            92428"
      ]
     },
     "execution_count": 23,
     "metadata": {},
     "output_type": "execute_result"
    }
   ],
   "source": [
    "# количество заказов и суммарная выручка в день по группе B\n",
    "ordersBDaily = (\n",
    "    orders[orders['group']=='B'][['date', 'transactionId', 'visitorId', 'revenue']]\n",
    "                    .groupby('date', as_index=False)\n",
    "                    .agg({'transactionId' : pd.Series.nunique, \n",
    "                          'revenue' : 'sum'})\n",
    ")\n",
    "# соответствующие столбцы\n",
    "ordersBDaily.columns = ['date', 'ordersPerDateB', 'revenuePerDateB']\n",
    "ordersBDaily.head()"
   ]
  },
  {
   "cell_type": "code",
   "execution_count": 24,
   "metadata": {},
   "outputs": [
    {
     "data": {
      "text/html": [
       "<div>\n",
       "<style scoped>\n",
       "    .dataframe tbody tr th:only-of-type {\n",
       "        vertical-align: middle;\n",
       "    }\n",
       "\n",
       "    .dataframe tbody tr th {\n",
       "        vertical-align: top;\n",
       "    }\n",
       "\n",
       "    .dataframe thead th {\n",
       "        text-align: right;\n",
       "    }\n",
       "</style>\n",
       "<table border=\"1\" class=\"dataframe\">\n",
       "  <thead>\n",
       "    <tr style=\"text-align: right;\">\n",
       "      <th></th>\n",
       "      <th>date</th>\n",
       "      <th>ordersCummulativeB</th>\n",
       "      <th>revenueCummulativeB</th>\n",
       "    </tr>\n",
       "  </thead>\n",
       "  <tbody>\n",
       "    <tr>\n",
       "      <th>26</th>\n",
       "      <td>2019-08-27</td>\n",
       "      <td>548</td>\n",
       "      <td>5232260</td>\n",
       "    </tr>\n",
       "    <tr>\n",
       "      <th>27</th>\n",
       "      <td>2019-08-28</td>\n",
       "      <td>576</td>\n",
       "      <td>5328268</td>\n",
       "    </tr>\n",
       "    <tr>\n",
       "      <th>28</th>\n",
       "      <td>2019-08-29</td>\n",
       "      <td>596</td>\n",
       "      <td>5559398</td>\n",
       "    </tr>\n",
       "    <tr>\n",
       "      <th>29</th>\n",
       "      <td>2019-08-30</td>\n",
       "      <td>620</td>\n",
       "      <td>5774631</td>\n",
       "    </tr>\n",
       "    <tr>\n",
       "      <th>30</th>\n",
       "      <td>2019-08-31</td>\n",
       "      <td>640</td>\n",
       "      <td>5907760</td>\n",
       "    </tr>\n",
       "  </tbody>\n",
       "</table>\n",
       "</div>"
      ],
      "text/plain": [
       "         date  ordersCummulativeB  revenueCummulativeB\n",
       "26 2019-08-27                 548              5232260\n",
       "27 2019-08-28                 576              5328268\n",
       "28 2019-08-29                 596              5559398\n",
       "29 2019-08-30                 620              5774631\n",
       "30 2019-08-31                 640              5907760"
      ]
     },
     "execution_count": 24,
     "metadata": {},
     "output_type": "execute_result"
    }
   ],
   "source": [
    "# накопительное количество заказов и суммарной выручки в день по группе B\n",
    "ordersBCummulative = ordersBDaily.apply(\n",
    "    lambda x: ordersBDaily[ordersBDaily['date'] <= x['date']]\n",
    "            .agg({'date' : 'max',\n",
    "                'ordersPerDateB' : 'sum',\n",
    "                'revenuePerDateB' : 'sum'}), axis=1).sort_values(by=['date'])\n",
    "# соответствующие столбцы\n",
    "ordersBCummulative.columns = ['date', 'ordersCummulativeB', 'revenueCummulativeB']\n",
    "ordersBCummulative.tail()"
   ]
  },
  {
   "cell_type": "markdown",
   "metadata": {},
   "source": [
    "Количество заказов в группе А (557)меньше чем в группе В (640)\n",
    "\n",
    "**Составление общей таблицы по группам А и В**"
   ]
  },
  {
   "cell_type": "code",
   "execution_count": 25,
   "metadata": {},
   "outputs": [
    {
     "data": {
      "text/html": [
       "<div>\n",
       "<style scoped>\n",
       "    .dataframe tbody tr th:only-of-type {\n",
       "        vertical-align: middle;\n",
       "    }\n",
       "\n",
       "    .dataframe tbody tr th {\n",
       "        vertical-align: top;\n",
       "    }\n",
       "\n",
       "    .dataframe thead th {\n",
       "        text-align: right;\n",
       "    }\n",
       "</style>\n",
       "<table border=\"1\" class=\"dataframe\">\n",
       "  <thead>\n",
       "    <tr style=\"text-align: right;\">\n",
       "      <th></th>\n",
       "      <th>date</th>\n",
       "      <th>ordersPerDateA</th>\n",
       "      <th>revenuePerDateA</th>\n",
       "      <th>ordersPerDateB</th>\n",
       "      <th>revenuePerDateB</th>\n",
       "      <th>ordersCummulativeA</th>\n",
       "      <th>revenueCummulativeA</th>\n",
       "      <th>ordersCummulativeB</th>\n",
       "      <th>revenueCummulativeB</th>\n",
       "      <th>visitorsPerDateA</th>\n",
       "      <th>visitorsPerDateB</th>\n",
       "      <th>visitorsCummulativeA</th>\n",
       "      <th>visitorsCummulativeB</th>\n",
       "    </tr>\n",
       "  </thead>\n",
       "  <tbody>\n",
       "    <tr>\n",
       "      <th>0</th>\n",
       "      <td>2019-08-01</td>\n",
       "      <td>24</td>\n",
       "      <td>148579</td>\n",
       "      <td>21</td>\n",
       "      <td>101217</td>\n",
       "      <td>24</td>\n",
       "      <td>148579</td>\n",
       "      <td>21</td>\n",
       "      <td>101217</td>\n",
       "      <td>719</td>\n",
       "      <td>713</td>\n",
       "      <td>719</td>\n",
       "      <td>713</td>\n",
       "    </tr>\n",
       "    <tr>\n",
       "      <th>1</th>\n",
       "      <td>2019-08-02</td>\n",
       "      <td>20</td>\n",
       "      <td>93822</td>\n",
       "      <td>24</td>\n",
       "      <td>165531</td>\n",
       "      <td>44</td>\n",
       "      <td>242401</td>\n",
       "      <td>45</td>\n",
       "      <td>266748</td>\n",
       "      <td>619</td>\n",
       "      <td>581</td>\n",
       "      <td>1338</td>\n",
       "      <td>1294</td>\n",
       "    </tr>\n",
       "    <tr>\n",
       "      <th>2</th>\n",
       "      <td>2019-08-03</td>\n",
       "      <td>24</td>\n",
       "      <td>112473</td>\n",
       "      <td>16</td>\n",
       "      <td>114248</td>\n",
       "      <td>68</td>\n",
       "      <td>354874</td>\n",
       "      <td>61</td>\n",
       "      <td>380996</td>\n",
       "      <td>507</td>\n",
       "      <td>509</td>\n",
       "      <td>1845</td>\n",
       "      <td>1803</td>\n",
       "    </tr>\n",
       "    <tr>\n",
       "      <th>3</th>\n",
       "      <td>2019-08-04</td>\n",
       "      <td>16</td>\n",
       "      <td>70825</td>\n",
       "      <td>17</td>\n",
       "      <td>108571</td>\n",
       "      <td>84</td>\n",
       "      <td>425699</td>\n",
       "      <td>78</td>\n",
       "      <td>489567</td>\n",
       "      <td>717</td>\n",
       "      <td>770</td>\n",
       "      <td>2562</td>\n",
       "      <td>2573</td>\n",
       "    </tr>\n",
       "    <tr>\n",
       "      <th>4</th>\n",
       "      <td>2019-08-05</td>\n",
       "      <td>25</td>\n",
       "      <td>124218</td>\n",
       "      <td>23</td>\n",
       "      <td>92428</td>\n",
       "      <td>109</td>\n",
       "      <td>549917</td>\n",
       "      <td>101</td>\n",
       "      <td>581995</td>\n",
       "      <td>756</td>\n",
       "      <td>707</td>\n",
       "      <td>3318</td>\n",
       "      <td>3280</td>\n",
       "    </tr>\n",
       "    <tr>\n",
       "      <th>5</th>\n",
       "      <td>2019-08-06</td>\n",
       "      <td>18</td>\n",
       "      <td>48484</td>\n",
       "      <td>28</td>\n",
       "      <td>242342</td>\n",
       "      <td>127</td>\n",
       "      <td>598401</td>\n",
       "      <td>129</td>\n",
       "      <td>824337</td>\n",
       "      <td>667</td>\n",
       "      <td>655</td>\n",
       "      <td>3985</td>\n",
       "      <td>3935</td>\n",
       "    </tr>\n",
       "    <tr>\n",
       "      <th>6</th>\n",
       "      <td>2019-08-07</td>\n",
       "      <td>18</td>\n",
       "      <td>142417</td>\n",
       "      <td>24</td>\n",
       "      <td>225334</td>\n",
       "      <td>145</td>\n",
       "      <td>740818</td>\n",
       "      <td>153</td>\n",
       "      <td>1049671</td>\n",
       "      <td>644</td>\n",
       "      <td>709</td>\n",
       "      <td>4629</td>\n",
       "      <td>4644</td>\n",
       "    </tr>\n",
       "    <tr>\n",
       "      <th>7</th>\n",
       "      <td>2019-08-08</td>\n",
       "      <td>16</td>\n",
       "      <td>96279</td>\n",
       "      <td>27</td>\n",
       "      <td>220918</td>\n",
       "      <td>161</td>\n",
       "      <td>837097</td>\n",
       "      <td>180</td>\n",
       "      <td>1270589</td>\n",
       "      <td>610</td>\n",
       "      <td>654</td>\n",
       "      <td>5239</td>\n",
       "      <td>5298</td>\n",
       "    </tr>\n",
       "    <tr>\n",
       "      <th>8</th>\n",
       "      <td>2019-08-09</td>\n",
       "      <td>16</td>\n",
       "      <td>188506</td>\n",
       "      <td>25</td>\n",
       "      <td>160812</td>\n",
       "      <td>177</td>\n",
       "      <td>1025603</td>\n",
       "      <td>205</td>\n",
       "      <td>1431401</td>\n",
       "      <td>617</td>\n",
       "      <td>610</td>\n",
       "      <td>5856</td>\n",
       "      <td>5908</td>\n",
       "    </tr>\n",
       "    <tr>\n",
       "      <th>9</th>\n",
       "      <td>2019-08-10</td>\n",
       "      <td>16</td>\n",
       "      <td>210495</td>\n",
       "      <td>23</td>\n",
       "      <td>107802</td>\n",
       "      <td>193</td>\n",
       "      <td>1236098</td>\n",
       "      <td>228</td>\n",
       "      <td>1539203</td>\n",
       "      <td>406</td>\n",
       "      <td>369</td>\n",
       "      <td>6262</td>\n",
       "      <td>6277</td>\n",
       "    </tr>\n",
       "    <tr>\n",
       "      <th>10</th>\n",
       "      <td>2019-08-11</td>\n",
       "      <td>13</td>\n",
       "      <td>77585</td>\n",
       "      <td>13</td>\n",
       "      <td>53310</td>\n",
       "      <td>206</td>\n",
       "      <td>1313683</td>\n",
       "      <td>241</td>\n",
       "      <td>1592513</td>\n",
       "      <td>718</td>\n",
       "      <td>721</td>\n",
       "      <td>6980</td>\n",
       "      <td>6998</td>\n",
       "    </tr>\n",
       "    <tr>\n",
       "      <th>11</th>\n",
       "      <td>2019-08-12</td>\n",
       "      <td>24</td>\n",
       "      <td>249190</td>\n",
       "      <td>23</td>\n",
       "      <td>141554</td>\n",
       "      <td>230</td>\n",
       "      <td>1562873</td>\n",
       "      <td>264</td>\n",
       "      <td>1734067</td>\n",
       "      <td>595</td>\n",
       "      <td>543</td>\n",
       "      <td>7575</td>\n",
       "      <td>7541</td>\n",
       "    </tr>\n",
       "    <tr>\n",
       "      <th>12</th>\n",
       "      <td>2019-08-13</td>\n",
       "      <td>14</td>\n",
       "      <td>263638</td>\n",
       "      <td>21</td>\n",
       "      <td>119671</td>\n",
       "      <td>244</td>\n",
       "      <td>1826511</td>\n",
       "      <td>285</td>\n",
       "      <td>1853738</td>\n",
       "      <td>748</td>\n",
       "      <td>769</td>\n",
       "      <td>8323</td>\n",
       "      <td>8310</td>\n",
       "    </tr>\n",
       "    <tr>\n",
       "      <th>13</th>\n",
       "      <td>2019-08-14</td>\n",
       "      <td>24</td>\n",
       "      <td>64341</td>\n",
       "      <td>23</td>\n",
       "      <td>171708</td>\n",
       "      <td>268</td>\n",
       "      <td>1890852</td>\n",
       "      <td>308</td>\n",
       "      <td>2025446</td>\n",
       "      <td>735</td>\n",
       "      <td>746</td>\n",
       "      <td>9058</td>\n",
       "      <td>9056</td>\n",
       "    </tr>\n",
       "    <tr>\n",
       "      <th>14</th>\n",
       "      <td>2019-08-15</td>\n",
       "      <td>15</td>\n",
       "      <td>88205</td>\n",
       "      <td>31</td>\n",
       "      <td>342499</td>\n",
       "      <td>283</td>\n",
       "      <td>1979057</td>\n",
       "      <td>339</td>\n",
       "      <td>2367945</td>\n",
       "      <td>628</td>\n",
       "      <td>544</td>\n",
       "      <td>9686</td>\n",
       "      <td>9600</td>\n",
       "    </tr>\n",
       "  </tbody>\n",
       "</table>\n",
       "</div>"
      ],
      "text/plain": [
       "         date  ordersPerDateA  revenuePerDateA  ordersPerDateB  \\\n",
       "0  2019-08-01              24           148579              21   \n",
       "1  2019-08-02              20            93822              24   \n",
       "2  2019-08-03              24           112473              16   \n",
       "3  2019-08-04              16            70825              17   \n",
       "4  2019-08-05              25           124218              23   \n",
       "5  2019-08-06              18            48484              28   \n",
       "6  2019-08-07              18           142417              24   \n",
       "7  2019-08-08              16            96279              27   \n",
       "8  2019-08-09              16           188506              25   \n",
       "9  2019-08-10              16           210495              23   \n",
       "10 2019-08-11              13            77585              13   \n",
       "11 2019-08-12              24           249190              23   \n",
       "12 2019-08-13              14           263638              21   \n",
       "13 2019-08-14              24            64341              23   \n",
       "14 2019-08-15              15            88205              31   \n",
       "\n",
       "    revenuePerDateB  ordersCummulativeA  revenueCummulativeA  \\\n",
       "0            101217                  24               148579   \n",
       "1            165531                  44               242401   \n",
       "2            114248                  68               354874   \n",
       "3            108571                  84               425699   \n",
       "4             92428                 109               549917   \n",
       "5            242342                 127               598401   \n",
       "6            225334                 145               740818   \n",
       "7            220918                 161               837097   \n",
       "8            160812                 177              1025603   \n",
       "9            107802                 193              1236098   \n",
       "10            53310                 206              1313683   \n",
       "11           141554                 230              1562873   \n",
       "12           119671                 244              1826511   \n",
       "13           171708                 268              1890852   \n",
       "14           342499                 283              1979057   \n",
       "\n",
       "    ordersCummulativeB  revenueCummulativeB  visitorsPerDateA  \\\n",
       "0                   21               101217               719   \n",
       "1                   45               266748               619   \n",
       "2                   61               380996               507   \n",
       "3                   78               489567               717   \n",
       "4                  101               581995               756   \n",
       "5                  129               824337               667   \n",
       "6                  153              1049671               644   \n",
       "7                  180              1270589               610   \n",
       "8                  205              1431401               617   \n",
       "9                  228              1539203               406   \n",
       "10                 241              1592513               718   \n",
       "11                 264              1734067               595   \n",
       "12                 285              1853738               748   \n",
       "13                 308              2025446               735   \n",
       "14                 339              2367945               628   \n",
       "\n",
       "    visitorsPerDateB  visitorsCummulativeA  visitorsCummulativeB  \n",
       "0                713                   719                   713  \n",
       "1                581                  1338                  1294  \n",
       "2                509                  1845                  1803  \n",
       "3                770                  2562                  2573  \n",
       "4                707                  3318                  3280  \n",
       "5                655                  3985                  3935  \n",
       "6                709                  4629                  4644  \n",
       "7                654                  5239                  5298  \n",
       "8                610                  5856                  5908  \n",
       "9                369                  6262                  6277  \n",
       "10               721                  6980                  6998  \n",
       "11               543                  7575                  7541  \n",
       "12               769                  8323                  8310  \n",
       "13               746                  9058                  9056  \n",
       "14               544                  9686                  9600  "
      ]
     },
     "execution_count": 25,
     "metadata": {},
     "output_type": "execute_result"
    }
   ],
   "source": [
    "# объединим полученные данные в один датасет, по дате заказа\n",
    "data = ordersADaily.merge(ordersBDaily, left_on='date', right_on='date', how='left')\\\n",
    "    .merge(ordersACummulative, left_on='date', right_on='date', how='left')\\\n",
    "    .merge(ordersBCummulative, left_on='date', right_on='date', how='left')\\\n",
    "    .merge(visitorsADaily, left_on='date', right_on='date', how='left')\\\n",
    "    .merge(visitorsBDaily, left_on='date', right_on='date', how='left')\\\n",
    "    .merge(visitorsACummulative, left_on='date', right_on='date', how='left')\\\n",
    "    .merge(visitorsBCummulative, left_on='date', right_on='date', how='left')\n",
    "\n",
    "data.head(15)"
   ]
  },
  {
   "cell_type": "markdown",
   "metadata": {},
   "source": [
    "### График кумулятивной выручки"
   ]
  },
  {
   "cell_type": "code",
   "execution_count": 26,
   "metadata": {},
   "outputs": [
    {
     "data": {
      "image/png": "[encoded data removed]",
      "text/plain": [
       "<Figure size 432x288 with 1 Axes>"
      ]
     },
     "metadata": {
      "needs_background": "light"
     },
     "output_type": "display_data"
    }
   ],
   "source": [
    "# график кумулятивной выручки группы А\n",
    "plt.plot(data['date'], data['revenueCummulativeA'], label='группа A')\n",
    "\n",
    "# график кумулятивной выручки группы B\n",
    "plt.plot(data['date'], data['revenueCummulativeB'], label='группа B')\n",
    "plt.xticks(rotation=45)\n",
    "plt.grid()\n",
    "plt.title('Кумулятивная выручка')\n",
    "plt.ylabel('Сумма млн.')\n",
    "plt.legend();"
   ]
  },
  {
   "cell_type": "markdown",
   "metadata": {},
   "source": [
    "Выручка растет в течении всего времени по обеим группам, но заметен резкий скачок в группе В. Могу предположить, что в данных есть выбросы с 17 по 20 августа. Кроме того мы видим, что выручка в группе В выше, скорее всего на это также влияет и кол-во заказов (их больше). И начиная с 17 августа мы видим разницу в выручке групп. В группе А она устойчиво и плавно растет, в группе В она выше на 2 млн.\n",
    "\n",
    "\n",
    "### График кумулятивного среднего чека по группам"
   ]
  },
  {
   "cell_type": "code",
   "execution_count": 27,
   "metadata": {},
   "outputs": [
    {
     "data": {
      "image/png": "[encoded data removed]",
      "text/plain": [
       "<Figure size 432x288 with 1 Axes>"
      ]
     },
     "metadata": {
      "needs_background": "light"
     },
     "output_type": "display_data"
    }
   ],
   "source": [
    "# график кумулятивного среднего чека группы А\n",
    "plt.plot(data['date'], data['revenueCummulativeA'] / data['ordersCummulativeA'], label='группа A')\n",
    "\n",
    "# график кумулятивного среднего чека группы B\n",
    "plt.plot(data['date'], data['revenueCummulativeB'] / data['ordersCummulativeB'], label='группа B')\n",
    "plt.xticks(rotation=45)\n",
    "plt.grid()\n",
    "plt.legend()\n",
    "plt.title('Кумулятивный средний чек')\n",
    "plt.ylabel('Величина чека');"
   ]
  },
  {
   "cell_type": "markdown",
   "metadata": {},
   "source": [
    "Средний чек группы В растет и виден резкий скачок 18-20 августа (дорогая покупка?).\n",
    "\n",
    "Группа А после провала в начале августа показывает более быстрый рост по среднему чеку, но стабилизируется на уровне 7000 уже к середине теста. В группе В стабилизации среднего чека явно мешает \"выброс\".\n",
    "\n",
    "### График относительного изменения кумулятивного среднего чека группы B к группе A"
   ]
  },
  {
   "cell_type": "code",
   "execution_count": 28,
   "metadata": {},
   "outputs": [
    {
     "data": {
      "image/png": "[encoded data removed]",
      "text/plain": [
       "<Figure size 432x288 with 1 Axes>"
      ]
     },
     "metadata": {
      "needs_background": "light"
     },
     "output_type": "display_data"
    }
   ],
   "source": [
    "plt.plot(data['date'], (data['revenueCummulativeB']/data['ordersCummulativeB'])/(\n",
    "                        data['revenueCummulativeA']/data['ordersCummulativeA'])-1)\n",
    "# добавляем ось X\n",
    "plt.axhline(y=0, color='black', linestyle='--')\n",
    "\n",
    "plt.xticks(rotation=45)\n",
    "plt.grid()\n",
    "plt.title('Относительное изменение кумулятивного среднего чека');"
   ]
  },
  {
   "cell_type": "markdown",
   "metadata": {},
   "source": [
    "- Группа В за пару дней теста увеличила свой средний чек выше значений группы А.\n",
    "- Два периода явно \"аномально\" дорогих покупок в группе В удерживали значения среднего чека выше чем в группе А.\n",
    "- Надо удостоверится в сохранении преимущества после отсечения данных по выбросам\n",
    "\n",
    "### График кумулятивной конверсии по группам"
   ]
  },
  {
   "cell_type": "code",
   "execution_count": 29,
   "metadata": {},
   "outputs": [
    {
     "data": {
      "image/png": "[encoded data removed]",
      "text/plain": [
       "<Figure size 432x288 with 1 Axes>"
      ]
     },
     "metadata": {
      "needs_background": "light"
     },
     "output_type": "display_data"
    }
   ],
   "source": [
    "# строим график кумулятивной конверсии\n",
    "plt.plot(data['date'], data['ordersCummulativeA'] / data['visitorsCummulativeA'], label='Группа A')\n",
    "plt.plot(data['date'], data['ordersCummulativeB'] / data['visitorsCummulativeB'], label='Группа B')\n",
    "\n",
    "plt.xticks(rotation=45)\n",
    "plt.title('Кумулятивная конверсия')\n",
    "plt.legend()\n",
    "plt.grid();"
   ]
  },
  {
   "cell_type": "markdown",
   "metadata": {},
   "source": [
    "- Конверсия по группам вначале наблюдений колеблется очень сильно.\n",
    "- После недели наблюдений устанавливается тенденция в разнице конверсий.\n",
    "- Конверсия группы В выше чем в группе А.\n",
    "- Со временем колебания значений конверсии уменьшаются.\n",
    "\n",
    "### График относительного изменения кумулятивной конверсии группы B к группе A"
   ]
  },
  {
   "cell_type": "code",
   "execution_count": 30,
   "metadata": {},
   "outputs": [
    {
     "data": {
      "image/png": "[encoded data removed]",
      "text/plain": [
       "<Figure size 432x288 with 1 Axes>"
      ]
     },
     "metadata": {
      "needs_background": "light"
     },
     "output_type": "display_data"
    }
   ],
   "source": [
    "plt.plot(data['date'], (data['ordersCummulativeB'] / data['visitorsCummulativeB']) / (\n",
    "                        data['ordersCummulativeA'] / data['visitorsCummulativeA'])-1)\n",
    "\n",
    "plt.xticks(rotation=45)\n",
    "plt.grid()\n",
    "plt.axhline(y=0, color='black', linestyle='--')\n",
    "plt.axhline(y=-0.1, color='grey', linestyle='--')\n",
    "\n",
    "plt.title('Относительное изменение кумулятивной конверсии группы B к группе A');"
   ]
  },
  {
   "cell_type": "markdown",
   "metadata": {},
   "source": [
    "- Первую неделю теста группа B значительно проигрывала группе A.\n",
    "- После резкого роста, разница в конверсиях установилась на уровне 10% (выше у группы В).\n",
    "- Колебания конверсий к концу теста еще сохраняются в пределах 2-3%\n",
    "<br>\n",
    "\n",
    "\n",
    "<div style=\"border-radius: 15px; box-shadow: 4px 4px 4px; border: solid green 2px; padding: 20px\"> <b>Отличная работа - ✅</b><br>\n",
    "Раздел кумулятивных метрик выполнен прекрасно:\n",
    "<ul>\n",
    "    <li> данные подготовлены\n",
    "    <li> графики построены\n",
    "    <li> проанализировано поведение метрик\n",
    "    <li> отмечены аномалии и их возможные причины</ul>\n",
    "Молодец, так держать💪</div> <br>\n",
    "\n",
    "### Точечный график количества заказов по пользователям\n",
    "Для обнаружения аномальных данных, проведем анализ выбросов по нескольким данным: \n",
    "1. количество заказов пользователей и стоимости заказов. \n",
    "2. Отфильтруем данные исключив аномалии из анализа."
   ]
  },
  {
   "cell_type": "code",
   "execution_count": 31,
   "metadata": {},
   "outputs": [
    {
     "data": {
      "text/html": [
       "<div>\n",
       "<style scoped>\n",
       "    .dataframe tbody tr th:only-of-type {\n",
       "        vertical-align: middle;\n",
       "    }\n",
       "\n",
       "    .dataframe tbody tr th {\n",
       "        vertical-align: top;\n",
       "    }\n",
       "\n",
       "    .dataframe thead th {\n",
       "        text-align: right;\n",
       "    }\n",
       "</style>\n",
       "<table border=\"1\" class=\"dataframe\">\n",
       "  <thead>\n",
       "    <tr style=\"text-align: right;\">\n",
       "      <th></th>\n",
       "      <th>visitorId</th>\n",
       "      <th>transactionId</th>\n",
       "    </tr>\n",
       "  </thead>\n",
       "  <tbody>\n",
       "    <tr>\n",
       "      <th>1023</th>\n",
       "      <td>4256040402</td>\n",
       "      <td>11</td>\n",
       "    </tr>\n",
       "    <tr>\n",
       "      <th>591</th>\n",
       "      <td>2458001652</td>\n",
       "      <td>11</td>\n",
       "    </tr>\n",
       "    <tr>\n",
       "      <th>569</th>\n",
       "      <td>2378935119</td>\n",
       "      <td>9</td>\n",
       "    </tr>\n",
       "    <tr>\n",
       "      <th>487</th>\n",
       "      <td>2038680547</td>\n",
       "      <td>8</td>\n",
       "    </tr>\n",
       "    <tr>\n",
       "      <th>44</th>\n",
       "      <td>199603092</td>\n",
       "      <td>5</td>\n",
       "    </tr>\n",
       "    <tr>\n",
       "      <th>744</th>\n",
       "      <td>3062433592</td>\n",
       "      <td>5</td>\n",
       "    </tr>\n",
       "    <tr>\n",
       "      <th>55</th>\n",
       "      <td>237748145</td>\n",
       "      <td>5</td>\n",
       "    </tr>\n",
       "    <tr>\n",
       "      <th>917</th>\n",
       "      <td>3803269165</td>\n",
       "      <td>5</td>\n",
       "    </tr>\n",
       "    <tr>\n",
       "      <th>299</th>\n",
       "      <td>1230306981</td>\n",
       "      <td>5</td>\n",
       "    </tr>\n",
       "    <tr>\n",
       "      <th>897</th>\n",
       "      <td>3717692402</td>\n",
       "      <td>5</td>\n",
       "    </tr>\n",
       "  </tbody>\n",
       "</table>\n",
       "</div>"
      ],
      "text/plain": [
       "       visitorId  transactionId\n",
       "1023  4256040402             11\n",
       "591   2458001652             11\n",
       "569   2378935119              9\n",
       "487   2038680547              8\n",
       "44     199603092              5\n",
       "744   3062433592              5\n",
       "55     237748145              5\n",
       "917   3803269165              5\n",
       "299   1230306981              5\n",
       "897   3717692402              5"
      ]
     },
     "execution_count": 31,
     "metadata": {},
     "output_type": "execute_result"
    }
   ],
   "source": [
    "ordersByUsers = orders.drop(['group', 'date'], axis=1) \\\n",
    "                                .groupby('visitorId', as_index=False) \\\n",
    "                                .agg({'transactionId' : pd.Series.nunique})\n",
    "\n",
    "ordersByUsers.columns = ['visitorId', 'transactionId']\n",
    "\n",
    "ordersByUsers.sort_values(by='transactionId',ascending=False).head(10)"
   ]
  },
  {
   "cell_type": "code",
   "execution_count": 32,
   "metadata": {},
   "outputs": [
    {
     "data": {
      "text/plain": [
       "(1031, 2)"
      ]
     },
     "execution_count": 32,
     "metadata": {},
     "output_type": "execute_result"
    }
   ],
   "source": [
    "ordersByUsers.shape"
   ]
  },
  {
   "cell_type": "code",
   "execution_count": 33,
   "metadata": {},
   "outputs": [
    {
     "data": {
      "image/png": "[encoded data removed]",
      "text/plain": [
       "<Figure size 432x288 with 1 Axes>"
      ]
     },
     "metadata": {
      "needs_background": "light"
     },
     "output_type": "display_data"
    }
   ],
   "source": [
    "x_values = pd.Series(range(0, len(ordersByUsers)))\n",
    "plt.scatter(x_values, ordersByUsers['transactionId'])\n",
    "plt.title('Точечный график количества заказов по пользователям')\n",
    "plt.ylabel('Количество заказов')\n",
    "plt.xlabel('Пользователя (номера по индексу)')\n",
    "plt.grid();"
   ]
  },
  {
   "cell_type": "markdown",
   "metadata": {},
   "source": [
    "Больше 2 заказов у пользователя можно считать аномальным явлением, всего несколько пользователей заказывали более 6 раз.\n",
    "Проверим показатели по выбросам с помощью 95-99% границ распределения.\n",
    "\n",
    "### 95-й и 99-й перцентили количества заказов на пользователя**\n",
    "\n"
   ]
  },
  {
   "cell_type": "code",
   "execution_count": 34,
   "metadata": {},
   "outputs": [
    {
     "data": {
      "text/plain": [
       "array([2., 3., 4.])"
      ]
     },
     "execution_count": 34,
     "metadata": {},
     "output_type": "execute_result"
    }
   ],
   "source": [
    "np.percentile(ordersByUsers['transactionId'], [95, 97.5, 99])\n"
   ]
  },
  {
   "cell_type": "markdown",
   "metadata": {},
   "source": [
    "Верхнюю границу диапазона принимаем = 2 (95% охват всех заказов)\n",
    "\n",
    "### Точечный график стоимостей заказов"
   ]
  },
  {
   "cell_type": "code",
   "execution_count": 35,
   "metadata": {},
   "outputs": [
    {
     "data": {
      "image/png": "[encoded data removed]",
      "text/plain": [
       "<Figure size 432x288 with 1 Axes>"
      ]
     },
     "metadata": {
      "needs_background": "light"
     },
     "output_type": "display_data"
    }
   ],
   "source": [
    "x_values = pd.Series(range(0, len(orders['revenue'])))\n",
    "plt.scatter(x_values, orders['revenue'])\n",
    "plt.title('Точечный график стоимостей заказов')\n",
    "plt.ylabel('Стоимость заказа')\n",
    "plt.xlabel('Пользователя (номера по индексу)')\n",
    "plt.grid();"
   ]
  },
  {
   "cell_type": "markdown",
   "metadata": {},
   "source": [
    "На графике видны явные аномалии в стоимости заказов - две аномалии. Поэтому для более точной картины проведем также анализ 95-99% зон распределения.\n",
    "\n",
    "### 95-й и 99-й перцентили стоимости заказов пользователей"
   ]
  },
  {
   "cell_type": "code",
   "execution_count": 36,
   "metadata": {},
   "outputs": [
    {
     "data": {
      "text/plain": [
       "array([28000. , 39530. , 58233.2])"
      ]
     },
     "execution_count": 36,
     "metadata": {},
     "output_type": "execute_result"
    }
   ],
   "source": [
    "np.percentile(orders['revenue'], [95, 97.5, 99])"
   ]
  },
  {
   "cell_type": "markdown",
   "metadata": {},
   "source": [
    "Примем за верхнюю границу стоимости заказ не более 30 000, так мы охватим более 95% данных.\n",
    "<br>\n",
    "\n",
    "\n",
    "<div style=\"border-radius: 15px; box-shadow: 4px 4px 4px; border: solid green 2px; padding: 20px\"> <b>Отличная работа - ✅</b><br>\n",
    "    <img width=\"320\" src=https://storage.yandexcloud.net/public-bucket-6/outliers_1.png><br>\n",
    "<ul>\n",
    "    <li> Аномалии исследованы верно - ✅\n",
    "    <li> Границы выбраны корректно - ✅</ul></div> <br>\n",
    "\n",
    "\n",
    "\n",
    "\n",
    "\n",
    "<div class=\"alert alert-info\" style=\"border-radius: 15px; box-shadow: 4px 4px 4px; border: solid blue 2px; padding: 20px\"> <b>Комментарий студента:</b>\n",
    "<ul>\n",
    "Очень крутой и показательный график))))\n",
    "    </ul></div><br>\n",
    "</div>\n",
    "\n",
    "## Статистическая значимость \n",
    "Создадим переменные ordersByUsersA и ordersByUsersB со столбцами ['userId', 'orders'].\n",
    "В них для пользователей, которые заказывали хотя бы 1 раз, укажем число совершённых заказов."
   ]
  },
  {
   "cell_type": "code",
   "execution_count": 37,
   "metadata": {},
   "outputs": [
    {
     "data": {
      "text/html": [
       "<div>\n",
       "<style scoped>\n",
       "    .dataframe tbody tr th:only-of-type {\n",
       "        vertical-align: middle;\n",
       "    }\n",
       "\n",
       "    .dataframe tbody tr th {\n",
       "        vertical-align: top;\n",
       "    }\n",
       "\n",
       "    .dataframe thead th {\n",
       "        text-align: right;\n",
       "    }\n",
       "</style>\n",
       "<table border=\"1\" class=\"dataframe\">\n",
       "  <thead>\n",
       "    <tr style=\"text-align: right;\">\n",
       "      <th></th>\n",
       "      <th>visitorId</th>\n",
       "      <th>transactionId</th>\n",
       "    </tr>\n",
       "  </thead>\n",
       "  <tbody>\n",
       "    <tr>\n",
       "      <th>0</th>\n",
       "      <td>8300375</td>\n",
       "      <td>1</td>\n",
       "    </tr>\n",
       "    <tr>\n",
       "      <th>1</th>\n",
       "      <td>11685486</td>\n",
       "      <td>1</td>\n",
       "    </tr>\n",
       "    <tr>\n",
       "      <th>2</th>\n",
       "      <td>54447517</td>\n",
       "      <td>1</td>\n",
       "    </tr>\n",
       "    <tr>\n",
       "      <th>3</th>\n",
       "      <td>66685450</td>\n",
       "      <td>1</td>\n",
       "    </tr>\n",
       "    <tr>\n",
       "      <th>4</th>\n",
       "      <td>78758296</td>\n",
       "      <td>1</td>\n",
       "    </tr>\n",
       "  </tbody>\n",
       "</table>\n",
       "</div>"
      ],
      "text/plain": [
       "   visitorId  transactionId\n",
       "0    8300375              1\n",
       "1   11685486              1\n",
       "2   54447517              1\n",
       "3   66685450              1\n",
       "4   78758296              1"
      ]
     },
     "execution_count": 37,
     "metadata": {},
     "output_type": "execute_result"
    }
   ],
   "source": [
    "# пользователи группы А\n",
    "ordersByUsersA = orders[orders['group']=='A'] \\\n",
    "                        .groupby('visitorId', as_index=False) \\\n",
    "                        .agg({'transactionId' : pd.Series.nunique})\n",
    "ordersByUsersA.columns = ['visitorId', 'transactionId']\n",
    "ordersByUsersA.head()"
   ]
  },
  {
   "cell_type": "code",
   "execution_count": 38,
   "metadata": {},
   "outputs": [
    {
     "data": {
      "text/html": [
       "<div>\n",
       "<style scoped>\n",
       "    .dataframe tbody tr th:only-of-type {\n",
       "        vertical-align: middle;\n",
       "    }\n",
       "\n",
       "    .dataframe tbody tr th {\n",
       "        vertical-align: top;\n",
       "    }\n",
       "\n",
       "    .dataframe thead th {\n",
       "        text-align: right;\n",
       "    }\n",
       "</style>\n",
       "<table border=\"1\" class=\"dataframe\">\n",
       "  <thead>\n",
       "    <tr style=\"text-align: right;\">\n",
       "      <th></th>\n",
       "      <th>visitorId</th>\n",
       "      <th>transactionId</th>\n",
       "    </tr>\n",
       "  </thead>\n",
       "  <tbody>\n",
       "    <tr>\n",
       "      <th>count</th>\n",
       "      <td>5.030000e+02</td>\n",
       "      <td>503.000000</td>\n",
       "    </tr>\n",
       "    <tr>\n",
       "      <th>mean</th>\n",
       "      <td>2.159779e+09</td>\n",
       "      <td>1.107356</td>\n",
       "    </tr>\n",
       "    <tr>\n",
       "      <th>std</th>\n",
       "      <td>1.218811e+09</td>\n",
       "      <td>0.517046</td>\n",
       "    </tr>\n",
       "    <tr>\n",
       "      <th>min</th>\n",
       "      <td>8.300375e+06</td>\n",
       "      <td>1.000000</td>\n",
       "    </tr>\n",
       "    <tr>\n",
       "      <th>25%</th>\n",
       "      <td>1.067031e+09</td>\n",
       "      <td>1.000000</td>\n",
       "    </tr>\n",
       "    <tr>\n",
       "      <th>50%</th>\n",
       "      <td>2.219162e+09</td>\n",
       "      <td>1.000000</td>\n",
       "    </tr>\n",
       "    <tr>\n",
       "      <th>75%</th>\n",
       "      <td>3.160697e+09</td>\n",
       "      <td>1.000000</td>\n",
       "    </tr>\n",
       "    <tr>\n",
       "      <th>max</th>\n",
       "      <td>4.278983e+09</td>\n",
       "      <td>7.000000</td>\n",
       "    </tr>\n",
       "  </tbody>\n",
       "</table>\n",
       "</div>"
      ],
      "text/plain": [
       "          visitorId  transactionId\n",
       "count  5.030000e+02     503.000000\n",
       "mean   2.159779e+09       1.107356\n",
       "std    1.218811e+09       0.517046\n",
       "min    8.300375e+06       1.000000\n",
       "25%    1.067031e+09       1.000000\n",
       "50%    2.219162e+09       1.000000\n",
       "75%    3.160697e+09       1.000000\n",
       "max    4.278983e+09       7.000000"
      ]
     },
     "execution_count": 38,
     "metadata": {},
     "output_type": "execute_result"
    }
   ],
   "source": [
    "ordersByUsersA.describe()\n"
   ]
  },
  {
   "cell_type": "code",
   "execution_count": 39,
   "metadata": {},
   "outputs": [
    {
     "data": {
      "text/html": [
       "<div>\n",
       "<style scoped>\n",
       "    .dataframe tbody tr th:only-of-type {\n",
       "        vertical-align: middle;\n",
       "    }\n",
       "\n",
       "    .dataframe tbody tr th {\n",
       "        vertical-align: top;\n",
       "    }\n",
       "\n",
       "    .dataframe thead th {\n",
       "        text-align: right;\n",
       "    }\n",
       "</style>\n",
       "<table border=\"1\" class=\"dataframe\">\n",
       "  <thead>\n",
       "    <tr style=\"text-align: right;\">\n",
       "      <th></th>\n",
       "      <th>visitorId</th>\n",
       "      <th>transactionId</th>\n",
       "    </tr>\n",
       "  </thead>\n",
       "  <tbody>\n",
       "    <tr>\n",
       "      <th>0</th>\n",
       "      <td>5114589</td>\n",
       "      <td>1</td>\n",
       "    </tr>\n",
       "    <tr>\n",
       "      <th>1</th>\n",
       "      <td>6958315</td>\n",
       "      <td>1</td>\n",
       "    </tr>\n",
       "    <tr>\n",
       "      <th>2</th>\n",
       "      <td>8300375</td>\n",
       "      <td>1</td>\n",
       "    </tr>\n",
       "    <tr>\n",
       "      <th>3</th>\n",
       "      <td>39475350</td>\n",
       "      <td>1</td>\n",
       "    </tr>\n",
       "    <tr>\n",
       "      <th>4</th>\n",
       "      <td>47206413</td>\n",
       "      <td>1</td>\n",
       "    </tr>\n",
       "  </tbody>\n",
       "</table>\n",
       "</div>"
      ],
      "text/plain": [
       "   visitorId  transactionId\n",
       "0    5114589              1\n",
       "1    6958315              1\n",
       "2    8300375              1\n",
       "3   39475350              1\n",
       "4   47206413              1"
      ]
     },
     "execution_count": 39,
     "metadata": {},
     "output_type": "execute_result"
    }
   ],
   "source": [
    "# пользователи группы В\n",
    "ordersByUsersB = orders[orders['group']=='B'] \\\n",
    "                          .groupby('visitorId', as_index=False) \\\n",
    "                          .agg({'transactionId' : pd.Series.nunique})\n",
    "ordersByUsersB.columns = ['visitorId', 'transactionId']\n",
    "ordersByUsersB.head()"
   ]
  },
  {
   "cell_type": "code",
   "execution_count": 40,
   "metadata": {},
   "outputs": [
    {
     "data": {
      "text/html": [
       "<div>\n",
       "<style scoped>\n",
       "    .dataframe tbody tr th:only-of-type {\n",
       "        vertical-align: middle;\n",
       "    }\n",
       "\n",
       "    .dataframe tbody tr th {\n",
       "        vertical-align: top;\n",
       "    }\n",
       "\n",
       "    .dataframe thead th {\n",
       "        text-align: right;\n",
       "    }\n",
       "</style>\n",
       "<table border=\"1\" class=\"dataframe\">\n",
       "  <thead>\n",
       "    <tr style=\"text-align: right;\">\n",
       "      <th></th>\n",
       "      <th>visitorId</th>\n",
       "      <th>transactionId</th>\n",
       "    </tr>\n",
       "  </thead>\n",
       "  <tbody>\n",
       "    <tr>\n",
       "      <th>count</th>\n",
       "      <td>5.860000e+02</td>\n",
       "      <td>586.000000</td>\n",
       "    </tr>\n",
       "    <tr>\n",
       "      <th>mean</th>\n",
       "      <td>2.126231e+09</td>\n",
       "      <td>1.092150</td>\n",
       "    </tr>\n",
       "    <tr>\n",
       "      <th>std</th>\n",
       "      <td>1.247753e+09</td>\n",
       "      <td>0.443421</td>\n",
       "    </tr>\n",
       "    <tr>\n",
       "      <th>min</th>\n",
       "      <td>5.114589e+06</td>\n",
       "      <td>1.000000</td>\n",
       "    </tr>\n",
       "    <tr>\n",
       "      <th>25%</th>\n",
       "      <td>1.041653e+09</td>\n",
       "      <td>1.000000</td>\n",
       "    </tr>\n",
       "    <tr>\n",
       "      <th>50%</th>\n",
       "      <td>2.111874e+09</td>\n",
       "      <td>1.000000</td>\n",
       "    </tr>\n",
       "    <tr>\n",
       "      <th>75%</th>\n",
       "      <td>3.170684e+09</td>\n",
       "      <td>1.000000</td>\n",
       "    </tr>\n",
       "    <tr>\n",
       "      <th>max</th>\n",
       "      <td>4.283872e+09</td>\n",
       "      <td>6.000000</td>\n",
       "    </tr>\n",
       "  </tbody>\n",
       "</table>\n",
       "</div>"
      ],
      "text/plain": [
       "          visitorId  transactionId\n",
       "count  5.860000e+02     586.000000\n",
       "mean   2.126231e+09       1.092150\n",
       "std    1.247753e+09       0.443421\n",
       "min    5.114589e+06       1.000000\n",
       "25%    1.041653e+09       1.000000\n",
       "50%    2.111874e+09       1.000000\n",
       "75%    3.170684e+09       1.000000\n",
       "max    4.283872e+09       6.000000"
      ]
     },
     "execution_count": 40,
     "metadata": {},
     "output_type": "execute_result"
    }
   ],
   "source": [
    "ordersByUsersB.describe()\n"
   ]
  },
  {
   "cell_type": "markdown",
   "metadata": {},
   "source": [
    "Для проведения статистического анализа по критерием Манна-Уитни создадим две переменные `sampleA и sampleB`, в которых пользователям из разных групп будет соответствовать количество заказов. Тем, кто ничего не заказал, будут соответствовать нули."
   ]
  },
  {
   "cell_type": "code",
   "execution_count": 41,
   "metadata": {},
   "outputs": [
    {
     "data": {
      "text/html": [
       "<div>\n",
       "<style scoped>\n",
       "    .dataframe tbody tr th:only-of-type {\n",
       "        vertical-align: middle;\n",
       "    }\n",
       "\n",
       "    .dataframe tbody tr th {\n",
       "        vertical-align: top;\n",
       "    }\n",
       "\n",
       "    .dataframe thead th {\n",
       "        text-align: right;\n",
       "    }\n",
       "</style>\n",
       "<table border=\"1\" class=\"dataframe\">\n",
       "  <thead>\n",
       "    <tr style=\"text-align: right;\">\n",
       "      <th></th>\n",
       "      <th>date</th>\n",
       "      <th>ordersPerDateA</th>\n",
       "      <th>revenuePerDateA</th>\n",
       "      <th>ordersPerDateB</th>\n",
       "      <th>revenuePerDateB</th>\n",
       "      <th>ordersCummulativeA</th>\n",
       "      <th>revenueCummulativeA</th>\n",
       "      <th>ordersCummulativeB</th>\n",
       "      <th>revenueCummulativeB</th>\n",
       "      <th>visitorsPerDateA</th>\n",
       "      <th>visitorsPerDateB</th>\n",
       "      <th>visitorsCummulativeA</th>\n",
       "      <th>visitorsCummulativeB</th>\n",
       "    </tr>\n",
       "  </thead>\n",
       "  <tbody>\n",
       "    <tr>\n",
       "      <th>0</th>\n",
       "      <td>2019-08-01</td>\n",
       "      <td>24</td>\n",
       "      <td>148579</td>\n",
       "      <td>21</td>\n",
       "      <td>101217</td>\n",
       "      <td>24</td>\n",
       "      <td>148579</td>\n",
       "      <td>21</td>\n",
       "      <td>101217</td>\n",
       "      <td>719</td>\n",
       "      <td>713</td>\n",
       "      <td>719</td>\n",
       "      <td>713</td>\n",
       "    </tr>\n",
       "    <tr>\n",
       "      <th>1</th>\n",
       "      <td>2019-08-02</td>\n",
       "      <td>20</td>\n",
       "      <td>93822</td>\n",
       "      <td>24</td>\n",
       "      <td>165531</td>\n",
       "      <td>44</td>\n",
       "      <td>242401</td>\n",
       "      <td>45</td>\n",
       "      <td>266748</td>\n",
       "      <td>619</td>\n",
       "      <td>581</td>\n",
       "      <td>1338</td>\n",
       "      <td>1294</td>\n",
       "    </tr>\n",
       "    <tr>\n",
       "      <th>2</th>\n",
       "      <td>2019-08-03</td>\n",
       "      <td>24</td>\n",
       "      <td>112473</td>\n",
       "      <td>16</td>\n",
       "      <td>114248</td>\n",
       "      <td>68</td>\n",
       "      <td>354874</td>\n",
       "      <td>61</td>\n",
       "      <td>380996</td>\n",
       "      <td>507</td>\n",
       "      <td>509</td>\n",
       "      <td>1845</td>\n",
       "      <td>1803</td>\n",
       "    </tr>\n",
       "    <tr>\n",
       "      <th>3</th>\n",
       "      <td>2019-08-04</td>\n",
       "      <td>16</td>\n",
       "      <td>70825</td>\n",
       "      <td>17</td>\n",
       "      <td>108571</td>\n",
       "      <td>84</td>\n",
       "      <td>425699</td>\n",
       "      <td>78</td>\n",
       "      <td>489567</td>\n",
       "      <td>717</td>\n",
       "      <td>770</td>\n",
       "      <td>2562</td>\n",
       "      <td>2573</td>\n",
       "    </tr>\n",
       "    <tr>\n",
       "      <th>4</th>\n",
       "      <td>2019-08-05</td>\n",
       "      <td>25</td>\n",
       "      <td>124218</td>\n",
       "      <td>23</td>\n",
       "      <td>92428</td>\n",
       "      <td>109</td>\n",
       "      <td>549917</td>\n",
       "      <td>101</td>\n",
       "      <td>581995</td>\n",
       "      <td>756</td>\n",
       "      <td>707</td>\n",
       "      <td>3318</td>\n",
       "      <td>3280</td>\n",
       "    </tr>\n",
       "  </tbody>\n",
       "</table>\n",
       "</div>"
      ],
      "text/plain": [
       "        date  ordersPerDateA  revenuePerDateA  ordersPerDateB  \\\n",
       "0 2019-08-01              24           148579              21   \n",
       "1 2019-08-02              20            93822              24   \n",
       "2 2019-08-03              24           112473              16   \n",
       "3 2019-08-04              16            70825              17   \n",
       "4 2019-08-05              25           124218              23   \n",
       "\n",
       "   revenuePerDateB  ordersCummulativeA  revenueCummulativeA  \\\n",
       "0           101217                  24               148579   \n",
       "1           165531                  44               242401   \n",
       "2           114248                  68               354874   \n",
       "3           108571                  84               425699   \n",
       "4            92428                 109               549917   \n",
       "\n",
       "   ordersCummulativeB  revenueCummulativeB  visitorsPerDateA  \\\n",
       "0                  21               101217               719   \n",
       "1                  45               266748               619   \n",
       "2                  61               380996               507   \n",
       "3                  78               489567               717   \n",
       "4                 101               581995               756   \n",
       "\n",
       "   visitorsPerDateB  visitorsCummulativeA  visitorsCummulativeB  \n",
       "0               713                   719                   713  \n",
       "1               581                  1338                  1294  \n",
       "2               509                  1845                  1803  \n",
       "3               770                  2562                  2573  \n",
       "4               707                  3318                  3280  "
      ]
     },
     "execution_count": 41,
     "metadata": {},
     "output_type": "execute_result"
    }
   ],
   "source": [
    "data.head()  # общая таблица с данными количеству заказов и визитов\n"
   ]
  },
  {
   "cell_type": "code",
   "execution_count": 42,
   "metadata": {},
   "outputs": [
    {
     "data": {
      "text/plain": [
       "(18736,)"
      ]
     },
     "execution_count": 42,
     "metadata": {},
     "output_type": "execute_result"
    }
   ],
   "source": [
    "sampleA = pd.concat([ordersByUsersA['transactionId'], \n",
    "                     pd.Series(0, index=np.arange(data['visitorsPerDateA'].sum() - len(ordersByUsersA['transactionId'])), \n",
    "                     name='transactionId')], axis=0)\n",
    "sampleA.shape"
   ]
  },
  {
   "cell_type": "code",
   "execution_count": 43,
   "metadata": {},
   "outputs": [
    {
     "data": {
      "text/plain": [
       "count    18736.000000\n",
       "mean         0.029729\n",
       "std          0.197994\n",
       "min          0.000000\n",
       "25%          0.000000\n",
       "50%          0.000000\n",
       "75%          0.000000\n",
       "max          7.000000\n",
       "Name: transactionId, dtype: float64"
      ]
     },
     "execution_count": 43,
     "metadata": {},
     "output_type": "execute_result"
    }
   ],
   "source": [
    "sampleA.describe()"
   ]
  },
  {
   "cell_type": "code",
   "execution_count": 44,
   "metadata": {},
   "outputs": [
    {
     "data": {
      "text/plain": [
       "(18916,)"
      ]
     },
     "execution_count": 44,
     "metadata": {},
     "output_type": "execute_result"
    }
   ],
   "source": [
    "sampleB = pd.concat([ordersByUsersB['transactionId'], \n",
    "                     pd.Series(0, index=np.arange(data['visitorsPerDateB'].sum() - len(ordersByUsersB['transactionId'])), \n",
    "                     name='transactionId')], axis=0)\n",
    "sampleB.shape"
   ]
  },
  {
   "cell_type": "markdown",
   "metadata": {},
   "source": [
    "`sampleA и sampleB` это выборки, где каждый элемент — число заказов определённого пользователя, в том числе ноль.\n",
    "Значит, число элементов `sampleA` — это количество пользователей, сумма всех элементов — количество заказов.\n",
    "\n",
    "Выведем относительный прирост конверсии группы B: конверсия группы B / конверсия группы A - 1. (конверсия в группе = сумма заказов делим на число пользователей, т.е найдём среднее в выборке sampleA и sampleB методом mean()).\n",
    "\n",
    "### Статистическая значимость различий в конверсии между группами\n",
    "Проверим гипотезы о различии показателей конверсии в двух группах А и В. За нулевую гипотезу примем предположение, что статистически значимых различий в конверсии нет, **тогда альтернативная гипотеза будет гласить - статистически значимые различия есть.   Для проверки был выбран непараметрический тест Манна-Уитни, который помогает определить равны ли распределения двух независимых выборок или нет, т.к. наши данные не очищенны и, скорее всего, в них есть выбросы. \n",
    "Для проверки критическим уровень был назначен \"классический\"= 0.05**"
   ]
  },
  {
   "cell_type": "markdown",
   "metadata": {},
   "source": [
    "\n",
    "<div style=\"border-radius: 15px; box-shadow: 4px 4px 4px; border: solid red 2px; padding: 20px\"> <b>Что необходимо доработать - ⛔️</b><br>\n",
    "Перед началом проверок необходимо указать:\n",
    "<ul>\n",
    "    <li> Выбранный статистический тест\n",
    "    <li> Выбранный критический уровень стат значимости\n",
    "    <li> Полностью сформулировать гипотезы - нулевая есть, альтернативная осталась (пожалуйста выдели любым способом формулировки)</ul></div><br>\n",
    "    \n",
    "    \n",
    "<div class=\"alert alert-info\" style=\"border-radius: 15px; box-shadow: 4px 4px 4px; border: solid blue 2px; padding: 20px\"> <b>Комментарий студента:</b>\n",
    "<ul>\n",
    "    <li> Было написано, какой статистический тест мною выбран (Манна-Уитни) \n",
    "        <li> Критический уровень значимости= 0.05\n",
    "    <li> Дополнила формулировку альтернативной гипотезы)\n",
    "    </ul></div><br>\n",
    "- \n",
    "</div>"
   ]
  },
  {
   "cell_type": "markdown",
   "metadata": {},
   "source": [
    "<div style=\"border-radius: 15px; box-shadow: 4px 4px 4px; border: solid green 2px; padding: 20px\"> <b>Отличная работа 2</b><br>👍</div> "
   ]
  },
  {
   "cell_type": "code",
   "execution_count": 45,
   "metadata": {},
   "outputs": [
    {
     "name": "stdout",
     "output_type": "stream",
     "text": [
      "Отвергаем нулевую гипотезу, \n",
      "статистически значимые различия в конверсии групп А и В есть\n",
      "p-value = 0.017\n"
     ]
    }
   ],
   "source": [
    "alpha = 0.05\n",
    "if (st.mannwhitneyu(sampleA, sampleB)[1] < alpha):\n",
    "    print(\"Отвергаем нулевую гипотезу, \\nстатистически значимые различия в конверсии групп А и В есть\")\n",
    "else:\n",
    "    print(\"Не получилось отвергнуть нулевую гипотезу\")\n",
    "print(\"p-value = {0:.3f}\".format(st.mannwhitneyu(sampleA, sampleB)[1]))"
   ]
  },
  {
   "cell_type": "markdown",
   "metadata": {},
   "source": [
    "Проверим насколько различаются конверсии в двух группах А и В."
   ]
  },
  {
   "cell_type": "code",
   "execution_count": 46,
   "metadata": {},
   "outputs": [
    {
     "name": "stdout",
     "output_type": "stream",
     "text": [
      "Отношение конверсий групп В и А = 0.13807884655320146\n"
     ]
    }
   ],
   "source": [
    "print(\"Отношение конверсий групп В и А =\", sampleB.mean()/sampleA.mean()-1)\n"
   ]
  },
  {
   "cell_type": "markdown",
   "metadata": {},
   "source": [
    "**Выводы по сырым данным**\n",
    "\n",
    "- Различия в конверсии групп А и В есть.\n",
    "- Конверсия группы В выше на 13,8% (в среднем) чем в группе А.\n",
    "\n",
    "### Статистическая значимость различий в среднем чеке между группами, по «сырым» данным\n",
    "\n",
    "Проверим гипотезы о различии показателей в среднем чеке в двух группах А и В. За нулевую гипотезу примем предположение, что статистически значимых различий в размере среднего чека нет. **Альтернативная гипотеза: Статистически значимые различия имеются** Для расчета статистической значимости различий по среднему чеку, передадим критерию mannwhitneyu() данные о выручке с заказов."
   ]
  },
  {
   "cell_type": "code",
   "execution_count": 47,
   "metadata": {},
   "outputs": [
    {
     "name": "stdout",
     "output_type": "stream",
     "text": [
      "Не получилось отвергнуть нулевую гипотезу, \n",
      "статистически значимых различий в среднем чеке групп А и В нет\n",
      "p-value = 0.729\n"
     ]
    }
   ],
   "source": [
    "alpha = 0.05\n",
    "if (st.mannwhitneyu(\n",
    "                orders[orders['group']=='A']['revenue'], \n",
    "                orders[orders['group']=='B']['revenue'])[1] < alpha):\n",
    "    print(\"Отвергаем нулевую гипотезу, \\nстатистически значимые различия в среднем чеке групп А и В есть\")\n",
    "else:\n",
    "    print(\"Не получилось отвергнуть нулевую гипотезу, \\nстатистически значимых различий в среднем чеке групп А и В нет\")\n",
    "\n",
    "print(\"p-value = {0:.3f}\".format(st.mannwhitneyu(\n",
    "                            orders[orders['group']=='A']['revenue'], \n",
    "                            orders[orders['group']=='B']['revenue'])[1]))"
   ]
  },
  {
   "cell_type": "code",
   "execution_count": 48,
   "metadata": {},
   "outputs": [
    {
     "name": "stdout",
     "output_type": "stream",
     "text": [
      "Отношение среднего чека групп В и А = 25.87%\n"
     ]
    }
   ],
   "source": [
    "print('Отношение среднего чека групп В и А = {0:.2%}'.format(orders[orders['group']=='B']['revenue'].mean() \\\n",
    "                                                           /orders[orders['group']=='A']['revenue'].mean()-1))"
   ]
  },
  {
   "cell_type": "markdown",
   "metadata": {},
   "source": [
    "**Выводы по сырым данным**\n",
    "\n",
    "- Cтатистически значимых различий в среднем чеке групп А и В нет.\n",
    "- Средний чек группы В выше на 25,87% (в среднем) чем в группе А.\n",
    "\n",
    "\n",
    "### Cтатистическая значимость различий между группами по «очищенным» данным"
   ]
  },
  {
   "cell_type": "markdown",
   "metadata": {},
   "source": [
    "<a class=\"anchor\" id=\"21-bullet\"></a>"
   ]
  },
  {
   "cell_type": "code",
   "execution_count": 70,
   "metadata": {},
   "outputs": [
    {
     "data": {
      "text/plain": [
       "28000.000000000004"
      ]
     },
     "execution_count": 70,
     "metadata": {},
     "output_type": "execute_result"
    }
   ],
   "source": [
    "#CODE REVIEW\n",
    "REVENUE_THR = orders['revenue'].quantile(0.975)\n",
    "ORDERS_AMOUNT_THR = orders.groupby('visitorId').agg({'transactionId': 'count'})['transactionId'].quantile(0.975)"
   ]
  },
  {
   "cell_type": "code",
   "execution_count": 49,
   "metadata": {},
   "outputs": [
    {
     "data": {
      "text/plain": [
       "(24,)"
      ]
     },
     "execution_count": 49,
     "metadata": {},
     "output_type": "execute_result"
    }
   ],
   "source": [
    "# определяем базу по заказам с аномальным количеством.\n",
    "usersWithManyOrders = pd.concat(\n",
    "    [ordersByUsersA[ordersByUsersA['transactionId'] > 2]['visitorId'], \n",
    "     ordersByUsersB[ordersByUsersB['transactionId'] > 2]['visitorId']], axis = 0)\n",
    "usersWithManyOrders.shape"
   ]
  },
  {
   "cell_type": "code",
   "execution_count": 50,
   "metadata": {},
   "outputs": [
    {
     "data": {
      "text/plain": [
       "(54,)"
      ]
     },
     "execution_count": 50,
     "metadata": {},
     "output_type": "execute_result"
    }
   ],
   "source": [
    "# определяем базу по аномальной сумме заказа.\n",
    "usersWithExpensiveOrders = orders[orders['revenue'] > 30000]['visitorId']\n",
    "usersWithExpensiveOrders.shape\n",
    "#usersWithExpensiveOrders= orders[orders['revenue'].quantile(0.975)]['visitorId']\n",
    "#usersWithExpensiveOrders.shape"
   ]
  },
  {
   "cell_type": "markdown",
   "metadata": {},
   "source": [
    "<div style=\"border-radius: 15px; box-shadow: 4px 4px 4px; border: solid orange 2px; padding: 20px\"> <b>Что можно улучшить - ⚠️</b><br>\n",
    "Крайне не желательно использовать ручное указание порогов, тк при других данных придется руками изменять их - можно что-то пропустить. Хороший способ ввести переменные, например, <code>REVENUE_THRESHOLD</code> и вычислять её, например, так <code>REVENUE_THRESHOLD = df[revenue].quantile(0.975)</code></div> <br>\n",
    "\n",
    "<div class=\"alert alert-info\" style=\"border-radius: 15px; box-shadow: 4px 4px 4px; border: solid blue 2px; padding: 20px\"> <b>Комментарий студента:</b>\n",
    "<ul>\n",
    "    Я попыталась, но почему-то выдает здесь ошибку\n",
    "    </ul></div><br>\n",
    "</div>\n"
   ]
  },
  {
   "cell_type": "code",
   "execution_count": 51,
   "metadata": {},
   "outputs": [
    {
     "data": {
      "text/plain": [
       "1099    148427295\n",
       "18      199603092\n",
       "928     204675465\n",
       "23      237748145\n",
       "37      249864742\n",
       "Name: visitorId, dtype: int64"
      ]
     },
     "execution_count": 51,
     "metadata": {},
     "output_type": "execute_result"
    }
   ],
   "source": [
    "# создаем список пользователей совершивших аномальные заказы\n",
    "abnormalUsers = pd.concat(\n",
    "    [usersWithManyOrders, usersWithExpensiveOrders], axis = 0).drop_duplicates().sort_values()\n",
    "abnormalUsers.head(5)"
   ]
  },
  {
   "cell_type": "code",
   "execution_count": 52,
   "metadata": {},
   "outputs": [
    {
     "data": {
      "text/plain": [
       "(68,)"
      ]
     },
     "execution_count": 52,
     "metadata": {},
     "output_type": "execute_result"
    }
   ],
   "source": [
    "abnormalUsers.shape"
   ]
  },
  {
   "cell_type": "code",
   "execution_count": 53,
   "metadata": {},
   "outputs": [
    {
     "data": {
      "text/plain": [
       "(18693,)"
      ]
     },
     "execution_count": 53,
     "metadata": {},
     "output_type": "execute_result"
    }
   ],
   "source": [
    "# создаем базу для расчетов с отфильтрованными заказами для группы А\n",
    "sampleAFiltered = pd.concat(\n",
    "    [ordersByUsersA[np.logical_not(ordersByUsersA['visitorId'] \\\n",
    "                                   .isin(abnormalUsers))]['transactionId'], \n",
    "     pd.Series(0, index=np.arange(data['visitorsPerDateA'] \\\n",
    "                                   .sum() - len(ordersByUsersA['transactionId'])), name='transactionId')], axis=0)\n",
    "sampleAFiltered.shape"
   ]
  },
  {
   "cell_type": "code",
   "execution_count": 54,
   "metadata": {},
   "outputs": [
    {
     "data": {
      "text/plain": [
       "(18872,)"
      ]
     },
     "execution_count": 54,
     "metadata": {},
     "output_type": "execute_result"
    }
   ],
   "source": [
    "# создаем базу для расчетов с отфильтрованными заказами для группы В\n",
    "sampleBFiltered = pd.concat(\n",
    "    [ordersByUsersB[np.logical_not(ordersByUsersB['visitorId'] \\\n",
    "                                   .isin(abnormalUsers))]['transactionId'], \n",
    "     pd.Series(0, index=np.arange(data['visitorsPerDateB'] \\\n",
    "                                    .sum() - len(ordersByUsersB['transactionId'])), name='transactionId')], axis=0)\n",
    "sampleBFiltered.shape"
   ]
  },
  {
   "cell_type": "markdown",
   "metadata": {},
   "source": [
    "Из данных были удалены: \n",
    "1. 24 заказа с аномальными значениями \n",
    "2. 54 заказа с аномальной суммой заказа\n",
    "3. 68 пользователей совершивших аномальный заказ\n",
    "\n",
    "\n",
    "### Cтатистическая значимость различий в конверсии между группами по «очищенным» данным\n",
    "Проверим гипотезы о различии показателей конверсии в двух группах А и В по «очищенным» данным. За нулевую гипотезу примем предположение, что статистически значимых различий в конверсии нет. **Альтернативная гипотеза: \"Статистически значимые различия есть\". Здесь также будет использоваться тест Манна-Уитни.**"
   ]
  },
  {
   "cell_type": "code",
   "execution_count": 55,
   "metadata": {},
   "outputs": [
    {
     "name": "stdout",
     "output_type": "stream",
     "text": [
      "Отвергаем нулевую гипотезу, \n",
      "статистически значимые различия в конверсии групп А и В есть\n",
      "p-value = 0.013\n"
     ]
    }
   ],
   "source": [
    "alpha = 0.05\n",
    "if (st.mannwhitneyu(sampleAFiltered, sampleBFiltered)[1] < alpha):\n",
    "    print(\"Отвергаем нулевую гипотезу, \\nстатистически значимые различия в конверсии групп А и В есть\")\n",
    "else:\n",
    "    print(\"Не получилось отвергнуть нулевую гипотезу\")\n",
    "print(\"p-value = {0:.3f}\".format(st.mannwhitneyu(sampleAFiltered, sampleBFiltered)[1]))"
   ]
  },
  {
   "cell_type": "code",
   "execution_count": 56,
   "metadata": {},
   "outputs": [
    {
     "name": "stdout",
     "output_type": "stream",
     "text": [
      "Отношение конверсий групп В и А =  0.17155456396208346\n"
     ]
    }
   ],
   "source": [
    "print(\"Отношение конверсий групп В и А = \", sampleBFiltered.mean()/sampleAFiltered.mean()-1)"
   ]
  },
  {
   "attachments": {
    "image.png": {
     "image/png": "[encoded data removed]"
    }
   },
   "cell_type": "markdown",
   "metadata": {},
   "source": [
    "**Выводы по очищенным данным**\n",
    "\n",
    "- Различия в конверсии групп А и В есть, показатель сохранился.\n",
    "- Конверсия группы В выше на 17,2% (в среднем) чем в группе А. Показатель вырос на 4%.\n",
    "\n",
    "<br>\n",
    "<div style=\"border-radius: 15px; box-shadow: 4px 4px 4px; border: solid red 2px; padding: 20px\"> <b>Что необходимо доработать</b><br>\n",
    "Когда величины измеряются в процентах (конверсия до и после) нельзя о разнице говорить тоже в процентах - для понимания небольшой комикс<br>\n",
    "<img src=https://storage.yandexcloud.net/public-bucket-6/percent_vs_pp.jpg></div> <br>\n",
    "\n",
    "<br>\n",
    "<a class=\"anchor\" id=\"22-bullet\"></a>\n",
    "\n",
    "<div style=\"border-radius: 15px; box-shadow: 4px 4px 4px; border: solid green 2px; padding: 20px\"> <b>Комментарий 2</b><br>Сейчас распутаемся: смысл не в самих 17 или 13%, а в разнице между ними, ты пишешь <code>относительное изменение увеличилось на 4% (17-13)</code>, но это не так, обе величины измеряются в процентах (13% и 17%), о разнице между такими величинами говорят в процентных пунктах, то есть 4 пп (процентных пункта), а если вычислять в процентах то будет так <code>(17 - 13) / 13 = 31%</code> </div> \n",
    "\n",
    "<div class=\"alert alert-info\" style=\"border-radius: 15px; box-shadow: 4px 4px 4px; border: solid blue 2px; padding: 20px\"> <b>Комментарий студента:</b>\n",
    "<ul>\n",
    "Очень крутой комикс😊 Но если честно, у меня нет других идей, как просто взять и убрать этот пункт, потому что в теории Практикума у нас были следующие примеры: \n",
    "\"Напомним, что в sampleA сохранили выборку, где каждый элемент — число заказов определённого пользователя, в том числе ноль. Значит, число элементов sampleA — это количество пользователей, сумма всех элементов — количество заказов. Чтобы получить конверсию в группе, поделим сумму заказов на число пользователей — найдём среднее в выборке sampleA методом mean(). Аналогично найдём конверсию группы B: SampleB.mean().\n",
    "Выведем относительный прирост конверсии группы B: конверсия группы B / конверсия группы A - 1. Округлим до трёх знаков после запятой.\"\n",
    "\n",
    "    \n",
    "    \n",
    "    <code>ordersByUsersA = (\n",
    "    orders[orders['group'] == 'A']\n",
    "    .groupby('userId', as_index=False)\n",
    "    .agg({'orderId': pd.Series.nunique}))\n",
    "<code>ordersByUsersA.columns = ['userId', 'orders']\n",
    "\n",
    "<code>ordersByUsersB = (\n",
    "    orders[orders['group'] == 'B']\n",
    "    .groupby('userId', as_index=False)\n",
    "    .agg({'orderId': pd.Series.nunique}))\n",
    "<code>ordersByUsersB.columns = ['userId', 'orders']\n",
    "\n",
    "<code>sampleA = pd.concat(\n",
    "    [\n",
    "        ordersByUsersA['orders'],\n",
    "        pd.Series(\n",
    "            0,\n",
    "            index=np.arange(\n",
    "                data['visitorsPerDateA'].sum() - len(ordersByUsersA['orders'])\n",
    "            ),\n",
    "            name='orders',\n",
    "        ),\n",
    "    ],\n",
    "    axis=0,\n",
    ")\n",
    "\n",
    "<code>sampleB = pd.concat(\n",
    "    [\n",
    "        ordersByUsersB['orders'],\n",
    "        pd.Series(\n",
    "            0,\n",
    "            index=np.arange(\n",
    "                data['visitorsPerDateB'].sum() - len(ordersByUsersB['orders'])\n",
    "            ),\n",
    "            name='orders',\n",
    "        ),\n",
    "    ],\n",
    "    axis=0,\n",
    ")\n",
    "\n",
    "<code>print(\"{0:.3f}\".format(stats.mannwhitneyu(sampleA, sampleB)[1]))\n",
    "\n",
    "print(\"{0:.3f}\".format(sampleB.mean() / sampleA.mean() - 1))</code>    \n",
    "    \n",
    "    \"Первое число — p-value = 0.441 больше 0.05. Значит, нулевую гипотезу о том, что статистически значимых различий в конверсии между группами нет, не отвергаем. Однако относительный проигрыш группы B равен 10.2% — второе число в выводе.\n",
    "    \n",
    "    \n",
    "    Напомним, что найденные в прошлых уроках 95-й и 99-й перцентили средних чеков равны 13 817 и 105 038 рублям. А 95-й и 99-й перцентили количества заказов на одного пользователя равны 4.85 и 8.34 заказа на пользователя.\n",
    "Примем за аномальных пользователей тех, кто совершил от 5 заказов или совершил заказ дороже 20 000 рублей. Так мы уберём 5% пользователей с наибольшим числом заказов и от 1% до 5% пользователей с дорогими заказами. Сделаем срезы пользователей с числом заказов больше 4 — usersWithManyOrders и пользователей, совершивших заказы дороже 20 000 — usersWithExpensiveOrders. Объединим их в таблице abnormalUsers.\n",
    "Узнаем, сколько всего аномальных пользователей методом shape()... Всего 14 аномальных пользователей.\n",
    "Узнаем, как их действия повлияли на результаты теста. Посчитаем статистическую значимость различий в конверсии между группами теста по очищенным данным. Сначала подготовим выборки количества заказов по пользователям по группам теста:\"\n",
    "    \n",
    "    \n",
    "<code> sampleAFiltered = pd.concat(\n",
    "    [\n",
    "        ordersByUsersA[\n",
    "            np.logical_not(ordersByUsersA['userId'].isin(abnormalUsers))\n",
    "        ]['orders'],\n",
    "        pd.Series(\n",
    "            0,\n",
    "            index=np.arange(\n",
    "                data['visitorsPerDateA'].sum() - len(ordersByUsersA['orders'])\n",
    "            ),\n",
    "            name='orders',\n",
    "        ),\n",
    "    ],\n",
    "    axis=0,)\n",
    "\n",
    "<code> sampleBFiltered = pd.concat(\n",
    "    [\n",
    "        ordersByUsersB[\n",
    "            np.logical_not(ordersByUsersB['userId'].isin(abnormalUsers))\n",
    "        ]['orders'],\n",
    "        pd.Series(\n",
    "            0,\n",
    "            index=np.arange(\n",
    "                data['visitorsPerDateB'].sum() - len(ordersByUsersB['orders'])\n",
    "            ),\n",
    "            name='orders',\n",
    "        ),\n",
    "    ],\n",
    "    axis=0,\n",
    ")</code>\n",
    "    \n",
    "    \n",
    " \n",
    "    \"Применим статистический критерий Манна-Уитни к полученным выборкам:\"\n",
    "    \n",
    "    \n",
    "<code> print('{0:.3f}'.format(stats.mannwhitneyu(sampleAFiltered, sampleBFiltered)[1]))\n",
    "print('{0:.3f}'.format(sampleBFiltered.mean()/sampleAFiltered.mean()-1))</code>\n",
    "    \n",
    "    \n",
    "    \n",
    "![image.png](attachment:image.png)\n",
    "    \n",
    "</ul></div><br>\n",
    "</div>\n",
    "\n",
    "\n",
    "### Cтатистическая значимость различий в среднем чеке заказа между группами по «очищенным» данным\n",
    "Проверим гипотезы о различии показателей в среднем чеке в двух группах А и В по \"очищенным\" данным. За нулевую гипотезу примем предположение, что статистически значимых различий в размере среднего чека нет."
   ]
  },
  {
   "cell_type": "code",
   "execution_count": 57,
   "metadata": {},
   "outputs": [
    {
     "name": "stdout",
     "output_type": "stream",
     "text": [
      "Не получилось отвергнуть нулевую гипотезу, \n",
      "статистически значимых различий в среднем чеке групп А и В нет\n",
      "p-value = 0.720\n"
     ]
    }
   ],
   "source": [
    "alpha = 0.05\n",
    "if (st.mannwhitneyu(orders[np.logical_and(orders['group']=='A',\n",
    "                              np.logical_not(orders['visitorId'].isin(abnormalUsers)))]['revenue'],\n",
    "                    orders[np.logical_and(orders['group']=='B',\n",
    "                              np.logical_not(orders['visitorId'].isin(abnormalUsers)))]['revenue'])[1] < alpha):\n",
    "    print(\"Отвергаем нулевую гипотезу, \\nстатистически значимые различия в среднем чеке групп А и В есть\")\n",
    "else:\n",
    "    print(\"Не получилось отвергнуть нулевую гипотезу, \\nстатистически значимых различий в среднем чеке групп А и В нет\")\n",
    "\n",
    "print(\"p-value = {0:.3f}\".format(st.mannwhitneyu(orders[np.logical_and(orders['group']=='A',\n",
    "                              np.logical_not(orders['visitorId'].isin(abnormalUsers)))]['revenue'],\n",
    "                    orders[np.logical_and(orders['group']=='B',\n",
    "                              np.logical_not(orders['visitorId'].isin(abnormalUsers)))]['revenue'])[1]))"
   ]
  },
  {
   "cell_type": "code",
   "execution_count": 58,
   "metadata": {},
   "outputs": [
    {
     "name": "stdout",
     "output_type": "stream",
     "text": [
      "Отношение среднего чека групп В и А = -2.31%\n"
     ]
    }
   ],
   "source": [
    "print('Отношение среднего чека групп В и А = {0:.2%}'.format(\n",
    "                                orders[np.logical_and(orders['group']=='B', \n",
    "                                         np.logical_not(orders['visitorId'].isin(abnormalUsers)))]['revenue'].mean()/\n",
    "                                orders[np.logical_and(orders['group']=='A',\n",
    "                                         np.logical_not(orders['visitorId'].isin(abnormalUsers)))]['revenue'].mean() - 1))"
   ]
  },
  {
   "cell_type": "markdown",
   "metadata": {},
   "source": [
    "**Выводы по очищенным данным**\n",
    "\n",
    "- Статистически значимых различий в среднем чеке групп А и В нет. Результат не изменился\n",
    "- Средний чек группы В ниже на 2,3% (в среднем) чем в группе А. Показатель снизился на 27%\n",
    "- После исключения из анализа аномально дорогих покупок выяснилось что действительно разница в среднем чеке между группами несущественна (с среднем).\n",
    "\n",
    "**Решение по результатам теста**\n",
    "- Остановить тест.\n",
    "- Зафиксировать наличие статистически значимых различий по конверсии между группами по «сырым» данным, и по данным после фильтрации аномалий.\n",
    "- Зафиксировать превышение конверсии в группе В над конверсией в группе А, в среднем на 14-17%.\n",
    "- Зафиксировать отстутствие статистически значимого различия по среднему чеку между группами в обоих вариантах анализа.\n",
    "- Зафиксировать отсутствие изменений в показателях среднего чека в пределах месяца наблюдений после проведения фильтрации данных.\n",
    "<br>\n",
    "\n",
    "<div style=\"border-radius: 15px; box-shadow: 4px 4px 4px; border: solid green 2px; padding: 20px\"> <b>Отличная работа - ✅</b><br>\n",
    "Согласен  с результатами - ты привела объективные аргументы👌</div> <br>\n",
    "\n",
    "\n",
    "# Заключение\n",
    "\n",
    "**Приоритизация гипотез**\n",
    "- Расчеты по прироритизаци двумя методами ICE и RICE\n",
    "- Рейтинг гипотез по ICE (ТОП-5): 9, 1, 8, 7, 3 (места по убыванию)\n",
    "- Рейтинг гипотез по RICE (ТОП-5): 8, 3, 1, 7, 9 (места по убыванию)\n",
    "- Расклад по приоритету изменился после внесения одного фактора - охвата аудитории.\n",
    "- По всем гипотезам это приоритет - максимальный охват аудитории, с меньшими затратами(не более среднего), и высоким значением уверенности влияния воздействия на аудиторию.\n",
    "\n",
    "**Список актуальных гипотез для проверки (по убыванию приоритета)**\n",
    "\n",
    "- Добавить форму подписки на все основные страницы, чтобы собрать базу клиентов для email-рассылок.\n",
    "- Добавить блоки рекомендаций товаров на сайт интернет магазина, чтобы повысить конверсию и средний чек заказа.\n",
    "- Добавить два новых канала привлечения трафика, что позволит привлекать на 30% больше пользователей.\n",
    "- Показать на главной странице баннеры с актуальными акциями и распродажами, чтобы увеличить конверсию.\n",
    "\n",
    "\n",
    "**Анализ А/В теста\n",
    "\n",
    "Количество посещений в группах за месяц теста сопостовимо:**\n",
    "\n",
    "- 18736 – группа А\n",
    "- 18916 – группа В\n",
    "\n",
    "**Количество заказов:**\n",
    "\n",
    "- 557 - группа А\n",
    "- 640 - группа В\n",
    "- Выручка по обеим группам устойчиво росла в течение всего теста.\n",
    "- В группе В 18-20 августа заметный скачок в данных - дорогой заказ выбивающийся по стоимости из общего ряда. В последние 10 дней теста наметилась устойчивая разница в выручке между группами (в группе В выручка больше)\n",
    "\n",
    "**Средний чек группы В стабильно растет, с резким скачком 18-20 августа.**\n",
    "\n",
    "Группа А после провала в начале августа показывает более быстрый рост по среднему чеку, но стабилизируется на уровне 7000 уже к середине теста. Период \"аномально\" дорогих покупок в группе В удерживал уровень среднего чека выше чем в группе А.\n",
    "\n",
    "**Конверсия по группам вначале наблюдений колеблется очень сильно.**\n",
    "1. В первую неделю теста группа B проигрывает значительно - около 7% группе A.\n",
    "2. После резкого роста, разница в конверсиях установилась на уровне 10% (выше у группы В).\n",
    "3. Колебания конверсий к концу теста сохраняются в пределах 2-3%.\n",
    "\n",
    "**Аномальные данные отфильтрованы по 95% охвату всех заказов, верхняя граница диапазона**\n",
    "\n",
    "- Количество заказов - не более 2.\n",
    "- Стоимость заказа - не более 30 000.\n",
    "- Процент данных отброшенных для очистки - 6.6%\n",
    "- Пользователей с аномальными заказами - 68\n",
    "\n",
    "**Выводы по сырым данным**\n",
    "\n",
    "- Статистически значимые различия в конверсии групп А и В есть.\n",
    "- Конверсия группы В выше на 13,8% (в среднем) чем в группе А.\n",
    "- Статистически значимых различий в среднем чеке групп А и В нет.\n",
    "- Средний чек группы В выше на 25,87% (в среднем) чем в группе А.\n",
    "\n",
    "**Выводы по очищенным данным**\n",
    "\n",
    "- Статистически значимые различия в конверсии групп А и В есть. Результат не изменился.\n",
    "- Конверсия группы В выше на 17,2% (в среднем) чем в группе А. Показатель вырос на 4%.\n",
    "- Статистически значимых различий в среднем чеке групп А и В нет. Результат не изменился.\n",
    "- Средний чек группы В ниже на 2,3% (в среднем) чем в группе А. Показатель снизился на 27%.\n",
    "- После исключения из анализа аномально дорогих покупок выяснилось что действительно разница в среднем чеке между группами несущественна.\n",
    "\n",
    "**Решение по результатам теста**\n",
    "- Остановить тест.\n",
    "- Зафиксировать наличие статистически значимых различий по конверсии между группами по «сырым» данным, и по данным после фильтрации аномалий.\n",
    "- Зафиксировать превышение конверсии в группе В над конверсией в группе А, в среднем на 14-17%.\n",
    "- Зафиксировать отстутствие статистически значимого различия по среднему чеку между группами в обоих вариантах анализа.\n",
    "- Зафиксировать отсутствие изменений в показателях среднего чека в пределах месяца наблюдений после проведения фильтрации данных."
   ]
  },
  {
   "cell_type": "markdown",
   "metadata": {},
   "source": [
    "<hr style=\"border: 2px solid green;\" />\n",
    "\n",
    "## Общий комментарий\n",
    "Спасибо за проделанную работу🤝\n",
    "\n",
    "Евгения, проект выполнен очень хорошо: ты отличнот справилась с анализом метрик и проверкой гипотез, выявила аномалии, которые искажали реальные метрики, молодец👌\n",
    "\n",
    "Не обошлось без доработок:\n",
    "- указать вводную информацию перед проверками\n",
    "- сформулировать гипотезы(у)\n",
    "- поправить комментарии про измение в процентах\n",
    "\n",
    "Исправляй и отправляй на проверку🛠"
   ]
  },
  {
   "cell_type": "markdown",
   "metadata": {},
   "source": [
    "<div class=\"alert alert-info\" style=\"border-radius: 15px; box-shadow: 4px 4px 4px; border: solid blue 2px; padding: 20px\"> <b>Комментарий студента:</b>\n",
    "<ul>\n",
    "Спасибо большое за оперативную проверку с внесением крутых и запоминающихся замечаний. Единственное, я не совсем справилась с пунктом 4.4. Help me please😔\n",
    "    </ul></div><br>\n",
    "</div>\n"
   ]
  },
  {
   "cell_type": "code",
   "execution_count": null,
   "metadata": {},
   "outputs": [],
   "source": []
  }
 ],
 "metadata": {
  "ExecuteTimeLog": [
   {
    "duration": 1714,
    "start_time": "2022-05-03T16:07:53.416Z"
   },
   {
    "duration": 197,
    "start_time": "2022-05-03T16:08:16.559Z"
   },
   {
    "duration": 4,
    "start_time": "2022-05-03T16:08:19.873Z"
   },
   {
    "duration": 81,
    "start_time": "2022-05-03T16:08:20.821Z"
   },
   {
    "duration": 32,
    "start_time": "2022-05-03T16:08:50.964Z"
   },
   {
    "duration": 22,
    "start_time": "2022-05-03T16:10:25.834Z"
   },
   {
    "duration": 5,
    "start_time": "2022-05-03T16:12:15.375Z"
   },
   {
    "duration": 23,
    "start_time": "2022-05-03T16:12:37.783Z"
   },
   {
    "duration": 222,
    "start_time": "2022-05-03T16:13:50.793Z"
   },
   {
    "duration": 13,
    "start_time": "2022-05-03T16:23:06.426Z"
   },
   {
    "duration": 25,
    "start_time": "2022-05-03T16:23:33.252Z"
   },
   {
    "duration": 22,
    "start_time": "2022-05-03T16:27:52.632Z"
   },
   {
    "duration": 104,
    "start_time": "2022-05-03T16:28:32.264Z"
   },
   {
    "duration": 14,
    "start_time": "2022-05-03T16:28:47.826Z"
   },
   {
    "duration": 16,
    "start_time": "2022-05-03T16:29:28.888Z"
   },
   {
    "duration": 15,
    "start_time": "2022-05-03T16:30:44.366Z"
   },
   {
    "duration": 16,
    "start_time": "2022-05-03T16:32:02.083Z"
   },
   {
    "duration": 14,
    "start_time": "2022-05-03T16:32:07.100Z"
   },
   {
    "duration": 352,
    "start_time": "2022-05-03T16:32:27.985Z"
   },
   {
    "duration": 290,
    "start_time": "2022-05-03T16:34:55.856Z"
   },
   {
    "duration": 223,
    "start_time": "2022-05-03T16:35:13.269Z"
   },
   {
    "duration": 317,
    "start_time": "2022-05-03T16:36:19.928Z"
   },
   {
    "duration": 277,
    "start_time": "2022-05-03T16:36:34.161Z"
   },
   {
    "duration": 311,
    "start_time": "2022-05-03T16:37:41.644Z"
   },
   {
    "duration": 268,
    "start_time": "2022-05-03T16:38:31.923Z"
   },
   {
    "duration": 358,
    "start_time": "2022-05-03T16:39:33.666Z"
   },
   {
    "duration": 407,
    "start_time": "2022-05-03T16:40:13.911Z"
   },
   {
    "duration": 306,
    "start_time": "2022-05-03T16:40:24.358Z"
   },
   {
    "duration": 301,
    "start_time": "2022-05-03T16:40:31.529Z"
   },
   {
    "duration": 418,
    "start_time": "2022-05-03T16:40:44.234Z"
   },
   {
    "duration": 273,
    "start_time": "2022-05-03T16:41:32.847Z"
   },
   {
    "duration": 49,
    "start_time": "2022-05-05T13:53:29.104Z"
   },
   {
    "duration": 1465,
    "start_time": "2022-05-05T13:53:34.383Z"
   },
   {
    "duration": 69,
    "start_time": "2022-05-05T13:53:35.850Z"
   },
   {
    "duration": 12,
    "start_time": "2022-05-05T13:53:35.921Z"
   },
   {
    "duration": 14,
    "start_time": "2022-05-05T13:53:35.936Z"
   },
   {
    "duration": 11,
    "start_time": "2022-05-05T13:53:35.952Z"
   },
   {
    "duration": 12,
    "start_time": "2022-05-05T13:53:35.965Z"
   },
   {
    "duration": 226,
    "start_time": "2022-05-05T13:53:35.979Z"
   },
   {
    "duration": 1117,
    "start_time": "2022-05-05T13:53:36.207Z"
   },
   {
    "duration": 14,
    "start_time": "2022-05-05T13:53:55.168Z"
   },
   {
    "duration": 73,
    "start_time": "2022-05-05T13:54:01.375Z"
   },
   {
    "duration": 8,
    "start_time": "2022-05-05T13:54:44.540Z"
   },
   {
    "duration": 10,
    "start_time": "2022-05-05T13:54:52.146Z"
   },
   {
    "duration": 14,
    "start_time": "2022-05-05T13:55:16.321Z"
   },
   {
    "duration": 1705,
    "start_time": "2022-05-05T13:55:22.759Z"
   },
   {
    "duration": 839,
    "start_time": "2022-05-05T13:56:48.385Z"
   },
   {
    "duration": 1211,
    "start_time": "2022-05-05T14:02:38.313Z"
   },
   {
    "duration": 37,
    "start_time": "2022-05-05T14:02:39.526Z"
   },
   {
    "duration": 13,
    "start_time": "2022-05-05T14:02:39.564Z"
   },
   {
    "duration": 40,
    "start_time": "2022-05-05T14:02:39.578Z"
   },
   {
    "duration": 27,
    "start_time": "2022-05-05T14:02:39.621Z"
   },
   {
    "duration": 30,
    "start_time": "2022-05-05T14:02:39.650Z"
   },
   {
    "duration": 197,
    "start_time": "2022-05-05T14:02:39.682Z"
   },
   {
    "duration": 41,
    "start_time": "2022-05-05T14:02:39.881Z"
   },
   {
    "duration": 10,
    "start_time": "2022-05-05T14:02:39.923Z"
   },
   {
    "duration": 144,
    "start_time": "2022-05-05T14:02:39.935Z"
   },
   {
    "duration": 958,
    "start_time": "2022-05-05T14:03:19.379Z"
   },
   {
    "duration": 1166,
    "start_time": "2022-05-05T14:03:27.569Z"
   },
   {
    "duration": 26,
    "start_time": "2022-05-05T14:03:28.737Z"
   },
   {
    "duration": 11,
    "start_time": "2022-05-05T14:03:28.765Z"
   },
   {
    "duration": 12,
    "start_time": "2022-05-05T14:03:28.779Z"
   },
   {
    "duration": 11,
    "start_time": "2022-05-05T14:03:28.792Z"
   },
   {
    "duration": 26,
    "start_time": "2022-05-05T14:03:28.805Z"
   },
   {
    "duration": 196,
    "start_time": "2022-05-05T14:03:28.833Z"
   },
   {
    "duration": 43,
    "start_time": "2022-05-05T14:03:29.031Z"
   },
   {
    "duration": 11,
    "start_time": "2022-05-05T14:03:29.076Z"
   },
   {
    "duration": 21,
    "start_time": "2022-05-05T14:03:29.091Z"
   },
   {
    "duration": 115,
    "start_time": "2022-05-05T14:04:20.494Z"
   },
   {
    "duration": 21,
    "start_time": "2022-05-05T14:04:31.155Z"
   },
   {
    "duration": 20,
    "start_time": "2022-05-05T14:05:09.750Z"
   },
   {
    "duration": 113,
    "start_time": "2022-05-05T14:08:13.384Z"
   },
   {
    "duration": 47,
    "start_time": "2022-05-05T14:08:29.222Z"
   },
   {
    "duration": 31,
    "start_time": "2022-05-05T14:09:36.913Z"
   },
   {
    "duration": 27,
    "start_time": "2022-05-05T14:09:58.930Z"
   },
   {
    "duration": 12,
    "start_time": "2022-05-05T14:10:37.125Z"
   },
   {
    "duration": 11,
    "start_time": "2022-05-05T14:10:55.042Z"
   },
   {
    "duration": 35,
    "start_time": "2022-05-05T14:11:14.308Z"
   },
   {
    "duration": 13,
    "start_time": "2022-05-05T14:12:02.016Z"
   },
   {
    "duration": 10,
    "start_time": "2022-05-05T14:12:26.386Z"
   },
   {
    "duration": 19,
    "start_time": "2022-05-05T14:18:33.190Z"
   },
   {
    "duration": 182,
    "start_time": "2022-05-05T14:18:50.816Z"
   },
   {
    "duration": 16,
    "start_time": "2022-05-05T14:19:01.862Z"
   },
   {
    "duration": 200,
    "start_time": "2022-05-05T14:22:06.899Z"
   },
   {
    "duration": 269,
    "start_time": "2022-05-05T14:22:28.401Z"
   },
   {
    "duration": 6,
    "start_time": "2022-05-05T14:22:33.522Z"
   },
   {
    "duration": 10,
    "start_time": "2022-05-05T14:22:42.739Z"
   },
   {
    "duration": 15,
    "start_time": "2022-05-05T14:24:15.615Z"
   },
   {
    "duration": 81,
    "start_time": "2022-05-05T14:24:49.510Z"
   },
   {
    "duration": 11,
    "start_time": "2022-05-05T14:25:09.167Z"
   },
   {
    "duration": 53,
    "start_time": "2022-05-05T14:26:38.156Z"
   },
   {
    "duration": 210,
    "start_time": "2022-05-05T14:28:30.490Z"
   },
   {
    "duration": 9,
    "start_time": "2022-05-05T14:28:37.454Z"
   },
   {
    "duration": 5,
    "start_time": "2022-05-05T14:28:43.091Z"
   },
   {
    "duration": 199,
    "start_time": "2022-05-05T14:29:28.461Z"
   },
   {
    "duration": 192,
    "start_time": "2022-05-05T14:29:48.033Z"
   },
   {
    "duration": 252,
    "start_time": "2022-05-05T14:30:13.098Z"
   },
   {
    "duration": 198,
    "start_time": "2022-05-05T14:30:23.136Z"
   },
   {
    "duration": 184,
    "start_time": "2022-05-05T14:30:41.260Z"
   },
   {
    "duration": 214,
    "start_time": "2022-05-05T14:32:16.594Z"
   },
   {
    "duration": 5,
    "start_time": "2022-05-05T14:32:23.352Z"
   },
   {
    "duration": 10,
    "start_time": "2022-05-05T14:35:27.303Z"
   },
   {
    "duration": 35,
    "start_time": "2022-05-05T14:35:46.012Z"
   },
   {
    "duration": 77,
    "start_time": "2022-05-05T14:36:05.046Z"
   },
   {
    "duration": 28,
    "start_time": "2022-05-05T14:36:23.276Z"
   },
   {
    "duration": 56,
    "start_time": "2022-05-05T14:36:35.667Z"
   },
   {
    "duration": 32,
    "start_time": "2022-05-05T14:37:57.074Z"
   },
   {
    "duration": 36,
    "start_time": "2022-05-05T14:39:20.849Z"
   },
   {
    "duration": 407,
    "start_time": "2022-05-05T14:40:03.640Z"
   },
   {
    "duration": 279,
    "start_time": "2022-05-05T14:44:53.578Z"
   },
   {
    "duration": 233,
    "start_time": "2022-05-05T14:45:08.914Z"
   },
   {
    "duration": 339,
    "start_time": "2022-05-05T14:47:35.438Z"
   },
   {
    "duration": 233,
    "start_time": "2022-05-05T14:49:39.146Z"
   },
   {
    "duration": 373,
    "start_time": "2022-05-05T14:50:32.486Z"
   },
   {
    "duration": 143,
    "start_time": "2022-05-05T14:54:00.872Z"
   },
   {
    "duration": 5,
    "start_time": "2022-05-05T14:54:12.382Z"
   },
   {
    "duration": 260,
    "start_time": "2022-05-05T14:54:37.940Z"
   },
   {
    "duration": 274,
    "start_time": "2022-05-05T14:56:34.266Z"
   },
   {
    "duration": 189,
    "start_time": "2022-05-05T14:56:47.580Z"
   },
   {
    "duration": 193,
    "start_time": "2022-05-05T14:57:09.289Z"
   },
   {
    "duration": 11,
    "start_time": "2022-05-05T14:58:51.076Z"
   },
   {
    "duration": 1323,
    "start_time": "2022-05-05T14:59:19.418Z"
   },
   {
    "duration": 27,
    "start_time": "2022-05-05T14:59:20.743Z"
   },
   {
    "duration": 13,
    "start_time": "2022-05-05T14:59:20.772Z"
   },
   {
    "duration": 15,
    "start_time": "2022-05-05T14:59:20.787Z"
   },
   {
    "duration": 32,
    "start_time": "2022-05-05T14:59:20.804Z"
   },
   {
    "duration": 17,
    "start_time": "2022-05-05T14:59:20.838Z"
   },
   {
    "duration": 220,
    "start_time": "2022-05-05T14:59:20.857Z"
   },
   {
    "duration": 45,
    "start_time": "2022-05-05T14:59:21.079Z"
   },
   {
    "duration": 16,
    "start_time": "2022-05-05T14:59:21.129Z"
   },
   {
    "duration": 26,
    "start_time": "2022-05-05T14:59:21.148Z"
   },
   {
    "duration": 62,
    "start_time": "2022-05-05T14:59:21.177Z"
   },
   {
    "duration": 28,
    "start_time": "2022-05-05T14:59:21.241Z"
   },
   {
    "duration": 12,
    "start_time": "2022-05-05T14:59:21.271Z"
   },
   {
    "duration": 12,
    "start_time": "2022-05-05T14:59:21.285Z"
   },
   {
    "duration": 39,
    "start_time": "2022-05-05T14:59:21.299Z"
   },
   {
    "duration": 57,
    "start_time": "2022-05-05T14:59:21.340Z"
   },
   {
    "duration": 33,
    "start_time": "2022-05-05T14:59:21.399Z"
   },
   {
    "duration": 73,
    "start_time": "2022-05-05T14:59:21.434Z"
   },
   {
    "duration": 18,
    "start_time": "2022-05-05T14:59:21.509Z"
   },
   {
    "duration": 34,
    "start_time": "2022-05-05T14:59:21.529Z"
   },
   {
    "duration": 83,
    "start_time": "2022-05-05T14:59:21.565Z"
   },
   {
    "duration": 20,
    "start_time": "2022-05-05T14:59:21.650Z"
   },
   {
    "duration": 82,
    "start_time": "2022-05-05T14:59:21.673Z"
   },
   {
    "duration": 34,
    "start_time": "2022-05-05T14:59:21.758Z"
   },
   {
    "duration": 319,
    "start_time": "2022-05-05T14:59:21.794Z"
   },
   {
    "duration": 190,
    "start_time": "2022-05-05T14:59:22.123Z"
   },
   {
    "duration": 326,
    "start_time": "2022-05-05T14:59:22.328Z"
   },
   {
    "duration": 210,
    "start_time": "2022-05-05T14:59:22.657Z"
   },
   {
    "duration": 313,
    "start_time": "2022-05-05T14:59:22.869Z"
   },
   {
    "duration": 188,
    "start_time": "2022-05-05T14:59:23.184Z"
   },
   {
    "duration": 5,
    "start_time": "2022-05-05T14:59:23.373Z"
   },
   {
    "duration": 161,
    "start_time": "2022-05-05T14:59:23.380Z"
   },
   {
    "duration": 122,
    "start_time": "2022-05-05T14:59:23.543Z"
   },
   {
    "duration": 5,
    "start_time": "2022-05-05T15:00:29.175Z"
   },
   {
    "duration": 19,
    "start_time": "2022-05-05T15:00:47.219Z"
   },
   {
    "duration": 237,
    "start_time": "2022-05-05T15:00:58.052Z"
   },
   {
    "duration": 12,
    "start_time": "2022-05-05T15:01:54.062Z"
   },
   {
    "duration": 6,
    "start_time": "2022-05-05T15:01:58.980Z"
   },
   {
    "duration": 10,
    "start_time": "2022-05-05T15:03:20.082Z"
   },
   {
    "duration": 100,
    "start_time": "2022-05-05T15:03:28.476Z"
   },
   {
    "duration": 15,
    "start_time": "2022-05-05T15:03:36.569Z"
   },
   {
    "duration": 90,
    "start_time": "2022-05-05T15:03:50.509Z"
   },
   {
    "duration": 14,
    "start_time": "2022-05-05T15:03:57.459Z"
   },
   {
    "duration": 11,
    "start_time": "2022-05-05T15:04:25.210Z"
   },
   {
    "duration": 8,
    "start_time": "2022-05-05T15:04:34.439Z"
   },
   {
    "duration": 9,
    "start_time": "2022-05-05T15:04:41.288Z"
   },
   {
    "duration": 9,
    "start_time": "2022-05-05T15:04:48.041Z"
   },
   {
    "duration": 8,
    "start_time": "2022-05-05T15:08:27.384Z"
   },
   {
    "duration": 76,
    "start_time": "2022-05-05T15:09:45.417Z"
   },
   {
    "duration": 58,
    "start_time": "2022-05-05T15:11:06.417Z"
   },
   {
    "duration": 4,
    "start_time": "2022-05-05T15:11:08.055Z"
   },
   {
    "duration": 11,
    "start_time": "2022-05-05T15:12:37.973Z"
   },
   {
    "duration": 12,
    "start_time": "2022-05-05T15:12:58.853Z"
   },
   {
    "duration": 13,
    "start_time": "2022-05-05T15:13:09.708Z"
   },
   {
    "duration": 13,
    "start_time": "2022-05-05T15:13:57.425Z"
   },
   {
    "duration": 7,
    "start_time": "2022-05-05T15:14:13.397Z"
   },
   {
    "duration": 7,
    "start_time": "2022-05-05T15:15:02.181Z"
   },
   {
    "duration": 7,
    "start_time": "2022-05-05T15:15:12.485Z"
   },
   {
    "duration": 10,
    "start_time": "2022-05-05T15:15:36.754Z"
   },
   {
    "duration": 5,
    "start_time": "2022-05-05T15:15:51.705Z"
   },
   {
    "duration": 7,
    "start_time": "2022-05-05T15:16:04.095Z"
   },
   {
    "duration": 4,
    "start_time": "2022-05-05T15:16:13.210Z"
   },
   {
    "duration": 9,
    "start_time": "2022-05-05T15:16:24.678Z"
   },
   {
    "duration": 5,
    "start_time": "2022-05-05T15:16:30.931Z"
   },
   {
    "duration": 7,
    "start_time": "2022-05-05T15:16:45.056Z"
   },
   {
    "duration": 11,
    "start_time": "2022-05-05T15:28:08.792Z"
   },
   {
    "duration": 1308,
    "start_time": "2022-05-05T15:28:22.739Z"
   },
   {
    "duration": 27,
    "start_time": "2022-05-05T15:28:24.049Z"
   },
   {
    "duration": 12,
    "start_time": "2022-05-05T15:28:24.078Z"
   },
   {
    "duration": 16,
    "start_time": "2022-05-05T15:28:24.092Z"
   },
   {
    "duration": 26,
    "start_time": "2022-05-05T15:28:24.109Z"
   },
   {
    "duration": 16,
    "start_time": "2022-05-05T15:28:24.137Z"
   },
   {
    "duration": 218,
    "start_time": "2022-05-05T15:28:24.156Z"
   },
   {
    "duration": 64,
    "start_time": "2022-05-05T15:28:24.376Z"
   },
   {
    "duration": 12,
    "start_time": "2022-05-05T15:28:24.442Z"
   },
   {
    "duration": 28,
    "start_time": "2022-05-05T15:28:24.458Z"
   },
   {
    "duration": 56,
    "start_time": "2022-05-05T15:28:24.488Z"
   },
   {
    "duration": 28,
    "start_time": "2022-05-05T15:28:24.546Z"
   },
   {
    "duration": 14,
    "start_time": "2022-05-05T15:28:24.576Z"
   },
   {
    "duration": 33,
    "start_time": "2022-05-05T15:28:24.592Z"
   },
   {
    "duration": 14,
    "start_time": "2022-05-05T15:28:24.629Z"
   },
   {
    "duration": 59,
    "start_time": "2022-05-05T15:28:24.645Z"
   },
   {
    "duration": 28,
    "start_time": "2022-05-05T15:28:24.706Z"
   },
   {
    "duration": 59,
    "start_time": "2022-05-05T15:28:24.736Z"
   },
   {
    "duration": 20,
    "start_time": "2022-05-05T15:28:24.797Z"
   },
   {
    "duration": 27,
    "start_time": "2022-05-05T15:28:24.822Z"
   },
   {
    "duration": 59,
    "start_time": "2022-05-05T15:28:24.851Z"
   },
   {
    "duration": 34,
    "start_time": "2022-05-05T15:28:24.912Z"
   },
   {
    "duration": 56,
    "start_time": "2022-05-05T15:28:24.948Z"
   },
   {
    "duration": 32,
    "start_time": "2022-05-05T15:28:25.025Z"
   },
   {
    "duration": 286,
    "start_time": "2022-05-05T15:28:25.059Z"
   },
   {
    "duration": 205,
    "start_time": "2022-05-05T15:28:25.347Z"
   },
   {
    "duration": 284,
    "start_time": "2022-05-05T15:28:25.554Z"
   },
   {
    "duration": 234,
    "start_time": "2022-05-05T15:28:25.844Z"
   },
   {
    "duration": 321,
    "start_time": "2022-05-05T15:28:26.080Z"
   },
   {
    "duration": 140,
    "start_time": "2022-05-05T15:28:26.403Z"
   },
   {
    "duration": 6,
    "start_time": "2022-05-05T15:28:26.545Z"
   },
   {
    "duration": 223,
    "start_time": "2022-05-05T15:28:26.553Z"
   },
   {
    "duration": 7,
    "start_time": "2022-05-05T15:28:26.779Z"
   },
   {
    "duration": 245,
    "start_time": "2022-05-05T15:28:26.787Z"
   },
   {
    "duration": 6,
    "start_time": "2022-05-05T15:28:27.034Z"
   },
   {
    "duration": 90,
    "start_time": "2022-05-05T15:28:27.042Z"
   },
   {
    "duration": 18,
    "start_time": "2022-05-05T15:28:27.134Z"
   },
   {
    "duration": 104,
    "start_time": "2022-05-05T15:28:27.154Z"
   },
   {
    "duration": 15,
    "start_time": "2022-05-05T15:28:27.259Z"
   },
   {
    "duration": 12,
    "start_time": "2022-05-05T15:28:27.276Z"
   },
   {
    "duration": 34,
    "start_time": "2022-05-05T15:28:27.290Z"
   },
   {
    "duration": 14,
    "start_time": "2022-05-05T15:28:27.325Z"
   },
   {
    "duration": 7,
    "start_time": "2022-05-05T15:28:27.341Z"
   },
   {
    "duration": 44,
    "start_time": "2022-05-05T15:28:27.350Z"
   },
   {
    "duration": 35,
    "start_time": "2022-05-05T15:28:27.396Z"
   },
   {
    "duration": 15,
    "start_time": "2022-05-05T15:28:27.434Z"
   },
   {
    "duration": 7,
    "start_time": "2022-05-05T15:28:27.451Z"
   },
   {
    "duration": 7,
    "start_time": "2022-05-05T15:28:27.461Z"
   },
   {
    "duration": 6,
    "start_time": "2022-05-05T15:28:27.470Z"
   },
   {
    "duration": 8,
    "start_time": "2022-05-05T15:28:27.479Z"
   },
   {
    "duration": 9,
    "start_time": "2022-05-05T15:28:27.524Z"
   },
   {
    "duration": 8,
    "start_time": "2022-05-05T15:28:27.535Z"
   },
   {
    "duration": 127,
    "start_time": "2022-05-05T15:28:27.545Z"
   },
   {
    "duration": 11,
    "start_time": "2022-05-05T15:29:05.008Z"
   },
   {
    "duration": 79,
    "start_time": "2022-05-05T15:29:06.752Z"
   },
   {
    "duration": 4,
    "start_time": "2022-05-05T15:29:24.868Z"
   },
   {
    "duration": 14,
    "start_time": "2022-05-05T15:30:29.295Z"
   },
   {
    "duration": 17,
    "start_time": "2022-05-05T15:30:46.076Z"
   },
   {
    "duration": 14,
    "start_time": "2022-05-05T15:31:13.721Z"
   },
   {
    "duration": 11,
    "start_time": "2022-05-05T15:31:26.318Z"
   },
   {
    "duration": 1731,
    "start_time": "2022-05-05T15:37:13.484Z"
   },
   {
    "duration": 37,
    "start_time": "2022-05-05T15:37:15.218Z"
   },
   {
    "duration": 18,
    "start_time": "2022-05-05T15:37:15.257Z"
   },
   {
    "duration": 20,
    "start_time": "2022-05-05T15:37:15.278Z"
   },
   {
    "duration": 38,
    "start_time": "2022-05-05T15:37:15.300Z"
   },
   {
    "duration": 12,
    "start_time": "2022-05-05T15:37:15.340Z"
   },
   {
    "duration": 247,
    "start_time": "2022-05-05T15:37:15.354Z"
   },
   {
    "duration": 44,
    "start_time": "2022-05-05T15:37:15.603Z"
   },
   {
    "duration": 11,
    "start_time": "2022-05-05T15:37:15.649Z"
   },
   {
    "duration": 22,
    "start_time": "2022-05-05T15:37:15.663Z"
   },
   {
    "duration": 60,
    "start_time": "2022-05-05T15:37:15.687Z"
   },
   {
    "duration": 28,
    "start_time": "2022-05-05T15:37:15.748Z"
   },
   {
    "duration": 13,
    "start_time": "2022-05-05T15:37:15.778Z"
   },
   {
    "duration": 31,
    "start_time": "2022-05-05T15:37:15.793Z"
   },
   {
    "duration": 17,
    "start_time": "2022-05-05T15:37:15.828Z"
   },
   {
    "duration": 54,
    "start_time": "2022-05-05T15:37:15.847Z"
   },
   {
    "duration": 19,
    "start_time": "2022-05-05T15:37:15.922Z"
   },
   {
    "duration": 52,
    "start_time": "2022-05-05T15:37:15.944Z"
   },
   {
    "duration": 29,
    "start_time": "2022-05-05T15:37:15.998Z"
   },
   {
    "duration": 30,
    "start_time": "2022-05-05T15:37:16.029Z"
   },
   {
    "duration": 87,
    "start_time": "2022-05-05T15:37:16.061Z"
   },
   {
    "duration": 22,
    "start_time": "2022-05-05T15:37:16.151Z"
   },
   {
    "duration": 90,
    "start_time": "2022-05-05T15:37:16.175Z"
   },
   {
    "duration": 34,
    "start_time": "2022-05-05T15:37:16.267Z"
   },
   {
    "duration": 306,
    "start_time": "2022-05-05T15:37:16.303Z"
   },
   {
    "duration": 236,
    "start_time": "2022-05-05T15:37:16.611Z"
   },
   {
    "duration": 323,
    "start_time": "2022-05-05T15:37:16.849Z"
   },
   {
    "duration": 246,
    "start_time": "2022-05-05T15:37:17.176Z"
   },
   {
    "duration": 349,
    "start_time": "2022-05-05T15:37:17.430Z"
   },
   {
    "duration": 311,
    "start_time": "2022-05-05T15:37:17.781Z"
   },
   {
    "duration": 5,
    "start_time": "2022-05-05T15:37:18.094Z"
   },
   {
    "duration": 225,
    "start_time": "2022-05-05T15:37:18.102Z"
   },
   {
    "duration": 10,
    "start_time": "2022-05-05T15:37:18.330Z"
   },
   {
    "duration": 352,
    "start_time": "2022-05-05T15:37:18.342Z"
   },
   {
    "duration": 7,
    "start_time": "2022-05-05T15:37:18.697Z"
   },
   {
    "duration": 132,
    "start_time": "2022-05-05T15:37:18.706Z"
   },
   {
    "duration": 17,
    "start_time": "2022-05-05T15:37:18.840Z"
   },
   {
    "duration": 131,
    "start_time": "2022-05-05T15:37:18.859Z"
   },
   {
    "duration": 18,
    "start_time": "2022-05-05T15:37:18.992Z"
   },
   {
    "duration": 32,
    "start_time": "2022-05-05T15:37:19.011Z"
   },
   {
    "duration": 7,
    "start_time": "2022-05-05T15:37:19.045Z"
   },
   {
    "duration": 8,
    "start_time": "2022-05-05T15:37:19.054Z"
   },
   {
    "duration": 6,
    "start_time": "2022-05-05T15:37:19.064Z"
   },
   {
    "duration": 89,
    "start_time": "2022-05-05T15:37:19.072Z"
   },
   {
    "duration": 6,
    "start_time": "2022-05-05T15:37:19.163Z"
   },
   {
    "duration": 17,
    "start_time": "2022-05-05T15:37:19.170Z"
   },
   {
    "duration": 8,
    "start_time": "2022-05-05T15:37:19.188Z"
   },
   {
    "duration": 34,
    "start_time": "2022-05-05T15:37:19.198Z"
   },
   {
    "duration": 9,
    "start_time": "2022-05-05T15:37:19.234Z"
   },
   {
    "duration": 10,
    "start_time": "2022-05-05T15:37:19.246Z"
   },
   {
    "duration": 6,
    "start_time": "2022-05-05T15:37:19.257Z"
   },
   {
    "duration": 15,
    "start_time": "2022-05-05T15:37:19.264Z"
   },
   {
    "duration": 52,
    "start_time": "2022-05-05T15:37:19.281Z"
   },
   {
    "duration": 46,
    "start_time": "2022-05-05T15:37:19.337Z"
   },
   {
    "duration": 5,
    "start_time": "2022-05-05T15:37:19.385Z"
   },
   {
    "duration": 47,
    "start_time": "2022-05-05T15:37:19.392Z"
   },
   {
    "duration": 13,
    "start_time": "2022-05-05T15:37:19.441Z"
   },
   {
    "duration": 1093,
    "start_time": "2022-05-07T03:42:21.735Z"
   },
   {
    "duration": 19,
    "start_time": "2022-05-07T03:42:22.830Z"
   },
   {
    "duration": 11,
    "start_time": "2022-05-07T03:42:22.850Z"
   },
   {
    "duration": 16,
    "start_time": "2022-05-07T03:42:22.863Z"
   },
   {
    "duration": 10,
    "start_time": "2022-05-07T03:42:22.880Z"
   },
   {
    "duration": 10,
    "start_time": "2022-05-07T03:42:22.891Z"
   },
   {
    "duration": 185,
    "start_time": "2022-05-07T03:42:22.903Z"
   },
   {
    "duration": 24,
    "start_time": "2022-05-07T03:42:23.090Z"
   },
   {
    "duration": 10,
    "start_time": "2022-05-07T03:42:23.115Z"
   },
   {
    "duration": 26,
    "start_time": "2022-05-07T03:42:23.127Z"
   },
   {
    "duration": 34,
    "start_time": "2022-05-07T03:42:23.155Z"
   },
   {
    "duration": 20,
    "start_time": "2022-05-07T03:42:23.190Z"
   },
   {
    "duration": 10,
    "start_time": "2022-05-07T03:42:23.212Z"
   },
   {
    "duration": 32,
    "start_time": "2022-05-07T03:42:23.224Z"
   },
   {
    "duration": 10,
    "start_time": "2022-05-07T03:42:23.258Z"
   },
   {
    "duration": 45,
    "start_time": "2022-05-07T03:42:23.270Z"
   },
   {
    "duration": 32,
    "start_time": "2022-05-07T03:42:23.317Z"
   },
   {
    "duration": 48,
    "start_time": "2022-05-07T03:42:23.351Z"
   },
   {
    "duration": 4,
    "start_time": "2022-05-07T03:42:23.400Z"
   },
   {
    "duration": 16,
    "start_time": "2022-05-07T03:42:23.406Z"
   },
   {
    "duration": 71,
    "start_time": "2022-05-07T03:42:23.424Z"
   },
   {
    "duration": 18,
    "start_time": "2022-05-07T03:42:23.496Z"
   },
   {
    "duration": 74,
    "start_time": "2022-05-07T03:42:23.515Z"
   },
   {
    "duration": 27,
    "start_time": "2022-05-07T03:42:23.591Z"
   },
   {
    "duration": 241,
    "start_time": "2022-05-07T03:42:23.620Z"
   },
   {
    "duration": 168,
    "start_time": "2022-05-07T03:42:23.862Z"
   },
   {
    "duration": 309,
    "start_time": "2022-05-07T03:42:24.032Z"
   },
   {
    "duration": 179,
    "start_time": "2022-05-07T03:42:24.350Z"
   },
   {
    "duration": 296,
    "start_time": "2022-05-07T03:42:24.530Z"
   },
   {
    "duration": 121,
    "start_time": "2022-05-07T03:42:24.827Z"
   },
   {
    "duration": 4,
    "start_time": "2022-05-07T03:42:24.949Z"
   },
   {
    "duration": 124,
    "start_time": "2022-05-07T03:42:24.954Z"
   },
   {
    "duration": 4,
    "start_time": "2022-05-07T03:42:25.080Z"
   },
   {
    "duration": 215,
    "start_time": "2022-05-07T03:42:25.086Z"
   },
   {
    "duration": 4,
    "start_time": "2022-05-07T03:42:25.303Z"
   },
   {
    "duration": 95,
    "start_time": "2022-05-07T03:42:25.308Z"
   },
   {
    "duration": 13,
    "start_time": "2022-05-07T03:42:25.404Z"
   },
   {
    "duration": 88,
    "start_time": "2022-05-07T03:42:25.418Z"
   },
   {
    "duration": 12,
    "start_time": "2022-05-07T03:42:25.507Z"
   },
   {
    "duration": 26,
    "start_time": "2022-05-07T03:42:25.521Z"
   },
   {
    "duration": 6,
    "start_time": "2022-05-07T03:42:25.549Z"
   },
   {
    "duration": 10,
    "start_time": "2022-05-07T03:42:25.557Z"
   },
   {
    "duration": 6,
    "start_time": "2022-05-07T03:42:25.569Z"
   },
   {
    "duration": 40,
    "start_time": "2022-05-07T03:42:25.576Z"
   },
   {
    "duration": 4,
    "start_time": "2022-05-07T03:42:25.618Z"
   },
   {
    "duration": 13,
    "start_time": "2022-05-07T03:42:25.647Z"
   },
   {
    "duration": 6,
    "start_time": "2022-05-07T03:42:25.662Z"
   },
   {
    "duration": 8,
    "start_time": "2022-05-07T03:42:25.670Z"
   },
   {
    "duration": 7,
    "start_time": "2022-05-07T03:42:25.679Z"
   },
   {
    "duration": 7,
    "start_time": "2022-05-07T03:42:25.688Z"
   },
   {
    "duration": 5,
    "start_time": "2022-05-07T03:42:25.696Z"
   },
   {
    "duration": 10,
    "start_time": "2022-05-07T03:42:25.702Z"
   },
   {
    "duration": 40,
    "start_time": "2022-05-07T03:42:25.713Z"
   },
   {
    "duration": 43,
    "start_time": "2022-05-07T03:42:25.754Z"
   },
   {
    "duration": 3,
    "start_time": "2022-05-07T03:42:25.799Z"
   },
   {
    "duration": 12,
    "start_time": "2022-05-07T03:42:25.804Z"
   },
   {
    "duration": 6,
    "start_time": "2022-05-07T03:42:25.817Z"
   },
   {
    "duration": 197,
    "start_time": "2022-05-07T06:06:10.619Z"
   },
   {
    "duration": 45,
    "start_time": "2022-05-07T06:06:17.174Z"
   },
   {
    "duration": 1331,
    "start_time": "2022-05-07T06:06:25.932Z"
   },
   {
    "duration": 24,
    "start_time": "2022-05-07T06:06:27.265Z"
   },
   {
    "duration": 10,
    "start_time": "2022-05-07T06:06:27.291Z"
   },
   {
    "duration": 14,
    "start_time": "2022-05-07T06:06:27.303Z"
   },
   {
    "duration": 10,
    "start_time": "2022-05-07T06:06:27.318Z"
   },
   {
    "duration": 25,
    "start_time": "2022-05-07T06:06:27.329Z"
   },
   {
    "duration": 174,
    "start_time": "2022-05-07T06:06:27.356Z"
   },
   {
    "duration": 24,
    "start_time": "2022-05-07T06:06:27.532Z"
   },
   {
    "duration": 10,
    "start_time": "2022-05-07T06:06:27.557Z"
   },
   {
    "duration": 20,
    "start_time": "2022-05-07T06:06:27.569Z"
   },
   {
    "duration": 30,
    "start_time": "2022-05-07T06:06:27.591Z"
   },
   {
    "duration": 40,
    "start_time": "2022-05-07T06:06:27.623Z"
   },
   {
    "duration": 11,
    "start_time": "2022-05-07T06:06:27.665Z"
   },
   {
    "duration": 18,
    "start_time": "2022-05-07T06:06:27.677Z"
   },
   {
    "duration": 11,
    "start_time": "2022-05-07T06:06:27.697Z"
   },
   {
    "duration": 64,
    "start_time": "2022-05-07T06:06:27.710Z"
   },
   {
    "duration": 10,
    "start_time": "2022-05-07T06:06:27.776Z"
   },
   {
    "duration": 48,
    "start_time": "2022-05-07T06:06:27.787Z"
   },
   {
    "duration": 19,
    "start_time": "2022-05-07T06:06:27.836Z"
   },
   {
    "duration": 20,
    "start_time": "2022-05-07T06:06:27.856Z"
   },
   {
    "duration": 52,
    "start_time": "2022-05-07T06:06:27.877Z"
   },
   {
    "duration": 17,
    "start_time": "2022-05-07T06:06:27.955Z"
   },
   {
    "duration": 52,
    "start_time": "2022-05-07T06:06:27.974Z"
   },
   {
    "duration": 49,
    "start_time": "2022-05-07T06:06:28.027Z"
   },
   {
    "duration": 237,
    "start_time": "2022-05-07T06:06:28.078Z"
   },
   {
    "duration": 180,
    "start_time": "2022-05-07T06:06:28.317Z"
   },
   {
    "duration": 297,
    "start_time": "2022-05-07T06:06:28.498Z"
   },
   {
    "duration": 186,
    "start_time": "2022-05-07T06:06:28.799Z"
   },
   {
    "duration": 248,
    "start_time": "2022-05-07T06:06:28.987Z"
   },
   {
    "duration": 118,
    "start_time": "2022-05-07T06:06:29.237Z"
   },
   {
    "duration": 4,
    "start_time": "2022-05-07T06:06:29.357Z"
   },
   {
    "duration": 129,
    "start_time": "2022-05-07T06:06:29.362Z"
   },
   {
    "duration": 5,
    "start_time": "2022-05-07T06:06:29.493Z"
   },
   {
    "duration": 224,
    "start_time": "2022-05-07T06:06:29.500Z"
   },
   {
    "duration": 4,
    "start_time": "2022-05-07T06:06:29.726Z"
   },
   {
    "duration": 75,
    "start_time": "2022-05-07T06:06:29.732Z"
   },
   {
    "duration": 14,
    "start_time": "2022-05-07T06:06:29.808Z"
   },
   {
    "duration": 83,
    "start_time": "2022-05-07T06:06:29.824Z"
   },
   {
    "duration": 13,
    "start_time": "2022-05-07T06:06:29.909Z"
   },
   {
    "duration": 10,
    "start_time": "2022-05-07T06:06:29.924Z"
   },
   {
    "duration": 22,
    "start_time": "2022-05-07T06:06:29.936Z"
   },
   {
    "duration": 9,
    "start_time": "2022-05-07T06:06:29.959Z"
   },
   {
    "duration": 8,
    "start_time": "2022-05-07T06:06:29.969Z"
   },
   {
    "duration": 43,
    "start_time": "2022-05-07T06:06:29.978Z"
   },
   {
    "duration": 5,
    "start_time": "2022-05-07T06:06:30.023Z"
   },
   {
    "duration": 34,
    "start_time": "2022-05-07T06:06:30.029Z"
   },
   {
    "duration": 25,
    "start_time": "2022-05-07T06:06:30.065Z"
   },
   {
    "duration": 7,
    "start_time": "2022-05-07T06:06:30.092Z"
   },
   {
    "duration": 7,
    "start_time": "2022-05-07T06:06:30.100Z"
   },
   {
    "duration": 8,
    "start_time": "2022-05-07T06:06:30.109Z"
   },
   {
    "duration": 6,
    "start_time": "2022-05-07T06:06:30.118Z"
   },
   {
    "duration": 8,
    "start_time": "2022-05-07T06:06:30.125Z"
   },
   {
    "duration": 22,
    "start_time": "2022-05-07T06:06:30.135Z"
   },
   {
    "duration": 40,
    "start_time": "2022-05-07T06:06:30.159Z"
   },
   {
    "duration": 3,
    "start_time": "2022-05-07T06:06:30.201Z"
   },
   {
    "duration": 19,
    "start_time": "2022-05-07T06:06:30.206Z"
   },
   {
    "duration": 30,
    "start_time": "2022-05-07T06:06:30.227Z"
   },
   {
    "duration": 96,
    "start_time": "2022-05-07T06:07:18.446Z"
   },
   {
    "duration": 5,
    "start_time": "2022-05-07T06:07:31.228Z"
   },
   {
    "duration": 4,
    "start_time": "2022-05-07T06:07:42.776Z"
   },
   {
    "duration": 1434,
    "start_time": "2022-05-07T12:47:17.801Z"
   },
   {
    "duration": 25,
    "start_time": "2022-05-07T12:47:19.237Z"
   },
   {
    "duration": 13,
    "start_time": "2022-05-07T12:47:19.264Z"
   },
   {
    "duration": 14,
    "start_time": "2022-05-07T12:47:19.278Z"
   },
   {
    "duration": 12,
    "start_time": "2022-05-07T12:47:19.307Z"
   },
   {
    "duration": 15,
    "start_time": "2022-05-07T12:47:19.321Z"
   },
   {
    "duration": 220,
    "start_time": "2022-05-07T12:47:19.338Z"
   },
   {
    "duration": 54,
    "start_time": "2022-05-07T12:47:19.560Z"
   },
   {
    "duration": 11,
    "start_time": "2022-05-07T12:47:19.616Z"
   },
   {
    "duration": 23,
    "start_time": "2022-05-07T12:47:19.629Z"
   },
   {
    "duration": 88,
    "start_time": "2022-05-07T12:47:19.653Z"
   },
   {
    "duration": 75,
    "start_time": "2022-05-07T12:47:19.743Z"
   },
   {
    "duration": 11,
    "start_time": "2022-05-07T12:47:19.820Z"
   },
   {
    "duration": 12,
    "start_time": "2022-05-07T12:47:19.835Z"
   },
   {
    "duration": 59,
    "start_time": "2022-05-07T12:47:19.849Z"
   },
   {
    "duration": 107,
    "start_time": "2022-05-07T12:47:19.910Z"
   },
   {
    "duration": 11,
    "start_time": "2022-05-07T12:47:20.019Z"
   },
   {
    "duration": 109,
    "start_time": "2022-05-07T12:47:20.032Z"
   },
   {
    "duration": 10,
    "start_time": "2022-05-07T12:47:20.143Z"
   },
   {
    "duration": 69,
    "start_time": "2022-05-07T12:47:20.155Z"
   },
   {
    "duration": 109,
    "start_time": "2022-05-07T12:47:20.226Z"
   },
   {
    "duration": 74,
    "start_time": "2022-05-07T12:47:20.336Z"
   },
   {
    "duration": 112,
    "start_time": "2022-05-07T12:47:20.412Z"
   },
   {
    "duration": 82,
    "start_time": "2022-05-07T12:47:20.526Z"
   },
   {
    "duration": 540,
    "start_time": "2022-05-07T12:47:20.610Z"
   },
   {
    "duration": 234,
    "start_time": "2022-05-07T12:47:21.207Z"
   },
   {
    "duration": 324,
    "start_time": "2022-05-07T12:47:21.443Z"
   },
   {
    "duration": 213,
    "start_time": "2022-05-07T12:47:21.769Z"
   },
   {
    "duration": 314,
    "start_time": "2022-05-07T12:47:21.984Z"
   },
   {
    "duration": 155,
    "start_time": "2022-05-07T12:47:22.299Z"
   },
   {
    "duration": 4,
    "start_time": "2022-05-07T12:47:22.456Z"
   },
   {
    "duration": 153,
    "start_time": "2022-05-07T12:47:22.461Z"
   },
   {
    "duration": 5,
    "start_time": "2022-05-07T12:47:22.616Z"
   },
   {
    "duration": 235,
    "start_time": "2022-05-07T12:47:22.623Z"
   },
   {
    "duration": 5,
    "start_time": "2022-05-07T12:47:22.860Z"
   },
   {
    "duration": 85,
    "start_time": "2022-05-07T12:47:22.867Z"
   },
   {
    "duration": 14,
    "start_time": "2022-05-07T12:47:22.954Z"
   },
   {
    "duration": 89,
    "start_time": "2022-05-07T12:47:22.970Z"
   },
   {
    "duration": 15,
    "start_time": "2022-05-07T12:47:23.061Z"
   },
   {
    "duration": 30,
    "start_time": "2022-05-07T12:47:23.077Z"
   },
   {
    "duration": 6,
    "start_time": "2022-05-07T12:47:23.111Z"
   },
   {
    "duration": 8,
    "start_time": "2022-05-07T12:47:23.118Z"
   },
   {
    "duration": 5,
    "start_time": "2022-05-07T12:47:23.128Z"
   },
   {
    "duration": 47,
    "start_time": "2022-05-07T12:47:23.135Z"
   },
   {
    "duration": 4,
    "start_time": "2022-05-07T12:47:23.208Z"
   },
   {
    "duration": 13,
    "start_time": "2022-05-07T12:47:23.214Z"
   },
   {
    "duration": 5,
    "start_time": "2022-05-07T12:47:23.229Z"
   },
   {
    "duration": 6,
    "start_time": "2022-05-07T12:47:23.236Z"
   },
   {
    "duration": 6,
    "start_time": "2022-05-07T12:47:23.244Z"
   },
   {
    "duration": 7,
    "start_time": "2022-05-07T12:47:23.251Z"
   },
   {
    "duration": 4,
    "start_time": "2022-05-07T12:47:23.260Z"
   },
   {
    "duration": 8,
    "start_time": "2022-05-07T12:47:23.307Z"
   },
   {
    "duration": 9,
    "start_time": "2022-05-07T12:47:23.316Z"
   },
   {
    "duration": 41,
    "start_time": "2022-05-07T12:47:23.327Z"
   },
   {
    "duration": 4,
    "start_time": "2022-05-07T12:47:23.370Z"
   },
   {
    "duration": 45,
    "start_time": "2022-05-07T12:47:23.376Z"
   },
   {
    "duration": 8,
    "start_time": "2022-05-07T12:47:23.423Z"
   },
   {
    "duration": 7,
    "start_time": "2022-05-07T13:01:04.181Z"
   },
   {
    "duration": 4,
    "start_time": "2022-05-07T13:05:01.647Z"
   },
   {
    "duration": 8,
    "start_time": "2022-05-07T13:08:56.147Z"
   },
   {
    "duration": 134,
    "start_time": "2022-05-07T13:09:06.131Z"
   },
   {
    "duration": 1061,
    "start_time": "2022-05-07T13:10:07.828Z"
   },
   {
    "duration": 1047,
    "start_time": "2022-05-07T13:10:51.451Z"
   },
   {
    "duration": 1003,
    "start_time": "2022-05-07T13:11:12.442Z"
   },
   {
    "duration": 1076,
    "start_time": "2022-05-07T13:11:28.725Z"
   },
   {
    "duration": 26,
    "start_time": "2022-05-07T13:12:52.080Z"
   },
   {
    "duration": 11,
    "start_time": "2022-05-07T13:12:52.898Z"
   },
   {
    "duration": 20,
    "start_time": "2022-05-07T13:12:53.513Z"
   },
   {
    "duration": 36,
    "start_time": "2022-05-07T13:12:54.129Z"
   },
   {
    "duration": 21,
    "start_time": "2022-05-07T13:12:55.561Z"
   },
   {
    "duration": 13,
    "start_time": "2022-05-07T13:12:56.188Z"
   },
   {
    "duration": 11,
    "start_time": "2022-05-07T13:12:56.995Z"
   },
   {
    "duration": 6,
    "start_time": "2022-05-07T13:12:57.813Z"
   },
   {
    "duration": 127,
    "start_time": "2022-05-07T13:13:07.657Z"
   },
   {
    "duration": 9,
    "start_time": "2022-05-07T13:14:55.679Z"
   },
   {
    "duration": 1381,
    "start_time": "2022-05-07T13:15:07.556Z"
   },
   {
    "duration": 14,
    "start_time": "2022-05-07T13:17:21.293Z"
   },
   {
    "duration": 11,
    "start_time": "2022-05-07T13:17:35.322Z"
   },
   {
    "duration": 91,
    "start_time": "2022-05-07T13:19:26.222Z"
   },
   {
    "duration": 9,
    "start_time": "2022-05-07T13:19:30.524Z"
   },
   {
    "duration": 998,
    "start_time": "2022-05-07T13:19:42.913Z"
   },
   {
    "duration": 68,
    "start_time": "2022-05-07T13:22:11.600Z"
   },
   {
    "duration": 12,
    "start_time": "2022-05-07T13:22:18.460Z"
   },
   {
    "duration": 11,
    "start_time": "2022-05-07T13:23:06.487Z"
   },
   {
    "duration": 117,
    "start_time": "2022-05-07T13:23:07.715Z"
   },
   {
    "duration": 5,
    "start_time": "2022-05-07T13:27:27.507Z"
   },
   {
    "duration": 10,
    "start_time": "2022-05-07T13:27:32.947Z"
   },
   {
    "duration": 61,
    "start_time": "2022-05-07T13:28:28.335Z"
   },
   {
    "duration": 5,
    "start_time": "2022-05-07T13:28:33.364Z"
   },
   {
    "duration": 5,
    "start_time": "2022-05-07T13:28:37.960Z"
   },
   {
    "duration": 107,
    "start_time": "2022-05-07T13:28:38.575Z"
   },
   {
    "duration": 8,
    "start_time": "2022-05-07T13:29:38.478Z"
   },
   {
    "duration": 9,
    "start_time": "2022-05-07T13:47:48.439Z"
   },
   {
    "duration": 7,
    "start_time": "2022-05-07T13:47:58.064Z"
   },
   {
    "duration": 11,
    "start_time": "2022-05-07T13:49:12.409Z"
   },
   {
    "duration": 6,
    "start_time": "2022-05-07T13:49:37.292Z"
   },
   {
    "duration": 2072,
    "start_time": "2022-05-07T13:50:38.732Z"
   },
   {
    "duration": 1174,
    "start_time": "2022-05-07T13:51:07.507Z"
   },
   {
    "duration": 7,
    "start_time": "2022-05-07T13:52:07.719Z"
   },
   {
    "duration": 18,
    "start_time": "2022-05-07T14:03:03.293Z"
   },
   {
    "duration": 20,
    "start_time": "2022-05-07T14:31:59.004Z"
   },
   {
    "duration": 1368,
    "start_time": "2022-05-07T14:32:05.398Z"
   },
   {
    "duration": 21,
    "start_time": "2022-05-07T14:32:06.768Z"
   },
   {
    "duration": 22,
    "start_time": "2022-05-07T14:32:06.791Z"
   },
   {
    "duration": 19,
    "start_time": "2022-05-07T14:32:06.815Z"
   },
   {
    "duration": 18,
    "start_time": "2022-05-07T14:32:06.836Z"
   },
   {
    "duration": 15,
    "start_time": "2022-05-07T14:32:06.856Z"
   },
   {
    "duration": 266,
    "start_time": "2022-05-07T14:32:06.872Z"
   },
   {
    "duration": 31,
    "start_time": "2022-05-07T14:32:07.140Z"
   },
   {
    "duration": 11,
    "start_time": "2022-05-07T14:32:07.173Z"
   },
   {
    "duration": 24,
    "start_time": "2022-05-07T14:32:07.188Z"
   },
   {
    "duration": 40,
    "start_time": "2022-05-07T14:32:07.216Z"
   },
   {
    "duration": 25,
    "start_time": "2022-05-07T14:32:07.259Z"
   },
   {
    "duration": 34,
    "start_time": "2022-05-07T14:32:07.286Z"
   },
   {
    "duration": 21,
    "start_time": "2022-05-07T14:32:07.324Z"
   },
   {
    "duration": 9,
    "start_time": "2022-05-07T14:32:07.347Z"
   },
   {
    "duration": 11,
    "start_time": "2022-05-07T14:32:07.358Z"
   },
   {
    "duration": 86,
    "start_time": "2022-05-07T14:32:07.371Z"
   },
   {
    "duration": 9,
    "start_time": "2022-05-07T14:32:07.459Z"
   },
   {
    "duration": 85,
    "start_time": "2022-05-07T14:32:07.470Z"
   },
   {
    "duration": 5,
    "start_time": "2022-05-07T14:32:07.557Z"
   },
   {
    "duration": 26,
    "start_time": "2022-05-07T14:32:07.564Z"
   },
   {
    "duration": 82,
    "start_time": "2022-05-07T14:32:07.592Z"
   },
   {
    "duration": 25,
    "start_time": "2022-05-07T14:32:07.676Z"
   },
   {
    "duration": 85,
    "start_time": "2022-05-07T14:32:07.717Z"
   },
   {
    "duration": 49,
    "start_time": "2022-05-07T14:32:07.804Z"
   },
   {
    "duration": 323,
    "start_time": "2022-05-07T14:32:07.855Z"
   },
   {
    "duration": 272,
    "start_time": "2022-05-07T14:32:08.180Z"
   },
   {
    "duration": 302,
    "start_time": "2022-05-07T14:32:08.457Z"
   },
   {
    "duration": 241,
    "start_time": "2022-05-07T14:32:08.762Z"
   },
   {
    "duration": 340,
    "start_time": "2022-05-07T14:32:09.004Z"
   },
   {
    "duration": 146,
    "start_time": "2022-05-07T14:32:09.346Z"
   },
   {
    "duration": 18,
    "start_time": "2022-05-07T14:32:09.495Z"
   },
   {
    "duration": 166,
    "start_time": "2022-05-07T14:32:09.515Z"
   },
   {
    "duration": 6,
    "start_time": "2022-05-07T14:32:09.683Z"
   },
   {
    "duration": 268,
    "start_time": "2022-05-07T14:32:09.691Z"
   },
   {
    "duration": 6,
    "start_time": "2022-05-07T14:32:09.960Z"
   },
   {
    "duration": 93,
    "start_time": "2022-05-07T14:32:09.968Z"
   },
   {
    "duration": 16,
    "start_time": "2022-05-07T14:32:10.063Z"
   },
   {
    "duration": 115,
    "start_time": "2022-05-07T14:32:10.081Z"
   },
   {
    "duration": 29,
    "start_time": "2022-05-07T14:32:10.198Z"
   },
   {
    "duration": 21,
    "start_time": "2022-05-07T14:32:10.228Z"
   },
   {
    "duration": 7,
    "start_time": "2022-05-07T14:32:10.251Z"
   },
   {
    "duration": 11,
    "start_time": "2022-05-07T14:32:10.260Z"
   },
   {
    "duration": 7,
    "start_time": "2022-05-07T14:32:10.272Z"
   },
   {
    "duration": 91,
    "start_time": "2022-05-07T14:32:10.280Z"
   },
   {
    "duration": 4,
    "start_time": "2022-05-07T14:32:10.373Z"
   },
   {
    "duration": 35,
    "start_time": "2022-05-07T14:32:10.379Z"
   },
   {
    "duration": 16,
    "start_time": "2022-05-07T14:32:10.416Z"
   },
   {
    "duration": 12,
    "start_time": "2022-05-07T14:32:10.438Z"
   },
   {
    "duration": 5,
    "start_time": "2022-05-07T14:32:10.452Z"
   },
   {
    "duration": 7,
    "start_time": "2022-05-07T14:32:10.460Z"
   },
   {
    "duration": 5,
    "start_time": "2022-05-07T14:32:10.469Z"
   },
   {
    "duration": 43,
    "start_time": "2022-05-07T14:32:10.476Z"
   },
   {
    "duration": 12,
    "start_time": "2022-05-07T14:32:10.521Z"
   },
   {
    "duration": 81,
    "start_time": "2022-05-07T14:32:10.535Z"
   },
   {
    "duration": 11,
    "start_time": "2022-05-07T14:32:10.620Z"
   },
   {
    "duration": 23,
    "start_time": "2022-05-07T14:32:10.633Z"
   },
   {
    "duration": 8,
    "start_time": "2022-05-07T14:32:10.658Z"
   },
   {
    "duration": 1207,
    "start_time": "2022-05-07T14:35:17.326Z"
   },
   {
    "duration": 22,
    "start_time": "2022-05-07T14:35:18.537Z"
   },
   {
    "duration": 13,
    "start_time": "2022-05-07T14:35:18.560Z"
   },
   {
    "duration": 35,
    "start_time": "2022-05-07T14:35:18.575Z"
   },
   {
    "duration": 16,
    "start_time": "2022-05-07T14:35:18.614Z"
   },
   {
    "duration": 12,
    "start_time": "2022-05-07T14:35:18.632Z"
   },
   {
    "duration": 245,
    "start_time": "2022-05-07T14:35:18.645Z"
   },
   {
    "duration": 38,
    "start_time": "2022-05-07T14:35:18.892Z"
   },
   {
    "duration": 12,
    "start_time": "2022-05-07T14:35:18.932Z"
   },
   {
    "duration": 24,
    "start_time": "2022-05-07T14:35:18.948Z"
   },
   {
    "duration": 60,
    "start_time": "2022-05-07T14:35:18.974Z"
   },
   {
    "duration": 24,
    "start_time": "2022-05-07T14:35:19.036Z"
   },
   {
    "duration": 17,
    "start_time": "2022-05-07T14:35:19.062Z"
   },
   {
    "duration": 42,
    "start_time": "2022-05-07T14:35:19.082Z"
   },
   {
    "duration": 10,
    "start_time": "2022-05-07T14:35:19.127Z"
   },
   {
    "duration": 14,
    "start_time": "2022-05-07T14:35:19.139Z"
   },
   {
    "duration": 103,
    "start_time": "2022-05-07T14:35:19.155Z"
   },
   {
    "duration": 11,
    "start_time": "2022-05-07T14:35:19.260Z"
   },
   {
    "duration": 83,
    "start_time": "2022-05-07T14:35:19.273Z"
   },
   {
    "duration": 5,
    "start_time": "2022-05-07T14:35:19.358Z"
   },
   {
    "duration": 31,
    "start_time": "2022-05-07T14:35:19.365Z"
   },
   {
    "duration": 67,
    "start_time": "2022-05-07T14:35:19.407Z"
   },
   {
    "duration": 48,
    "start_time": "2022-05-07T14:35:19.477Z"
   },
   {
    "duration": 59,
    "start_time": "2022-05-07T14:35:19.528Z"
   },
   {
    "duration": 53,
    "start_time": "2022-05-07T14:35:19.589Z"
   },
   {
    "duration": 332,
    "start_time": "2022-05-07T14:35:19.644Z"
   },
   {
    "duration": 239,
    "start_time": "2022-05-07T14:35:19.979Z"
   },
   {
    "duration": 604,
    "start_time": "2022-05-07T14:35:20.223Z"
   },
   {
    "duration": 698,
    "start_time": "2022-05-07T14:35:20.831Z"
   },
   {
    "duration": 591,
    "start_time": "2022-05-07T14:35:21.531Z"
   },
   {
    "duration": 328,
    "start_time": "2022-05-07T14:35:22.124Z"
   },
   {
    "duration": 4,
    "start_time": "2022-05-07T14:35:22.454Z"
   },
   {
    "duration": 210,
    "start_time": "2022-05-07T14:35:22.460Z"
   },
   {
    "duration": 5,
    "start_time": "2022-05-07T14:35:22.672Z"
   },
   {
    "duration": 266,
    "start_time": "2022-05-07T14:35:22.679Z"
   },
   {
    "duration": 6,
    "start_time": "2022-05-07T14:35:22.947Z"
   },
   {
    "duration": 124,
    "start_time": "2022-05-07T14:35:22.955Z"
   },
   {
    "duration": 35,
    "start_time": "2022-05-07T14:35:23.081Z"
   },
   {
    "duration": 115,
    "start_time": "2022-05-07T14:35:23.118Z"
   },
   {
    "duration": 21,
    "start_time": "2022-05-07T14:35:23.235Z"
   },
   {
    "duration": 14,
    "start_time": "2022-05-07T14:35:23.258Z"
   },
   {
    "duration": 41,
    "start_time": "2022-05-07T14:35:23.274Z"
   },
   {
    "duration": 10,
    "start_time": "2022-05-07T14:35:23.317Z"
   },
   {
    "duration": 8,
    "start_time": "2022-05-07T14:35:23.329Z"
   },
   {
    "duration": 81,
    "start_time": "2022-05-07T14:35:23.339Z"
   },
   {
    "duration": 5,
    "start_time": "2022-05-07T14:35:23.421Z"
   },
   {
    "duration": 14,
    "start_time": "2022-05-07T14:35:23.430Z"
   },
   {
    "duration": 8,
    "start_time": "2022-05-07T14:35:23.445Z"
   },
   {
    "duration": 8,
    "start_time": "2022-05-07T14:35:23.455Z"
   },
   {
    "duration": 47,
    "start_time": "2022-05-07T14:35:23.465Z"
   },
   {
    "duration": 9,
    "start_time": "2022-05-07T14:35:23.513Z"
   },
   {
    "duration": 6,
    "start_time": "2022-05-07T14:35:23.524Z"
   },
   {
    "duration": 9,
    "start_time": "2022-05-07T14:35:23.532Z"
   },
   {
    "duration": 7,
    "start_time": "2022-05-07T14:35:23.542Z"
   },
   {
    "duration": 97,
    "start_time": "2022-05-07T14:35:23.551Z"
   },
   {
    "duration": 6,
    "start_time": "2022-05-07T14:35:23.649Z"
   },
   {
    "duration": 19,
    "start_time": "2022-05-07T14:35:23.658Z"
   },
   {
    "duration": 40,
    "start_time": "2022-05-07T14:35:23.679Z"
   },
   {
    "duration": 1199,
    "start_time": "2022-05-08T03:42:38.782Z"
   },
   {
    "duration": 22,
    "start_time": "2022-05-08T03:42:39.983Z"
   },
   {
    "duration": 13,
    "start_time": "2022-05-08T03:42:40.007Z"
   },
   {
    "duration": 21,
    "start_time": "2022-05-08T03:42:40.023Z"
   },
   {
    "duration": 28,
    "start_time": "2022-05-08T03:42:40.046Z"
   },
   {
    "duration": 11,
    "start_time": "2022-05-08T03:42:40.076Z"
   },
   {
    "duration": 199,
    "start_time": "2022-05-08T03:42:40.089Z"
   },
   {
    "duration": 24,
    "start_time": "2022-05-08T03:42:40.290Z"
   },
   {
    "duration": 11,
    "start_time": "2022-05-08T03:42:40.316Z"
   },
   {
    "duration": 21,
    "start_time": "2022-05-08T03:42:40.329Z"
   },
   {
    "duration": 47,
    "start_time": "2022-05-08T03:42:40.352Z"
   },
   {
    "duration": 20,
    "start_time": "2022-05-08T03:42:40.401Z"
   },
   {
    "duration": 11,
    "start_time": "2022-05-08T03:42:40.422Z"
   },
   {
    "duration": 15,
    "start_time": "2022-05-08T03:42:40.435Z"
   },
   {
    "duration": 9,
    "start_time": "2022-05-08T03:42:40.474Z"
   },
   {
    "duration": 10,
    "start_time": "2022-05-08T03:42:40.484Z"
   },
   {
    "duration": 50,
    "start_time": "2022-05-08T03:42:40.496Z"
   },
   {
    "duration": 11,
    "start_time": "2022-05-08T03:42:40.573Z"
   },
   {
    "duration": 54,
    "start_time": "2022-05-08T03:42:40.585Z"
   },
   {
    "duration": 6,
    "start_time": "2022-05-08T03:42:40.642Z"
   },
   {
    "duration": 39,
    "start_time": "2022-05-08T03:42:40.650Z"
   },
   {
    "duration": 50,
    "start_time": "2022-05-08T03:42:40.691Z"
   },
   {
    "duration": 43,
    "start_time": "2022-05-08T03:42:40.743Z"
   },
   {
    "duration": 53,
    "start_time": "2022-05-08T03:42:40.788Z"
   },
   {
    "duration": 51,
    "start_time": "2022-05-08T03:42:40.842Z"
   },
   {
    "duration": 258,
    "start_time": "2022-05-08T03:42:40.895Z"
   },
   {
    "duration": 194,
    "start_time": "2022-05-08T03:42:41.155Z"
   },
   {
    "duration": 297,
    "start_time": "2022-05-08T03:42:41.354Z"
   },
   {
    "duration": 198,
    "start_time": "2022-05-08T03:42:41.653Z"
   },
   {
    "duration": 297,
    "start_time": "2022-05-08T03:42:41.854Z"
   },
   {
    "duration": 123,
    "start_time": "2022-05-08T03:42:42.153Z"
   },
   {
    "duration": 4,
    "start_time": "2022-05-08T03:42:42.278Z"
   },
   {
    "duration": 145,
    "start_time": "2022-05-08T03:42:42.284Z"
   },
   {
    "duration": 5,
    "start_time": "2022-05-08T03:42:42.431Z"
   },
   {
    "duration": 236,
    "start_time": "2022-05-08T03:42:42.438Z"
   },
   {
    "duration": 6,
    "start_time": "2022-05-08T03:42:42.676Z"
   },
   {
    "duration": 64,
    "start_time": "2022-05-08T03:42:42.684Z"
   },
   {
    "duration": 35,
    "start_time": "2022-05-08T03:42:42.750Z"
   },
   {
    "duration": 87,
    "start_time": "2022-05-08T03:42:42.787Z"
   },
   {
    "duration": 15,
    "start_time": "2022-05-08T03:42:42.876Z"
   },
   {
    "duration": 11,
    "start_time": "2022-05-08T03:42:42.893Z"
   },
   {
    "duration": 7,
    "start_time": "2022-05-08T03:42:42.906Z"
   },
   {
    "duration": 10,
    "start_time": "2022-05-08T03:42:42.914Z"
   },
   {
    "duration": 5,
    "start_time": "2022-05-08T03:42:42.926Z"
   },
   {
    "duration": 69,
    "start_time": "2022-05-08T03:42:42.932Z"
   },
   {
    "duration": 4,
    "start_time": "2022-05-08T03:42:43.002Z"
   },
   {
    "duration": 14,
    "start_time": "2022-05-08T03:42:43.007Z"
   },
   {
    "duration": 5,
    "start_time": "2022-05-08T03:42:43.023Z"
   },
   {
    "duration": 10,
    "start_time": "2022-05-08T03:42:43.029Z"
   },
   {
    "duration": 33,
    "start_time": "2022-05-08T03:42:43.041Z"
   },
   {
    "duration": 6,
    "start_time": "2022-05-08T03:42:43.075Z"
   },
   {
    "duration": 8,
    "start_time": "2022-05-08T03:42:43.082Z"
   },
   {
    "duration": 7,
    "start_time": "2022-05-08T03:42:43.091Z"
   },
   {
    "duration": 6,
    "start_time": "2022-05-08T03:42:43.100Z"
   },
   {
    "duration": 39,
    "start_time": "2022-05-08T03:42:43.107Z"
   },
   {
    "duration": 28,
    "start_time": "2022-05-08T03:42:43.147Z"
   },
   {
    "duration": 13,
    "start_time": "2022-05-08T03:42:43.177Z"
   },
   {
    "duration": 7,
    "start_time": "2022-05-08T03:42:43.191Z"
   },
   {
    "duration": 121,
    "start_time": "2022-05-08T03:44:53.873Z"
   },
   {
    "duration": 7,
    "start_time": "2022-05-08T03:45:20.848Z"
   },
   {
    "duration": 2172,
    "start_time": "2022-05-08T03:45:59.226Z"
   },
   {
    "duration": 13,
    "start_time": "2022-05-08T03:46:29.835Z"
   },
   {
    "duration": 6,
    "start_time": "2022-05-08T03:46:34.686Z"
   },
   {
    "duration": 16,
    "start_time": "2022-05-08T03:47:05.191Z"
   },
   {
    "duration": 14,
    "start_time": "2022-05-08T03:47:18.217Z"
   },
   {
    "duration": 7,
    "start_time": "2022-05-08T03:47:32.054Z"
   },
   {
    "duration": 7,
    "start_time": "2022-05-08T03:47:42.692Z"
   },
   {
    "duration": 100,
    "start_time": "2022-05-08T03:49:10.427Z"
   },
   {
    "duration": 6,
    "start_time": "2022-05-08T03:49:21.476Z"
   },
   {
    "duration": 5,
    "start_time": "2022-05-08T03:49:28.595Z"
   },
   {
    "duration": 7,
    "start_time": "2022-05-08T03:50:58.138Z"
   },
   {
    "duration": 8,
    "start_time": "2022-05-08T03:51:02.758Z"
   },
   {
    "duration": 8,
    "start_time": "2022-05-08T03:51:10.068Z"
   }
  ],
  "kernelspec": {
   "display_name": "Python 3 (ipykernel)",
   "language": "python",
   "name": "python3"
  },
  "language_info": {
   "codemirror_mode": {
    "name": "ipython",
    "version": 3
   },
   "file_extension": ".py",
   "mimetype": "text/x-python",
   "name": "python",
   "nbconvert_exporter": "python",
   "pygments_lexer": "ipython3",
   "version": "3.9.5"
  },
  "toc": {
   "base_numbering": 1,
   "nav_menu": {},
   "number_sections": true,
   "sideBar": true,
   "skip_h1_title": true,
   "title_cell": "Table of Contents",
   "title_sidebar": "Contents",
   "toc_cell": false,
   "toc_position": {},
   "toc_section_display": true,
   "toc_window_display": true
  }
 },
 "nbformat": 4,
 "nbformat_minor": 2
}
