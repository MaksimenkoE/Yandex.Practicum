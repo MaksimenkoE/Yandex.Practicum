{
 "cells": [
  {
   "cell_type": "markdown",
   "id": "946949cf",
   "metadata": {},
   "source": [
    "<div style=\"border:solid green 3px; padding: 20px\">\n",
    "\n",
    "<b>Привет, Евгения! :)</b>\n",
    "\n",
    "Меня зовут Сороколетов Илья и я буду проверять твой проект. \n",
    "\n",
    "Предлагаю общаться на «**ты**», но если тебе будет комфортнее общаться на «**вы**», то сообщи об этом в комментариях)\n",
    "\n",
    "\n",
    "Для твоего удобства, я буду выделять свои комментарии следующим образом:\n",
    "\n",
    "<div class=\"alert alert-danger\">\n",
    "<b>❌ Комментарий ревьюера:</b> Самые важные замечания. Они указывают на ключевые моменты, которые влияют на конечный результат проекта. </div>\n",
    "\n",
    "<div class=\"alert alert-warning\">\n",
    "<b>⚠️ Комментарий ревьюера:</b> Советы или замечания, которые помогут сделать твою работу лучше, но необязательны к выполнению.\n",
    "\n",
    "</div>\n",
    "\n",
    "<div class=\"alert alert-success\">\n",
    "<b>✔️ Комментарий ревьюера:</b> Так я выделяю все остальные комментарии.</div>\n",
    "\n",
    "Давай работать над проектом в диалоге: если ты что-то меняешь в проекте по моим рекомендациям — пиши об этом. Выбери для своих комментариев какой-то заметный цвет, так мне будет легче отследить изменения, например вот так:\n",
    "<div class=\"alert alert-info\">\n",
    "<b>Комментарий студента:</b>\n",
    "<br>\n",
    "</div>\n",
    "\n",
    "Пожалуйста, не перемещай, не изменяй и не удаляй мои комментарии. Если ты оставляешь свои комментарии, то делай это под моими, чтобы сообщения были расположены в хронологическом порядке. Всё это поможет выполнить повторную проверку твоего проекта оперативнее. \n",
    "\n",
    "Обязательно задавай вопросы если они возникнут, а я перехожу к проверке)\n",
    "\n",
    "P.S. На всякий случай, я оставлю пустой шаблон для твоих комментариев в ячейке ниже. Кликни на него два раза, скопируй код и вставляй его в пустую ячейку там, где ты хочешь оставить комментарий. Не забудь только перед этим сменить тип ячейки на Markdown. Как это сделать можно посмотреть на этом видео\n",
    "\n",
    "    https://youtu.be/s0q2GpcYxo4?t=685\n",
    "\n",
    "Также, перед отправкой работы я рекомендую нажимать Kernel -> Restart & Run All. Это перезапустит ядро и по очереди выполнит все ячейки. Так ты сможешь проверить, что всё работает корректно. Кнопка Kernel находится в панели сверху\n",
    "\n"
   ]
  },
  {
   "cell_type": "markdown",
   "id": "62a87575",
   "metadata": {},
   "source": [
    "<div class=\"alert alert-info\">\n",
    "<b>Комментарий студента:</b>\n",
    "<br>Правки выполнены (Шаг 2.5)\n",
    "</div>"
   ]
  },
  {
   "cell_type": "markdown",
   "id": "a8e4e69a",
   "metadata": {},
   "source": [
    "# Исследование надежности заемщиков."
   ]
  },
  {
   "cell_type": "markdown",
   "id": "63e3c354",
   "metadata": {},
   "source": [
    "### Шаг 1. Обзор данных"
   ]
  },
  {
   "cell_type": "code",
   "execution_count": 1,
   "id": "aec02203",
   "metadata": {},
   "outputs": [],
   "source": [
    "import pandas as pd"
   ]
  },
  {
   "cell_type": "markdown",
   "id": "f0e28137",
   "metadata": {},
   "source": [
    "### Шаг 2.1 Заполнение пропусков"
   ]
  },
  {
   "cell_type": "code",
   "execution_count": 2,
   "id": "9f675723",
   "metadata": {
    "scrolled": false
   },
   "outputs": [
    {
     "name": "stdout",
     "output_type": "stream",
     "text": [
      "<class 'pandas.core.frame.DataFrame'>\n",
      "RangeIndex: 21525 entries, 0 to 21524\n",
      "Data columns (total 12 columns):\n",
      "children            21525 non-null int64\n",
      "days_employed       19351 non-null float64\n",
      "dob_years           21525 non-null int64\n",
      "education           21525 non-null object\n",
      "education_id        21525 non-null int64\n",
      "family_status       21525 non-null object\n",
      "family_status_id    21525 non-null int64\n",
      "gender              21525 non-null object\n",
      "income_type         21525 non-null object\n",
      "debt                21525 non-null int64\n",
      "total_income        19351 non-null float64\n",
      "purpose             21525 non-null object\n",
      "dtypes: float64(2), int64(5), object(5)\n",
      "memory usage: 2.0+ MB\n"
     ]
    },
    {
     "data": {
      "text/html": [
       "<div>\n",
       "<style scoped>\n",
       "    .dataframe tbody tr th:only-of-type {\n",
       "        vertical-align: middle;\n",
       "    }\n",
       "\n",
       "    .dataframe tbody tr th {\n",
       "        vertical-align: top;\n",
       "    }\n",
       "\n",
       "    .dataframe thead th {\n",
       "        text-align: right;\n",
       "    }\n",
       "</style>\n",
       "<table border=\"1\" class=\"dataframe\">\n",
       "  <thead>\n",
       "    <tr style=\"text-align: right;\">\n",
       "      <th></th>\n",
       "      <th>children</th>\n",
       "      <th>days_employed</th>\n",
       "      <th>dob_years</th>\n",
       "      <th>education</th>\n",
       "      <th>education_id</th>\n",
       "      <th>family_status</th>\n",
       "      <th>family_status_id</th>\n",
       "      <th>gender</th>\n",
       "      <th>income_type</th>\n",
       "      <th>debt</th>\n",
       "      <th>total_income</th>\n",
       "      <th>purpose</th>\n",
       "    </tr>\n",
       "  </thead>\n",
       "  <tbody>\n",
       "    <tr>\n",
       "      <td>0</td>\n",
       "      <td>1</td>\n",
       "      <td>-8437.673028</td>\n",
       "      <td>42</td>\n",
       "      <td>высшее</td>\n",
       "      <td>0</td>\n",
       "      <td>женат / замужем</td>\n",
       "      <td>0</td>\n",
       "      <td>F</td>\n",
       "      <td>сотрудник</td>\n",
       "      <td>0</td>\n",
       "      <td>253875.639453</td>\n",
       "      <td>покупка жилья</td>\n",
       "    </tr>\n",
       "    <tr>\n",
       "      <td>1</td>\n",
       "      <td>1</td>\n",
       "      <td>-4024.803754</td>\n",
       "      <td>36</td>\n",
       "      <td>среднее</td>\n",
       "      <td>1</td>\n",
       "      <td>женат / замужем</td>\n",
       "      <td>0</td>\n",
       "      <td>F</td>\n",
       "      <td>сотрудник</td>\n",
       "      <td>0</td>\n",
       "      <td>112080.014102</td>\n",
       "      <td>приобретение автомобиля</td>\n",
       "    </tr>\n",
       "    <tr>\n",
       "      <td>2</td>\n",
       "      <td>0</td>\n",
       "      <td>-5623.422610</td>\n",
       "      <td>33</td>\n",
       "      <td>Среднее</td>\n",
       "      <td>1</td>\n",
       "      <td>женат / замужем</td>\n",
       "      <td>0</td>\n",
       "      <td>M</td>\n",
       "      <td>сотрудник</td>\n",
       "      <td>0</td>\n",
       "      <td>145885.952297</td>\n",
       "      <td>покупка жилья</td>\n",
       "    </tr>\n",
       "    <tr>\n",
       "      <td>3</td>\n",
       "      <td>3</td>\n",
       "      <td>-4124.747207</td>\n",
       "      <td>32</td>\n",
       "      <td>среднее</td>\n",
       "      <td>1</td>\n",
       "      <td>женат / замужем</td>\n",
       "      <td>0</td>\n",
       "      <td>M</td>\n",
       "      <td>сотрудник</td>\n",
       "      <td>0</td>\n",
       "      <td>267628.550329</td>\n",
       "      <td>дополнительное образование</td>\n",
       "    </tr>\n",
       "    <tr>\n",
       "      <td>4</td>\n",
       "      <td>0</td>\n",
       "      <td>340266.072047</td>\n",
       "      <td>53</td>\n",
       "      <td>среднее</td>\n",
       "      <td>1</td>\n",
       "      <td>гражданский брак</td>\n",
       "      <td>1</td>\n",
       "      <td>F</td>\n",
       "      <td>пенсионер</td>\n",
       "      <td>0</td>\n",
       "      <td>158616.077870</td>\n",
       "      <td>сыграть свадьбу</td>\n",
       "    </tr>\n",
       "    <tr>\n",
       "      <td>5</td>\n",
       "      <td>0</td>\n",
       "      <td>-926.185831</td>\n",
       "      <td>27</td>\n",
       "      <td>высшее</td>\n",
       "      <td>0</td>\n",
       "      <td>гражданский брак</td>\n",
       "      <td>1</td>\n",
       "      <td>M</td>\n",
       "      <td>компаньон</td>\n",
       "      <td>0</td>\n",
       "      <td>255763.565419</td>\n",
       "      <td>покупка жилья</td>\n",
       "    </tr>\n",
       "    <tr>\n",
       "      <td>6</td>\n",
       "      <td>0</td>\n",
       "      <td>-2879.202052</td>\n",
       "      <td>43</td>\n",
       "      <td>высшее</td>\n",
       "      <td>0</td>\n",
       "      <td>женат / замужем</td>\n",
       "      <td>0</td>\n",
       "      <td>F</td>\n",
       "      <td>компаньон</td>\n",
       "      <td>0</td>\n",
       "      <td>240525.971920</td>\n",
       "      <td>операции с жильем</td>\n",
       "    </tr>\n",
       "    <tr>\n",
       "      <td>7</td>\n",
       "      <td>0</td>\n",
       "      <td>-152.779569</td>\n",
       "      <td>50</td>\n",
       "      <td>СРЕДНЕЕ</td>\n",
       "      <td>1</td>\n",
       "      <td>женат / замужем</td>\n",
       "      <td>0</td>\n",
       "      <td>M</td>\n",
       "      <td>сотрудник</td>\n",
       "      <td>0</td>\n",
       "      <td>135823.934197</td>\n",
       "      <td>образование</td>\n",
       "    </tr>\n",
       "    <tr>\n",
       "      <td>8</td>\n",
       "      <td>2</td>\n",
       "      <td>-6929.865299</td>\n",
       "      <td>35</td>\n",
       "      <td>ВЫСШЕЕ</td>\n",
       "      <td>0</td>\n",
       "      <td>гражданский брак</td>\n",
       "      <td>1</td>\n",
       "      <td>F</td>\n",
       "      <td>сотрудник</td>\n",
       "      <td>0</td>\n",
       "      <td>95856.832424</td>\n",
       "      <td>на проведение свадьбы</td>\n",
       "    </tr>\n",
       "    <tr>\n",
       "      <td>9</td>\n",
       "      <td>0</td>\n",
       "      <td>-2188.756445</td>\n",
       "      <td>41</td>\n",
       "      <td>среднее</td>\n",
       "      <td>1</td>\n",
       "      <td>женат / замужем</td>\n",
       "      <td>0</td>\n",
       "      <td>M</td>\n",
       "      <td>сотрудник</td>\n",
       "      <td>0</td>\n",
       "      <td>144425.938277</td>\n",
       "      <td>покупка жилья для семьи</td>\n",
       "    </tr>\n",
       "    <tr>\n",
       "      <td>10</td>\n",
       "      <td>2</td>\n",
       "      <td>-4171.483647</td>\n",
       "      <td>36</td>\n",
       "      <td>высшее</td>\n",
       "      <td>0</td>\n",
       "      <td>женат / замужем</td>\n",
       "      <td>0</td>\n",
       "      <td>M</td>\n",
       "      <td>компаньон</td>\n",
       "      <td>0</td>\n",
       "      <td>113943.491460</td>\n",
       "      <td>покупка недвижимости</td>\n",
       "    </tr>\n",
       "    <tr>\n",
       "      <td>11</td>\n",
       "      <td>0</td>\n",
       "      <td>-792.701887</td>\n",
       "      <td>40</td>\n",
       "      <td>среднее</td>\n",
       "      <td>1</td>\n",
       "      <td>женат / замужем</td>\n",
       "      <td>0</td>\n",
       "      <td>F</td>\n",
       "      <td>сотрудник</td>\n",
       "      <td>0</td>\n",
       "      <td>77069.234271</td>\n",
       "      <td>покупка коммерческой недвижимости</td>\n",
       "    </tr>\n",
       "    <tr>\n",
       "      <td>12</td>\n",
       "      <td>0</td>\n",
       "      <td>NaN</td>\n",
       "      <td>65</td>\n",
       "      <td>среднее</td>\n",
       "      <td>1</td>\n",
       "      <td>гражданский брак</td>\n",
       "      <td>1</td>\n",
       "      <td>M</td>\n",
       "      <td>пенсионер</td>\n",
       "      <td>0</td>\n",
       "      <td>NaN</td>\n",
       "      <td>сыграть свадьбу</td>\n",
       "    </tr>\n",
       "    <tr>\n",
       "      <td>13</td>\n",
       "      <td>0</td>\n",
       "      <td>-1846.641941</td>\n",
       "      <td>54</td>\n",
       "      <td>неоконченное высшее</td>\n",
       "      <td>2</td>\n",
       "      <td>женат / замужем</td>\n",
       "      <td>0</td>\n",
       "      <td>F</td>\n",
       "      <td>сотрудник</td>\n",
       "      <td>0</td>\n",
       "      <td>130458.228857</td>\n",
       "      <td>приобретение автомобиля</td>\n",
       "    </tr>\n",
       "    <tr>\n",
       "      <td>14</td>\n",
       "      <td>0</td>\n",
       "      <td>-1844.956182</td>\n",
       "      <td>56</td>\n",
       "      <td>высшее</td>\n",
       "      <td>0</td>\n",
       "      <td>гражданский брак</td>\n",
       "      <td>1</td>\n",
       "      <td>F</td>\n",
       "      <td>компаньон</td>\n",
       "      <td>1</td>\n",
       "      <td>165127.911772</td>\n",
       "      <td>покупка жилой недвижимости</td>\n",
       "    </tr>\n",
       "    <tr>\n",
       "      <td>15</td>\n",
       "      <td>1</td>\n",
       "      <td>-972.364419</td>\n",
       "      <td>26</td>\n",
       "      <td>среднее</td>\n",
       "      <td>1</td>\n",
       "      <td>женат / замужем</td>\n",
       "      <td>0</td>\n",
       "      <td>F</td>\n",
       "      <td>сотрудник</td>\n",
       "      <td>0</td>\n",
       "      <td>116820.904450</td>\n",
       "      <td>строительство собственной недвижимости</td>\n",
       "    </tr>\n",
       "    <tr>\n",
       "      <td>16</td>\n",
       "      <td>0</td>\n",
       "      <td>-1719.934226</td>\n",
       "      <td>35</td>\n",
       "      <td>среднее</td>\n",
       "      <td>1</td>\n",
       "      <td>женат / замужем</td>\n",
       "      <td>0</td>\n",
       "      <td>F</td>\n",
       "      <td>сотрудник</td>\n",
       "      <td>0</td>\n",
       "      <td>289202.704229</td>\n",
       "      <td>недвижимость</td>\n",
       "    </tr>\n",
       "    <tr>\n",
       "      <td>17</td>\n",
       "      <td>0</td>\n",
       "      <td>-2369.999720</td>\n",
       "      <td>33</td>\n",
       "      <td>высшее</td>\n",
       "      <td>0</td>\n",
       "      <td>гражданский брак</td>\n",
       "      <td>1</td>\n",
       "      <td>M</td>\n",
       "      <td>сотрудник</td>\n",
       "      <td>0</td>\n",
       "      <td>90410.586745</td>\n",
       "      <td>строительство недвижимости</td>\n",
       "    </tr>\n",
       "    <tr>\n",
       "      <td>18</td>\n",
       "      <td>0</td>\n",
       "      <td>400281.136913</td>\n",
       "      <td>53</td>\n",
       "      <td>среднее</td>\n",
       "      <td>1</td>\n",
       "      <td>вдовец / вдова</td>\n",
       "      <td>2</td>\n",
       "      <td>F</td>\n",
       "      <td>пенсионер</td>\n",
       "      <td>0</td>\n",
       "      <td>56823.777243</td>\n",
       "      <td>на покупку подержанного автомобиля</td>\n",
       "    </tr>\n",
       "    <tr>\n",
       "      <td>19</td>\n",
       "      <td>0</td>\n",
       "      <td>-10038.818549</td>\n",
       "      <td>48</td>\n",
       "      <td>СРЕДНЕЕ</td>\n",
       "      <td>1</td>\n",
       "      <td>в разводе</td>\n",
       "      <td>3</td>\n",
       "      <td>F</td>\n",
       "      <td>сотрудник</td>\n",
       "      <td>0</td>\n",
       "      <td>242831.107982</td>\n",
       "      <td>на покупку своего автомобиля</td>\n",
       "    </tr>\n",
       "    <tr>\n",
       "      <td>20</td>\n",
       "      <td>1</td>\n",
       "      <td>-1311.604166</td>\n",
       "      <td>36</td>\n",
       "      <td>среднее</td>\n",
       "      <td>1</td>\n",
       "      <td>женат / замужем</td>\n",
       "      <td>0</td>\n",
       "      <td>M</td>\n",
       "      <td>сотрудник</td>\n",
       "      <td>0</td>\n",
       "      <td>209552.644578</td>\n",
       "      <td>недвижимость</td>\n",
       "    </tr>\n",
       "    <tr>\n",
       "      <td>21</td>\n",
       "      <td>1</td>\n",
       "      <td>-253.685166</td>\n",
       "      <td>33</td>\n",
       "      <td>среднее</td>\n",
       "      <td>1</td>\n",
       "      <td>гражданский брак</td>\n",
       "      <td>1</td>\n",
       "      <td>F</td>\n",
       "      <td>сотрудник</td>\n",
       "      <td>0</td>\n",
       "      <td>131812.203909</td>\n",
       "      <td>приобретение автомобиля</td>\n",
       "    </tr>\n",
       "    <tr>\n",
       "      <td>22</td>\n",
       "      <td>1</td>\n",
       "      <td>-1766.644138</td>\n",
       "      <td>24</td>\n",
       "      <td>среднее</td>\n",
       "      <td>1</td>\n",
       "      <td>гражданский брак</td>\n",
       "      <td>1</td>\n",
       "      <td>F</td>\n",
       "      <td>сотрудник</td>\n",
       "      <td>0</td>\n",
       "      <td>149681.140731</td>\n",
       "      <td>на покупку подержанного автомобиля</td>\n",
       "    </tr>\n",
       "    <tr>\n",
       "      <td>23</td>\n",
       "      <td>0</td>\n",
       "      <td>-272.981385</td>\n",
       "      <td>21</td>\n",
       "      <td>высшее</td>\n",
       "      <td>0</td>\n",
       "      <td>гражданский брак</td>\n",
       "      <td>1</td>\n",
       "      <td>M</td>\n",
       "      <td>сотрудник</td>\n",
       "      <td>0</td>\n",
       "      <td>128265.720871</td>\n",
       "      <td>сыграть свадьбу</td>\n",
       "    </tr>\n",
       "    <tr>\n",
       "      <td>24</td>\n",
       "      <td>1</td>\n",
       "      <td>338551.952911</td>\n",
       "      <td>57</td>\n",
       "      <td>среднее</td>\n",
       "      <td>1</td>\n",
       "      <td>Не женат / не замужем</td>\n",
       "      <td>4</td>\n",
       "      <td>F</td>\n",
       "      <td>пенсионер</td>\n",
       "      <td>0</td>\n",
       "      <td>290547.235997</td>\n",
       "      <td>операции с коммерческой недвижимостью</td>\n",
       "    </tr>\n",
       "    <tr>\n",
       "      <td>25</td>\n",
       "      <td>0</td>\n",
       "      <td>363548.489348</td>\n",
       "      <td>67</td>\n",
       "      <td>среднее</td>\n",
       "      <td>1</td>\n",
       "      <td>женат / замужем</td>\n",
       "      <td>0</td>\n",
       "      <td>M</td>\n",
       "      <td>пенсионер</td>\n",
       "      <td>0</td>\n",
       "      <td>55112.757732</td>\n",
       "      <td>покупка недвижимости</td>\n",
       "    </tr>\n",
       "    <tr>\n",
       "      <td>26</td>\n",
       "      <td>0</td>\n",
       "      <td>NaN</td>\n",
       "      <td>41</td>\n",
       "      <td>среднее</td>\n",
       "      <td>1</td>\n",
       "      <td>женат / замужем</td>\n",
       "      <td>0</td>\n",
       "      <td>M</td>\n",
       "      <td>госслужащий</td>\n",
       "      <td>0</td>\n",
       "      <td>NaN</td>\n",
       "      <td>образование</td>\n",
       "    </tr>\n",
       "    <tr>\n",
       "      <td>27</td>\n",
       "      <td>0</td>\n",
       "      <td>-529.191635</td>\n",
       "      <td>28</td>\n",
       "      <td>высшее</td>\n",
       "      <td>0</td>\n",
       "      <td>женат / замужем</td>\n",
       "      <td>0</td>\n",
       "      <td>M</td>\n",
       "      <td>сотрудник</td>\n",
       "      <td>0</td>\n",
       "      <td>308848.983691</td>\n",
       "      <td>строительство собственной недвижимости</td>\n",
       "    </tr>\n",
       "    <tr>\n",
       "      <td>28</td>\n",
       "      <td>1</td>\n",
       "      <td>-717.274324</td>\n",
       "      <td>26</td>\n",
       "      <td>высшее</td>\n",
       "      <td>0</td>\n",
       "      <td>женат / замужем</td>\n",
       "      <td>0</td>\n",
       "      <td>F</td>\n",
       "      <td>сотрудник</td>\n",
       "      <td>0</td>\n",
       "      <td>187863.237306</td>\n",
       "      <td>строительство собственной недвижимости</td>\n",
       "    </tr>\n",
       "    <tr>\n",
       "      <td>29</td>\n",
       "      <td>0</td>\n",
       "      <td>NaN</td>\n",
       "      <td>63</td>\n",
       "      <td>среднее</td>\n",
       "      <td>1</td>\n",
       "      <td>Не женат / не замужем</td>\n",
       "      <td>4</td>\n",
       "      <td>F</td>\n",
       "      <td>пенсионер</td>\n",
       "      <td>0</td>\n",
       "      <td>NaN</td>\n",
       "      <td>строительство жилой недвижимости</td>\n",
       "    </tr>\n",
       "  </tbody>\n",
       "</table>\n",
       "</div>"
      ],
      "text/plain": [
       "    children  days_employed  dob_years            education  education_id  \\\n",
       "0          1   -8437.673028         42               высшее             0   \n",
       "1          1   -4024.803754         36              среднее             1   \n",
       "2          0   -5623.422610         33              Среднее             1   \n",
       "3          3   -4124.747207         32              среднее             1   \n",
       "4          0  340266.072047         53              среднее             1   \n",
       "5          0    -926.185831         27               высшее             0   \n",
       "6          0   -2879.202052         43               высшее             0   \n",
       "7          0    -152.779569         50              СРЕДНЕЕ             1   \n",
       "8          2   -6929.865299         35               ВЫСШЕЕ             0   \n",
       "9          0   -2188.756445         41              среднее             1   \n",
       "10         2   -4171.483647         36               высшее             0   \n",
       "11         0    -792.701887         40              среднее             1   \n",
       "12         0            NaN         65              среднее             1   \n",
       "13         0   -1846.641941         54  неоконченное высшее             2   \n",
       "14         0   -1844.956182         56               высшее             0   \n",
       "15         1    -972.364419         26              среднее             1   \n",
       "16         0   -1719.934226         35              среднее             1   \n",
       "17         0   -2369.999720         33               высшее             0   \n",
       "18         0  400281.136913         53              среднее             1   \n",
       "19         0  -10038.818549         48              СРЕДНЕЕ             1   \n",
       "20         1   -1311.604166         36              среднее             1   \n",
       "21         1    -253.685166         33              среднее             1   \n",
       "22         1   -1766.644138         24              среднее             1   \n",
       "23         0    -272.981385         21               высшее             0   \n",
       "24         1  338551.952911         57              среднее             1   \n",
       "25         0  363548.489348         67              среднее             1   \n",
       "26         0            NaN         41              среднее             1   \n",
       "27         0    -529.191635         28               высшее             0   \n",
       "28         1    -717.274324         26               высшее             0   \n",
       "29         0            NaN         63              среднее             1   \n",
       "\n",
       "            family_status  family_status_id gender  income_type  debt  \\\n",
       "0         женат / замужем                 0      F    сотрудник     0   \n",
       "1         женат / замужем                 0      F    сотрудник     0   \n",
       "2         женат / замужем                 0      M    сотрудник     0   \n",
       "3         женат / замужем                 0      M    сотрудник     0   \n",
       "4        гражданский брак                 1      F    пенсионер     0   \n",
       "5        гражданский брак                 1      M    компаньон     0   \n",
       "6         женат / замужем                 0      F    компаньон     0   \n",
       "7         женат / замужем                 0      M    сотрудник     0   \n",
       "8        гражданский брак                 1      F    сотрудник     0   \n",
       "9         женат / замужем                 0      M    сотрудник     0   \n",
       "10        женат / замужем                 0      M    компаньон     0   \n",
       "11        женат / замужем                 0      F    сотрудник     0   \n",
       "12       гражданский брак                 1      M    пенсионер     0   \n",
       "13        женат / замужем                 0      F    сотрудник     0   \n",
       "14       гражданский брак                 1      F    компаньон     1   \n",
       "15        женат / замужем                 0      F    сотрудник     0   \n",
       "16        женат / замужем                 0      F    сотрудник     0   \n",
       "17       гражданский брак                 1      M    сотрудник     0   \n",
       "18         вдовец / вдова                 2      F    пенсионер     0   \n",
       "19              в разводе                 3      F    сотрудник     0   \n",
       "20        женат / замужем                 0      M    сотрудник     0   \n",
       "21       гражданский брак                 1      F    сотрудник     0   \n",
       "22       гражданский брак                 1      F    сотрудник     0   \n",
       "23       гражданский брак                 1      M    сотрудник     0   \n",
       "24  Не женат / не замужем                 4      F    пенсионер     0   \n",
       "25        женат / замужем                 0      M    пенсионер     0   \n",
       "26        женат / замужем                 0      M  госслужащий     0   \n",
       "27        женат / замужем                 0      M    сотрудник     0   \n",
       "28        женат / замужем                 0      F    сотрудник     0   \n",
       "29  Не женат / не замужем                 4      F    пенсионер     0   \n",
       "\n",
       "     total_income                                 purpose  \n",
       "0   253875.639453                           покупка жилья  \n",
       "1   112080.014102                 приобретение автомобиля  \n",
       "2   145885.952297                           покупка жилья  \n",
       "3   267628.550329              дополнительное образование  \n",
       "4   158616.077870                         сыграть свадьбу  \n",
       "5   255763.565419                           покупка жилья  \n",
       "6   240525.971920                       операции с жильем  \n",
       "7   135823.934197                             образование  \n",
       "8    95856.832424                   на проведение свадьбы  \n",
       "9   144425.938277                 покупка жилья для семьи  \n",
       "10  113943.491460                    покупка недвижимости  \n",
       "11   77069.234271       покупка коммерческой недвижимости  \n",
       "12            NaN                         сыграть свадьбу  \n",
       "13  130458.228857                 приобретение автомобиля  \n",
       "14  165127.911772              покупка жилой недвижимости  \n",
       "15  116820.904450  строительство собственной недвижимости  \n",
       "16  289202.704229                            недвижимость  \n",
       "17   90410.586745              строительство недвижимости  \n",
       "18   56823.777243      на покупку подержанного автомобиля  \n",
       "19  242831.107982            на покупку своего автомобиля  \n",
       "20  209552.644578                            недвижимость  \n",
       "21  131812.203909                 приобретение автомобиля  \n",
       "22  149681.140731      на покупку подержанного автомобиля  \n",
       "23  128265.720871                         сыграть свадьбу  \n",
       "24  290547.235997   операции с коммерческой недвижимостью  \n",
       "25   55112.757732                    покупка недвижимости  \n",
       "26            NaN                             образование  \n",
       "27  308848.983691  строительство собственной недвижимости  \n",
       "28  187863.237306  строительство собственной недвижимости  \n",
       "29            NaN        строительство жилой недвижимости  "
      ]
     },
     "execution_count": 2,
     "metadata": {},
     "output_type": "execute_result"
    }
   ],
   "source": [
    "data=pd.read_csv('/datasets/data.csv')\n",
    "data.info()\n",
    "data.head(30)\n"
   ]
  },
  {
   "attachments": {
    "image.png": {
     "image/png": "[encoded data removed]"
    }
   },
   "cell_type": "markdown",
   "id": "3426e3ba",
   "metadata": {},
   "source": [
    "![image.png](attachment:image.png)\n",
    "\n",
    "*Из результата первых действий видно, что в самой таблице 21525 строк, но информация отсутсвует в некоторых столбцах с названиями \"total_income\", \"days_employed\", так как в них содержится всего 19351 запись. \n",
    "\n",
    "В самой таблице смущает колонка \"days_employed\", потому что непонятно, как \"общий трудовой стаж\" может быть минусовым. Необходимо это исправить. Как описано в задании- это аномалия. \n",
    "\n",
    "Кроме того, в колонке \"education\" разный регистр, что значит, мне необходимо исправить все на нижний.\n",
    "\n",
    "В колонке \"total_income\" действительно есть пропущенный значения, кроме того хочется привести все значения к int, чтобы с ними было проще работать.   \n",
    "\n",
    "Также необходимо выяснить, сколько вариантов есть в колонке\"family_status\" и есть ли в ней ошибки. Тоже самое проделать и с колонкой \"gender\".\n",
    "\n",
    "Можем посмотреть, кто является основным клиентов по колонке \"income_type\". \n",
    "\n",
    "Ну и в колонке \"purpose\" очень много повторяющихся значений, синонимичных:\"на покупку своего автомобиля\" или \"приобретение автомобиля\". Это надо будет учесть при исследовании данного проекта в дальнейшем. \n",
    "\n",
    "\n",
    "\n",
    "\n",
    "*Пропуски\n",
    "\n",
    "Можно отметить, что пропуски получены скорее всего из-за ошибки выгрузки данных, потому что банкам, при выдаче кредитов, всегда необходимо удостовериться, платежеспособен ли клиент (столбец с total_income)\n",
    "\n",
    "Кроме того, среди столбцов total_income и days_employed явно есть какая-то взаимосвязь. Потому что, если стоит нулевое значение в одном, то и в другом оно тоже присутсвует. При этом мы можем заменить \"трудовой стаж\" на нулевое значение, т.к. оно не сиграет для нашего исследования большой роли, а вот со столбцом \"ежемесячный доход\" придётся поработать и заполнить его медианным значением, так как именно этот способ поможет нам исключить влияние высокой и низкой зарплаты. "
   ]
  },
  {
   "cell_type": "markdown",
   "id": "7732c8d0",
   "metadata": {},
   "source": [
    "<div class=\"alert alert-success\">\n",
    "<b>✔️ Комментарий ревьюера:</b> \n",
    "<br>Отличный анализ!\n",
    "</div>\n",
    "\n",
    "<div class=\"alert alert-warning\">\n",
    "<b>⚠️ Комментарий ревьюера:</b> \n",
    "<br>Во время первичного анализа данных, может помочь метод describe(). Он покажет разброс значений, максимум, минимум, среднее и медиану. Ещё можно посмотреть долю пропущенных значений среди всех данных\n",
    "    \n",
    "    df.isna().mean()\n",
    "</div>"
   ]
  },
  {
   "cell_type": "markdown",
   "id": "62c25185",
   "metadata": {},
   "source": [
    "### Шаг 2.2 Проверка данных на аномалии и исправления."
   ]
  },
  {
   "cell_type": "code",
   "execution_count": 3,
   "id": "206bc51a",
   "metadata": {},
   "outputs": [
    {
     "data": {
      "text/plain": [
       " 0     14149\n",
       " 1      4818\n",
       " 2      2055\n",
       " 3       330\n",
       " 20       76\n",
       "-1        47\n",
       " 4        41\n",
       " 5         9\n",
       "Name: children, dtype: int64"
      ]
     },
     "execution_count": 3,
     "metadata": {},
     "output_type": "execute_result"
    }
   ],
   "source": [
    "# начнем разбираться по порядку и посмотрим, что с первым столбцом \"дети\"\n",
    "data['children'].value_counts()"
   ]
  },
  {
   "cell_type": "markdown",
   "id": "2d28f325",
   "metadata": {},
   "source": [
    "Есть невероятные значения 20, -1 (думаю, что от 0 до 5 детей еще может быть). Так как таких значений немного, предлагаю их просто удалить, так как они не повлияют на результат исследования. "
   ]
  },
  {
   "cell_type": "code",
   "execution_count": 4,
   "id": "7351184e",
   "metadata": {},
   "outputs": [
    {
     "data": {
      "text/plain": [
       "0    14149\n",
       "1     4818\n",
       "2     2055\n",
       "3      330\n",
       "4       41\n",
       "5        9\n",
       "Name: children, dtype: int64"
      ]
     },
     "execution_count": 4,
     "metadata": {},
     "output_type": "execute_result"
    }
   ],
   "source": [
    "data = data.loc[data['children'] >= 0]\n",
    "data = data.loc[data['children'] < 20]\n",
    "data['children'].value_counts()"
   ]
  },
  {
   "cell_type": "markdown",
   "id": "a0e5555c",
   "metadata": {},
   "source": [
    "<div class=\"alert alert-warning\">\n",
    "<b>⚠️ Комментарий ревьюера:</b> \n",
    "<br>Как вариант, 20 можно было бы заменить на 2, а отрицательные значения взять по модулю, так как в итоговых вопросах нас интересует именно наличие детей, а не их количество\n",
    "</div>"
   ]
  },
  {
   "cell_type": "code",
   "execution_count": 5,
   "id": "97c2d5a6",
   "metadata": {},
   "outputs": [],
   "source": [
    "#заменим отрицательные числа на положительные в стаже\n",
    "def negative_to_pozitive(value):\n",
    "    if value < 0:\n",
    "        value *= -1\n",
    "        return value\n",
    "    else:\n",
    "        return value\n",
    "data['days_employed'] = data['days_employed'].apply(negative_to_pozitive)\n",
    "# заполним пропуски в столбце \"стажа\" средним значением, а в столбце \"дохода\" медианным\n",
    "total_income_median = data['total_income'].median()\n",
    "days_employed_mean = data['days_employed'].mean()\n",
    "data['days_employed'] = data['days_employed'].fillna(days_employed_mean)\n",
    "data['total_income'] = data['total_income'].fillna(total_income_median)\n",
    "\n",
    "# проверим, все ли в порядке со столбцом \"dob_years\" и есть ли у него нулевые значения \n",
    "#print(data['dob_years'].value_counts().tail(11))\n",
    "# в таблице аж 101 нулевое значение, предлагаю заменить их на среднее арифметическое значение\n",
    "dob_years_mean = data['dob_years'].mean()\n",
    "data['dob_years'] = data['dob_years'].fillna(days_employed_mean)\n",
    "# для проверки еще раз применим \n",
    "#print(data['dob_years'].value_counts().tail(10))\n",
    "#data.info()\n",
    "\n",
    "# теперь поработаем со столбцом \"education\" и приведем все значения к единому регистру + посмотрим, есть ли уникальные значения. \n",
    "data['education']=data['education'].str.lower()\n",
    "#print(data['education'])\n",
    "# посмотрим, какие же варианты с образованием у нас имеются в таблице\n",
    "unique_education= data['education'].unique() # итог: у нас 5 значений в данном столбце и нет ошибочных данных (['высшее' 'среднее' 'неоконченное высшее' 'начальное' 'ученая степень'])\n",
    "#print(unique_education)\n",
    "#data['education_id'].unique() # просто проверим, все ли в порядке в данном столбце\n",
    "data['family_status'].unique()\n",
    "# приведем все значения в столбце \"семейное полодение\" к общему формату\n",
    "data['family_status']=data['family_status'].str.lower()\n",
    "#print(data['family_status'])\n"
   ]
  },
  {
   "cell_type": "markdown",
   "id": "f0f3fc6c",
   "metadata": {},
   "source": [
    "<div class=\"alert alert-warning\">\n",
    "<b>⚠️ Комментарий ревьюера:</b> \n",
    "<br>Тут можно использовать функцию abs() для отрицательных значений, которая возвращает модуль от числа\n",
    "</div>"
   ]
  },
  {
   "cell_type": "markdown",
   "id": "9d7267f5",
   "metadata": {},
   "source": [
    "<div class=\"alert alert-warning\">\n",
    "<b>⚠️ Комментарий ревьюера:</b> \n",
    "<br>Так как столбец days_employed нам не нужен, то делать с ним что-то не обязательно, но оптимально было бы заменить пропуски медианами с группировкой по возрасту или типу занятости, но перед этим избавится от отрицательных и аномально высоких значений\n",
    "</div>"
   ]
  },
  {
   "cell_type": "markdown",
   "id": "fdff1e6e",
   "metadata": {},
   "source": [
    "<div class=\"alert alert-warning\">\n",
    "<b>⚠️ Комментарий ревьюера:</b> \n",
    "<br>С выбором медианы согласен, но вот применять \"общую\" медиану для всех в столбце total_income не совсем правильно. У нас есть разные группы занятости и следует рассчитать медиану для каждой группы, а потом уже ей заполнить пропуски внутри этого типа занятости.\n",
    "</div>"
   ]
  },
  {
   "cell_type": "markdown",
   "id": "40d39757",
   "metadata": {},
   "source": [
    "Разобравшись с обработкой столбцов и приведя их к нормальному виду, идем работать с ними дальше, изменяя тип данных в столбцах. Тип данных столбцов total_income и days_employed - float, а нам необходимо работать с типом данных int.\n",
    "\n"
   ]
  },
  {
   "cell_type": "markdown",
   "id": "af2415e8",
   "metadata": {},
   "source": [
    "### Шаг 2.3. Изменение типов данных."
   ]
  },
  {
   "cell_type": "code",
   "execution_count": 6,
   "id": "d65373de",
   "metadata": {},
   "outputs": [
    {
     "name": "stdout",
     "output_type": "stream",
     "text": [
      "<class 'pandas.core.frame.DataFrame'>\n",
      "Int64Index: 21402 entries, 0 to 21524\n",
      "Data columns (total 12 columns):\n",
      "children            21402 non-null int64\n",
      "days_employed       21402 non-null float64\n",
      "dob_years           21402 non-null int64\n",
      "education           21402 non-null object\n",
      "education_id        21402 non-null int64\n",
      "family_status       21402 non-null object\n",
      "family_status_id    21402 non-null int64\n",
      "gender              21402 non-null object\n",
      "income_type         21402 non-null object\n",
      "debt                21402 non-null int64\n",
      "total_income        21402 non-null int64\n",
      "purpose             21402 non-null object\n",
      "dtypes: float64(1), int64(6), object(5)\n",
      "memory usage: 2.1+ MB\n"
     ]
    }
   ],
   "source": [
    "data['total_income'] = data['total_income'].astype(int)\n",
    "data.info()"
   ]
  },
  {
   "cell_type": "code",
   "execution_count": 7,
   "id": "390cf0e0",
   "metadata": {},
   "outputs": [],
   "source": [
    "data['days_employed'] = data['days_employed'].astype('int')"
   ]
  },
  {
   "cell_type": "markdown",
   "id": "3934174b",
   "metadata": {},
   "source": [
    "<div class=\"alert alert-success\">\n",
    "<b>✔️ Комментарий ревьюера:</b> \n",
    "<br>Всё верно!\n",
    "</div>"
   ]
  },
  {
   "cell_type": "markdown",
   "id": "30edac7f",
   "metadata": {},
   "source": [
    "### Шаг 2.4. Удаление дубликатов."
   ]
  },
  {
   "cell_type": "code",
   "execution_count": 8,
   "id": "0be73f99",
   "metadata": {},
   "outputs": [
    {
     "data": {
      "text/plain": [
       "(среднее                15136\n",
       " высшее                  5237\n",
       " неоконченное высшее      741\n",
       " начальное                282\n",
       " ученая степень             6\n",
       " Name: education, dtype: int64,\n",
       " 1    15136\n",
       " 0     5237\n",
       " 2      741\n",
       " 3      282\n",
       " 4        6\n",
       " Name: education_id, dtype: int64)"
      ]
     },
     "execution_count": 8,
     "metadata": {},
     "output_type": "execute_result"
    }
   ],
   "source": [
    "data['education'].value_counts(), data['education_id'].value_counts()"
   ]
  },
  {
   "cell_type": "markdown",
   "id": "c1a3f60f",
   "metadata": {},
   "source": [
    "Дубликатов нет, с этой задачей мы справились раннее изменив регистр во всем столбце при помощи метода str.lower(). Но нас еще интересует столбец \"purpose\". Нужно совпадающие цели привезти к одному названию. Причиной возникновения дубликатов скорее всего стало то, что данные в таблице запонялись большим количеством людей и каждый заполнял по своему. Используем лемитизацию. Не судите строго, искала информацию про него в интернете, т.к. в практикуме его нет("
   ]
  },
  {
   "cell_type": "code",
   "execution_count": 9,
   "id": "9fd07569",
   "metadata": {},
   "outputs": [
    {
     "name": "stdout",
     "output_type": "stream",
     "text": [
      "свадьба                                   796\n",
      "на проведение свадьбы                     772\n",
      "сыграть свадьбу                           769\n",
      "операции с недвижимостью                  673\n",
      "покупка коммерческой недвижимости         661\n",
      "покупка жилья для сдачи                   651\n",
      "операции с жильем                         648\n",
      "операции с коммерческой недвижимостью     646\n",
      "жилье                                     642\n",
      "покупка жилья                             641\n",
      "покупка жилья для семьи                   640\n",
      "недвижимость                              632\n",
      "строительство собственной недвижимости    628\n",
      "операции со своей недвижимостью           626\n",
      "строительство жилой недвижимости          622\n",
      "строительство недвижимости                620\n",
      "покупка недвижимости                      619\n",
      "покупка своего жилья                      619\n",
      "ремонт жилью                              609\n",
      "покупка жилой недвижимости                603\n",
      "на покупку своего автомобиля              504\n",
      "заняться высшим образованием              496\n",
      "автомобиль                                492\n",
      "сделка с подержанным автомобилем          484\n",
      "автомобили                                476\n",
      "свой автомобиль                           475\n",
      "на покупку подержанного автомобиля        472\n",
      "на покупку автомобиля                     470\n",
      "приобретение автомобиля                   460\n",
      "дополнительное образование                457\n",
      "сделка с автомобилем                      455\n",
      "высшее образование                        447\n",
      "получение дополнительного образования     445\n",
      "образование                               442\n",
      "получение образования                     441\n",
      "профильное образование                    432\n",
      "получение высшего образования             425\n",
      "заняться образованием                     412\n",
      "Name: purpose, dtype: int64\n"
     ]
    }
   ],
   "source": [
    "print(data['purpose'].value_counts())"
   ]
  },
  {
   "cell_type": "markdown",
   "id": "b5ed1435",
   "metadata": {},
   "source": [
    "у наших клиентов есть четыре цели: недвижимость, образование, автомобиль, свадьба. Лемматизируем значения purpose с помощью библиотеки pymystem3, а после добавим новый столбец purpose_clear с категориями целей."
   ]
  },
  {
   "cell_type": "code",
   "execution_count": 10,
   "id": "6e6801ce",
   "metadata": {
    "scrolled": true
   },
   "outputs": [
    {
     "data": {
      "text/html": [
       "<div>\n",
       "<style scoped>\n",
       "    .dataframe tbody tr th:only-of-type {\n",
       "        vertical-align: middle;\n",
       "    }\n",
       "\n",
       "    .dataframe tbody tr th {\n",
       "        vertical-align: top;\n",
       "    }\n",
       "\n",
       "    .dataframe thead th {\n",
       "        text-align: right;\n",
       "    }\n",
       "</style>\n",
       "<table border=\"1\" class=\"dataframe\">\n",
       "  <thead>\n",
       "    <tr style=\"text-align: right;\">\n",
       "      <th></th>\n",
       "      <th>children</th>\n",
       "      <th>days_employed</th>\n",
       "      <th>dob_years</th>\n",
       "      <th>education</th>\n",
       "      <th>education_id</th>\n",
       "      <th>family_status</th>\n",
       "      <th>family_status_id</th>\n",
       "      <th>gender</th>\n",
       "      <th>income_type</th>\n",
       "      <th>debt</th>\n",
       "      <th>total_income</th>\n",
       "      <th>purpose</th>\n",
       "      <th>purpose_category</th>\n",
       "    </tr>\n",
       "  </thead>\n",
       "  <tbody>\n",
       "    <tr>\n",
       "      <td>0</td>\n",
       "      <td>1</td>\n",
       "      <td>8437</td>\n",
       "      <td>42</td>\n",
       "      <td>высшее</td>\n",
       "      <td>0</td>\n",
       "      <td>женат / замужем</td>\n",
       "      <td>0</td>\n",
       "      <td>F</td>\n",
       "      <td>сотрудник</td>\n",
       "      <td>0</td>\n",
       "      <td>253875</td>\n",
       "      <td>покупка жилья</td>\n",
       "      <td>недвижимость</td>\n",
       "    </tr>\n",
       "    <tr>\n",
       "      <td>1</td>\n",
       "      <td>1</td>\n",
       "      <td>4024</td>\n",
       "      <td>36</td>\n",
       "      <td>среднее</td>\n",
       "      <td>1</td>\n",
       "      <td>женат / замужем</td>\n",
       "      <td>0</td>\n",
       "      <td>F</td>\n",
       "      <td>сотрудник</td>\n",
       "      <td>0</td>\n",
       "      <td>112080</td>\n",
       "      <td>приобретение автомобиля</td>\n",
       "      <td>автомобиль</td>\n",
       "    </tr>\n",
       "    <tr>\n",
       "      <td>2</td>\n",
       "      <td>0</td>\n",
       "      <td>5623</td>\n",
       "      <td>33</td>\n",
       "      <td>среднее</td>\n",
       "      <td>1</td>\n",
       "      <td>женат / замужем</td>\n",
       "      <td>0</td>\n",
       "      <td>M</td>\n",
       "      <td>сотрудник</td>\n",
       "      <td>0</td>\n",
       "      <td>145885</td>\n",
       "      <td>покупка жилья</td>\n",
       "      <td>недвижимость</td>\n",
       "    </tr>\n",
       "    <tr>\n",
       "      <td>3</td>\n",
       "      <td>3</td>\n",
       "      <td>4124</td>\n",
       "      <td>32</td>\n",
       "      <td>среднее</td>\n",
       "      <td>1</td>\n",
       "      <td>женат / замужем</td>\n",
       "      <td>0</td>\n",
       "      <td>M</td>\n",
       "      <td>сотрудник</td>\n",
       "      <td>0</td>\n",
       "      <td>267628</td>\n",
       "      <td>дополнительное образование</td>\n",
       "      <td>образование</td>\n",
       "    </tr>\n",
       "    <tr>\n",
       "      <td>4</td>\n",
       "      <td>0</td>\n",
       "      <td>340266</td>\n",
       "      <td>53</td>\n",
       "      <td>среднее</td>\n",
       "      <td>1</td>\n",
       "      <td>гражданский брак</td>\n",
       "      <td>1</td>\n",
       "      <td>F</td>\n",
       "      <td>пенсионер</td>\n",
       "      <td>0</td>\n",
       "      <td>158616</td>\n",
       "      <td>сыграть свадьбу</td>\n",
       "      <td>свадьба</td>\n",
       "    </tr>\n",
       "    <tr>\n",
       "      <td>5</td>\n",
       "      <td>0</td>\n",
       "      <td>926</td>\n",
       "      <td>27</td>\n",
       "      <td>высшее</td>\n",
       "      <td>0</td>\n",
       "      <td>гражданский брак</td>\n",
       "      <td>1</td>\n",
       "      <td>M</td>\n",
       "      <td>компаньон</td>\n",
       "      <td>0</td>\n",
       "      <td>255763</td>\n",
       "      <td>покупка жилья</td>\n",
       "      <td>недвижимость</td>\n",
       "    </tr>\n",
       "    <tr>\n",
       "      <td>6</td>\n",
       "      <td>0</td>\n",
       "      <td>2879</td>\n",
       "      <td>43</td>\n",
       "      <td>высшее</td>\n",
       "      <td>0</td>\n",
       "      <td>женат / замужем</td>\n",
       "      <td>0</td>\n",
       "      <td>F</td>\n",
       "      <td>компаньон</td>\n",
       "      <td>0</td>\n",
       "      <td>240525</td>\n",
       "      <td>операции с жильем</td>\n",
       "      <td>недвижимость</td>\n",
       "    </tr>\n",
       "    <tr>\n",
       "      <td>7</td>\n",
       "      <td>0</td>\n",
       "      <td>152</td>\n",
       "      <td>50</td>\n",
       "      <td>среднее</td>\n",
       "      <td>1</td>\n",
       "      <td>женат / замужем</td>\n",
       "      <td>0</td>\n",
       "      <td>M</td>\n",
       "      <td>сотрудник</td>\n",
       "      <td>0</td>\n",
       "      <td>135823</td>\n",
       "      <td>образование</td>\n",
       "      <td>образование</td>\n",
       "    </tr>\n",
       "    <tr>\n",
       "      <td>8</td>\n",
       "      <td>2</td>\n",
       "      <td>6929</td>\n",
       "      <td>35</td>\n",
       "      <td>высшее</td>\n",
       "      <td>0</td>\n",
       "      <td>гражданский брак</td>\n",
       "      <td>1</td>\n",
       "      <td>F</td>\n",
       "      <td>сотрудник</td>\n",
       "      <td>0</td>\n",
       "      <td>95856</td>\n",
       "      <td>на проведение свадьбы</td>\n",
       "      <td>свадьба</td>\n",
       "    </tr>\n",
       "    <tr>\n",
       "      <td>9</td>\n",
       "      <td>0</td>\n",
       "      <td>2188</td>\n",
       "      <td>41</td>\n",
       "      <td>среднее</td>\n",
       "      <td>1</td>\n",
       "      <td>женат / замужем</td>\n",
       "      <td>0</td>\n",
       "      <td>M</td>\n",
       "      <td>сотрудник</td>\n",
       "      <td>0</td>\n",
       "      <td>144425</td>\n",
       "      <td>покупка жилья для семьи</td>\n",
       "      <td>недвижимость</td>\n",
       "    </tr>\n",
       "  </tbody>\n",
       "</table>\n",
       "</div>"
      ],
      "text/plain": [
       "   children  days_employed  dob_years education  education_id  \\\n",
       "0         1           8437         42    высшее             0   \n",
       "1         1           4024         36   среднее             1   \n",
       "2         0           5623         33   среднее             1   \n",
       "3         3           4124         32   среднее             1   \n",
       "4         0         340266         53   среднее             1   \n",
       "5         0            926         27    высшее             0   \n",
       "6         0           2879         43    высшее             0   \n",
       "7         0            152         50   среднее             1   \n",
       "8         2           6929         35    высшее             0   \n",
       "9         0           2188         41   среднее             1   \n",
       "\n",
       "      family_status  family_status_id gender income_type  debt  total_income  \\\n",
       "0   женат / замужем                 0      F   сотрудник     0        253875   \n",
       "1   женат / замужем                 0      F   сотрудник     0        112080   \n",
       "2   женат / замужем                 0      M   сотрудник     0        145885   \n",
       "3   женат / замужем                 0      M   сотрудник     0        267628   \n",
       "4  гражданский брак                 1      F   пенсионер     0        158616   \n",
       "5  гражданский брак                 1      M   компаньон     0        255763   \n",
       "6   женат / замужем                 0      F   компаньон     0        240525   \n",
       "7   женат / замужем                 0      M   сотрудник     0        135823   \n",
       "8  гражданский брак                 1      F   сотрудник     0         95856   \n",
       "9   женат / замужем                 0      M   сотрудник     0        144425   \n",
       "\n",
       "                      purpose purpose_category  \n",
       "0               покупка жилья     недвижимость  \n",
       "1     приобретение автомобиля       автомобиль  \n",
       "2               покупка жилья     недвижимость  \n",
       "3  дополнительное образование      образование  \n",
       "4             сыграть свадьбу          свадьба  \n",
       "5               покупка жилья     недвижимость  \n",
       "6           операции с жильем     недвижимость  \n",
       "7                 образование      образование  \n",
       "8       на проведение свадьбы          свадьба  \n",
       "9     покупка жилья для семьи     недвижимость  "
      ]
     },
     "execution_count": 10,
     "metadata": {},
     "output_type": "execute_result"
    }
   ],
   "source": [
    "from pymystem3 import Mystem\n",
    "m = Mystem()\n",
    "\n",
    "def find_category(row):\n",
    "    lemmitisation = m.lemmatize(row)\n",
    "    if 'автомобиль' in lemmitisation:\n",
    "        return 'автомобиль'\n",
    "    if 'свадьба' in lemmitisation:\n",
    "        return 'свадьба'\n",
    "    if 'образование'in lemmitisation:\n",
    "        return 'образование'\n",
    "    return 'недвижимость'\n",
    "\n",
    "data['purpose_category'] = data['purpose'].apply(find_category)\n",
    "\n",
    "data.head(10)\n",
    "#data['purpose_clear'].value_counts()"
   ]
  },
  {
   "cell_type": "markdown",
   "id": "0b76fc57",
   "metadata": {},
   "source": [
    "Лемматизацию провели успешно. Теперь у нас 4 цели кредита вместо 37.\n",
    "\n",
    "недвижимость - 10733 / автомобиль - 4288 / образование - 3997/ свадьба - 2337"
   ]
  },
  {
   "cell_type": "markdown",
   "id": "86461bee",
   "metadata": {},
   "source": [
    "### Шаг 2.5. Формирование дополнительных датафреймов словарей, декомпозиция исходного датафрейма."
   ]
  },
  {
   "cell_type": "code",
   "execution_count": 11,
   "id": "461683c0",
   "metadata": {},
   "outputs": [
    {
     "data": {
      "text/html": [
       "<div>\n",
       "<style scoped>\n",
       "    .dataframe tbody tr th:only-of-type {\n",
       "        vertical-align: middle;\n",
       "    }\n",
       "\n",
       "    .dataframe tbody tr th {\n",
       "        vertical-align: top;\n",
       "    }\n",
       "\n",
       "    .dataframe thead th {\n",
       "        text-align: right;\n",
       "    }\n",
       "</style>\n",
       "<table border=\"1\" class=\"dataframe\">\n",
       "  <thead>\n",
       "    <tr style=\"text-align: right;\">\n",
       "      <th></th>\n",
       "      <th>education</th>\n",
       "      <th>education_id</th>\n",
       "    </tr>\n",
       "  </thead>\n",
       "  <tbody>\n",
       "    <tr>\n",
       "      <td>0</td>\n",
       "      <td>высшее</td>\n",
       "      <td>0</td>\n",
       "    </tr>\n",
       "    <tr>\n",
       "      <td>1</td>\n",
       "      <td>среднее</td>\n",
       "      <td>1</td>\n",
       "    </tr>\n",
       "    <tr>\n",
       "      <td>2</td>\n",
       "      <td>неоконченное высшее</td>\n",
       "      <td>2</td>\n",
       "    </tr>\n",
       "    <tr>\n",
       "      <td>3</td>\n",
       "      <td>начальное</td>\n",
       "      <td>3</td>\n",
       "    </tr>\n",
       "    <tr>\n",
       "      <td>4</td>\n",
       "      <td>ученая степень</td>\n",
       "      <td>4</td>\n",
       "    </tr>\n",
       "  </tbody>\n",
       "</table>\n",
       "</div>"
      ],
      "text/plain": [
       "             education  education_id\n",
       "0               высшее             0\n",
       "1              среднее             1\n",
       "2  неоконченное высшее             2\n",
       "3            начальное             3\n",
       "4       ученая степень             4"
      ]
     },
     "execution_count": 11,
     "metadata": {},
     "output_type": "execute_result"
    }
   ],
   "source": [
    "edu_dict = data[['education','education_id']]\n",
    "edu_dict = edu_dict.drop_duplicates().reset_index(drop=True)\n",
    "edu_dict.sort_values(by = 'education_id')\n"
   ]
  },
  {
   "cell_type": "code",
   "execution_count": 12,
   "id": "2b49f39c",
   "metadata": {},
   "outputs": [
    {
     "data": {
      "text/html": [
       "<div>\n",
       "<style scoped>\n",
       "    .dataframe tbody tr th:only-of-type {\n",
       "        vertical-align: middle;\n",
       "    }\n",
       "\n",
       "    .dataframe tbody tr th {\n",
       "        vertical-align: top;\n",
       "    }\n",
       "\n",
       "    .dataframe thead th {\n",
       "        text-align: right;\n",
       "    }\n",
       "</style>\n",
       "<table border=\"1\" class=\"dataframe\">\n",
       "  <thead>\n",
       "    <tr style=\"text-align: right;\">\n",
       "      <th></th>\n",
       "      <th>family_status</th>\n",
       "      <th>family_status_id</th>\n",
       "    </tr>\n",
       "  </thead>\n",
       "  <tbody>\n",
       "    <tr>\n",
       "      <td>0</td>\n",
       "      <td>женат / замужем</td>\n",
       "      <td>0</td>\n",
       "    </tr>\n",
       "    <tr>\n",
       "      <td>1</td>\n",
       "      <td>гражданский брак</td>\n",
       "      <td>1</td>\n",
       "    </tr>\n",
       "    <tr>\n",
       "      <td>2</td>\n",
       "      <td>вдовец / вдова</td>\n",
       "      <td>2</td>\n",
       "    </tr>\n",
       "    <tr>\n",
       "      <td>3</td>\n",
       "      <td>в разводе</td>\n",
       "      <td>3</td>\n",
       "    </tr>\n",
       "    <tr>\n",
       "      <td>4</td>\n",
       "      <td>не женат / не замужем</td>\n",
       "      <td>4</td>\n",
       "    </tr>\n",
       "  </tbody>\n",
       "</table>\n",
       "</div>"
      ],
      "text/plain": [
       "           family_status  family_status_id\n",
       "0        женат / замужем                 0\n",
       "1       гражданский брак                 1\n",
       "2         вдовец / вдова                 2\n",
       "3              в разводе                 3\n",
       "4  не женат / не замужем                 4"
      ]
     },
     "execution_count": 12,
     "metadata": {},
     "output_type": "execute_result"
    }
   ],
   "source": [
    "family_dict=data[['family_status','family_status_id']]\n",
    "family_dict = family_dict.drop_duplicates().reset_index(drop=True)\n",
    "family_dict.sort_values(by = 'family_status_id')"
   ]
  },
  {
   "cell_type": "markdown",
   "id": "7211918d",
   "metadata": {},
   "source": [
    "<div class=\"alert alert-danger\">\n",
    "<b>❌ Комментарий ревьюера:</b>\n",
    "<br>У нас в таблице находятся взаимозаменяемые столбцы. Нам ни к чему дублирующаяся информация. Кроме того, многие алгоритмы плохо работают со строковыми типами данных.\n",
    "</div>"
   ]
  },
  {
   "cell_type": "markdown",
   "id": "06eb926a",
   "metadata": {},
   "source": [
    "<div class=\"alert alert-info\">\n",
    "<b>Комментарий студента:</b>\n",
    "<br>Правки выполнены)\n",
    "</div>"
   ]
  },
  {
   "cell_type": "markdown",
   "id": "210e59d6",
   "metadata": {},
   "source": [
    "<div class=\"alert alert-success\">\n",
    "<b>✔️ Комментарий ревьюера v2:</b>\n",
    "<br>👍\n",
    "</div>"
   ]
  },
  {
   "cell_type": "markdown",
   "id": "6e9fd88d",
   "metadata": {},
   "source": [
    "### Шаг 2.6. Категоризация дохода."
   ]
  },
  {
   "cell_type": "markdown",
   "id": "e8f0d5c4",
   "metadata": {},
   "source": [
    "Проведем категоризацию данных по доходу у групп заемщиков."
   ]
  },
  {
   "cell_type": "code",
   "execution_count": 13,
   "id": "0bb315a4",
   "metadata": {},
   "outputs": [
    {
     "data": {
      "text/plain": [
       "count         21402\n",
       "unique            8\n",
       "top       сотрудник\n",
       "freq          11050\n",
       "Name: income_type, dtype: object"
      ]
     },
     "execution_count": 13,
     "metadata": {},
     "output_type": "execute_result"
    }
   ],
   "source": [
    "data['income_type'].describe() #Получим описание столбца."
   ]
  },
  {
   "cell_type": "markdown",
   "id": "7b8b09e3",
   "metadata": {},
   "source": [
    "### Шаг 2.7. Категоризация целей кредита."
   ]
  },
  {
   "cell_type": "code",
   "execution_count": 14,
   "id": "e9b6a88d",
   "metadata": {
    "scrolled": true
   },
   "outputs": [
    {
     "data": {
      "text/html": [
       "<div>\n",
       "<style scoped>\n",
       "    .dataframe tbody tr th:only-of-type {\n",
       "        vertical-align: middle;\n",
       "    }\n",
       "\n",
       "    .dataframe tbody tr th {\n",
       "        vertical-align: top;\n",
       "    }\n",
       "\n",
       "    .dataframe thead th {\n",
       "        text-align: right;\n",
       "    }\n",
       "</style>\n",
       "<table border=\"1\" class=\"dataframe\">\n",
       "  <thead>\n",
       "    <tr style=\"text-align: right;\">\n",
       "      <th></th>\n",
       "      <th>children</th>\n",
       "      <th>days_employed</th>\n",
       "      <th>dob_years</th>\n",
       "      <th>education</th>\n",
       "      <th>education_id</th>\n",
       "      <th>family_status</th>\n",
       "      <th>family_status_id</th>\n",
       "      <th>gender</th>\n",
       "      <th>income_type</th>\n",
       "      <th>debt</th>\n",
       "      <th>total_income</th>\n",
       "      <th>purpose</th>\n",
       "      <th>purpose_category</th>\n",
       "      <th>total_income_category</th>\n",
       "    </tr>\n",
       "  </thead>\n",
       "  <tbody>\n",
       "    <tr>\n",
       "      <td>0</td>\n",
       "      <td>1</td>\n",
       "      <td>8437</td>\n",
       "      <td>42</td>\n",
       "      <td>высшее</td>\n",
       "      <td>0</td>\n",
       "      <td>женат / замужем</td>\n",
       "      <td>0</td>\n",
       "      <td>F</td>\n",
       "      <td>сотрудник</td>\n",
       "      <td>0</td>\n",
       "      <td>253875</td>\n",
       "      <td>покупка жилья</td>\n",
       "      <td>недвижимость</td>\n",
       "      <td>B</td>\n",
       "    </tr>\n",
       "    <tr>\n",
       "      <td>1</td>\n",
       "      <td>1</td>\n",
       "      <td>4024</td>\n",
       "      <td>36</td>\n",
       "      <td>среднее</td>\n",
       "      <td>1</td>\n",
       "      <td>женат / замужем</td>\n",
       "      <td>0</td>\n",
       "      <td>F</td>\n",
       "      <td>сотрудник</td>\n",
       "      <td>0</td>\n",
       "      <td>112080</td>\n",
       "      <td>приобретение автомобиля</td>\n",
       "      <td>автомобиль</td>\n",
       "      <td>C</td>\n",
       "    </tr>\n",
       "    <tr>\n",
       "      <td>2</td>\n",
       "      <td>0</td>\n",
       "      <td>5623</td>\n",
       "      <td>33</td>\n",
       "      <td>среднее</td>\n",
       "      <td>1</td>\n",
       "      <td>женат / замужем</td>\n",
       "      <td>0</td>\n",
       "      <td>M</td>\n",
       "      <td>сотрудник</td>\n",
       "      <td>0</td>\n",
       "      <td>145885</td>\n",
       "      <td>покупка жилья</td>\n",
       "      <td>недвижимость</td>\n",
       "      <td>C</td>\n",
       "    </tr>\n",
       "    <tr>\n",
       "      <td>3</td>\n",
       "      <td>3</td>\n",
       "      <td>4124</td>\n",
       "      <td>32</td>\n",
       "      <td>среднее</td>\n",
       "      <td>1</td>\n",
       "      <td>женат / замужем</td>\n",
       "      <td>0</td>\n",
       "      <td>M</td>\n",
       "      <td>сотрудник</td>\n",
       "      <td>0</td>\n",
       "      <td>267628</td>\n",
       "      <td>дополнительное образование</td>\n",
       "      <td>образование</td>\n",
       "      <td>B</td>\n",
       "    </tr>\n",
       "    <tr>\n",
       "      <td>4</td>\n",
       "      <td>0</td>\n",
       "      <td>340266</td>\n",
       "      <td>53</td>\n",
       "      <td>среднее</td>\n",
       "      <td>1</td>\n",
       "      <td>гражданский брак</td>\n",
       "      <td>1</td>\n",
       "      <td>F</td>\n",
       "      <td>пенсионер</td>\n",
       "      <td>0</td>\n",
       "      <td>158616</td>\n",
       "      <td>сыграть свадьбу</td>\n",
       "      <td>свадьба</td>\n",
       "      <td>C</td>\n",
       "    </tr>\n",
       "    <tr>\n",
       "      <td>5</td>\n",
       "      <td>0</td>\n",
       "      <td>926</td>\n",
       "      <td>27</td>\n",
       "      <td>высшее</td>\n",
       "      <td>0</td>\n",
       "      <td>гражданский брак</td>\n",
       "      <td>1</td>\n",
       "      <td>M</td>\n",
       "      <td>компаньон</td>\n",
       "      <td>0</td>\n",
       "      <td>255763</td>\n",
       "      <td>покупка жилья</td>\n",
       "      <td>недвижимость</td>\n",
       "      <td>B</td>\n",
       "    </tr>\n",
       "    <tr>\n",
       "      <td>6</td>\n",
       "      <td>0</td>\n",
       "      <td>2879</td>\n",
       "      <td>43</td>\n",
       "      <td>высшее</td>\n",
       "      <td>0</td>\n",
       "      <td>женат / замужем</td>\n",
       "      <td>0</td>\n",
       "      <td>F</td>\n",
       "      <td>компаньон</td>\n",
       "      <td>0</td>\n",
       "      <td>240525</td>\n",
       "      <td>операции с жильем</td>\n",
       "      <td>недвижимость</td>\n",
       "      <td>B</td>\n",
       "    </tr>\n",
       "    <tr>\n",
       "      <td>7</td>\n",
       "      <td>0</td>\n",
       "      <td>152</td>\n",
       "      <td>50</td>\n",
       "      <td>среднее</td>\n",
       "      <td>1</td>\n",
       "      <td>женат / замужем</td>\n",
       "      <td>0</td>\n",
       "      <td>M</td>\n",
       "      <td>сотрудник</td>\n",
       "      <td>0</td>\n",
       "      <td>135823</td>\n",
       "      <td>образование</td>\n",
       "      <td>образование</td>\n",
       "      <td>C</td>\n",
       "    </tr>\n",
       "    <tr>\n",
       "      <td>8</td>\n",
       "      <td>2</td>\n",
       "      <td>6929</td>\n",
       "      <td>35</td>\n",
       "      <td>высшее</td>\n",
       "      <td>0</td>\n",
       "      <td>гражданский брак</td>\n",
       "      <td>1</td>\n",
       "      <td>F</td>\n",
       "      <td>сотрудник</td>\n",
       "      <td>0</td>\n",
       "      <td>95856</td>\n",
       "      <td>на проведение свадьбы</td>\n",
       "      <td>свадьба</td>\n",
       "      <td>C</td>\n",
       "    </tr>\n",
       "    <tr>\n",
       "      <td>9</td>\n",
       "      <td>0</td>\n",
       "      <td>2188</td>\n",
       "      <td>41</td>\n",
       "      <td>среднее</td>\n",
       "      <td>1</td>\n",
       "      <td>женат / замужем</td>\n",
       "      <td>0</td>\n",
       "      <td>M</td>\n",
       "      <td>сотрудник</td>\n",
       "      <td>0</td>\n",
       "      <td>144425</td>\n",
       "      <td>покупка жилья для семьи</td>\n",
       "      <td>недвижимость</td>\n",
       "      <td>C</td>\n",
       "    </tr>\n",
       "  </tbody>\n",
       "</table>\n",
       "</div>"
      ],
      "text/plain": [
       "   children  days_employed  dob_years education  education_id  \\\n",
       "0         1           8437         42    высшее             0   \n",
       "1         1           4024         36   среднее             1   \n",
       "2         0           5623         33   среднее             1   \n",
       "3         3           4124         32   среднее             1   \n",
       "4         0         340266         53   среднее             1   \n",
       "5         0            926         27    высшее             0   \n",
       "6         0           2879         43    высшее             0   \n",
       "7         0            152         50   среднее             1   \n",
       "8         2           6929         35    высшее             0   \n",
       "9         0           2188         41   среднее             1   \n",
       "\n",
       "      family_status  family_status_id gender income_type  debt  total_income  \\\n",
       "0   женат / замужем                 0      F   сотрудник     0        253875   \n",
       "1   женат / замужем                 0      F   сотрудник     0        112080   \n",
       "2   женат / замужем                 0      M   сотрудник     0        145885   \n",
       "3   женат / замужем                 0      M   сотрудник     0        267628   \n",
       "4  гражданский брак                 1      F   пенсионер     0        158616   \n",
       "5  гражданский брак                 1      M   компаньон     0        255763   \n",
       "6   женат / замужем                 0      F   компаньон     0        240525   \n",
       "7   женат / замужем                 0      M   сотрудник     0        135823   \n",
       "8  гражданский брак                 1      F   сотрудник     0         95856   \n",
       "9   женат / замужем                 0      M   сотрудник     0        144425   \n",
       "\n",
       "                      purpose purpose_category total_income_category  \n",
       "0               покупка жилья     недвижимость                     B  \n",
       "1     приобретение автомобиля       автомобиль                     C  \n",
       "2               покупка жилья     недвижимость                     C  \n",
       "3  дополнительное образование      образование                     B  \n",
       "4             сыграть свадьбу          свадьба                     C  \n",
       "5               покупка жилья     недвижимость                     B  \n",
       "6           операции с жильем     недвижимость                     B  \n",
       "7                 образование      образование                     C  \n",
       "8       на проведение свадьбы          свадьба                     C  \n",
       "9     покупка жилья для семьи     недвижимость                     C  "
      ]
     },
     "execution_count": 14,
     "metadata": {},
     "output_type": "execute_result"
    }
   ],
   "source": [
    "\n",
    "def total_income_category (income):\n",
    "    if income < 30000:\n",
    "        return('E')\n",
    "    if 30001 <= income <= 50000:\n",
    "        return('D')\n",
    "    if 50001 <=  income <=200000:\n",
    "        return('C')\n",
    "    if 200001 <= income <= 1000000:\n",
    "        return('B')\n",
    "    if income>1000000:\n",
    "        return('A')\n",
    "    return ('Ошибка')\n",
    "income=data['total_income']\n",
    "data['total_income_category']=income.apply(total_income_category)\n",
    "data.head(10)"
   ]
  },
  {
   "cell_type": "markdown",
   "id": "27a73313",
   "metadata": {},
   "source": [
    "<div class=\"alert alert-success\">\n",
    "<b>✔️ Комментарий ревьюера:</b> \n",
    "<br>Категоризация клиентов по уровню дохода произведена верно\n",
    "</div>"
   ]
  },
  {
   "cell_type": "code",
   "execution_count": 15,
   "id": "a31bd348",
   "metadata": {
    "scrolled": true
   },
   "outputs": [
    {
     "data": {
      "text/html": [
       "<div>\n",
       "<style scoped>\n",
       "    .dataframe tbody tr th:only-of-type {\n",
       "        vertical-align: middle;\n",
       "    }\n",
       "\n",
       "    .dataframe tbody tr th {\n",
       "        vertical-align: top;\n",
       "    }\n",
       "\n",
       "    .dataframe thead th {\n",
       "        text-align: right;\n",
       "    }\n",
       "</style>\n",
       "<table border=\"1\" class=\"dataframe\">\n",
       "  <thead>\n",
       "    <tr style=\"text-align: right;\">\n",
       "      <th></th>\n",
       "      <th>children</th>\n",
       "      <th>days_employed</th>\n",
       "      <th>dob_years</th>\n",
       "      <th>education</th>\n",
       "      <th>education_id</th>\n",
       "      <th>family_status</th>\n",
       "      <th>family_status_id</th>\n",
       "      <th>gender</th>\n",
       "      <th>income_type</th>\n",
       "      <th>debt</th>\n",
       "      <th>total_income</th>\n",
       "      <th>purpose</th>\n",
       "      <th>purpose_category</th>\n",
       "      <th>total_income_category</th>\n",
       "      <th>purpose_category_operations</th>\n",
       "    </tr>\n",
       "  </thead>\n",
       "  <tbody>\n",
       "    <tr>\n",
       "      <td>0</td>\n",
       "      <td>1</td>\n",
       "      <td>8437</td>\n",
       "      <td>42</td>\n",
       "      <td>высшее</td>\n",
       "      <td>0</td>\n",
       "      <td>женат / замужем</td>\n",
       "      <td>0</td>\n",
       "      <td>F</td>\n",
       "      <td>сотрудник</td>\n",
       "      <td>0</td>\n",
       "      <td>253875</td>\n",
       "      <td>покупка жилья</td>\n",
       "      <td>недвижимость</td>\n",
       "      <td>B</td>\n",
       "      <td>операции с недвижимостью</td>\n",
       "    </tr>\n",
       "    <tr>\n",
       "      <td>1</td>\n",
       "      <td>1</td>\n",
       "      <td>4024</td>\n",
       "      <td>36</td>\n",
       "      <td>среднее</td>\n",
       "      <td>1</td>\n",
       "      <td>женат / замужем</td>\n",
       "      <td>0</td>\n",
       "      <td>F</td>\n",
       "      <td>сотрудник</td>\n",
       "      <td>0</td>\n",
       "      <td>112080</td>\n",
       "      <td>приобретение автомобиля</td>\n",
       "      <td>автомобиль</td>\n",
       "      <td>C</td>\n",
       "      <td>операции с автомобилем</td>\n",
       "    </tr>\n",
       "    <tr>\n",
       "      <td>2</td>\n",
       "      <td>0</td>\n",
       "      <td>5623</td>\n",
       "      <td>33</td>\n",
       "      <td>среднее</td>\n",
       "      <td>1</td>\n",
       "      <td>женат / замужем</td>\n",
       "      <td>0</td>\n",
       "      <td>M</td>\n",
       "      <td>сотрудник</td>\n",
       "      <td>0</td>\n",
       "      <td>145885</td>\n",
       "      <td>покупка жилья</td>\n",
       "      <td>недвижимость</td>\n",
       "      <td>C</td>\n",
       "      <td>операции с недвижимостью</td>\n",
       "    </tr>\n",
       "    <tr>\n",
       "      <td>3</td>\n",
       "      <td>3</td>\n",
       "      <td>4124</td>\n",
       "      <td>32</td>\n",
       "      <td>среднее</td>\n",
       "      <td>1</td>\n",
       "      <td>женат / замужем</td>\n",
       "      <td>0</td>\n",
       "      <td>M</td>\n",
       "      <td>сотрудник</td>\n",
       "      <td>0</td>\n",
       "      <td>267628</td>\n",
       "      <td>дополнительное образование</td>\n",
       "      <td>образование</td>\n",
       "      <td>B</td>\n",
       "      <td>операции с образованием</td>\n",
       "    </tr>\n",
       "    <tr>\n",
       "      <td>4</td>\n",
       "      <td>0</td>\n",
       "      <td>340266</td>\n",
       "      <td>53</td>\n",
       "      <td>среднее</td>\n",
       "      <td>1</td>\n",
       "      <td>гражданский брак</td>\n",
       "      <td>1</td>\n",
       "      <td>F</td>\n",
       "      <td>пенсионер</td>\n",
       "      <td>0</td>\n",
       "      <td>158616</td>\n",
       "      <td>сыграть свадьбу</td>\n",
       "      <td>свадьба</td>\n",
       "      <td>C</td>\n",
       "      <td>операции со свадьбой</td>\n",
       "    </tr>\n",
       "    <tr>\n",
       "      <td>5</td>\n",
       "      <td>0</td>\n",
       "      <td>926</td>\n",
       "      <td>27</td>\n",
       "      <td>высшее</td>\n",
       "      <td>0</td>\n",
       "      <td>гражданский брак</td>\n",
       "      <td>1</td>\n",
       "      <td>M</td>\n",
       "      <td>компаньон</td>\n",
       "      <td>0</td>\n",
       "      <td>255763</td>\n",
       "      <td>покупка жилья</td>\n",
       "      <td>недвижимость</td>\n",
       "      <td>B</td>\n",
       "      <td>операции с недвижимостью</td>\n",
       "    </tr>\n",
       "    <tr>\n",
       "      <td>6</td>\n",
       "      <td>0</td>\n",
       "      <td>2879</td>\n",
       "      <td>43</td>\n",
       "      <td>высшее</td>\n",
       "      <td>0</td>\n",
       "      <td>женат / замужем</td>\n",
       "      <td>0</td>\n",
       "      <td>F</td>\n",
       "      <td>компаньон</td>\n",
       "      <td>0</td>\n",
       "      <td>240525</td>\n",
       "      <td>операции с жильем</td>\n",
       "      <td>недвижимость</td>\n",
       "      <td>B</td>\n",
       "      <td>операции с недвижимостью</td>\n",
       "    </tr>\n",
       "    <tr>\n",
       "      <td>7</td>\n",
       "      <td>0</td>\n",
       "      <td>152</td>\n",
       "      <td>50</td>\n",
       "      <td>среднее</td>\n",
       "      <td>1</td>\n",
       "      <td>женат / замужем</td>\n",
       "      <td>0</td>\n",
       "      <td>M</td>\n",
       "      <td>сотрудник</td>\n",
       "      <td>0</td>\n",
       "      <td>135823</td>\n",
       "      <td>образование</td>\n",
       "      <td>образование</td>\n",
       "      <td>C</td>\n",
       "      <td>операции с образованием</td>\n",
       "    </tr>\n",
       "    <tr>\n",
       "      <td>8</td>\n",
       "      <td>2</td>\n",
       "      <td>6929</td>\n",
       "      <td>35</td>\n",
       "      <td>высшее</td>\n",
       "      <td>0</td>\n",
       "      <td>гражданский брак</td>\n",
       "      <td>1</td>\n",
       "      <td>F</td>\n",
       "      <td>сотрудник</td>\n",
       "      <td>0</td>\n",
       "      <td>95856</td>\n",
       "      <td>на проведение свадьбы</td>\n",
       "      <td>свадьба</td>\n",
       "      <td>C</td>\n",
       "      <td>операции со свадьбой</td>\n",
       "    </tr>\n",
       "    <tr>\n",
       "      <td>9</td>\n",
       "      <td>0</td>\n",
       "      <td>2188</td>\n",
       "      <td>41</td>\n",
       "      <td>среднее</td>\n",
       "      <td>1</td>\n",
       "      <td>женат / замужем</td>\n",
       "      <td>0</td>\n",
       "      <td>M</td>\n",
       "      <td>сотрудник</td>\n",
       "      <td>0</td>\n",
       "      <td>144425</td>\n",
       "      <td>покупка жилья для семьи</td>\n",
       "      <td>недвижимость</td>\n",
       "      <td>C</td>\n",
       "      <td>операции с недвижимостью</td>\n",
       "    </tr>\n",
       "  </tbody>\n",
       "</table>\n",
       "</div>"
      ],
      "text/plain": [
       "   children  days_employed  dob_years education  education_id  \\\n",
       "0         1           8437         42    высшее             0   \n",
       "1         1           4024         36   среднее             1   \n",
       "2         0           5623         33   среднее             1   \n",
       "3         3           4124         32   среднее             1   \n",
       "4         0         340266         53   среднее             1   \n",
       "5         0            926         27    высшее             0   \n",
       "6         0           2879         43    высшее             0   \n",
       "7         0            152         50   среднее             1   \n",
       "8         2           6929         35    высшее             0   \n",
       "9         0           2188         41   среднее             1   \n",
       "\n",
       "      family_status  family_status_id gender income_type  debt  total_income  \\\n",
       "0   женат / замужем                 0      F   сотрудник     0        253875   \n",
       "1   женат / замужем                 0      F   сотрудник     0        112080   \n",
       "2   женат / замужем                 0      M   сотрудник     0        145885   \n",
       "3   женат / замужем                 0      M   сотрудник     0        267628   \n",
       "4  гражданский брак                 1      F   пенсионер     0        158616   \n",
       "5  гражданский брак                 1      M   компаньон     0        255763   \n",
       "6   женат / замужем                 0      F   компаньон     0        240525   \n",
       "7   женат / замужем                 0      M   сотрудник     0        135823   \n",
       "8  гражданский брак                 1      F   сотрудник     0         95856   \n",
       "9   женат / замужем                 0      M   сотрудник     0        144425   \n",
       "\n",
       "                      purpose purpose_category total_income_category  \\\n",
       "0               покупка жилья     недвижимость                     B   \n",
       "1     приобретение автомобиля       автомобиль                     C   \n",
       "2               покупка жилья     недвижимость                     C   \n",
       "3  дополнительное образование      образование                     B   \n",
       "4             сыграть свадьбу          свадьба                     C   \n",
       "5               покупка жилья     недвижимость                     B   \n",
       "6           операции с жильем     недвижимость                     B   \n",
       "7                 образование      образование                     C   \n",
       "8       на проведение свадьбы          свадьба                     C   \n",
       "9     покупка жилья для семьи     недвижимость                     C   \n",
       "\n",
       "  purpose_category_operations  \n",
       "0    операции с недвижимостью  \n",
       "1      операции с автомобилем  \n",
       "2    операции с недвижимостью  \n",
       "3     операции с образованием  \n",
       "4        операции со свадьбой  \n",
       "5    операции с недвижимостью  \n",
       "6    операции с недвижимостью  \n",
       "7     операции с образованием  \n",
       "8        операции со свадьбой  \n",
       "9    операции с недвижимостью  "
      ]
     },
     "execution_count": 15,
     "metadata": {},
     "output_type": "execute_result"
    }
   ],
   "source": [
    "def find_purpose (category):\n",
    "    if category=='недвижимость':\n",
    "        return('операции с недвижимостью')\n",
    "    if category=='автомобиль':\n",
    "        return('операции с автомобилем')\n",
    "    if category=='образование':\n",
    "        return('операции с образованием')\n",
    "    if category=='свадьба':\n",
    "        return('операции со свадьбой')\n",
    "    return ('Ошибка')\n",
    "category=data['purpose_category']\n",
    "data['purpose_category_operations']=category.apply(find_purpose)\n",
    "data.head(10)"
   ]
  },
  {
   "cell_type": "markdown",
   "id": "245dbca8",
   "metadata": {},
   "source": [
    "<div class=\"alert alert-success\">\n",
    "<b>✔️ Комментарий ревьюера:</b> \n",
    "<br>Основные цели кредита определены правильно! 👍\n",
    "</div>"
   ]
  },
  {
   "cell_type": "code",
   "execution_count": 16,
   "id": "edca014e",
   "metadata": {
    "scrolled": true
   },
   "outputs": [
    {
     "data": {
      "text/html": [
       "<div>\n",
       "<style scoped>\n",
       "    .dataframe tbody tr th:only-of-type {\n",
       "        vertical-align: middle;\n",
       "    }\n",
       "\n",
       "    .dataframe tbody tr th {\n",
       "        vertical-align: top;\n",
       "    }\n",
       "\n",
       "    .dataframe thead th {\n",
       "        text-align: right;\n",
       "    }\n",
       "</style>\n",
       "<table border=\"1\" class=\"dataframe\">\n",
       "  <thead>\n",
       "    <tr style=\"text-align: right;\">\n",
       "      <th></th>\n",
       "      <th>children</th>\n",
       "      <th>days_employed</th>\n",
       "      <th>dob_years</th>\n",
       "      <th>education</th>\n",
       "      <th>education_id</th>\n",
       "      <th>family_status</th>\n",
       "      <th>family_status_id</th>\n",
       "      <th>gender</th>\n",
       "      <th>income_type</th>\n",
       "      <th>debt</th>\n",
       "      <th>total_income</th>\n",
       "      <th>purpose</th>\n",
       "      <th>purpose_category</th>\n",
       "      <th>total_income_category</th>\n",
       "      <th>purpose_category_operations</th>\n",
       "    </tr>\n",
       "  </thead>\n",
       "  <tbody>\n",
       "    <tr>\n",
       "      <td>0</td>\n",
       "      <td>1</td>\n",
       "      <td>8437</td>\n",
       "      <td>42</td>\n",
       "      <td>высшее</td>\n",
       "      <td>0</td>\n",
       "      <td>женат / замужем</td>\n",
       "      <td>0</td>\n",
       "      <td>жен</td>\n",
       "      <td>сотрудник</td>\n",
       "      <td>0</td>\n",
       "      <td>253875</td>\n",
       "      <td>покупка жилья</td>\n",
       "      <td>недвижимость</td>\n",
       "      <td>B</td>\n",
       "      <td>операции с недвижимостью</td>\n",
       "    </tr>\n",
       "    <tr>\n",
       "      <td>1</td>\n",
       "      <td>1</td>\n",
       "      <td>4024</td>\n",
       "      <td>36</td>\n",
       "      <td>среднее</td>\n",
       "      <td>1</td>\n",
       "      <td>женат / замужем</td>\n",
       "      <td>0</td>\n",
       "      <td>жен</td>\n",
       "      <td>сотрудник</td>\n",
       "      <td>0</td>\n",
       "      <td>112080</td>\n",
       "      <td>приобретение автомобиля</td>\n",
       "      <td>автомобиль</td>\n",
       "      <td>C</td>\n",
       "      <td>операции с автомобилем</td>\n",
       "    </tr>\n",
       "    <tr>\n",
       "      <td>2</td>\n",
       "      <td>0</td>\n",
       "      <td>5623</td>\n",
       "      <td>33</td>\n",
       "      <td>среднее</td>\n",
       "      <td>1</td>\n",
       "      <td>женат / замужем</td>\n",
       "      <td>0</td>\n",
       "      <td>муж</td>\n",
       "      <td>сотрудник</td>\n",
       "      <td>0</td>\n",
       "      <td>145885</td>\n",
       "      <td>покупка жилья</td>\n",
       "      <td>недвижимость</td>\n",
       "      <td>C</td>\n",
       "      <td>операции с недвижимостью</td>\n",
       "    </tr>\n",
       "    <tr>\n",
       "      <td>3</td>\n",
       "      <td>3</td>\n",
       "      <td>4124</td>\n",
       "      <td>32</td>\n",
       "      <td>среднее</td>\n",
       "      <td>1</td>\n",
       "      <td>женат / замужем</td>\n",
       "      <td>0</td>\n",
       "      <td>муж</td>\n",
       "      <td>сотрудник</td>\n",
       "      <td>0</td>\n",
       "      <td>267628</td>\n",
       "      <td>дополнительное образование</td>\n",
       "      <td>образование</td>\n",
       "      <td>B</td>\n",
       "      <td>операции с образованием</td>\n",
       "    </tr>\n",
       "    <tr>\n",
       "      <td>4</td>\n",
       "      <td>0</td>\n",
       "      <td>340266</td>\n",
       "      <td>53</td>\n",
       "      <td>среднее</td>\n",
       "      <td>1</td>\n",
       "      <td>гражданский брак</td>\n",
       "      <td>1</td>\n",
       "      <td>жен</td>\n",
       "      <td>пенсионер</td>\n",
       "      <td>0</td>\n",
       "      <td>158616</td>\n",
       "      <td>сыграть свадьбу</td>\n",
       "      <td>свадьба</td>\n",
       "      <td>C</td>\n",
       "      <td>операции со свадьбой</td>\n",
       "    </tr>\n",
       "  </tbody>\n",
       "</table>\n",
       "</div>"
      ],
      "text/plain": [
       "   children  days_employed  dob_years education  education_id  \\\n",
       "0         1           8437         42    высшее             0   \n",
       "1         1           4024         36   среднее             1   \n",
       "2         0           5623         33   среднее             1   \n",
       "3         3           4124         32   среднее             1   \n",
       "4         0         340266         53   среднее             1   \n",
       "\n",
       "      family_status  family_status_id gender income_type  debt  total_income  \\\n",
       "0   женат / замужем                 0    жен   сотрудник     0        253875   \n",
       "1   женат / замужем                 0    жен   сотрудник     0        112080   \n",
       "2   женат / замужем                 0    муж   сотрудник     0        145885   \n",
       "3   женат / замужем                 0    муж   сотрудник     0        267628   \n",
       "4  гражданский брак                 1    жен   пенсионер     0        158616   \n",
       "\n",
       "                      purpose purpose_category total_income_category  \\\n",
       "0               покупка жилья     недвижимость                     B   \n",
       "1     приобретение автомобиля       автомобиль                     C   \n",
       "2               покупка жилья     недвижимость                     C   \n",
       "3  дополнительное образование      образование                     B   \n",
       "4             сыграть свадьбу          свадьба                     C   \n",
       "\n",
       "  purpose_category_operations  \n",
       "0    операции с недвижимостью  \n",
       "1      операции с автомобилем  \n",
       "2    операции с недвижимостью  \n",
       "3     операции с образованием  \n",
       "4        операции со свадьбой  "
      ]
     },
     "execution_count": 16,
     "metadata": {},
     "output_type": "execute_result"
    }
   ],
   "source": [
    "def gender_group(letter): \n",
    "    if letter == 'F':\n",
    "        return 'жен'\n",
    "    if letter == 'XNA':\n",
    "        return 'н/д'\n",
    "    return 'муж'\n",
    "letter=data['gender']\n",
    "data['gender']=letter.apply(gender_group) #Проверка\n",
    "data.head()"
   ]
  },
  {
   "cell_type": "code",
   "execution_count": 17,
   "id": "4bc019bd",
   "metadata": {},
   "outputs": [
    {
     "data": {
      "text/html": [
       "<div>\n",
       "<style scoped>\n",
       "    .dataframe tbody tr th:only-of-type {\n",
       "        vertical-align: middle;\n",
       "    }\n",
       "\n",
       "    .dataframe tbody tr th {\n",
       "        vertical-align: top;\n",
       "    }\n",
       "\n",
       "    .dataframe thead th {\n",
       "        text-align: right;\n",
       "    }\n",
       "</style>\n",
       "<table border=\"1\" class=\"dataframe\">\n",
       "  <thead>\n",
       "    <tr style=\"text-align: right;\">\n",
       "      <th></th>\n",
       "      <th>children</th>\n",
       "      <th>days_employed</th>\n",
       "      <th>dob_years</th>\n",
       "      <th>education</th>\n",
       "      <th>education_id</th>\n",
       "      <th>family_status</th>\n",
       "      <th>family_status_id</th>\n",
       "      <th>gender</th>\n",
       "      <th>income_type</th>\n",
       "      <th>debt</th>\n",
       "      <th>total_income</th>\n",
       "      <th>purpose</th>\n",
       "      <th>purpose_category</th>\n",
       "      <th>total_income_category</th>\n",
       "      <th>purpose_category_operations</th>\n",
       "      <th>debt_group</th>\n",
       "    </tr>\n",
       "  </thead>\n",
       "  <tbody>\n",
       "    <tr>\n",
       "      <td>0</td>\n",
       "      <td>1</td>\n",
       "      <td>8437</td>\n",
       "      <td>42</td>\n",
       "      <td>высшее</td>\n",
       "      <td>0</td>\n",
       "      <td>женат / замужем</td>\n",
       "      <td>0</td>\n",
       "      <td>жен</td>\n",
       "      <td>сотрудник</td>\n",
       "      <td>0</td>\n",
       "      <td>253875</td>\n",
       "      <td>покупка жилья</td>\n",
       "      <td>недвижимость</td>\n",
       "      <td>B</td>\n",
       "      <td>операции с недвижимостью</td>\n",
       "      <td>задолженности нет</td>\n",
       "    </tr>\n",
       "    <tr>\n",
       "      <td>1</td>\n",
       "      <td>1</td>\n",
       "      <td>4024</td>\n",
       "      <td>36</td>\n",
       "      <td>среднее</td>\n",
       "      <td>1</td>\n",
       "      <td>женат / замужем</td>\n",
       "      <td>0</td>\n",
       "      <td>жен</td>\n",
       "      <td>сотрудник</td>\n",
       "      <td>0</td>\n",
       "      <td>112080</td>\n",
       "      <td>приобретение автомобиля</td>\n",
       "      <td>автомобиль</td>\n",
       "      <td>C</td>\n",
       "      <td>операции с автомобилем</td>\n",
       "      <td>задолженности нет</td>\n",
       "    </tr>\n",
       "    <tr>\n",
       "      <td>2</td>\n",
       "      <td>0</td>\n",
       "      <td>5623</td>\n",
       "      <td>33</td>\n",
       "      <td>среднее</td>\n",
       "      <td>1</td>\n",
       "      <td>женат / замужем</td>\n",
       "      <td>0</td>\n",
       "      <td>муж</td>\n",
       "      <td>сотрудник</td>\n",
       "      <td>0</td>\n",
       "      <td>145885</td>\n",
       "      <td>покупка жилья</td>\n",
       "      <td>недвижимость</td>\n",
       "      <td>C</td>\n",
       "      <td>операции с недвижимостью</td>\n",
       "      <td>задолженности нет</td>\n",
       "    </tr>\n",
       "    <tr>\n",
       "      <td>3</td>\n",
       "      <td>3</td>\n",
       "      <td>4124</td>\n",
       "      <td>32</td>\n",
       "      <td>среднее</td>\n",
       "      <td>1</td>\n",
       "      <td>женат / замужем</td>\n",
       "      <td>0</td>\n",
       "      <td>муж</td>\n",
       "      <td>сотрудник</td>\n",
       "      <td>0</td>\n",
       "      <td>267628</td>\n",
       "      <td>дополнительное образование</td>\n",
       "      <td>образование</td>\n",
       "      <td>B</td>\n",
       "      <td>операции с образованием</td>\n",
       "      <td>задолженности нет</td>\n",
       "    </tr>\n",
       "    <tr>\n",
       "      <td>4</td>\n",
       "      <td>0</td>\n",
       "      <td>340266</td>\n",
       "      <td>53</td>\n",
       "      <td>среднее</td>\n",
       "      <td>1</td>\n",
       "      <td>гражданский брак</td>\n",
       "      <td>1</td>\n",
       "      <td>жен</td>\n",
       "      <td>пенсионер</td>\n",
       "      <td>0</td>\n",
       "      <td>158616</td>\n",
       "      <td>сыграть свадьбу</td>\n",
       "      <td>свадьба</td>\n",
       "      <td>C</td>\n",
       "      <td>операции со свадьбой</td>\n",
       "      <td>задолженности нет</td>\n",
       "    </tr>\n",
       "  </tbody>\n",
       "</table>\n",
       "</div>"
      ],
      "text/plain": [
       "   children  days_employed  dob_years education  education_id  \\\n",
       "0         1           8437         42    высшее             0   \n",
       "1         1           4024         36   среднее             1   \n",
       "2         0           5623         33   среднее             1   \n",
       "3         3           4124         32   среднее             1   \n",
       "4         0         340266         53   среднее             1   \n",
       "\n",
       "      family_status  family_status_id gender income_type  debt  total_income  \\\n",
       "0   женат / замужем                 0    жен   сотрудник     0        253875   \n",
       "1   женат / замужем                 0    жен   сотрудник     0        112080   \n",
       "2   женат / замужем                 0    муж   сотрудник     0        145885   \n",
       "3   женат / замужем                 0    муж   сотрудник     0        267628   \n",
       "4  гражданский брак                 1    жен   пенсионер     0        158616   \n",
       "\n",
       "                      purpose purpose_category total_income_category  \\\n",
       "0               покупка жилья     недвижимость                     B   \n",
       "1     приобретение автомобиля       автомобиль                     C   \n",
       "2               покупка жилья     недвижимость                     C   \n",
       "3  дополнительное образование      образование                     B   \n",
       "4             сыграть свадьбу          свадьба                     C   \n",
       "\n",
       "  purpose_category_operations         debt_group  \n",
       "0    операции с недвижимостью  задолженности нет  \n",
       "1      операции с автомобилем  задолженности нет  \n",
       "2    операции с недвижимостью  задолженности нет  \n",
       "3     операции с образованием  задолженности нет  \n",
       "4        операции со свадьбой  задолженности нет  "
      ]
     },
     "execution_count": 17,
     "metadata": {},
     "output_type": "execute_result"
    }
   ],
   "source": [
    "def debt (debt1): \n",
    "    if debt1 == 0:\n",
    "        return 'задолженности нет'\n",
    "    return 'задолженность есть'\n",
    "debt1=data['debt']\n",
    "data['debt_group']=debt1.apply(debt) #Проверка\n",
    "data.head()\n"
   ]
  },
  {
   "cell_type": "markdown",
   "id": "670074cb",
   "metadata": {},
   "source": [
    "### Ответы на вопросы."
   ]
  },
  {
   "cell_type": "markdown",
   "id": "3df96916",
   "metadata": {},
   "source": [
    "##### Вопрос 1:"
   ]
  },
  {
   "cell_type": "markdown",
   "id": "83cc8da9",
   "metadata": {},
   "source": [
    "**Есть ли зависимость между наличием детей и возвратом кредита в срок?**\n",
    "\n",
    "\n",
    "Для этого нам придется провести небольшое исследование. Чтобы увидеть и проанализировать есть ли зависимость - составим сводную таблицу методом .pivot_table. Необходимые столбцы - 'children' и 'debt'. Для группировки логично будет взять столбцы, связанные с семьей и детьми т.е. 'family_status_id' и 'family_status' и для интереса еще добавим 'gender'.\n",
    "\n"
   ]
  },
  {
   "cell_type": "code",
   "execution_count": 18,
   "id": "02a3ef0b",
   "metadata": {},
   "outputs": [
    {
     "name": "stdout",
     "output_type": "stream",
     "text": [
      "Доля должников с детьми - 9.2%, это больше, чем доля должников без детей.\n"
     ]
    }
   ],
   "source": [
    "debt_and_children = data[['children', 'debt']]\n",
    "\n",
    "clients_with_children = debt_and_children.loc[debt_and_children['children'] > 0]\n",
    "debtors_with_children = clients_with_children.loc[clients_with_children['debt'] == 1]\n",
    "debtors_with_children_mean = len(debtors_with_children) / len(clients_with_children)\n",
    "\n",
    "clients_without_children = debt_and_children.loc[debt_and_children['children'] == 0]\n",
    "debtors_without_children = clients_without_children.loc[clients_without_children['debt'] == 1]\n",
    "debtors_without_children_mean = len(debtors_without_children) / len(clients_without_children)\n",
    "\n",
    "if debtors_with_children_mean > debtors_without_children_mean:\n",
    "    print('Доля должников с детьми - {:.1%}, это больше, чем доля должников без детей.'.format(debtors_with_children_mean))\n",
    "else:\n",
    "    print('Доля должников без детей - {:.1%}, это больше, чем доля должников с детьми.'.format(debtors_without_children_mean))"
   ]
  },
  {
   "cell_type": "markdown",
   "id": "49eb674f",
   "metadata": {},
   "source": [
    "Исходя из вывода можем подрезумировать, что должников с детьми гораздо больше, чем без, а значит наличие детей влияет на погашение кредитов. \n"
   ]
  },
  {
   "cell_type": "markdown",
   "id": "3955afe2",
   "metadata": {},
   "source": [
    "<div class=\"alert alert-success\">\n",
    "<b>✔️ Комментарий ревьюера:</b> \n",
    "<br>Верно! Но лучше выводить оба результата, чтобы была видна разница\n",
    "</div>"
   ]
  },
  {
   "cell_type": "markdown",
   "id": "5223e386",
   "metadata": {},
   "source": [
    "**Есть ли зависимость между семейным положением и возвратом кредита в срок?**\n",
    "Проверяем: "
   ]
  },
  {
   "cell_type": "code",
   "execution_count": 19,
   "id": "ab25839c",
   "metadata": {},
   "outputs": [
    {
     "data": {
      "text/html": [
       "<div>\n",
       "<style scoped>\n",
       "    .dataframe tbody tr th:only-of-type {\n",
       "        vertical-align: middle;\n",
       "    }\n",
       "\n",
       "    .dataframe tbody tr th {\n",
       "        vertical-align: top;\n",
       "    }\n",
       "\n",
       "    .dataframe thead th {\n",
       "        text-align: right;\n",
       "    }\n",
       "</style>\n",
       "<table border=\"1\" class=\"dataframe\">\n",
       "  <thead>\n",
       "    <tr style=\"text-align: right;\">\n",
       "      <th></th>\n",
       "      <th>debt</th>\n",
       "      <th>number</th>\n",
       "      <th>mean, %</th>\n",
       "    </tr>\n",
       "    <tr>\n",
       "      <th>family_status</th>\n",
       "      <th></th>\n",
       "      <th></th>\n",
       "      <th></th>\n",
       "    </tr>\n",
       "  </thead>\n",
       "  <tbody>\n",
       "    <tr>\n",
       "      <td>не женат / не замужем</td>\n",
       "      <td>2799</td>\n",
       "      <td>273</td>\n",
       "      <td>9.753483</td>\n",
       "    </tr>\n",
       "    <tr>\n",
       "      <td>гражданский брак</td>\n",
       "      <td>4160</td>\n",
       "      <td>385</td>\n",
       "      <td>9.254808</td>\n",
       "    </tr>\n",
       "    <tr>\n",
       "      <td>женат / замужем</td>\n",
       "      <td>12302</td>\n",
       "      <td>927</td>\n",
       "      <td>7.535360</td>\n",
       "    </tr>\n",
       "    <tr>\n",
       "      <td>в разводе</td>\n",
       "      <td>1189</td>\n",
       "      <td>84</td>\n",
       "      <td>7.064760</td>\n",
       "    </tr>\n",
       "    <tr>\n",
       "      <td>вдовец / вдова</td>\n",
       "      <td>952</td>\n",
       "      <td>63</td>\n",
       "      <td>6.617647</td>\n",
       "    </tr>\n",
       "  </tbody>\n",
       "</table>\n",
       "</div>"
      ],
      "text/plain": [
       "                        debt  number   mean, %\n",
       "family_status                                 \n",
       "не женат / не замужем   2799     273  9.753483\n",
       "гражданский брак        4160     385  9.254808\n",
       "женат / замужем        12302     927  7.535360\n",
       "в разводе               1189      84  7.064760\n",
       "вдовец / вдова           952      63  6.617647"
      ]
     },
     "execution_count": 19,
     "metadata": {},
     "output_type": "execute_result"
    }
   ],
   "source": [
    "debtors_family_status = data[['family_status', 'debt']]\n",
    "debtors_family_status_grouped = debtors_family_status.groupby('family_status').count()\n",
    "debtors_family_status_grouped['number'] = debtors_family_status.loc[debtors_family_status['debt'] == 1].groupby('family_status').sum()\n",
    "debtors_family_status_grouped['mean, %'] = debtors_family_status_grouped['number'] / debtors_family_status_grouped['debt'] * 100\n",
    "debtors_family_status_grouped.sort_values('mean, %', ascending=False)"
   ]
  },
  {
   "cell_type": "markdown",
   "id": "6d4f1f5d",
   "metadata": {},
   "source": [
    "**Ответ на вопрос** \n",
    "\n",
    "Результат исследования показывает, что в группе клиентов со статусом не женат / не замужем доля должников больше всего - почти 9,8%. Меньше всего должников среди вдовцов - 6,5%.\n",
    "\n",
    "\n",
    "\n",
    "**Есть ли зависимость между уровнем дохода и возвратом кредита в срок?**\n"
   ]
  },
  {
   "cell_type": "markdown",
   "id": "907be979",
   "metadata": {},
   "source": [
    "<div class=\"alert alert-success\">\n",
    "<b>✔️ Комментарий ревьюера:</b> \n",
    "<br>Согласен! Идём дальше)\n",
    "</div>"
   ]
  },
  {
   "cell_type": "code",
   "execution_count": 20,
   "id": "12d2b930",
   "metadata": {},
   "outputs": [
    {
     "data": {
      "text/html": [
       "<div>\n",
       "<style scoped>\n",
       "    .dataframe tbody tr th:only-of-type {\n",
       "        vertical-align: middle;\n",
       "    }\n",
       "\n",
       "    .dataframe tbody tr th {\n",
       "        vertical-align: top;\n",
       "    }\n",
       "\n",
       "    .dataframe thead th {\n",
       "        text-align: right;\n",
       "    }\n",
       "</style>\n",
       "<table border=\"1\" class=\"dataframe\">\n",
       "  <thead>\n",
       "    <tr style=\"text-align: right;\">\n",
       "      <th></th>\n",
       "      <th>debt</th>\n",
       "    </tr>\n",
       "    <tr>\n",
       "      <th>income_group</th>\n",
       "      <th></th>\n",
       "    </tr>\n",
       "  </thead>\n",
       "  <tbody>\n",
       "    <tr>\n",
       "      <td>C</td>\n",
       "      <td>1353</td>\n",
       "    </tr>\n",
       "    <tr>\n",
       "      <td>B</td>\n",
       "      <td>354</td>\n",
       "    </tr>\n",
       "    <tr>\n",
       "      <td>D</td>\n",
       "      <td>21</td>\n",
       "    </tr>\n",
       "    <tr>\n",
       "      <td>A</td>\n",
       "      <td>2</td>\n",
       "    </tr>\n",
       "    <tr>\n",
       "      <td>E</td>\n",
       "      <td>2</td>\n",
       "    </tr>\n",
       "  </tbody>\n",
       "</table>\n",
       "</div>"
      ],
      "text/plain": [
       "              debt\n",
       "income_group      \n",
       "C             1353\n",
       "B              354\n",
       "D               21\n",
       "A                2\n",
       "E                2"
      ]
     },
     "execution_count": 20,
     "metadata": {},
     "output_type": "execute_result"
    }
   ],
   "source": [
    "debtors_income = data[['total_income', 'debt']]\n",
    "debtors_income = debtors_income.loc[debtors_income['debt'] == 1]\n",
    "debtors_income['income_group'] = debtors_income['total_income'].apply(total_income_category)\n",
    "debtors_income[['income_group', 'debt']].groupby('income_group').sum().sort_values('debt', ascending = False)"
   ]
  },
  {
   "cell_type": "markdown",
   "id": "7d06f3d5",
   "metadata": {},
   "source": [
    "Клиенты были поделены нами по уровню дохода (где А- самый высокий, а Е- низкий доход). В результате подсчета должников в этих категориях видим, что больше всего таковых в категории дохода С. Следует заметить, что количество должников в категориях отличается достаточно ярко. Наименьшее количество задолжников в самой низкой категории (Е) и в категории с самым высоким уроввнем дохода (А). В категории С- доход составляет от 50.001-200.000 тысяч рублей. Достаочно обширная категория, но мы видим, __что уровень дохода влияет на возврат кредита в срок__.\n",
    "\n",
    "\n",
    "\n",
    "__Как разные цели кредита влияют на его возврат в срок?__\n",
    "\n",
    "\n",
    "\n",
    "\n"
   ]
  },
  {
   "cell_type": "markdown",
   "id": "3d2b4f9e",
   "metadata": {},
   "source": [
    "<div class=\"alert alert-success\">\n",
    "<b>✔️ Комментарий ревьюера:</b> \n",
    "<br>Тут всё правильно\n",
    "</div>"
   ]
  },
  {
   "cell_type": "code",
   "execution_count": 21,
   "id": "31187f45",
   "metadata": {},
   "outputs": [
    {
     "data": {
      "text/html": [
       "<div>\n",
       "<style scoped>\n",
       "    .dataframe tbody tr th:only-of-type {\n",
       "        vertical-align: middle;\n",
       "    }\n",
       "\n",
       "    .dataframe tbody tr th {\n",
       "        vertical-align: top;\n",
       "    }\n",
       "\n",
       "    .dataframe thead th {\n",
       "        text-align: right;\n",
       "    }\n",
       "</style>\n",
       "<table border=\"1\" class=\"dataframe\">\n",
       "  <thead>\n",
       "    <tr style=\"text-align: right;\">\n",
       "      <th></th>\n",
       "      <th></th>\n",
       "      <th>debt</th>\n",
       "    </tr>\n",
       "    <tr>\n",
       "      <th>purpose_category</th>\n",
       "      <th>purpose</th>\n",
       "      <th></th>\n",
       "    </tr>\n",
       "  </thead>\n",
       "  <tbody>\n",
       "    <tr>\n",
       "      <td rowspan=\"3\" valign=\"top\">свадьба</td>\n",
       "      <td>свадьба</td>\n",
       "      <td>64</td>\n",
       "    </tr>\n",
       "    <tr>\n",
       "      <td>на проведение свадьбы</td>\n",
       "      <td>61</td>\n",
       "    </tr>\n",
       "    <tr>\n",
       "      <td>сыграть свадьбу</td>\n",
       "      <td>58</td>\n",
       "    </tr>\n",
       "    <tr>\n",
       "      <td rowspan=\"4\" valign=\"top\">недвижимость</td>\n",
       "      <td>операции с недвижимостью</td>\n",
       "      <td>55</td>\n",
       "    </tr>\n",
       "    <tr>\n",
       "      <td>строительство недвижимости</td>\n",
       "      <td>54</td>\n",
       "    </tr>\n",
       "    <tr>\n",
       "      <td>операции с коммерческой недвижимостью</td>\n",
       "      <td>52</td>\n",
       "    </tr>\n",
       "    <tr>\n",
       "      <td>покупка жилья для сдачи</td>\n",
       "      <td>52</td>\n",
       "    </tr>\n",
       "    <tr>\n",
       "      <td>образование</td>\n",
       "      <td>получение дополнительного образования</td>\n",
       "      <td>51</td>\n",
       "    </tr>\n",
       "    <tr>\n",
       "      <td rowspan=\"2\" valign=\"top\">автомобиль</td>\n",
       "      <td>сделка с подержанным автомобилем</td>\n",
       "      <td>51</td>\n",
       "    </tr>\n",
       "    <tr>\n",
       "      <td>сделка с автомобилем</td>\n",
       "      <td>50</td>\n",
       "    </tr>\n",
       "  </tbody>\n",
       "</table>\n",
       "</div>"
      ],
      "text/plain": [
       "                                                        debt\n",
       "purpose_category purpose                                    \n",
       "свадьба          свадьба                                  64\n",
       "                 на проведение свадьбы                    61\n",
       "                 сыграть свадьбу                          58\n",
       "недвижимость     операции с недвижимостью                 55\n",
       "                 строительство недвижимости               54\n",
       "                 операции с коммерческой недвижимостью    52\n",
       "                 покупка жилья для сдачи                  52\n",
       "образование      получение дополнительного образования    51\n",
       "автомобиль       сделка с подержанным автомобилем         51\n",
       "                 сделка с автомобилем                     50"
      ]
     },
     "execution_count": 21,
     "metadata": {},
     "output_type": "execute_result"
    }
   ],
   "source": [
    "data_pur = data.pivot_table(index=['purpose_category', 'purpose'], values='debt', aggfunc='sum')\n",
    "data_pur.sort_values('debt', ascending=False).head(10)\n",
    "\n",
    "\n"
   ]
  },
  {
   "cell_type": "markdown",
   "id": "ae0f66d0",
   "metadata": {},
   "source": [
    "Основываясь на результатах этой таблицы, чаще всего должниками становятся в результате взятия кредита на проведение свадьбы и на покупку/строительство недвижимости. Но какими будут результаты, если сгрупировать данные по категории цели кредита и выявить долю должников в каждой из категорий?\n",
    "\n"
   ]
  },
  {
   "cell_type": "code",
   "execution_count": 22,
   "id": "be470c97",
   "metadata": {},
   "outputs": [
    {
     "data": {
      "text/html": [
       "<div>\n",
       "<style scoped>\n",
       "    .dataframe tbody tr th:only-of-type {\n",
       "        vertical-align: middle;\n",
       "    }\n",
       "\n",
       "    .dataframe tbody tr th {\n",
       "        vertical-align: top;\n",
       "    }\n",
       "\n",
       "    .dataframe thead th {\n",
       "        text-align: right;\n",
       "    }\n",
       "</style>\n",
       "<table border=\"1\" class=\"dataframe\">\n",
       "  <thead>\n",
       "    <tr style=\"text-align: right;\">\n",
       "      <th></th>\n",
       "      <th>mean, %</th>\n",
       "    </tr>\n",
       "    <tr>\n",
       "      <th>purpose_category</th>\n",
       "      <th></th>\n",
       "    </tr>\n",
       "  </thead>\n",
       "  <tbody>\n",
       "    <tr>\n",
       "      <td>автомобиль</td>\n",
       "      <td>9.328358</td>\n",
       "    </tr>\n",
       "    <tr>\n",
       "      <td>образование</td>\n",
       "      <td>9.231924</td>\n",
       "    </tr>\n",
       "    <tr>\n",
       "      <td>свадьба</td>\n",
       "      <td>7.830552</td>\n",
       "    </tr>\n",
       "    <tr>\n",
       "      <td>недвижимость</td>\n",
       "      <td>7.235622</td>\n",
       "    </tr>\n",
       "  </tbody>\n",
       "</table>\n",
       "</div>"
      ],
      "text/plain": [
       "                   mean, %\n",
       "purpose_category          \n",
       "автомобиль        9.328358\n",
       "образование       9.231924\n",
       "свадьба           7.830552\n",
       "недвижимость      7.235622"
      ]
     },
     "execution_count": 22,
     "metadata": {},
     "output_type": "execute_result"
    }
   ],
   "source": [
    "debtors_purpose_status = data[['purpose_category', 'debt']]\n",
    "debtors_puropse_status_grouped = debtors_purpose_status.groupby('purpose_category').count()\n",
    "debtors_puropse_status_grouped['number'] = debtors_purpose_status.loc[debtors_family_status['debt'] == 1].groupby('purpose_category').sum()\n",
    "debtors_puropse_status_grouped['mean, %'] = debtors_puropse_status_grouped['number'] / debtors_puropse_status_grouped['debt'] * 100\n",
    "debtors_puropse_status_grouped[['mean, %']].sort_values('mean, %', ascending=False)"
   ]
  },
  {
   "cell_type": "markdown",
   "id": "9201d286",
   "metadata": {},
   "source": [
    "В результате группирования по категории цели кредита видим, что количество должников в категориях \"автомобиль\" и \"образование\" выделяется в большую сторону. И, хотя при первой проверке сильно выделялись категории \"свадьба\" и \"недвижимость\", при использовании относительных величин картина изменилась."
   ]
  },
  {
   "cell_type": "markdown",
   "id": "41ef4f30",
   "metadata": {},
   "source": [
    "<div class=\"alert alert-success\">\n",
    "<b>✔️ Комментарий ревьюера:</b>\n",
    "<br>Абсолютно верно! Возможно, это связано с тем, что к покупке жилья люди относятся более ответственно, так как сумма заемных средств и срок кредита, как правило гораздо выше чем в остальных категориях, а свадебные кредиты возвращаются за счет подаренных денег\n",
    "</div>"
   ]
  },
  {
   "cell_type": "markdown",
   "id": "05d1697e",
   "metadata": {},
   "source": [
    "## Общий вывод:"
   ]
  },
  {
   "cell_type": "markdown",
   "id": "81d21efe",
   "metadata": {},
   "source": [
    "В ходе работы искали зависимость между:\n",
    "\n",
    "наличием детей и возвратом кредита в срок - должников с детьми больше, чем бездетных, следовательно, наличие детей негативно влияет на возврат кредита в срок;\n",
    "\n",
    "семейным положением и возвратом кредита в срок - зависимость есть, чаще всего становятся должниками люди с семейным положением не женат / не замужем;\n",
    "\n",
    "уровнем дохода и возвратом кредита в срок -  уровень дохода влияет на возврат кредита в срок у тех, кто имеет средний доход (от 50 000 до 200 000)- возврат задолженнстей гораздо выше, чем у остальных;\n",
    "\n",
    "целью кредита и возвратом кредита в срок - зависимость есть, бОльшая доля должников взяла кредит на автомобиль или образование.\n",
    "\n",
    "\n",
    "Как результат, выявили зависимость между потециальным долгом и семейным положением, наличием детей и целью кредита, между уровнем дохода и возвратом кредита в срок не подтверждено."
   ]
  },
  {
   "cell_type": "markdown",
   "id": "da81ec82",
   "metadata": {},
   "source": [
    "<div class=\"alert alert-success\">\n",
    "<b>✔️ Комментарий ревьюера:</b> \n",
    "<br>Общий вывод верный\n",
    "</div>"
   ]
  },
  {
   "cell_type": "markdown",
   "id": "68e94707",
   "metadata": {},
   "source": [
    "<div class=\"alert alert-danger\">\n",
    "<b>❌ Итоговый комментарий ревьюера:</b> \n",
    "<br>Ты хорошо потрудилась, большая часть работы сделана, но остаётся внести следующие правки:\n",
    "<br>- сформировать дополнительные датафреймов\n",
    "</div>"
   ]
  },
  {
   "cell_type": "markdown",
   "id": "41ae2e3b",
   "metadata": {},
   "source": [
    "<div class=\"alert alert-success\">\n",
    "<b>✔️ Итоговый комментарий ревьюера v2:</b>\n",
    "<br>Все правки выполнены. Молодец!\n",
    "<br>Ты проделала большую работу! У тебя точные выводы с хорошей аргументацией. Здорово, что ты пишешь свои рассуждения и предположения - это помогает видеть ход твоей мысли. Отдельно хочу выделить аккуратность и структурированность твоей работы. Рад был поработать над проверкой твоего проекта! Желаю удачи в дальнейшем обучении! 😉\n",
    "</div>"
   ]
  }
 ],
 "metadata": {
  "ExecuteTimeLog": [
   {
    "duration": 647,
    "start_time": "2022-02-06T17:02:19.599Z"
   },
   {
    "duration": 325,
    "start_time": "2022-02-06T17:02:20.248Z"
   },
   {
    "duration": 615,
    "start_time": "2022-02-06T17:02:39.000Z"
   },
   {
    "duration": 66,
    "start_time": "2022-02-06T17:02:39.617Z"
   },
   {
    "duration": 60,
    "start_time": "2022-02-06T17:03:22.464Z"
   },
   {
    "duration": 79,
    "start_time": "2022-02-06T17:07:13.716Z"
   },
   {
    "duration": 71,
    "start_time": "2022-02-06T17:14:32.290Z"
   },
   {
    "duration": 647,
    "start_time": "2022-02-06T17:14:44.587Z"
   },
   {
    "duration": 86,
    "start_time": "2022-02-06T17:14:45.236Z"
   },
   {
    "duration": 640,
    "start_time": "2022-02-06T17:15:17.282Z"
   },
   {
    "duration": 82,
    "start_time": "2022-02-06T17:15:17.924Z"
   },
   {
    "duration": 71,
    "start_time": "2022-02-06T17:15:35.819Z"
   },
   {
    "duration": 69,
    "start_time": "2022-02-06T17:16:00.065Z"
   },
   {
    "duration": 71,
    "start_time": "2022-02-06T17:16:03.426Z"
   },
   {
    "duration": 639,
    "start_time": "2022-02-06T17:16:08.577Z"
   },
   {
    "duration": 83,
    "start_time": "2022-02-06T17:16:09.218Z"
   },
   {
    "duration": 660,
    "start_time": "2022-02-06T17:16:25.673Z"
   },
   {
    "duration": 84,
    "start_time": "2022-02-06T17:16:26.335Z"
   },
   {
    "duration": 600,
    "start_time": "2022-02-06T17:18:29.065Z"
   },
   {
    "duration": 84,
    "start_time": "2022-02-06T17:18:29.667Z"
   },
   {
    "duration": 574,
    "start_time": "2022-02-06T17:23:51.860Z"
   },
   {
    "duration": 86,
    "start_time": "2022-02-06T17:23:52.436Z"
   },
   {
    "duration": 646,
    "start_time": "2022-02-06T17:24:29.611Z"
   },
   {
    "duration": 87,
    "start_time": "2022-02-06T17:24:30.259Z"
   },
   {
    "duration": 613,
    "start_time": "2022-02-06T17:29:47.121Z"
   },
   {
    "duration": 86,
    "start_time": "2022-02-06T17:29:47.735Z"
   },
   {
    "duration": 624,
    "start_time": "2022-02-06T17:30:05.323Z"
   },
   {
    "duration": 85,
    "start_time": "2022-02-06T17:30:05.949Z"
   },
   {
    "duration": 1524,
    "start_time": "2022-02-06T17:35:25.430Z"
   },
   {
    "duration": 91,
    "start_time": "2022-02-06T17:35:26.957Z"
   },
   {
    "duration": 616,
    "start_time": "2022-02-06T17:41:11.023Z"
   },
   {
    "duration": 84,
    "start_time": "2022-02-06T17:41:11.643Z"
   },
   {
    "duration": 655,
    "start_time": "2022-02-06T17:48:31.183Z"
   },
   {
    "duration": 85,
    "start_time": "2022-02-06T17:48:31.840Z"
   },
   {
    "duration": 329,
    "start_time": "2022-02-06T17:48:31.929Z"
   },
   {
    "duration": 572,
    "start_time": "2022-02-06T17:52:51.954Z"
   },
   {
    "duration": 88,
    "start_time": "2022-02-06T17:52:52.529Z"
   },
   {
    "duration": 318,
    "start_time": "2022-02-06T17:52:52.619Z"
   },
   {
    "duration": 664,
    "start_time": "2022-02-06T17:53:09.000Z"
   },
   {
    "duration": 85,
    "start_time": "2022-02-06T17:53:09.666Z"
   },
   {
    "duration": 14,
    "start_time": "2022-02-06T17:53:09.754Z"
   },
   {
    "duration": 596,
    "start_time": "2022-02-06T17:53:24.062Z"
   },
   {
    "duration": 86,
    "start_time": "2022-02-06T17:53:24.660Z"
   },
   {
    "duration": 27,
    "start_time": "2022-02-06T17:53:24.748Z"
   },
   {
    "duration": 629,
    "start_time": "2022-02-06T17:57:36.925Z"
   },
   {
    "duration": 93,
    "start_time": "2022-02-06T17:57:37.556Z"
   },
   {
    "duration": 19,
    "start_time": "2022-02-06T17:57:37.652Z"
   },
   {
    "duration": 620,
    "start_time": "2022-02-06T18:00:27.860Z"
   },
   {
    "duration": 94,
    "start_time": "2022-02-06T18:00:28.483Z"
   },
   {
    "duration": 104,
    "start_time": "2022-02-06T18:00:28.583Z"
   },
   {
    "duration": 636,
    "start_time": "2022-02-06T18:00:41.537Z"
   },
   {
    "duration": 92,
    "start_time": "2022-02-06T18:00:42.175Z"
   },
   {
    "duration": 30,
    "start_time": "2022-02-06T18:00:42.270Z"
   },
   {
    "duration": 24,
    "start_time": "2022-02-06T18:02:51.018Z"
   },
   {
    "duration": 320,
    "start_time": "2022-02-06T18:08:06.566Z"
   },
   {
    "duration": 9,
    "start_time": "2022-02-06T18:08:12.445Z"
   },
   {
    "duration": 276,
    "start_time": "2022-02-06T18:09:58.987Z"
   },
   {
    "duration": 13,
    "start_time": "2022-02-06T18:10:04.677Z"
   },
   {
    "duration": 290,
    "start_time": "2022-02-06T18:16:07.651Z"
   },
   {
    "duration": 259,
    "start_time": "2022-02-06T18:23:06.187Z"
   },
   {
    "duration": 314,
    "start_time": "2022-02-06T18:26:01.236Z"
   },
   {
    "duration": 278,
    "start_time": "2022-02-06T18:26:16.874Z"
   },
   {
    "duration": 261,
    "start_time": "2022-02-06T18:26:30.700Z"
   },
   {
    "duration": 29,
    "start_time": "2022-02-06T18:27:23.917Z"
   },
   {
    "duration": 29,
    "start_time": "2022-02-06T18:27:52.084Z"
   },
   {
    "duration": 355,
    "start_time": "2022-02-07T14:44:54.351Z"
   },
   {
    "duration": 634,
    "start_time": "2022-02-07T14:45:04.008Z"
   },
   {
    "duration": 82,
    "start_time": "2022-02-07T14:45:04.644Z"
   },
   {
    "duration": 6,
    "start_time": "2022-02-07T14:45:04.730Z"
   },
   {
    "duration": 17,
    "start_time": "2022-02-07T14:45:04.738Z"
   },
   {
    "duration": 62,
    "start_time": "2022-02-07T14:45:04.757Z"
   },
   {
    "duration": 49,
    "start_time": "2022-02-07T14:47:34.961Z"
   },
   {
    "duration": 59,
    "start_time": "2022-02-07T14:49:07.171Z"
   },
   {
    "duration": 45,
    "start_time": "2022-02-07T14:50:54.555Z"
   },
   {
    "duration": 42,
    "start_time": "2022-02-07T14:51:11.553Z"
   },
   {
    "duration": 772,
    "start_time": "2022-02-07T14:51:26.519Z"
   },
   {
    "duration": 117,
    "start_time": "2022-02-07T14:51:27.294Z"
   },
   {
    "duration": 9,
    "start_time": "2022-02-07T14:51:27.413Z"
   },
   {
    "duration": 15,
    "start_time": "2022-02-07T14:51:27.424Z"
   },
   {
    "duration": 82,
    "start_time": "2022-02-07T14:51:27.441Z"
   },
   {
    "duration": 42,
    "start_time": "2022-02-07T14:53:14.655Z"
   },
   {
    "duration": 44,
    "start_time": "2022-02-07T14:53:27.666Z"
   },
   {
    "duration": 628,
    "start_time": "2022-02-08T14:04:38.087Z"
   },
   {
    "duration": 83,
    "start_time": "2022-02-08T14:04:38.717Z"
   },
   {
    "duration": 5,
    "start_time": "2022-02-08T14:04:38.802Z"
   },
   {
    "duration": 17,
    "start_time": "2022-02-08T14:04:38.809Z"
   },
   {
    "duration": 51,
    "start_time": "2022-02-08T14:04:38.827Z"
   },
   {
    "duration": 16,
    "start_time": "2022-02-08T14:04:38.881Z"
   },
   {
    "duration": 11,
    "start_time": "2022-02-08T14:05:26.327Z"
   },
   {
    "duration": 9,
    "start_time": "2022-02-08T14:07:16.409Z"
   },
   {
    "duration": 9,
    "start_time": "2022-02-08T14:07:32.183Z"
   },
   {
    "duration": 7,
    "start_time": "2022-02-08T14:18:59.204Z"
   },
   {
    "duration": 1737,
    "start_time": "2022-02-08T14:23:09.457Z"
   },
   {
    "duration": 3617,
    "start_time": "2022-02-08T14:23:33.621Z"
   },
   {
    "duration": 3570,
    "start_time": "2022-02-08T14:23:40.860Z"
   },
   {
    "duration": 3581,
    "start_time": "2022-02-08T14:25:42.852Z"
   },
   {
    "duration": 3904,
    "start_time": "2022-02-08T14:26:02.407Z"
   },
   {
    "duration": 3559,
    "start_time": "2022-02-08T14:26:13.992Z"
   },
   {
    "duration": 3615,
    "start_time": "2022-02-08T14:27:55.872Z"
   },
   {
    "duration": 3630,
    "start_time": "2022-02-08T14:28:06.210Z"
   },
   {
    "duration": 591,
    "start_time": "2022-02-08T14:28:28.351Z"
   },
   {
    "duration": 79,
    "start_time": "2022-02-08T14:28:28.944Z"
   },
   {
    "duration": 5,
    "start_time": "2022-02-08T14:28:29.025Z"
   },
   {
    "duration": 12,
    "start_time": "2022-02-08T14:28:29.032Z"
   },
   {
    "duration": 41,
    "start_time": "2022-02-08T14:28:29.059Z"
   },
   {
    "duration": 13,
    "start_time": "2022-02-08T14:28:29.102Z"
   },
   {
    "duration": 10,
    "start_time": "2022-02-08T14:28:29.116Z"
   },
   {
    "duration": 32,
    "start_time": "2022-02-08T14:28:29.128Z"
   },
   {
    "duration": 3887,
    "start_time": "2022-02-08T14:28:29.163Z"
   },
   {
    "duration": 3594,
    "start_time": "2022-02-08T14:30:06.438Z"
   },
   {
    "duration": 3657,
    "start_time": "2022-02-08T14:30:36.336Z"
   },
   {
    "duration": 10,
    "start_time": "2022-02-08T14:32:21.401Z"
   },
   {
    "duration": 10,
    "start_time": "2022-02-08T14:32:25.702Z"
   },
   {
    "duration": 10,
    "start_time": "2022-02-08T14:32:55.100Z"
   },
   {
    "duration": 14,
    "start_time": "2022-02-08T14:33:47.726Z"
   },
   {
    "duration": 292,
    "start_time": "2022-02-08T14:33:48.747Z"
   },
   {
    "duration": 5,
    "start_time": "2022-02-08T14:34:02.571Z"
   },
   {
    "duration": 66,
    "start_time": "2022-02-08T14:54:01.082Z"
   },
   {
    "duration": 66,
    "start_time": "2022-02-08T14:54:44.746Z"
   },
   {
    "duration": 6,
    "start_time": "2022-02-08T14:55:03.629Z"
   },
   {
    "duration": 7,
    "start_time": "2022-02-08T14:55:14.601Z"
   },
   {
    "duration": 75,
    "start_time": "2022-02-08T14:56:17.513Z"
   },
   {
    "duration": 6,
    "start_time": "2022-02-08T15:01:23.865Z"
   },
   {
    "duration": 63,
    "start_time": "2022-02-08T15:02:30.097Z"
   },
   {
    "duration": 133,
    "start_time": "2022-02-08T15:02:44.616Z"
   },
   {
    "duration": 57,
    "start_time": "2022-02-08T15:02:59.804Z"
   },
   {
    "duration": 65,
    "start_time": "2022-02-08T15:03:47.831Z"
   },
   {
    "duration": 56,
    "start_time": "2022-02-08T15:03:53.153Z"
   },
   {
    "duration": 82,
    "start_time": "2022-02-08T15:05:56.356Z"
   },
   {
    "duration": 9,
    "start_time": "2022-02-08T15:09:10.701Z"
   },
   {
    "duration": 6,
    "start_time": "2022-02-08T15:09:21.667Z"
   },
   {
    "duration": 14,
    "start_time": "2022-02-08T15:10:38.180Z"
   },
   {
    "duration": 217,
    "start_time": "2022-02-08T15:11:03.335Z"
   },
   {
    "duration": 9,
    "start_time": "2022-02-08T15:11:11.227Z"
   },
   {
    "duration": 9,
    "start_time": "2022-02-08T15:11:21.371Z"
   },
   {
    "duration": 178,
    "start_time": "2022-02-08T16:45:28.416Z"
   },
   {
    "duration": 25,
    "start_time": "2022-02-08T16:45:38.173Z"
   },
   {
    "duration": 29,
    "start_time": "2022-02-08T16:45:52.464Z"
   },
   {
    "duration": 14,
    "start_time": "2022-02-08T16:49:49.940Z"
   },
   {
    "duration": 180,
    "start_time": "2022-02-08T17:02:22.136Z"
   },
   {
    "duration": 712,
    "start_time": "2022-02-08T17:03:04.320Z"
   },
   {
    "duration": 8,
    "start_time": "2022-02-08T17:09:16.469Z"
   },
   {
    "duration": 8,
    "start_time": "2022-02-08T17:09:49.875Z"
   },
   {
    "duration": 7,
    "start_time": "2022-02-08T17:10:38.337Z"
   },
   {
    "duration": 13,
    "start_time": "2022-02-08T17:11:12.272Z"
   },
   {
    "duration": 28,
    "start_time": "2022-02-08T17:11:29.073Z"
   },
   {
    "duration": 537,
    "start_time": "2022-02-08T17:13:10.308Z"
   },
   {
    "duration": 76,
    "start_time": "2022-02-08T17:13:10.847Z"
   },
   {
    "duration": 6,
    "start_time": "2022-02-08T17:13:10.927Z"
   },
   {
    "duration": 32,
    "start_time": "2022-02-08T17:13:10.934Z"
   },
   {
    "duration": 45,
    "start_time": "2022-02-08T17:13:10.968Z"
   },
   {
    "duration": 17,
    "start_time": "2022-02-08T17:13:11.015Z"
   },
   {
    "duration": 9,
    "start_time": "2022-02-08T17:13:11.035Z"
   },
   {
    "duration": 16,
    "start_time": "2022-02-08T17:13:11.046Z"
   },
   {
    "duration": 7,
    "start_time": "2022-02-08T17:13:11.064Z"
   },
   {
    "duration": 3816,
    "start_time": "2022-02-08T17:13:11.072Z"
   },
   {
    "duration": 16,
    "start_time": "2022-02-08T17:13:14.891Z"
   },
   {
    "duration": 21,
    "start_time": "2022-02-08T17:13:14.961Z"
   },
   {
    "duration": 20,
    "start_time": "2022-02-08T17:15:35.891Z"
   },
   {
    "duration": 21,
    "start_time": "2022-02-08T17:16:16.450Z"
   },
   {
    "duration": 20,
    "start_time": "2022-02-08T17:16:39.736Z"
   },
   {
    "duration": 34,
    "start_time": "2022-02-08T17:16:46.505Z"
   },
   {
    "duration": 547,
    "start_time": "2022-02-08T17:18:04.315Z"
   },
   {
    "duration": 72,
    "start_time": "2022-02-08T17:18:04.864Z"
   },
   {
    "duration": 19,
    "start_time": "2022-02-08T17:18:04.940Z"
   },
   {
    "duration": 11,
    "start_time": "2022-02-08T17:18:04.961Z"
   },
   {
    "duration": 37,
    "start_time": "2022-02-08T17:18:04.974Z"
   },
   {
    "duration": 13,
    "start_time": "2022-02-08T17:18:05.013Z"
   },
   {
    "duration": 3,
    "start_time": "2022-02-08T17:18:05.029Z"
   },
   {
    "duration": 35,
    "start_time": "2022-02-08T17:18:05.034Z"
   },
   {
    "duration": 15,
    "start_time": "2022-02-08T17:18:05.070Z"
   },
   {
    "duration": 3910,
    "start_time": "2022-02-08T17:18:05.087Z"
   },
   {
    "duration": 10,
    "start_time": "2022-02-08T17:18:08.999Z"
   },
   {
    "duration": 27,
    "start_time": "2022-02-08T17:18:09.011Z"
   },
   {
    "duration": 32,
    "start_time": "2022-02-08T17:22:05.466Z"
   },
   {
    "duration": 16,
    "start_time": "2022-02-08T17:29:30.523Z"
   },
   {
    "duration": 247,
    "start_time": "2022-02-08T17:30:24.257Z"
   },
   {
    "duration": 17,
    "start_time": "2022-02-08T17:30:43.563Z"
   },
   {
    "duration": 185,
    "start_time": "2022-02-08T17:32:17.899Z"
   },
   {
    "duration": 5142,
    "start_time": "2022-02-08T17:32:23.847Z"
   },
   {
    "duration": 5,
    "start_time": "2022-02-08T17:32:47.345Z"
   },
   {
    "duration": 17,
    "start_time": "2022-02-08T17:34:22.077Z"
   },
   {
    "duration": 20,
    "start_time": "2022-02-08T17:34:56.558Z"
   },
   {
    "duration": 23,
    "start_time": "2022-02-08T17:35:17.600Z"
   },
   {
    "duration": 28,
    "start_time": "2022-02-08T17:35:28.389Z"
   },
   {
    "duration": 602,
    "start_time": "2022-02-08T17:35:39.869Z"
   },
   {
    "duration": 75,
    "start_time": "2022-02-08T17:35:40.473Z"
   },
   {
    "duration": 9,
    "start_time": "2022-02-08T17:35:40.550Z"
   },
   {
    "duration": 34,
    "start_time": "2022-02-08T17:35:40.561Z"
   },
   {
    "duration": 61,
    "start_time": "2022-02-08T17:35:40.597Z"
   },
   {
    "duration": 12,
    "start_time": "2022-02-08T17:35:40.660Z"
   },
   {
    "duration": 15,
    "start_time": "2022-02-08T17:35:40.674Z"
   },
   {
    "duration": 35,
    "start_time": "2022-02-08T17:35:40.692Z"
   },
   {
    "duration": 25,
    "start_time": "2022-02-08T17:35:40.729Z"
   },
   {
    "duration": 4043,
    "start_time": "2022-02-08T17:35:40.756Z"
   },
   {
    "duration": 9,
    "start_time": "2022-02-08T17:35:44.801Z"
   },
   {
    "duration": 29,
    "start_time": "2022-02-08T17:35:44.812Z"
   },
   {
    "duration": 30,
    "start_time": "2022-02-08T17:35:44.843Z"
   },
   {
    "duration": 30,
    "start_time": "2022-02-08T17:35:44.875Z"
   },
   {
    "duration": 33,
    "start_time": "2022-02-08T17:35:44.907Z"
   },
   {
    "duration": 23,
    "start_time": "2022-02-08T17:35:44.941Z"
   },
   {
    "duration": 18,
    "start_time": "2022-02-08T17:35:53.786Z"
   },
   {
    "duration": 26,
    "start_time": "2022-02-08T17:36:09.179Z"
   },
   {
    "duration": 18,
    "start_time": "2022-02-08T17:36:31.403Z"
   },
   {
    "duration": 17,
    "start_time": "2022-02-08T17:36:34.476Z"
   },
   {
    "duration": 234,
    "start_time": "2022-02-08T17:37:15.743Z"
   },
   {
    "duration": 7,
    "start_time": "2022-02-08T17:37:22.907Z"
   },
   {
    "duration": 193,
    "start_time": "2022-02-08T17:38:18.272Z"
   },
   {
    "duration": 2495,
    "start_time": "2022-02-08T17:38:46.647Z"
   },
   {
    "duration": 2213,
    "start_time": "2022-02-08T17:39:27.520Z"
   },
   {
    "duration": 2607,
    "start_time": "2022-02-08T17:39:46.272Z"
   },
   {
    "duration": 570,
    "start_time": "2022-02-08T17:39:52.714Z"
   },
   {
    "duration": 77,
    "start_time": "2022-02-08T17:39:53.285Z"
   },
   {
    "duration": 5,
    "start_time": "2022-02-08T17:39:53.364Z"
   },
   {
    "duration": 24,
    "start_time": "2022-02-08T17:39:53.371Z"
   },
   {
    "duration": 44,
    "start_time": "2022-02-08T17:39:53.396Z"
   },
   {
    "duration": 18,
    "start_time": "2022-02-08T17:39:53.441Z"
   },
   {
    "duration": 17,
    "start_time": "2022-02-08T17:39:53.460Z"
   },
   {
    "duration": 17,
    "start_time": "2022-02-08T17:39:53.479Z"
   },
   {
    "duration": 21,
    "start_time": "2022-02-08T17:39:53.498Z"
   },
   {
    "duration": 3470,
    "start_time": "2022-02-08T17:39:53.521Z"
   },
   {
    "duration": 10,
    "start_time": "2022-02-08T17:39:56.993Z"
   },
   {
    "duration": 37,
    "start_time": "2022-02-08T17:39:57.005Z"
   },
   {
    "duration": 24,
    "start_time": "2022-02-08T17:39:57.044Z"
   },
   {
    "duration": 27,
    "start_time": "2022-02-08T17:39:57.069Z"
   },
   {
    "duration": 32,
    "start_time": "2022-02-08T17:39:57.097Z"
   },
   {
    "duration": 32,
    "start_time": "2022-02-08T17:39:57.131Z"
   },
   {
    "duration": 14,
    "start_time": "2022-02-08T17:41:45.624Z"
   },
   {
    "duration": 37,
    "start_time": "2022-02-08T17:43:15.048Z"
   },
   {
    "duration": 30,
    "start_time": "2022-02-08T17:43:57.988Z"
   },
   {
    "duration": 37,
    "start_time": "2022-02-08T17:44:47.027Z"
   },
   {
    "duration": 43,
    "start_time": "2022-02-08T17:44:55.972Z"
   },
   {
    "duration": 23,
    "start_time": "2022-02-08T17:45:33.129Z"
   },
   {
    "duration": 10,
    "start_time": "2022-02-08T17:47:13.273Z"
   },
   {
    "duration": 39,
    "start_time": "2022-02-08T17:50:26.321Z"
   },
   {
    "duration": 988,
    "start_time": "2022-02-08T17:52:44.884Z"
   },
   {
    "duration": 15,
    "start_time": "2022-02-08T17:53:22.521Z"
   },
   {
    "duration": 237,
    "start_time": "2022-02-08T18:00:52.739Z"
   },
   {
    "duration": 30,
    "start_time": "2022-02-08T18:00:58.303Z"
   },
   {
    "duration": 185,
    "start_time": "2022-02-08T18:02:18.120Z"
   },
   {
    "duration": 635,
    "start_time": "2022-02-08T18:02:55.148Z"
   },
   {
    "duration": 70,
    "start_time": "2022-02-08T18:02:55.785Z"
   },
   {
    "duration": 5,
    "start_time": "2022-02-08T18:02:55.861Z"
   },
   {
    "duration": 13,
    "start_time": "2022-02-08T18:02:55.868Z"
   },
   {
    "duration": 33,
    "start_time": "2022-02-08T18:02:55.883Z"
   },
   {
    "duration": 12,
    "start_time": "2022-02-08T18:02:55.918Z"
   },
   {
    "duration": 4,
    "start_time": "2022-02-08T18:02:55.960Z"
   },
   {
    "duration": 11,
    "start_time": "2022-02-08T18:02:55.965Z"
   },
   {
    "duration": 8,
    "start_time": "2022-02-08T18:02:55.978Z"
   },
   {
    "duration": 3208,
    "start_time": "2022-02-08T18:02:55.988Z"
   },
   {
    "duration": 9,
    "start_time": "2022-02-08T18:02:59.198Z"
   },
   {
    "duration": 33,
    "start_time": "2022-02-08T18:02:59.208Z"
   },
   {
    "duration": 29,
    "start_time": "2022-02-08T18:02:59.242Z"
   },
   {
    "duration": 26,
    "start_time": "2022-02-08T18:02:59.272Z"
   },
   {
    "duration": 30,
    "start_time": "2022-02-08T18:02:59.299Z"
   },
   {
    "duration": 44,
    "start_time": "2022-02-08T18:02:59.331Z"
   },
   {
    "duration": 29,
    "start_time": "2022-02-08T18:02:59.377Z"
   },
   {
    "duration": 22,
    "start_time": "2022-02-08T18:02:59.408Z"
   },
   {
    "duration": 30,
    "start_time": "2022-02-08T18:02:59.433Z"
   },
   {
    "duration": 243,
    "start_time": "2022-02-08T18:02:59.465Z"
   },
   {
    "duration": 1016,
    "start_time": "2022-02-08T18:04:18.469Z"
   },
   {
    "duration": 198,
    "start_time": "2022-02-08T18:04:59.542Z"
   },
   {
    "duration": 174,
    "start_time": "2022-02-08T18:05:25.466Z"
   },
   {
    "duration": 193,
    "start_time": "2022-02-08T18:06:09.853Z"
   },
   {
    "duration": 4370,
    "start_time": "2022-02-08T18:06:24.166Z"
   },
   {
    "duration": 185,
    "start_time": "2022-02-08T18:08:17.190Z"
   },
   {
    "duration": 186,
    "start_time": "2022-02-08T18:08:50.426Z"
   },
   {
    "duration": 273,
    "start_time": "2022-02-08T18:08:59.298Z"
   },
   {
    "duration": 15,
    "start_time": "2022-02-08T18:09:20.483Z"
   },
   {
    "duration": 13,
    "start_time": "2022-02-08T18:09:26.738Z"
   },
   {
    "duration": 556,
    "start_time": "2022-02-08T18:09:32.618Z"
   },
   {
    "duration": 71,
    "start_time": "2022-02-08T18:09:33.176Z"
   },
   {
    "duration": 5,
    "start_time": "2022-02-08T18:09:33.259Z"
   },
   {
    "duration": 18,
    "start_time": "2022-02-08T18:09:33.266Z"
   },
   {
    "duration": 34,
    "start_time": "2022-02-08T18:09:33.285Z"
   },
   {
    "duration": 13,
    "start_time": "2022-02-08T18:09:33.320Z"
   },
   {
    "duration": 25,
    "start_time": "2022-02-08T18:09:33.335Z"
   },
   {
    "duration": 12,
    "start_time": "2022-02-08T18:09:33.363Z"
   },
   {
    "duration": 12,
    "start_time": "2022-02-08T18:09:33.377Z"
   },
   {
    "duration": 3408,
    "start_time": "2022-02-08T18:09:33.391Z"
   },
   {
    "duration": 64,
    "start_time": "2022-02-08T18:09:36.801Z"
   },
   {
    "duration": 21,
    "start_time": "2022-02-08T18:09:36.867Z"
   },
   {
    "duration": 73,
    "start_time": "2022-02-08T18:09:36.890Z"
   },
   {
    "duration": 18,
    "start_time": "2022-02-08T18:09:36.965Z"
   },
   {
    "duration": 18,
    "start_time": "2022-02-08T18:09:36.984Z"
   },
   {
    "duration": 63,
    "start_time": "2022-02-08T18:09:37.003Z"
   },
   {
    "duration": 23,
    "start_time": "2022-02-08T18:09:37.068Z"
   },
   {
    "duration": 18,
    "start_time": "2022-02-08T18:09:37.092Z"
   },
   {
    "duration": 36,
    "start_time": "2022-02-08T18:09:37.112Z"
   },
   {
    "duration": 251,
    "start_time": "2022-02-08T18:09:37.150Z"
   },
   {
    "duration": 17,
    "start_time": "2022-02-08T18:10:04.648Z"
   },
   {
    "duration": 8,
    "start_time": "2022-02-08T18:10:30.080Z"
   },
   {
    "duration": 15,
    "start_time": "2022-02-08T18:10:58.922Z"
   },
   {
    "duration": 220,
    "start_time": "2022-02-08T18:11:02.040Z"
   },
   {
    "duration": 595,
    "start_time": "2022-02-08T18:11:08.542Z"
   },
   {
    "duration": 77,
    "start_time": "2022-02-08T18:11:09.140Z"
   },
   {
    "duration": 6,
    "start_time": "2022-02-08T18:11:09.221Z"
   },
   {
    "duration": 37,
    "start_time": "2022-02-08T18:11:09.229Z"
   },
   {
    "duration": 46,
    "start_time": "2022-02-08T18:11:09.268Z"
   },
   {
    "duration": 12,
    "start_time": "2022-02-08T18:11:09.316Z"
   },
   {
    "duration": 5,
    "start_time": "2022-02-08T18:11:09.331Z"
   },
   {
    "duration": 28,
    "start_time": "2022-02-08T18:11:09.339Z"
   },
   {
    "duration": 11,
    "start_time": "2022-02-08T18:11:09.369Z"
   },
   {
    "duration": 3897,
    "start_time": "2022-02-08T18:11:09.382Z"
   },
   {
    "duration": 10,
    "start_time": "2022-02-08T18:11:13.281Z"
   },
   {
    "duration": 22,
    "start_time": "2022-02-08T18:11:13.293Z"
   },
   {
    "duration": 44,
    "start_time": "2022-02-08T18:11:13.317Z"
   },
   {
    "duration": 20,
    "start_time": "2022-02-08T18:11:13.362Z"
   },
   {
    "duration": 18,
    "start_time": "2022-02-08T18:11:13.384Z"
   },
   {
    "duration": 17,
    "start_time": "2022-02-08T18:11:13.404Z"
   },
   {
    "duration": 51,
    "start_time": "2022-02-08T18:11:13.423Z"
   },
   {
    "duration": 14,
    "start_time": "2022-02-08T18:11:13.476Z"
   },
   {
    "duration": 21,
    "start_time": "2022-02-08T18:11:13.491Z"
   },
   {
    "duration": 17,
    "start_time": "2022-02-08T18:11:13.514Z"
   },
   {
    "duration": 37,
    "start_time": "2022-02-08T18:11:13.533Z"
   },
   {
    "duration": 13,
    "start_time": "2022-02-08T18:12:07.364Z"
   },
   {
    "duration": 13,
    "start_time": "2022-02-08T18:12:12.401Z"
   },
   {
    "duration": 17,
    "start_time": "2022-02-08T18:12:21.305Z"
   },
   {
    "duration": 18,
    "start_time": "2022-02-08T18:12:54.910Z"
   },
   {
    "duration": 1117,
    "start_time": "2022-02-13T17:22:35.566Z"
   },
   {
    "duration": 203,
    "start_time": "2022-02-13T17:22:36.686Z"
   },
   {
    "duration": 11,
    "start_time": "2022-02-13T17:22:36.892Z"
   },
   {
    "duration": 338,
    "start_time": "2022-02-13T17:22:36.906Z"
   },
   {
    "duration": 300,
    "start_time": "2022-02-13T17:22:37.247Z"
   },
   {
    "duration": 341,
    "start_time": "2022-02-13T17:22:37.550Z"
   },
   {
    "duration": 200,
    "start_time": "2022-02-13T17:22:37.893Z"
   },
   {
    "duration": 209,
    "start_time": "2022-02-13T17:22:38.097Z"
   },
   {
    "duration": 224,
    "start_time": "2022-02-13T17:22:38.309Z"
   },
   {
    "duration": 5766,
    "start_time": "2022-02-13T17:22:38.535Z"
   },
   {
    "duration": 13,
    "start_time": "2022-02-13T17:22:44.304Z"
   },
   {
    "duration": 322,
    "start_time": "2022-02-13T17:22:44.319Z"
   },
   {
    "duration": 244,
    "start_time": "2022-02-13T17:22:44.643Z"
   },
   {
    "duration": 291,
    "start_time": "2022-02-13T17:22:44.890Z"
   },
   {
    "duration": 266,
    "start_time": "2022-02-13T17:22:45.184Z"
   },
   {
    "duration": 138,
    "start_time": "2022-02-13T17:22:45.452Z"
   },
   {
    "duration": 260,
    "start_time": "2022-02-13T17:22:45.592Z"
   },
   {
    "duration": 196,
    "start_time": "2022-02-13T17:22:45.854Z"
   },
   {
    "duration": 455,
    "start_time": "2022-02-13T17:22:46.052Z"
   },
   {
    "duration": 196,
    "start_time": "2022-02-13T17:22:46.510Z"
   },
   {
    "duration": 791,
    "start_time": "2022-02-13T17:26:10.602Z"
   },
   {
    "duration": 118,
    "start_time": "2022-02-13T17:26:11.395Z"
   },
   {
    "duration": 95,
    "start_time": "2022-02-13T17:26:11.516Z"
   },
   {
    "duration": 205,
    "start_time": "2022-02-13T17:26:11.614Z"
   },
   {
    "duration": 227,
    "start_time": "2022-02-13T17:26:11.822Z"
   },
   {
    "duration": 262,
    "start_time": "2022-02-13T17:26:12.051Z"
   },
   {
    "duration": 169,
    "start_time": "2022-02-13T17:26:12.315Z"
   },
   {
    "duration": 197,
    "start_time": "2022-02-13T17:26:12.489Z"
   },
   {
    "duration": 176,
    "start_time": "2022-02-13T17:26:12.689Z"
   },
   {
    "duration": 6546,
    "start_time": "2022-02-13T17:26:12.868Z"
   },
   {
    "duration": 20,
    "start_time": "2022-02-13T17:26:19.418Z"
   },
   {
    "duration": 437,
    "start_time": "2022-02-13T17:26:19.440Z"
   },
   {
    "duration": 231,
    "start_time": "2022-02-13T17:26:19.880Z"
   },
   {
    "duration": 231,
    "start_time": "2022-02-13T17:26:20.114Z"
   },
   {
    "duration": 213,
    "start_time": "2022-02-13T17:26:20.348Z"
   },
   {
    "duration": 236,
    "start_time": "2022-02-13T17:26:20.563Z"
   },
   {
    "duration": 314,
    "start_time": "2022-02-13T17:26:20.801Z"
   },
   {
    "duration": 206,
    "start_time": "2022-02-13T17:26:21.118Z"
   },
   {
    "duration": 231,
    "start_time": "2022-02-13T17:26:21.327Z"
   },
   {
    "duration": 355,
    "start_time": "2022-02-13T17:26:21.560Z"
   },
   {
    "duration": 807,
    "start_time": "2022-02-13T17:33:54.996Z"
   },
   {
    "duration": 115,
    "start_time": "2022-02-13T17:33:55.806Z"
   },
   {
    "duration": 93,
    "start_time": "2022-02-13T17:33:55.924Z"
   },
   {
    "duration": 149,
    "start_time": "2022-02-13T17:33:56.020Z"
   },
   {
    "duration": 220,
    "start_time": "2022-02-13T17:33:56.172Z"
   },
   {
    "duration": 285,
    "start_time": "2022-02-13T17:33:56.394Z"
   },
   {
    "duration": 163,
    "start_time": "2022-02-13T17:33:56.681Z"
   },
   {
    "duration": 206,
    "start_time": "2022-02-13T17:33:56.848Z"
   },
   {
    "duration": 159,
    "start_time": "2022-02-13T17:33:57.057Z"
   },
   {
    "duration": 6063,
    "start_time": "2022-02-13T17:33:57.218Z"
   },
   {
    "duration": 15,
    "start_time": "2022-02-13T17:34:03.284Z"
   },
   {
    "duration": 373,
    "start_time": "2022-02-13T17:34:03.301Z"
   },
   {
    "duration": 173,
    "start_time": "2022-02-13T17:34:03.676Z"
   },
   {
    "duration": 195,
    "start_time": "2022-02-13T17:34:03.852Z"
   },
   {
    "duration": 110,
    "start_time": "2022-02-13T17:34:04.050Z"
   },
   {
    "duration": 40,
    "start_time": "2022-02-13T17:34:04.163Z"
   },
   {
    "duration": 48,
    "start_time": "2022-02-13T17:34:04.206Z"
   },
   {
    "duration": 174,
    "start_time": "2022-02-13T17:34:04.257Z"
   },
   {
    "duration": 178,
    "start_time": "2022-02-13T17:34:04.434Z"
   },
   {
    "duration": 174,
    "start_time": "2022-02-13T17:34:04.615Z"
   },
   {
    "duration": 833,
    "start_time": "2022-02-13T17:38:53.241Z"
   },
   {
    "duration": 109,
    "start_time": "2022-02-13T17:38:54.078Z"
   },
   {
    "duration": 70,
    "start_time": "2022-02-13T17:38:54.191Z"
   },
   {
    "duration": 203,
    "start_time": "2022-02-13T17:38:54.264Z"
   },
   {
    "duration": 303,
    "start_time": "2022-02-13T17:38:54.469Z"
   },
   {
    "duration": 268,
    "start_time": "2022-02-13T17:38:54.775Z"
   },
   {
    "duration": 186,
    "start_time": "2022-02-13T17:38:55.045Z"
   },
   {
    "duration": 307,
    "start_time": "2022-02-13T17:38:55.235Z"
   },
   {
    "duration": 221,
    "start_time": "2022-02-13T17:38:55.544Z"
   },
   {
    "duration": 6137,
    "start_time": "2022-02-13T17:38:55.767Z"
   },
   {
    "duration": 17,
    "start_time": "2022-02-13T17:39:01.907Z"
   },
   {
    "duration": 393,
    "start_time": "2022-02-13T17:39:01.926Z"
   },
   {
    "duration": 192,
    "start_time": "2022-02-13T17:39:02.322Z"
   },
   {
    "duration": 203,
    "start_time": "2022-02-13T17:39:02.516Z"
   },
   {
    "duration": 286,
    "start_time": "2022-02-13T17:39:02.722Z"
   },
   {
    "duration": 143,
    "start_time": "2022-02-13T17:39:03.010Z"
   },
   {
    "duration": 240,
    "start_time": "2022-02-13T17:39:03.156Z"
   },
   {
    "duration": 247,
    "start_time": "2022-02-13T17:39:03.398Z"
   },
   {
    "duration": 210,
    "start_time": "2022-02-13T17:39:03.647Z"
   },
   {
    "duration": 166,
    "start_time": "2022-02-13T17:39:03.859Z"
   },
   {
    "duration": 715,
    "start_time": "2022-02-13T17:42:09.720Z"
   },
   {
    "duration": 113,
    "start_time": "2022-02-13T17:42:10.438Z"
   },
   {
    "duration": 85,
    "start_time": "2022-02-13T17:42:10.554Z"
   },
   {
    "duration": 183,
    "start_time": "2022-02-13T17:42:10.642Z"
   },
   {
    "duration": 209,
    "start_time": "2022-02-13T17:42:10.827Z"
   },
   {
    "duration": 235,
    "start_time": "2022-02-13T17:42:11.038Z"
   },
   {
    "duration": 189,
    "start_time": "2022-02-13T17:42:11.275Z"
   },
   {
    "duration": 269,
    "start_time": "2022-02-13T17:42:11.466Z"
   },
   {
    "duration": 160,
    "start_time": "2022-02-13T17:42:11.739Z"
   },
   {
    "duration": 5667,
    "start_time": "2022-02-13T17:42:11.902Z"
   },
   {
    "duration": 117,
    "start_time": "2022-02-13T17:42:17.572Z"
   },
   {
    "duration": 526,
    "start_time": "2022-02-13T17:42:17.166Z"
   },
   {
    "duration": 526,
    "start_time": "2022-02-13T17:42:17.168Z"
   },
   {
    "duration": 523,
    "start_time": "2022-02-13T17:42:17.172Z"
   },
   {
    "duration": 522,
    "start_time": "2022-02-13T17:42:17.175Z"
   },
   {
    "duration": 521,
    "start_time": "2022-02-13T17:42:17.178Z"
   },
   {
    "duration": 520,
    "start_time": "2022-02-13T17:42:17.180Z"
   },
   {
    "duration": 512,
    "start_time": "2022-02-13T17:42:17.190Z"
   },
   {
    "duration": 508,
    "start_time": "2022-02-13T17:42:17.195Z"
   },
   {
    "duration": 508,
    "start_time": "2022-02-13T17:42:17.197Z"
   },
   {
    "duration": 506,
    "start_time": "2022-02-13T17:42:17.200Z"
   },
   {
    "duration": 792,
    "start_time": "2022-02-13T17:44:24.433Z"
   },
   {
    "duration": 113,
    "start_time": "2022-02-13T17:44:25.228Z"
   },
   {
    "duration": 53,
    "start_time": "2022-02-13T17:44:25.344Z"
   },
   {
    "duration": 164,
    "start_time": "2022-02-13T17:44:25.400Z"
   },
   {
    "duration": 211,
    "start_time": "2022-02-13T17:44:25.568Z"
   },
   {
    "duration": 213,
    "start_time": "2022-02-13T17:44:25.781Z"
   },
   {
    "duration": 117,
    "start_time": "2022-02-13T17:44:25.997Z"
   },
   {
    "duration": 174,
    "start_time": "2022-02-13T17:44:26.119Z"
   },
   {
    "duration": 163,
    "start_time": "2022-02-13T17:44:26.296Z"
   },
   {
    "duration": 6755,
    "start_time": "2022-02-13T17:44:26.462Z"
   },
   {
    "duration": 89,
    "start_time": "2022-02-13T17:44:33.220Z"
   },
   {
    "duration": 584,
    "start_time": "2022-02-13T17:44:32.728Z"
   },
   {
    "duration": 582,
    "start_time": "2022-02-13T17:44:32.732Z"
   },
   {
    "duration": 581,
    "start_time": "2022-02-13T17:44:32.735Z"
   },
   {
    "duration": 580,
    "start_time": "2022-02-13T17:44:32.738Z"
   },
   {
    "duration": 579,
    "start_time": "2022-02-13T17:44:32.742Z"
   },
   {
    "duration": 578,
    "start_time": "2022-02-13T17:44:32.745Z"
   },
   {
    "duration": 576,
    "start_time": "2022-02-13T17:44:32.749Z"
   },
   {
    "duration": 576,
    "start_time": "2022-02-13T17:44:32.752Z"
   },
   {
    "duration": 561,
    "start_time": "2022-02-13T17:44:32.769Z"
   },
   {
    "duration": 557,
    "start_time": "2022-02-13T17:44:32.775Z"
   },
   {
    "duration": 58,
    "start_time": "2022-02-13T17:45:02.163Z"
   },
   {
    "duration": 17,
    "start_time": "2022-02-13T17:45:35.026Z"
   },
   {
    "duration": 17,
    "start_time": "2022-02-13T17:45:44.454Z"
   },
   {
    "duration": 1074,
    "start_time": "2022-02-14T12:35:59.178Z"
   },
   {
    "duration": 77,
    "start_time": "2022-02-14T12:36:00.254Z"
   },
   {
    "duration": 6,
    "start_time": "2022-02-14T12:36:00.334Z"
   },
   {
    "duration": 38,
    "start_time": "2022-02-14T12:36:00.342Z"
   },
   {
    "duration": 43,
    "start_time": "2022-02-14T12:36:00.382Z"
   },
   {
    "duration": 29,
    "start_time": "2022-02-14T12:36:00.427Z"
   },
   {
    "duration": 8,
    "start_time": "2022-02-14T12:36:00.458Z"
   },
   {
    "duration": 25,
    "start_time": "2022-02-14T12:36:00.468Z"
   },
   {
    "duration": 24,
    "start_time": "2022-02-14T12:36:00.495Z"
   },
   {
    "duration": 3738,
    "start_time": "2022-02-14T12:36:00.522Z"
   },
   {
    "duration": 17,
    "start_time": "2022-02-14T12:36:04.262Z"
   },
   {
    "duration": 12,
    "start_time": "2022-02-14T12:36:04.281Z"
   },
   {
    "duration": 29,
    "start_time": "2022-02-14T12:36:04.295Z"
   },
   {
    "duration": 20,
    "start_time": "2022-02-14T12:36:04.326Z"
   },
   {
    "duration": 19,
    "start_time": "2022-02-14T12:36:04.347Z"
   },
   {
    "duration": 18,
    "start_time": "2022-02-14T12:36:04.367Z"
   },
   {
    "duration": 43,
    "start_time": "2022-02-14T12:36:04.386Z"
   },
   {
    "duration": 25,
    "start_time": "2022-02-14T12:36:04.431Z"
   },
   {
    "duration": 21,
    "start_time": "2022-02-14T12:36:04.458Z"
   },
   {
    "duration": 12,
    "start_time": "2022-02-14T12:36:04.481Z"
   },
   {
    "duration": 35,
    "start_time": "2022-02-14T12:36:04.495Z"
   },
   {
    "duration": 15,
    "start_time": "2022-02-14T12:36:04.532Z"
   }
  ],
  "kernelspec": {
   "display_name": "Python 3 (ipykernel)",
   "language": "python",
   "name": "python3"
  },
  "language_info": {
   "codemirror_mode": {
    "name": "ipython",
    "version": 3
   },
   "file_extension": ".py",
   "mimetype": "text/x-python",
   "name": "python",
   "nbconvert_exporter": "python",
   "pygments_lexer": "ipython3",
   "version": "3.9.5"
  },
  "toc": {
   "base_numbering": 1,
   "nav_menu": {},
   "number_sections": true,
   "sideBar": true,
   "skip_h1_title": true,
   "title_cell": "Table of Contents",
   "title_sidebar": "Contents",
   "toc_cell": false,
   "toc_position": {
    "height": "864.444px",
    "left": "121px",
    "top": "111.437px",
    "width": "409.097px"
   },
   "toc_section_display": true,
   "toc_window_display": true
  }
 },
 "nbformat": 4,
 "nbformat_minor": 5
}
